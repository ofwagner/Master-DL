{
 "cells": [
  {
   "cell_type": "code",
   "execution_count": 1,
   "metadata": {},
   "outputs": [],
   "source": [
    "%matplotlib inline"
   ]
  },
  {
   "cell_type": "markdown",
   "metadata": {},
   "source": [
    "# Autoencoder\n",
    "\n",
    "Autoencoder, autoencoder sparse y autoencoder profundo"
   ]
  },
  {
   "cell_type": "markdown",
   "metadata": {},
   "source": [
    "## Autoencoder básico"
   ]
  },
  {
   "cell_type": "code",
   "execution_count": 14,
   "metadata": {},
   "outputs": [],
   "source": [
    "from keras.layers import Input, Dense\n",
    "from keras.models import Model\n",
    "\n",
    "# this is the size of our encoded representations\n",
    "encoding_dim = 32  # 32 floats -> compression of factor 24.5, assuming the input is 784 floats\n",
    "\n",
    "# this is our input placeholder\n",
    "input_img = Input(shape=(784,))\n",
    "# \"encoded\" is the encoded representation of the input\n",
    "encoded = Dense(encoding_dim, activation='relu')(input_img)\n",
    "# \"decoded\" is the lossy reconstruction of the input\n",
    "decoded = Dense(784, activation='sigmoid')(encoded)\n",
    "\n",
    "# this model maps an input to its reconstruction\n",
    "autoencoder = Model(input_img, decoded)"
   ]
  },
  {
   "cell_type": "code",
   "execution_count": 15,
   "metadata": {},
   "outputs": [],
   "source": [
    "# this model maps an input to its encoded representation\n",
    "encoder = Model(input_img, encoded)"
   ]
  },
  {
   "cell_type": "code",
   "execution_count": 16,
   "metadata": {},
   "outputs": [
    {
     "data": {
      "text/plain": [
       "keras.engine.training.Model"
      ]
     },
     "execution_count": 16,
     "metadata": {},
     "output_type": "execute_result"
    }
   ],
   "source": [
    "type(autoencoder)"
   ]
  },
  {
   "cell_type": "code",
   "execution_count": 17,
   "metadata": {},
   "outputs": [],
   "source": [
    "# create a placeholder for an encoded (32-dimensional) input\n",
    "encoded_input = Input(shape=(encoding_dim,))\n",
    "# retrieve the last layer of the autoencoder model\n",
    "decoder_layer = autoencoder.layers[-1]\n",
    "# create the decoder model\n",
    "decoder = Model(encoded_input, decoder_layer(encoded_input))"
   ]
  },
  {
   "cell_type": "code",
   "execution_count": 18,
   "metadata": {},
   "outputs": [],
   "source": [
    "autoencoder.compile(optimizer='adadelta', loss='binary_crossentropy')"
   ]
  },
  {
   "cell_type": "code",
   "execution_count": 19,
   "metadata": {},
   "outputs": [],
   "source": [
    "from keras.datasets import mnist\n",
    "import numpy as np\n",
    "(x_train, _), (x_test, _) = mnist.load_data()"
   ]
  },
  {
   "cell_type": "code",
   "execution_count": 20,
   "metadata": {},
   "outputs": [
    {
     "name": "stdout",
     "output_type": "stream",
     "text": [
      "(60000, 784)\n",
      "(10000, 784)\n"
     ]
    }
   ],
   "source": [
    "x_train = x_train.astype('float32') / 255.\n",
    "x_test = x_test.astype('float32') / 255.\n",
    "x_train = x_train.reshape((len(x_train), np.prod(x_train.shape[1:])))\n",
    "x_test = x_test.reshape((len(x_test), np.prod(x_test.shape[1:])))\n",
    "print(x_train.shape)\n",
    "print(x_test.shape)"
   ]
  },
  {
   "cell_type": "code",
   "execution_count": 21,
   "metadata": {},
   "outputs": [
    {
     "name": "stdout",
     "output_type": "stream",
     "text": [
      "Train on 60000 samples, validate on 10000 samples\n",
      "Epoch 1/50\n",
      "60000/60000 [==============================] - 4s 62us/step - loss: 0.3540 - val_loss: 0.2711\n",
      "Epoch 2/50\n",
      "24576/60000 [===========>..................] - ETA: 1s - loss: 0.2689"
     ]
    },
    {
     "ename": "KeyboardInterrupt",
     "evalue": "",
     "output_type": "error",
     "traceback": [
      "\u001b[1;31m---------------------------------------------------------------------------\u001b[0m",
      "\u001b[1;31mKeyboardInterrupt\u001b[0m                         Traceback (most recent call last)",
      "\u001b[1;32m<ipython-input-21-e1766911e1b1>\u001b[0m in \u001b[0;36m<module>\u001b[1;34m()\u001b[0m\n\u001b[0;32m      3\u001b[0m                 \u001b[0mbatch_size\u001b[0m\u001b[1;33m=\u001b[0m\u001b[1;36m256\u001b[0m\u001b[1;33m,\u001b[0m\u001b[1;33m\u001b[0m\u001b[0m\n\u001b[0;32m      4\u001b[0m                 \u001b[0mshuffle\u001b[0m\u001b[1;33m=\u001b[0m\u001b[1;32mTrue\u001b[0m\u001b[1;33m,\u001b[0m\u001b[1;33m\u001b[0m\u001b[0m\n\u001b[1;32m----> 5\u001b[1;33m                 validation_data=(x_test, x_test))\n\u001b[0m",
      "\u001b[1;32mC:\\ProgramData\\Anaconda3\\lib\\site-packages\\keras\\engine\\training.py\u001b[0m in \u001b[0;36mfit\u001b[1;34m(self, x, y, batch_size, epochs, verbose, callbacks, validation_split, validation_data, shuffle, class_weight, sample_weight, initial_epoch, steps_per_epoch, validation_steps, **kwargs)\u001b[0m\n\u001b[0;32m   1040\u001b[0m                                         \u001b[0minitial_epoch\u001b[0m\u001b[1;33m=\u001b[0m\u001b[0minitial_epoch\u001b[0m\u001b[1;33m,\u001b[0m\u001b[1;33m\u001b[0m\u001b[0m\n\u001b[0;32m   1041\u001b[0m                                         \u001b[0msteps_per_epoch\u001b[0m\u001b[1;33m=\u001b[0m\u001b[0msteps_per_epoch\u001b[0m\u001b[1;33m,\u001b[0m\u001b[1;33m\u001b[0m\u001b[0m\n\u001b[1;32m-> 1042\u001b[1;33m                                         validation_steps=validation_steps)\n\u001b[0m\u001b[0;32m   1043\u001b[0m \u001b[1;33m\u001b[0m\u001b[0m\n\u001b[0;32m   1044\u001b[0m     def evaluate(self, x=None, y=None,\n",
      "\u001b[1;32mC:\\ProgramData\\Anaconda3\\lib\\site-packages\\keras\\engine\\training_arrays.py\u001b[0m in \u001b[0;36mfit_loop\u001b[1;34m(model, f, ins, out_labels, batch_size, epochs, verbose, callbacks, val_f, val_ins, shuffle, callback_metrics, initial_epoch, steps_per_epoch, validation_steps)\u001b[0m\n\u001b[0;32m    197\u001b[0m                     \u001b[0mins_batch\u001b[0m\u001b[1;33m[\u001b[0m\u001b[0mi\u001b[0m\u001b[1;33m]\u001b[0m \u001b[1;33m=\u001b[0m \u001b[0mins_batch\u001b[0m\u001b[1;33m[\u001b[0m\u001b[0mi\u001b[0m\u001b[1;33m]\u001b[0m\u001b[1;33m.\u001b[0m\u001b[0mtoarray\u001b[0m\u001b[1;33m(\u001b[0m\u001b[1;33m)\u001b[0m\u001b[1;33m\u001b[0m\u001b[0m\n\u001b[0;32m    198\u001b[0m \u001b[1;33m\u001b[0m\u001b[0m\n\u001b[1;32m--> 199\u001b[1;33m                 \u001b[0mouts\u001b[0m \u001b[1;33m=\u001b[0m \u001b[0mf\u001b[0m\u001b[1;33m(\u001b[0m\u001b[0mins_batch\u001b[0m\u001b[1;33m)\u001b[0m\u001b[1;33m\u001b[0m\u001b[0m\n\u001b[0m\u001b[0;32m    200\u001b[0m                 \u001b[1;32mif\u001b[0m \u001b[1;32mnot\u001b[0m \u001b[0misinstance\u001b[0m\u001b[1;33m(\u001b[0m\u001b[0mouts\u001b[0m\u001b[1;33m,\u001b[0m \u001b[0mlist\u001b[0m\u001b[1;33m)\u001b[0m\u001b[1;33m:\u001b[0m\u001b[1;33m\u001b[0m\u001b[0m\n\u001b[0;32m    201\u001b[0m                     \u001b[0mouts\u001b[0m \u001b[1;33m=\u001b[0m \u001b[1;33m[\u001b[0m\u001b[0mouts\u001b[0m\u001b[1;33m]\u001b[0m\u001b[1;33m\u001b[0m\u001b[0m\n",
      "\u001b[1;32mC:\\ProgramData\\Anaconda3\\lib\\site-packages\\keras\\backend\\tensorflow_backend.py\u001b[0m in \u001b[0;36m__call__\u001b[1;34m(self, inputs)\u001b[0m\n\u001b[0;32m   2659\u001b[0m                 \u001b[1;32mreturn\u001b[0m \u001b[0mself\u001b[0m\u001b[1;33m.\u001b[0m\u001b[0m_legacy_call\u001b[0m\u001b[1;33m(\u001b[0m\u001b[0minputs\u001b[0m\u001b[1;33m)\u001b[0m\u001b[1;33m\u001b[0m\u001b[0m\n\u001b[0;32m   2660\u001b[0m \u001b[1;33m\u001b[0m\u001b[0m\n\u001b[1;32m-> 2661\u001b[1;33m             \u001b[1;32mreturn\u001b[0m \u001b[0mself\u001b[0m\u001b[1;33m.\u001b[0m\u001b[0m_call\u001b[0m\u001b[1;33m(\u001b[0m\u001b[0minputs\u001b[0m\u001b[1;33m)\u001b[0m\u001b[1;33m\u001b[0m\u001b[0m\n\u001b[0m\u001b[0;32m   2662\u001b[0m         \u001b[1;32melse\u001b[0m\u001b[1;33m:\u001b[0m\u001b[1;33m\u001b[0m\u001b[0m\n\u001b[0;32m   2663\u001b[0m             \u001b[1;32mif\u001b[0m \u001b[0mpy_any\u001b[0m\u001b[1;33m(\u001b[0m\u001b[0mis_tensor\u001b[0m\u001b[1;33m(\u001b[0m\u001b[0mx\u001b[0m\u001b[1;33m)\u001b[0m \u001b[1;32mfor\u001b[0m \u001b[0mx\u001b[0m \u001b[1;32min\u001b[0m \u001b[0minputs\u001b[0m\u001b[1;33m)\u001b[0m\u001b[1;33m:\u001b[0m\u001b[1;33m\u001b[0m\u001b[0m\n",
      "\u001b[1;32mC:\\ProgramData\\Anaconda3\\lib\\site-packages\\keras\\backend\\tensorflow_backend.py\u001b[0m in \u001b[0;36m_call\u001b[1;34m(self, inputs)\u001b[0m\n\u001b[0;32m   2629\u001b[0m                                 \u001b[0msymbol_vals\u001b[0m\u001b[1;33m,\u001b[0m\u001b[1;33m\u001b[0m\u001b[0m\n\u001b[0;32m   2630\u001b[0m                                 session)\n\u001b[1;32m-> 2631\u001b[1;33m         \u001b[0mfetched\u001b[0m \u001b[1;33m=\u001b[0m \u001b[0mself\u001b[0m\u001b[1;33m.\u001b[0m\u001b[0m_callable_fn\u001b[0m\u001b[1;33m(\u001b[0m\u001b[1;33m*\u001b[0m\u001b[0marray_vals\u001b[0m\u001b[1;33m)\u001b[0m\u001b[1;33m\u001b[0m\u001b[0m\n\u001b[0m\u001b[0;32m   2632\u001b[0m         \u001b[1;32mreturn\u001b[0m \u001b[0mfetched\u001b[0m\u001b[1;33m[\u001b[0m\u001b[1;33m:\u001b[0m\u001b[0mlen\u001b[0m\u001b[1;33m(\u001b[0m\u001b[0mself\u001b[0m\u001b[1;33m.\u001b[0m\u001b[0moutputs\u001b[0m\u001b[1;33m)\u001b[0m\u001b[1;33m]\u001b[0m\u001b[1;33m\u001b[0m\u001b[0m\n\u001b[0;32m   2633\u001b[0m \u001b[1;33m\u001b[0m\u001b[0m\n",
      "\u001b[1;32mC:\\ProgramData\\Anaconda3\\lib\\site-packages\\tensorflow\\python\\client\\session.py\u001b[0m in \u001b[0;36m__call__\u001b[1;34m(self, *args)\u001b[0m\n\u001b[0;32m   1449\u001b[0m         \u001b[1;32mif\u001b[0m \u001b[0mself\u001b[0m\u001b[1;33m.\u001b[0m\u001b[0m_session\u001b[0m\u001b[1;33m.\u001b[0m\u001b[0m_created_with_new_api\u001b[0m\u001b[1;33m:\u001b[0m\u001b[1;33m\u001b[0m\u001b[0m\n\u001b[0;32m   1450\u001b[0m           return tf_session.TF_SessionRunCallable(\n\u001b[1;32m-> 1451\u001b[1;33m               self._session._session, self._handle, args, status, None)\n\u001b[0m\u001b[0;32m   1452\u001b[0m         \u001b[1;32melse\u001b[0m\u001b[1;33m:\u001b[0m\u001b[1;33m\u001b[0m\u001b[0m\n\u001b[0;32m   1453\u001b[0m           return tf_session.TF_DeprecatedSessionRunCallable(\n",
      "\u001b[1;31mKeyboardInterrupt\u001b[0m: "
     ]
    }
   ],
   "source": [
    "autoencoder.fit(x_train, x_train,\n",
    "                epochs=50,\n",
    "                batch_size=256,\n",
    "                shuffle=True,\n",
    "                validation_data=(x_test, x_test))"
   ]
  },
  {
   "cell_type": "code",
   "execution_count": 10,
   "metadata": {},
   "outputs": [],
   "source": [
    "# encode and decode some digits\n",
    "# note that we take them from the *test* set\n",
    "encoded_imgs = encoder.predict(x_test)\n",
    "decoded_imgs = decoder.predict(encoded_imgs)"
   ]
  },
  {
   "cell_type": "code",
   "execution_count": 11,
   "metadata": {},
   "outputs": [
    {
     "data": {
      "image/png": "[encoded data removed]",
      "text/plain": [
       "<Figure size 1440x288 with 20 Axes>"
      ]
     },
     "metadata": {},
     "output_type": "display_data"
    }
   ],
   "source": [
    "# use Matplotlib (don't ask)\n",
    "import matplotlib.pyplot as plt\n",
    "\n",
    "n = 10  # how many digits we will display\n",
    "plt.figure(figsize=(20, 4))\n",
    "for i in range(n):\n",
    "    # display original\n",
    "    ax = plt.subplot(2, n, i + 1)\n",
    "    plt.imshow(x_test[i].reshape(28, 28))\n",
    "    plt.gray()\n",
    "    ax.get_xaxis().set_visible(False)\n",
    "    ax.get_yaxis().set_visible(False)\n",
    "\n",
    "    # display reconstruction\n",
    "    ax = plt.subplot(2, n, i + 1 + n)\n",
    "    plt.imshow(decoded_imgs[i].reshape(28, 28))\n",
    "    plt.gray()\n",
    "    ax.get_xaxis().set_visible(False)\n",
    "    ax.get_yaxis().set_visible(False)\n",
    "plt.show()"
   ]
  },
  {
   "cell_type": "markdown",
   "metadata": {},
   "source": [
    "## Autoencoder sparse"
   ]
  },
  {
   "cell_type": "code",
   "execution_count": 12,
   "metadata": {},
   "outputs": [],
   "source": [
    "from keras import regularizers\n",
    "\n",
    "encoding_dim = 32\n",
    "\n",
    "input_img = Input(shape=(784,))\n",
    "# add a Dense layer with a L1 activity regularizer\n",
    "encoded = Dense(encoding_dim, activation='relu',\n",
    "                activity_regularizer=regularizers.l1(10e-5))(input_img)\n",
    "decoded = Dense(784, activation='sigmoid')(encoded)\n",
    "\n",
    "autoencoder = Model(input_img, decoded)"
   ]
  },
  {
   "cell_type": "code",
   "execution_count": 13,
   "metadata": {},
   "outputs": [],
   "source": [
    "# this model maps an input to its encoded representation\n",
    "encoder = Model(input_img, encoded)"
   ]
  },
  {
   "cell_type": "code",
   "execution_count": 14,
   "metadata": {},
   "outputs": [
    {
     "name": "stdout",
     "output_type": "stream",
     "text": [
      "Train on 60000 samples, validate on 10000 samples\n",
      "Epoch 1/100\n",
      "60000/60000 [==============================] - 4s 75us/step - loss: 0.6733 - val_loss: 0.6484\n",
      "Epoch 2/100\n",
      "60000/60000 [==============================] - 4s 65us/step - loss: 0.6284 - val_loss: 0.6090\n",
      "Epoch 3/100\n",
      "60000/60000 [==============================] - 4s 59us/step - loss: 0.5916 - val_loss: 0.5749\n",
      "Epoch 4/100\n",
      "60000/60000 [==============================] - 4s 64us/step - loss: 0.5598 - val_loss: 0.5454\n",
      "Epoch 5/100\n",
      "60000/60000 [==============================] - 4s 59us/step - loss: 0.5323 - val_loss: 0.5198\n",
      "Epoch 6/100\n",
      "60000/60000 [==============================] - 4s 63us/step - loss: 0.5084 - val_loss: 0.4975\n",
      "Epoch 7/100\n",
      "60000/60000 [==============================] - 4s 62us/step - loss: 0.4875 - val_loss: 0.4780\n",
      "Epoch 8/100\n",
      "60000/60000 [==============================] - 4s 60us/step - loss: 0.4692 - val_loss: 0.4609\n",
      "Epoch 9/100\n",
      "60000/60000 [==============================] - 4s 59us/step - loss: 0.4531 - val_loss: 0.4457\n",
      "Epoch 10/100\n",
      "60000/60000 [==============================] - 4s 60us/step - loss: 0.4388 - val_loss: 0.4324\n",
      "Epoch 11/100\n",
      "60000/60000 [==============================] - 4s 60us/step - loss: 0.4262 - val_loss: 0.4205\n",
      "Epoch 12/100\n",
      "60000/60000 [==============================] - 4s 60us/step - loss: 0.4150 - val_loss: 0.4098\n",
      "Epoch 13/100\n",
      "60000/60000 [==============================] - 4s 59us/step - loss: 0.4049 - val_loss: 0.4003\n",
      "Epoch 14/100\n",
      "60000/60000 [==============================] - 4s 59us/step - loss: 0.3959 - val_loss: 0.3918\n",
      "Epoch 15/100\n",
      "60000/60000 [==============================] - 4s 61us/step - loss: 0.3877 - val_loss: 0.3840\n",
      "Epoch 16/100\n",
      "60000/60000 [==============================] - 4s 59us/step - loss: 0.3804 - val_loss: 0.3771\n",
      "Epoch 17/100\n",
      "60000/60000 [==============================] - 4s 67us/step - loss: 0.3737 - val_loss: 0.3707\n",
      "Epoch 18/100\n",
      "60000/60000 [==============================] - 4s 60us/step - loss: 0.3676 - val_loss: 0.3649\n",
      "Epoch 19/100\n",
      "60000/60000 [==============================] - 4s 64us/step - loss: 0.3621 - val_loss: 0.3596\n",
      "Epoch 20/100\n",
      "60000/60000 [==============================] - 4s 68us/step - loss: 0.3570 - val_loss: 0.3548\n",
      "Epoch 21/100\n",
      "60000/60000 [==============================] - 4s 65us/step - loss: 0.3524 - val_loss: 0.3503\n",
      "Epoch 22/100\n",
      " 9728/60000 [===>..........................] - ETA: 3s - loss: 0.3496"
     ]
    },
    {
     "ename": "KeyboardInterrupt",
     "evalue": "",
     "output_type": "error",
     "traceback": [
      "\u001b[1;31m---------------------------------------------------------------------------\u001b[0m",
      "\u001b[1;31mKeyboardInterrupt\u001b[0m                         Traceback (most recent call last)",
      "\u001b[1;32m<ipython-input-14-07dbaae18b7f>\u001b[0m in \u001b[0;36m<module>\u001b[1;34m()\u001b[0m\n\u001b[0;32m      6\u001b[0m                 \u001b[0mbatch_size\u001b[0m\u001b[1;33m=\u001b[0m\u001b[1;36m256\u001b[0m\u001b[1;33m,\u001b[0m\u001b[1;33m\u001b[0m\u001b[0m\n\u001b[0;32m      7\u001b[0m                 \u001b[0mshuffle\u001b[0m\u001b[1;33m=\u001b[0m\u001b[1;32mTrue\u001b[0m\u001b[1;33m,\u001b[0m\u001b[1;33m\u001b[0m\u001b[0m\n\u001b[1;32m----> 8\u001b[1;33m                 validation_data=(x_test, x_test))\n\u001b[0m",
      "\u001b[1;32mC:\\ProgramData\\Anaconda3\\lib\\site-packages\\keras\\engine\\training.py\u001b[0m in \u001b[0;36mfit\u001b[1;34m(self, x, y, batch_size, epochs, verbose, callbacks, validation_split, validation_data, shuffle, class_weight, sample_weight, initial_epoch, steps_per_epoch, validation_steps, **kwargs)\u001b[0m\n\u001b[0;32m   1040\u001b[0m                                         \u001b[0minitial_epoch\u001b[0m\u001b[1;33m=\u001b[0m\u001b[0minitial_epoch\u001b[0m\u001b[1;33m,\u001b[0m\u001b[1;33m\u001b[0m\u001b[0m\n\u001b[0;32m   1041\u001b[0m                                         \u001b[0msteps_per_epoch\u001b[0m\u001b[1;33m=\u001b[0m\u001b[0msteps_per_epoch\u001b[0m\u001b[1;33m,\u001b[0m\u001b[1;33m\u001b[0m\u001b[0m\n\u001b[1;32m-> 1042\u001b[1;33m                                         validation_steps=validation_steps)\n\u001b[0m\u001b[0;32m   1043\u001b[0m \u001b[1;33m\u001b[0m\u001b[0m\n\u001b[0;32m   1044\u001b[0m     def evaluate(self, x=None, y=None,\n",
      "\u001b[1;32mC:\\ProgramData\\Anaconda3\\lib\\site-packages\\keras\\engine\\training_arrays.py\u001b[0m in \u001b[0;36mfit_loop\u001b[1;34m(model, f, ins, out_labels, batch_size, epochs, verbose, callbacks, val_f, val_ins, shuffle, callback_metrics, initial_epoch, steps_per_epoch, validation_steps)\u001b[0m\n\u001b[0;32m    197\u001b[0m                     \u001b[0mins_batch\u001b[0m\u001b[1;33m[\u001b[0m\u001b[0mi\u001b[0m\u001b[1;33m]\u001b[0m \u001b[1;33m=\u001b[0m \u001b[0mins_batch\u001b[0m\u001b[1;33m[\u001b[0m\u001b[0mi\u001b[0m\u001b[1;33m]\u001b[0m\u001b[1;33m.\u001b[0m\u001b[0mtoarray\u001b[0m\u001b[1;33m(\u001b[0m\u001b[1;33m)\u001b[0m\u001b[1;33m\u001b[0m\u001b[0m\n\u001b[0;32m    198\u001b[0m \u001b[1;33m\u001b[0m\u001b[0m\n\u001b[1;32m--> 199\u001b[1;33m                 \u001b[0mouts\u001b[0m \u001b[1;33m=\u001b[0m \u001b[0mf\u001b[0m\u001b[1;33m(\u001b[0m\u001b[0mins_batch\u001b[0m\u001b[1;33m)\u001b[0m\u001b[1;33m\u001b[0m\u001b[0m\n\u001b[0m\u001b[0;32m    200\u001b[0m                 \u001b[1;32mif\u001b[0m \u001b[1;32mnot\u001b[0m \u001b[0misinstance\u001b[0m\u001b[1;33m(\u001b[0m\u001b[0mouts\u001b[0m\u001b[1;33m,\u001b[0m \u001b[0mlist\u001b[0m\u001b[1;33m)\u001b[0m\u001b[1;33m:\u001b[0m\u001b[1;33m\u001b[0m\u001b[0m\n\u001b[0;32m    201\u001b[0m                     \u001b[0mouts\u001b[0m \u001b[1;33m=\u001b[0m \u001b[1;33m[\u001b[0m\u001b[0mouts\u001b[0m\u001b[1;33m]\u001b[0m\u001b[1;33m\u001b[0m\u001b[0m\n",
      "\u001b[1;32mC:\\ProgramData\\Anaconda3\\lib\\site-packages\\keras\\backend\\tensorflow_backend.py\u001b[0m in \u001b[0;36m__call__\u001b[1;34m(self, inputs)\u001b[0m\n\u001b[0;32m   2659\u001b[0m                 \u001b[1;32mreturn\u001b[0m \u001b[0mself\u001b[0m\u001b[1;33m.\u001b[0m\u001b[0m_legacy_call\u001b[0m\u001b[1;33m(\u001b[0m\u001b[0minputs\u001b[0m\u001b[1;33m)\u001b[0m\u001b[1;33m\u001b[0m\u001b[0m\n\u001b[0;32m   2660\u001b[0m \u001b[1;33m\u001b[0m\u001b[0m\n\u001b[1;32m-> 2661\u001b[1;33m             \u001b[1;32mreturn\u001b[0m \u001b[0mself\u001b[0m\u001b[1;33m.\u001b[0m\u001b[0m_call\u001b[0m\u001b[1;33m(\u001b[0m\u001b[0minputs\u001b[0m\u001b[1;33m)\u001b[0m\u001b[1;33m\u001b[0m\u001b[0m\n\u001b[0m\u001b[0;32m   2662\u001b[0m         \u001b[1;32melse\u001b[0m\u001b[1;33m:\u001b[0m\u001b[1;33m\u001b[0m\u001b[0m\n\u001b[0;32m   2663\u001b[0m             \u001b[1;32mif\u001b[0m \u001b[0mpy_any\u001b[0m\u001b[1;33m(\u001b[0m\u001b[0mis_tensor\u001b[0m\u001b[1;33m(\u001b[0m\u001b[0mx\u001b[0m\u001b[1;33m)\u001b[0m \u001b[1;32mfor\u001b[0m \u001b[0mx\u001b[0m \u001b[1;32min\u001b[0m \u001b[0minputs\u001b[0m\u001b[1;33m)\u001b[0m\u001b[1;33m:\u001b[0m\u001b[1;33m\u001b[0m\u001b[0m\n",
      "\u001b[1;32mC:\\ProgramData\\Anaconda3\\lib\\site-packages\\keras\\backend\\tensorflow_backend.py\u001b[0m in \u001b[0;36m_call\u001b[1;34m(self, inputs)\u001b[0m\n\u001b[0;32m   2629\u001b[0m                                 \u001b[0msymbol_vals\u001b[0m\u001b[1;33m,\u001b[0m\u001b[1;33m\u001b[0m\u001b[0m\n\u001b[0;32m   2630\u001b[0m                                 session)\n\u001b[1;32m-> 2631\u001b[1;33m         \u001b[0mfetched\u001b[0m \u001b[1;33m=\u001b[0m \u001b[0mself\u001b[0m\u001b[1;33m.\u001b[0m\u001b[0m_callable_fn\u001b[0m\u001b[1;33m(\u001b[0m\u001b[1;33m*\u001b[0m\u001b[0marray_vals\u001b[0m\u001b[1;33m)\u001b[0m\u001b[1;33m\u001b[0m\u001b[0m\n\u001b[0m\u001b[0;32m   2632\u001b[0m         \u001b[1;32mreturn\u001b[0m \u001b[0mfetched\u001b[0m\u001b[1;33m[\u001b[0m\u001b[1;33m:\u001b[0m\u001b[0mlen\u001b[0m\u001b[1;33m(\u001b[0m\u001b[0mself\u001b[0m\u001b[1;33m.\u001b[0m\u001b[0moutputs\u001b[0m\u001b[1;33m)\u001b[0m\u001b[1;33m]\u001b[0m\u001b[1;33m\u001b[0m\u001b[0m\n\u001b[0;32m   2633\u001b[0m \u001b[1;33m\u001b[0m\u001b[0m\n",
      "\u001b[1;32mC:\\ProgramData\\Anaconda3\\lib\\site-packages\\tensorflow\\python\\client\\session.py\u001b[0m in \u001b[0;36m__call__\u001b[1;34m(self, *args)\u001b[0m\n\u001b[0;32m   1449\u001b[0m         \u001b[1;32mif\u001b[0m \u001b[0mself\u001b[0m\u001b[1;33m.\u001b[0m\u001b[0m_session\u001b[0m\u001b[1;33m.\u001b[0m\u001b[0m_created_with_new_api\u001b[0m\u001b[1;33m:\u001b[0m\u001b[1;33m\u001b[0m\u001b[0m\n\u001b[0;32m   1450\u001b[0m           return tf_session.TF_SessionRunCallable(\n\u001b[1;32m-> 1451\u001b[1;33m               self._session._session, self._handle, args, status, None)\n\u001b[0m\u001b[0;32m   1452\u001b[0m         \u001b[1;32melse\u001b[0m\u001b[1;33m:\u001b[0m\u001b[1;33m\u001b[0m\u001b[0m\n\u001b[0;32m   1453\u001b[0m           return tf_session.TF_DeprecatedSessionRunCallable(\n",
      "\u001b[1;31mKeyboardInterrupt\u001b[0m: "
     ]
    }
   ],
   "source": [
    "autoencoder = Model(input_img, decoded)\n",
    "autoencoder.compile(optimizer='adadelta', loss='binary_crossentropy')\n",
    "\n",
    "autoencoder.fit(x_train, x_train,\n",
    "                epochs=100,\n",
    "                batch_size=256,\n",
    "                shuffle=True,\n",
    "                validation_data=(x_test, x_test))"
   ]
  },
  {
   "cell_type": "code",
   "execution_count": 15,
   "metadata": {},
   "outputs": [],
   "source": [
    "# encode and decode some digits\n",
    "# note that we take them from the *test* set\n",
    "encoded_imgs = encoder.predict(x_test)\n",
    "decoded_imgs = decoder.predict(encoded_imgs)"
   ]
  },
  {
   "cell_type": "code",
   "execution_count": 16,
   "metadata": {},
   "outputs": [
    {
     "data": {
      "image/png": "[encoded data removed]",
      "text/plain": [
       "<Figure size 1440x288 with 20 Axes>"
      ]
     },
     "metadata": {},
     "output_type": "display_data"
    }
   ],
   "source": [
    "# use Matplotlib (don't ask)\n",
    "import matplotlib.pyplot as plt\n",
    "\n",
    "n = 10  # how many digits we will display\n",
    "plt.figure(figsize=(20, 4))\n",
    "for i in range(n):\n",
    "    # display original\n",
    "    ax = plt.subplot(2, n, i + 1)\n",
    "    plt.imshow(x_test[i].reshape(28, 28))\n",
    "    plt.gray()\n",
    "    ax.get_xaxis().set_visible(False)\n",
    "    ax.get_yaxis().set_visible(False)\n",
    "\n",
    "    # display reconstruction\n",
    "    ax = plt.subplot(2, n, i + 1 + n)\n",
    "    plt.imshow(decoded_imgs[i].reshape(28, 28))\n",
    "    plt.gray()\n",
    "    ax.get_xaxis().set_visible(False)\n",
    "    ax.get_yaxis().set_visible(False)\n",
    "plt.show()"
   ]
  },
  {
   "cell_type": "markdown",
   "metadata": {},
   "source": [
    "## Autoencoder profundo"
   ]
  },
  {
   "cell_type": "code",
   "execution_count": 65,
   "metadata": {},
   "outputs": [],
   "source": [
    "# Define una arquitectura profunda para el autoencoder\n",
    "encoding_dim = 32\n",
    "\n",
    "input_img = Input(shape=(784,))\n",
    "encoded = Dense(encoding_dim, activation='relu')(input_img)\n",
    "#encoded = Dense(encoding_dim, activation='relu')(encoded)\n",
    "#encoded = Dense(encoding_dim, activation='relu')(encoded)\n",
    "#encoded = Dense(encoding_dim, activation='relu')(encoded)\n",
    "decoded = Dense(784, activation='sigmoid')(encoded)"
   ]
  },
  {
   "cell_type": "code",
   "execution_count": 66,
   "metadata": {},
   "outputs": [
    {
     "name": "stdout",
     "output_type": "stream",
     "text": [
      "Train on 60000 samples, validate on 10000 samples\n",
      "Epoch 1/100\n",
      "60000/60000 [==============================] - 3s 57us/step - loss: 0.3497 - val_loss: 0.2699\n",
      "Epoch 2/100\n",
      "60000/60000 [==============================] - 3s 48us/step - loss: 0.2617 - val_loss: 0.2502\n",
      "Epoch 3/100\n",
      "60000/60000 [==============================] - 3s 48us/step - loss: 0.2400 - val_loss: 0.2277\n",
      "Epoch 4/100\n",
      "60000/60000 [==============================] - 3s 49us/step - loss: 0.2199 - val_loss: 0.2103\n",
      "Epoch 5/100\n",
      "60000/60000 [==============================] - 3s 49us/step - loss: 0.2055 - val_loss: 0.1982\n",
      "Epoch 6/100\n",
      "60000/60000 [==============================] - 3s 49us/step - loss: 0.1949 - val_loss: 0.1889\n",
      "Epoch 7/100\n",
      "60000/60000 [==============================] - 3s 49us/step - loss: 0.1866 - val_loss: 0.1816\n",
      "Epoch 8/100\n",
      "60000/60000 [==============================] - 3s 49us/step - loss: 0.1798 - val_loss: 0.1752\n",
      "Epoch 9/100\n",
      "60000/60000 [==============================] - 3s 49us/step - loss: 0.1739 - val_loss: 0.1698\n",
      "Epoch 10/100\n",
      "60000/60000 [==============================] - 3s 50us/step - loss: 0.1688 - val_loss: 0.1650\n",
      "Epoch 11/100\n",
      "60000/60000 [==============================] - 3s 49us/step - loss: 0.1643 - val_loss: 0.1607\n",
      "Epoch 12/100\n",
      "60000/60000 [==============================] - 3s 50us/step - loss: 0.1602 - val_loss: 0.1568\n",
      "Epoch 13/100\n",
      "60000/60000 [==============================] - 3s 51us/step - loss: 0.1565 - val_loss: 0.1532\n",
      "Epoch 14/100\n",
      "60000/60000 [==============================] - 3s 51us/step - loss: 0.1530 - val_loss: 0.1499\n",
      "Epoch 15/100\n",
      "60000/60000 [==============================] - 3s 50us/step - loss: 0.1498 - val_loss: 0.1467\n",
      "Epoch 16/100\n",
      "60000/60000 [==============================] - 3s 49us/step - loss: 0.1468 - val_loss: 0.1439\n",
      "Epoch 17/100\n",
      "60000/60000 [==============================] - 3s 51us/step - loss: 0.1441 - val_loss: 0.1412\n",
      "Epoch 18/100\n",
      "60000/60000 [==============================] - 3s 52us/step - loss: 0.1416 - val_loss: 0.1388\n",
      "Epoch 19/100\n",
      "60000/60000 [==============================] - 3s 51us/step - loss: 0.1393 - val_loss: 0.1365\n",
      "Epoch 20/100\n",
      "60000/60000 [==============================] - 3s 50us/step - loss: 0.1371 - val_loss: 0.1344\n",
      "Epoch 21/100\n",
      "60000/60000 [==============================] - 3s 54us/step - loss: 0.1350 - val_loss: 0.1324\n",
      "Epoch 22/100\n",
      "60000/60000 [==============================] - 4s 59us/step - loss: 0.1331 - val_loss: 0.1305\n",
      "Epoch 23/100\n",
      "60000/60000 [==============================] - 3s 53us/step - loss: 0.1312 - val_loss: 0.1287\n",
      "Epoch 24/100\n",
      "60000/60000 [==============================] - 3s 53us/step - loss: 0.1295 - val_loss: 0.1270\n",
      "Epoch 25/100\n",
      "60000/60000 [==============================] - 3s 52us/step - loss: 0.1278 - val_loss: 0.1254\n",
      "Epoch 26/100\n",
      "60000/60000 [==============================] - 3s 57us/step - loss: 0.1262 - val_loss: 0.1238\n",
      "Epoch 27/100\n",
      "60000/60000 [==============================] - 3s 53us/step - loss: 0.1247 - val_loss: 0.1223\n",
      "Epoch 28/100\n",
      "60000/60000 [==============================] - 3s 50us/step - loss: 0.1233 - val_loss: 0.1209\n",
      "Epoch 29/100\n",
      "60000/60000 [==============================] - 3s 51us/step - loss: 0.1219 - val_loss: 0.1196\n",
      "Epoch 30/100\n",
      "60000/60000 [==============================] - 3s 51us/step - loss: 0.1206 - val_loss: 0.1184\n",
      "Epoch 31/100\n",
      "60000/60000 [==============================] - 3s 52us/step - loss: 0.1194 - val_loss: 0.1172\n",
      "Epoch 32/100\n",
      "60000/60000 [==============================] - 3s 51us/step - loss: 0.1183 - val_loss: 0.1160\n",
      "Epoch 33/100\n",
      "60000/60000 [==============================] - 3s 54us/step - loss: 0.1172 - val_loss: 0.1150\n",
      "Epoch 34/100\n",
      "60000/60000 [==============================] - 3s 54us/step - loss: 0.1162 - val_loss: 0.1140\n",
      "Epoch 35/100\n",
      "60000/60000 [==============================] - 3s 52us/step - loss: 0.1152 - val_loss: 0.1131\n",
      "Epoch 36/100\n",
      "60000/60000 [==============================] - 3s 51us/step - loss: 0.1143 - val_loss: 0.1122\n",
      "Epoch 37/100\n",
      "60000/60000 [==============================] - 3s 52us/step - loss: 0.1135 - val_loss: 0.1114\n",
      "Epoch 38/100\n",
      "60000/60000 [==============================] - 3s 56us/step - loss: 0.1127 - val_loss: 0.1106\n",
      "Epoch 39/100\n",
      "60000/60000 [==============================] - 3s 53us/step - loss: 0.1120 - val_loss: 0.1099\n",
      "Epoch 40/100\n",
      "60000/60000 [==============================] - 3s 53us/step - loss: 0.1113 - val_loss: 0.1093\n",
      "Epoch 41/100\n",
      "60000/60000 [==============================] - 3s 53us/step - loss: 0.1107 - val_loss: 0.1086\n",
      "Epoch 42/100\n",
      "60000/60000 [==============================] - 3s 53us/step - loss: 0.1101 - val_loss: 0.1081\n",
      "Epoch 43/100\n",
      "60000/60000 [==============================] - 3s 54us/step - loss: 0.1095 - val_loss: 0.1075\n",
      "Epoch 44/100\n",
      "60000/60000 [==============================] - 3s 54us/step - loss: 0.1090 - val_loss: 0.1070\n",
      "Epoch 45/100\n",
      "60000/60000 [==============================] - 3s 52us/step - loss: 0.1085 - val_loss: 0.1065\n",
      "Epoch 46/100\n",
      "60000/60000 [==============================] - 3s 53us/step - loss: 0.1080 - val_loss: 0.1061\n",
      "Epoch 47/100\n",
      "60000/60000 [==============================] - 3s 50us/step - loss: 0.1076 - val_loss: 0.1056\n",
      "Epoch 48/100\n",
      "60000/60000 [==============================] - 3s 51us/step - loss: 0.1072 - val_loss: 0.1052\n",
      "Epoch 49/100\n",
      "60000/60000 [==============================] - 3s 51us/step - loss: 0.1068 - val_loss: 0.1049\n",
      "Epoch 50/100\n",
      "60000/60000 [==============================] - 3s 51us/step - loss: 0.1064 - val_loss: 0.1045\n",
      "Epoch 51/100\n",
      "60000/60000 [==============================] - 3s 51us/step - loss: 0.1060 - val_loss: 0.1041\n",
      "Epoch 52/100\n",
      "60000/60000 [==============================] - 3s 51us/step - loss: 0.1057 - val_loss: 0.1038\n",
      "Epoch 53/100\n",
      "60000/60000 [==============================] - 3s 46us/step - loss: 0.1054 - val_loss: 0.1035\n",
      "Epoch 54/100\n",
      "60000/60000 [==============================] - 3s 49us/step - loss: 0.1051 - val_loss: 0.1032\n",
      "Epoch 55/100\n",
      "60000/60000 [==============================] - 3s 49us/step - loss: 0.1048 - val_loss: 0.1029\n",
      "Epoch 56/100\n",
      "60000/60000 [==============================] - 3s 49us/step - loss: 0.1045 - val_loss: 0.1026\n",
      "Epoch 57/100\n",
      "60000/60000 [==============================] - 3s 51us/step - loss: 0.1042 - val_loss: 0.1024\n",
      "Epoch 58/100\n",
      "60000/60000 [==============================] - 3s 49us/step - loss: 0.1040 - val_loss: 0.1022\n",
      "Epoch 59/100\n",
      "60000/60000 [==============================] - 3s 49us/step - loss: 0.1038 - val_loss: 0.1019\n",
      "Epoch 60/100\n",
      "60000/60000 [==============================] - 3s 49us/step - loss: 0.1035 - val_loss: 0.1017\n",
      "Epoch 61/100\n",
      "60000/60000 [==============================] - 3s 49us/step - loss: 0.1033 - val_loss: 0.1015\n",
      "Epoch 62/100\n",
      "60000/60000 [==============================] - 3s 50us/step - loss: 0.1031 - val_loss: 0.1013\n",
      "Epoch 63/100\n",
      "60000/60000 [==============================] - 3s 50us/step - loss: 0.1029 - val_loss: 0.1011\n",
      "Epoch 64/100\n",
      "60000/60000 [==============================] - 3s 49us/step - loss: 0.1027 - val_loss: 0.1010\n",
      "Epoch 65/100\n",
      "60000/60000 [==============================] - 3s 49us/step - loss: 0.1026 - val_loss: 0.1008\n",
      "Epoch 66/100\n",
      "60000/60000 [==============================] - 3s 49us/step - loss: 0.1024 - val_loss: 0.1006\n",
      "Epoch 67/100\n",
      "60000/60000 [==============================] - 3s 52us/step - loss: 0.1022 - val_loss: 0.1005\n",
      "Epoch 68/100\n",
      "60000/60000 [==============================] - 3s 49us/step - loss: 0.1021 - val_loss: 0.1003\n",
      "Epoch 69/100\n",
      "60000/60000 [==============================] - 3s 50us/step - loss: 0.1019 - val_loss: 0.1002\n",
      "Epoch 70/100\n",
      "60000/60000 [==============================] - 3s 50us/step - loss: 0.1018 - val_loss: 0.1000\n",
      "Epoch 71/100\n",
      "60000/60000 [==============================] - 3s 50us/step - loss: 0.1017 - val_loss: 0.1000\n",
      "Epoch 72/100\n",
      "60000/60000 [==============================] - 3s 50us/step - loss: 0.1015 - val_loss: 0.0998\n",
      "Epoch 73/100\n",
      "60000/60000 [==============================] - 3s 49us/step - loss: 0.1014 - val_loss: 0.0997\n",
      "Epoch 74/100\n",
      "60000/60000 [==============================] - 3s 48us/step - loss: 0.1013 - val_loss: 0.0996\n",
      "Epoch 75/100\n",
      "60000/60000 [==============================] - 3s 49us/step - loss: 0.1012 - val_loss: 0.0995\n",
      "Epoch 76/100\n",
      "60000/60000 [==============================] - 3s 49us/step - loss: 0.1011 - val_loss: 0.0994\n",
      "Epoch 77/100\n"
     ]
    },
    {
     "name": "stdout",
     "output_type": "stream",
     "text": [
      "60000/60000 [==============================] - 3s 51us/step - loss: 0.1010 - val_loss: 0.0993\n",
      "Epoch 78/100\n",
      "60000/60000 [==============================] - 3s 49us/step - loss: 0.1009 - val_loss: 0.0992\n",
      "Epoch 79/100\n",
      "60000/60000 [==============================] - 3s 49us/step - loss: 0.1008 - val_loss: 0.0991\n",
      "Epoch 80/100\n",
      "60000/60000 [==============================] - 3s 49us/step - loss: 0.1007 - val_loss: 0.0990\n",
      "Epoch 81/100\n",
      "60000/60000 [==============================] - 3s 50us/step - loss: 0.1006 - val_loss: 0.0989\n",
      "Epoch 82/100\n",
      "60000/60000 [==============================] - 3s 50us/step - loss: 0.1005 - val_loss: 0.0988\n",
      "Epoch 83/100\n",
      "60000/60000 [==============================] - 3s 50us/step - loss: 0.1004 - val_loss: 0.0987\n",
      "Epoch 84/100\n",
      "60000/60000 [==============================] - 3s 50us/step - loss: 0.1003 - val_loss: 0.0986\n",
      "Epoch 85/100\n",
      "60000/60000 [==============================] - 3s 49us/step - loss: 0.1002 - val_loss: 0.0985\n",
      "Epoch 86/100\n",
      "60000/60000 [==============================] - 3s 49us/step - loss: 0.1001 - val_loss: 0.0984\n",
      "Epoch 87/100\n",
      "60000/60000 [==============================] - 3s 49us/step - loss: 0.1000 - val_loss: 0.0984\n",
      "Epoch 88/100\n",
      "60000/60000 [==============================] - 3s 48us/step - loss: 0.0999 - val_loss: 0.0983\n",
      "Epoch 89/100\n",
      "60000/60000 [==============================] - 3s 48us/step - loss: 0.0999 - val_loss: 0.0982\n",
      "Epoch 90/100\n",
      "60000/60000 [==============================] - 3s 49us/step - loss: 0.0998 - val_loss: 0.0981\n",
      "Epoch 91/100\n",
      "60000/60000 [==============================] - 3s 49us/step - loss: 0.0997 - val_loss: 0.0980\n",
      "Epoch 92/100\n",
      "60000/60000 [==============================] - 3s 49us/step - loss: 0.0996 - val_loss: 0.0980\n",
      "Epoch 93/100\n",
      "60000/60000 [==============================] - 3s 49us/step - loss: 0.0995 - val_loss: 0.0979\n",
      "Epoch 94/100\n",
      "60000/60000 [==============================] - 3s 46us/step - loss: 0.0994 - val_loss: 0.0978\n",
      "Epoch 95/100\n",
      "60000/60000 [==============================] - 3s 46us/step - loss: 0.0994 - val_loss: 0.0977\n",
      "Epoch 96/100\n",
      "60000/60000 [==============================] - 3s 49us/step - loss: 0.0993 - val_loss: 0.0976\n",
      "Epoch 97/100\n",
      "60000/60000 [==============================] - 3s 48us/step - loss: 0.0992 - val_loss: 0.0976\n",
      "Epoch 98/100\n",
      "60000/60000 [==============================] - 3s 48us/step - loss: 0.0992 - val_loss: 0.0975\n",
      "Epoch 99/100\n",
      "60000/60000 [==============================] - 3s 49us/step - loss: 0.0991 - val_loss: 0.0975\n",
      "Epoch 100/100\n",
      "60000/60000 [==============================] - 3s 49us/step - loss: 0.0990 - val_loss: 0.0974\n"
     ]
    },
    {
     "data": {
      "text/plain": [
       "<keras.callbacks.History at 0x1b0877a15c0>"
      ]
     },
     "execution_count": 66,
     "metadata": {},
     "output_type": "execute_result"
    }
   ],
   "source": [
    "autoencoder = Model(input_img, decoded)\n",
    "autoencoder.compile(optimizer='adadelta', loss='binary_crossentropy')\n",
    "\n",
    "autoencoder.fit(x_train, x_train,\n",
    "                epochs=100,\n",
    "                batch_size=256,\n",
    "                shuffle=True,\n",
    "                validation_data=(x_test, x_test))"
   ]
  },
  {
   "cell_type": "code",
   "execution_count": 67,
   "metadata": {},
   "outputs": [],
   "source": [
    "# this model maps an input to its encoded representation\n",
    "encoder = Model(input_img, encoded)\n",
    "decoder_layer = autoencoder.layers[-1]\n",
    "# create the decoder model\n",
    "decoder = Model(encoded_input, decoder_layer(encoded_input))"
   ]
  },
  {
   "cell_type": "code",
   "execution_count": 68,
   "metadata": {},
   "outputs": [],
   "source": [
    "# encode and decode some digits\n",
    "# note that we take them from the *test* set\n",
    "\n",
    "encoded_imgs = encoder.predict(x_test)\n",
    "decoded_imgs = decoder.predict(encoded_imgs)"
   ]
  },
  {
   "cell_type": "code",
   "execution_count": 70,
   "metadata": {},
   "outputs": [
    {
     "data": {
      "image/png": "[encoded data removed]",
      "text/plain": [
       "<Figure size 1440x288 with 30 Axes>"
      ]
     },
     "metadata": {},
     "output_type": "display_data"
    }
   ],
   "source": [
    "# use Matplotlib (don't ask)\n",
    "import matplotlib.pyplot as plt\n",
    "\n",
    "n = 10  # how many digits we will display\n",
    "plt.figure(figsize=(20, 4))\n",
    "for i in range(n):\n",
    "    # display original\n",
    "    ax = plt.subplot(3, n, i + 1)\n",
    "    plt.imshow(x_test[i].reshape(28, 28))\n",
    "    plt.gray()\n",
    "    ax.get_xaxis().set_visible(False)\n",
    "    ax.get_yaxis().set_visible(False)\n",
    "\n",
    "    # display reconstruction\n",
    "    ax = plt.subplot(3, n, i + 1 + n)\n",
    "    plt.imshow(decoded_imgs[i].reshape(28, 28))\n",
    "    plt.gray()\n",
    "    ax.get_xaxis().set_visible(False)\n",
    "    ax.get_yaxis().set_visible(False)\n",
    "    \n",
    "    # display reconstruction\n",
    "    ax = plt.subplot(3, n, i + 1+n + n)\n",
    "    plt.imshow(encoded_imgs[i].reshape(8, 4))\n",
    "    plt.gray()\n",
    "    ax.get_xaxis().set_visible(False)\n",
    "    ax.get_yaxis().set_visible(False)\n",
    "plt.show()"
   ]
  },
  {
   "cell_type": "code",
   "execution_count": null,
   "metadata": {},
   "outputs": [],
   "source": []
  }
 ],
 "metadata": {
  "kernelspec": {
   "display_name": "Python 3",
   "language": "python",
   "name": "python3"
  },
  "language_info": {
   "codemirror_mode": {
    "name": "ipython",
    "version": 3
   },
   "file_extension": ".py",
   "mimetype": "text/x-python",
   "name": "python",
   "nbconvert_exporter": "python",
   "pygments_lexer": "ipython3",
   "version": "3.6.5"
  }
 },
 "nbformat": 4,
 "nbformat_minor": 2
}
