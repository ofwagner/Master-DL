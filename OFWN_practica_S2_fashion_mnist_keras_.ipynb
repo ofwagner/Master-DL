{
 "cells": [
  {
   "cell_type": "markdown",
   "metadata": {
    "colab_type": "text",
    "id": "DUBik36gV14D"
   },
   "source": []
  },
  {
   "cell_type": "markdown",
   "metadata": {
    "colab_type": "text",
    "id": "AVNSKEUAWXUn"
   },
   "source": []
  },
  {
   "cell_type": "code",
   "execution_count": 1,
   "metadata": {
    "colab": {
     "base_uri": "https://localhost:8080/",
     "height": 51
    },
    "colab_type": "code",
    "id": "mT77VeiaWYq3",
    "outputId": "329388db-46e9-4eff-d99c-5d7d6f20079a"
   },
   "outputs": [
    {
     "name": "stdout",
     "output_type": "stream",
     "text": [
      "2.499861346295425 seconds process time\n",
      "2.5105981826782227 seconds wall time\n"
     ]
    }
   ],
   "source": [
    "# Para medir tiempos\n",
    "\n",
    "import time\n",
    "\n",
    "def procedure():\n",
    "    time.sleep(2.5)\n",
    "\n",
    "# measure process time\n",
    "t0 = time.clock()\n",
    "procedure()\n",
    "print (time.clock() - t0, \"seconds process time\")\n",
    "\n",
    "# measure wall time\n",
    "t0 = time.time()\n",
    "procedure()\n",
    "print (time.time() - t0, \"seconds wall time\")\n"
   ]
  },
  {
   "cell_type": "markdown",
   "metadata": {
    "colab_type": "text",
    "id": "rM8NH5FZVkZK"
   },
   "source": [
    "## Import Libraries"
   ]
  },
  {
   "cell_type": "code",
   "execution_count": 5,
   "metadata": {
    "colab": {
     "base_uri": "https://localhost:8080/",
     "height": 34
    },
    "colab_type": "code",
    "id": "jaYk6dD0VkZL",
    "outputId": "5f2dd26c-bd51-4f6d-a190-bc2c2e4e7c6d"
   },
   "outputs": [],
   "source": [
    "# Keras Datasets: \n",
    "#    https://jovianlin.io/datasets-within-keras/\n",
    "# vemos este dataset: https://jovianlin.io/datasets-within-keras/#fashion_mnist\n",
    "from keras.datasets import fashion_mnist\n",
    "\n",
    "from keras.models import Sequential\n",
    "from keras.layers import Dense, Dropout\n",
    "from keras.optimizers import RMSprop\n",
    "from keras.utils import np_utils\n",
    "\n",
    "# Set random seed (for reproducibility):\n",
    "# https://machinelearningmastery.com/reproducible-results-neural-networks-keras/\n",
    "import numpy as np\n",
    "np.random.seed(42)"
   ]
  },
  {
   "cell_type": "markdown",
   "metadata": {
    "colab_type": "text",
    "id": "P6MhAi3uVkZT"
   },
   "source": [
    "## Load Data"
   ]
  },
  {
   "cell_type": "markdown",
   "metadata": {
    "colab_type": "text",
    "id": "_fhwq4l6VkZT"
   },
   "source": [
    "#### Number of clases"
   ]
  },
  {
   "cell_type": "code",
   "execution_count": 3,
   "metadata": {
    "colab": {},
    "colab_type": "code",
    "id": "yN54fGUoVkZV"
   },
   "outputs": [],
   "source": [
    "num_classes = 10"
   ]
  },
  {
   "cell_type": "markdown",
   "metadata": {
    "colab_type": "text",
    "id": "gAhQygm_VkZY"
   },
   "source": [
    "#### Load training and test datasets"
   ]
  },
  {
   "cell_type": "code",
   "execution_count": 6,
   "metadata": {
    "colab": {},
    "colab_type": "code",
    "id": "66fMvSqAVkZa"
   },
   "outputs": [
    {
     "name": "stdout",
     "output_type": "stream",
     "text": [
      "Downloading data from http://fashion-mnist.s3-website.eu-central-1.amazonaws.com/train-labels-idx1-ubyte.gz\n",
      "32768/29515 [=================================] - 0s 2us/step\n",
      "Downloading data from http://fashion-mnist.s3-website.eu-central-1.amazonaws.com/train-images-idx3-ubyte.gz\n",
      "26427392/26421880 [==============================] - 5s 0us/step\n",
      "Downloading data from http://fashion-mnist.s3-website.eu-central-1.amazonaws.com/t10k-labels-idx1-ubyte.gz\n",
      "8192/5148 [===============================================] - 0s 0us/step\n",
      "Downloading data from http://fashion-mnist.s3-website.eu-central-1.amazonaws.com/t10k-images-idx3-ubyte.gz\n",
      "4423680/4422102 [==============================] - 1s 0us/step\n"
     ]
    }
   ],
   "source": [
    "(X_train, y_train), (X_test, y_test) = fashion_mnist.load_data()\n"
   ]
  },
  {
   "cell_type": "markdown",
   "metadata": {
    "colab_type": "text",
    "id": "E5ltoHnaVkZe"
   },
   "source": [
    "#### Print shape of the original data"
   ]
  },
  {
   "cell_type": "code",
   "execution_count": 7,
   "metadata": {
    "colab": {
     "base_uri": "https://localhost:8080/",
     "height": 85
    },
    "colab_type": "code",
    "id": "YuzVpeLsVkZf",
    "outputId": "b915af44-06b8-49fd-e37f-becd8bd9ec8e"
   },
   "outputs": [
    {
     "name": "stdout",
     "output_type": "stream",
     "text": [
      "(60000, 28, 28)\n",
      "(60000,)\n",
      "(10000, 28, 28)\n",
      "(10000,)\n"
     ]
    }
   ],
   "source": [
    "print(X_train.shape)\n",
    "print(y_train.shape)\n",
    "print(X_test.shape)\n",
    "print(y_test.shape)"
   ]
  },
  {
   "cell_type": "code",
   "execution_count": 12,
   "metadata": {},
   "outputs": [
    {
     "name": "stdout",
     "output_type": "stream",
     "text": [
      "\u001b[1m\u001b[34mLabel:\u001b[0m 9\n",
      "\u001b[1m\u001b[34mShape:\u001b[0m (28, 28)\n",
      "\n",
      "AxesImage(54,36;334.8x217.44)\n"
     ]
    },
    {
     "data": {
      "image/png": "[encoded data removed]",
      "text/plain": [
       "<Figure size 432x288 with 1 Axes>"
      ]
     },
     "metadata": {},
     "output_type": "display_data"
    }
   ],
   "source": [
    "from termcolor import colored\n",
    "%matplotlib inline\n",
    "import matplotlib.pyplot as plt\n",
    "\n",
    "def show_shapes(x_train, y_train, x_test, y_test, color='green'):\n",
    "    print(colored('Training shape:', color, attrs=['bold']))\n",
    "    print('  x_train.shape:', x_train.shape)\n",
    "    print('  y_train.shape:', y_train.shape)\n",
    "    print(colored('\\nTesting shape:', color, attrs=['bold']))\n",
    "    print('  x_test.shape:', x_test.shape)\n",
    "    print('  y_test.shape:', y_test.shape)\n",
    "\n",
    "def plot_data(my_data, cmap=None):\n",
    "    plt.axis('off')\n",
    "    fig = plt.imshow(my_data, cmap=cmap)\n",
    "    fig.axes.get_xaxis().set_visible(False)\n",
    "    fig.axes.get_yaxis().set_visible(False)\n",
    "    print(fig)\n",
    "    \n",
    "def show_sample_image(x_train, y_train, idx=0, color='blue', cmap=None):\n",
    "    print(colored('Label:', color, attrs=['bold']), y_train[idx])\n",
    "    print(colored('Shape:', color, attrs=['bold']), x_train[idx].shape)\n",
    "    print()\n",
    "    plot_data(x_train[idx], cmap=cmap)\n",
    "    \n",
    "show_sample_image(X_train, y_train, cmap='gray')"
   ]
  },
  {
   "cell_type": "markdown",
   "metadata": {
    "colab_type": "text",
    "id": "PO8Cw8djVkZj"
   },
   "source": [
    "#### Format and normalize training X data"
   ]
  },
  {
   "cell_type": "code",
   "execution_count": 13,
   "metadata": {
    "colab": {},
    "colab_type": "code",
    "id": "0bBQ0x2lVkZl"
   },
   "outputs": [],
   "source": [
    "# Format training data\n",
    "X_train = X_train.reshape(60000,784)\n",
    "X_test = X_test.reshape(10000,784)\n",
    "X_train =X_train.astype('float32')\n",
    "X_test =X_test.astype('float32')\n",
    "\n",
    "X_train /=255\n",
    "X_test /=255"
   ]
  },
  {
   "cell_type": "markdown",
   "metadata": {
    "colab_type": "text",
    "id": "-SGo2T_DVkZo"
   },
   "source": [
    "#### Format Y data: convert class vectors to binary class matrices"
   ]
  },
  {
   "cell_type": "code",
   "execution_count": 14,
   "metadata": {
    "colab": {},
    "colab_type": "code",
    "id": "nBanSkWGVkZq"
   },
   "outputs": [],
   "source": [
    "y_train = np_utils.to_categorical(y_train,num_classes)\n",
    "y_test = np_utils.to_categorical(y_test,num_classes)"
   ]
  },
  {
   "cell_type": "code",
   "execution_count": 15,
   "metadata": {
    "colab": {
     "base_uri": "https://localhost:8080/",
     "height": 34
    },
    "colab_type": "code",
    "id": "oEh5mCH_VkZw",
    "outputId": "5d0d325c-e676-4c4b-e81c-6efaca8771c3"
   },
   "outputs": [
    {
     "data": {
      "text/plain": [
       "array([0., 0., 0., 0., 0., 0., 0., 0., 0., 1.], dtype=float32)"
      ]
     },
     "execution_count": 15,
     "metadata": {},
     "output_type": "execute_result"
    }
   ],
   "source": [
    "y_train[0]"
   ]
  },
  {
   "cell_type": "markdown",
   "metadata": {
    "colab_type": "text",
    "id": "MhqCMwlzVkZ4"
   },
   "source": [
    "#### Print shape of the new formated data"
   ]
  },
  {
   "cell_type": "code",
   "execution_count": 16,
   "metadata": {
    "colab": {
     "base_uri": "https://localhost:8080/",
     "height": 34
    },
    "colab_type": "code",
    "id": "6H_Ubam_VkZ6",
    "outputId": "810c4188-c3ac-4b4c-cebe-c3bca2c4446c"
   },
   "outputs": [
    {
     "data": {
      "text/plain": [
       "(60000, 10)"
      ]
     },
     "execution_count": 16,
     "metadata": {},
     "output_type": "execute_result"
    }
   ],
   "source": [
    "y_train.shape"
   ]
  },
  {
   "cell_type": "markdown",
   "metadata": {
    "colab_type": "text",
    "id": "YGML80c6VkaB"
   },
   "source": [
    "## Plot Training Results"
   ]
  },
  {
   "cell_type": "markdown",
   "metadata": {
    "colab_type": "text",
    "id": "jV7Ca8ccVkaE"
   },
   "source": [
    "#### Import plot libraries"
   ]
  },
  {
   "cell_type": "code",
   "execution_count": 17,
   "metadata": {
    "colab": {},
    "colab_type": "code",
    "id": "4mzCcTNrVkaF"
   },
   "outputs": [],
   "source": [
    "%matplotlib inline\n",
    "import matplotlib.pyplot as plt\n",
    "\n",
    "# Optional: Seaborn is a Python data visualization library based on matplotlib \n",
    "#    https://seaborn.pydata.org/\n",
    "import seaborn as sns\n",
    "sns.set()"
   ]
  },
  {
   "cell_type": "markdown",
   "metadata": {
    "colab_type": "text",
    "id": "SuNtR5swVkaL"
   },
   "source": [
    "#### Plot method"
   ]
  },
  {
   "cell_type": "code",
   "execution_count": 18,
   "metadata": {
    "colab": {},
    "colab_type": "code",
    "id": "pi40oafLVkaN"
   },
   "outputs": [],
   "source": [
    "def plot_history(history):\n",
    "    \n",
    "    # Plot training & validation accuracy values\n",
    "    plt.plot(history.history['acc'])\n",
    "    plt.plot(history.history['val_acc'])\n",
    "    plt.title('Model accuracy')\n",
    "    plt.ylabel('Accuracy')\n",
    "    plt.xlabel('Epoch')\n",
    "    plt.legend(['Train', 'Test'], loc='upper left')\n",
    "    plt.show()\n",
    "\n",
    "    # Plot training & validation loss values\n",
    "    plt.plot(history.history['loss'])\n",
    "    plt.plot(history.history['val_loss'])\n",
    "    plt.title('Model loss')\n",
    "    plt.ylabel('Loss')\n",
    "    plt.xlabel('Epoch')\n",
    "    plt.legend(['Train', 'Test'], loc='upper left')\n",
    "    plt.show()"
   ]
  },
  {
   "cell_type": "markdown",
   "metadata": {
    "colab_type": "text",
    "id": "HVWc441sVkaT"
   },
   "source": [
    "## Model Definition"
   ]
  },
  {
   "cell_type": "code",
   "execution_count": 19,
   "metadata": {
    "colab": {},
    "colab_type": "code",
    "id": "_FG6mgUZVkaV"
   },
   "outputs": [],
   "source": [
    "# Compile method doc: https://keras.io/models/sequential/\n",
    "# Optimizers doc: https://keras.io/optimizers/"
   ]
  },
  {
   "cell_type": "code",
   "execution_count": 20,
   "metadata": {
    "colab": {},
    "colab_type": "code",
    "id": "66tjZ2ngVkac"
   },
   "outputs": [],
   "source": [
    "def create_model():\n",
    "    model = Sequential()\n",
    "    \n",
    "    model.add(Dense(128, activation='relu', input_shape=(784,)))\n",
    "    model.add(Dropout(0.2))\n",
    "    model.add(Dense(128, activation='relu'))\n",
    "    model.add(Dropout(0.2))\n",
    "    model.add(Dense(num_classes, activation='softmax'))\n",
    "\n",
    "    model.compile(loss='categorical_crossentropy', \n",
    "                  optimizer=RMSprop(), \n",
    "                  metrics=['accuracy'])\n",
    "\n",
    "    return model"
   ]
  },
  {
   "cell_type": "markdown",
   "metadata": {
    "colab_type": "text",
    "id": "TEQ_uv7LVkaj"
   },
   "source": [
    "## Create a model and print model-summary"
   ]
  },
  {
   "cell_type": "code",
   "execution_count": 21,
   "metadata": {
    "colab": {
     "base_uri": "https://localhost:8080/",
     "height": 306
    },
    "colab_type": "code",
    "id": "-_Luys4LVkao",
    "outputId": "23ed1474-d121-4893-f787-46ec41027001"
   },
   "outputs": [
    {
     "name": "stdout",
     "output_type": "stream",
     "text": [
      "_________________________________________________________________\n",
      "Layer (type)                 Output Shape              Param #   \n",
      "=================================================================\n",
      "dense_1 (Dense)              (None, 128)               100480    \n",
      "_________________________________________________________________\n",
      "dropout_1 (Dropout)          (None, 128)               0         \n",
      "_________________________________________________________________\n",
      "dense_2 (Dense)              (None, 128)               16512     \n",
      "_________________________________________________________________\n",
      "dropout_2 (Dropout)          (None, 128)               0         \n",
      "_________________________________________________________________\n",
      "dense_3 (Dense)              (None, 10)                1290      \n",
      "=================================================================\n",
      "Total params: 118,282\n",
      "Trainable params: 118,282\n",
      "Non-trainable params: 0\n",
      "_________________________________________________________________\n"
     ]
    }
   ],
   "source": [
    "modelo=create_model()\n",
    "modelo.summary()"
   ]
  },
  {
   "cell_type": "markdown",
   "metadata": {
    "colab_type": "text",
    "id": "meZJ8YtGVkaz"
   },
   "source": [
    "## Example of Training:"
   ]
  },
  {
   "cell_type": "code",
   "execution_count": 22,
   "metadata": {
    "colab": {},
    "colab_type": "code",
    "id": "VYaDItzoVka3"
   },
   "outputs": [],
   "source": [
    "batch_size = 128\n",
    "nb_epoch = 20"
   ]
  },
  {
   "cell_type": "code",
   "execution_count": 23,
   "metadata": {
    "colab": {
     "base_uri": "https://localhost:8080/",
     "height": 714
    },
    "colab_type": "code",
    "id": "lKtM1yuKVka8",
    "outputId": "9164e1fc-549d-4a00-8219-e85e7ec5ba34"
   },
   "outputs": [
    {
     "name": "stdout",
     "output_type": "stream",
     "text": [
      "Train on 60000 samples, validate on 10000 samples\n",
      "Epoch 1/20\n",
      " - 2s - loss: 0.6134 - acc: 0.7815 - val_loss: 0.4681 - val_acc: 0.8367\n",
      "Epoch 2/20\n",
      " - 2s - loss: 0.4315 - acc: 0.8438 - val_loss: 0.4038 - val_acc: 0.8582\n",
      "Epoch 3/20\n",
      " - 2s - loss: 0.3886 - acc: 0.8597 - val_loss: 0.3881 - val_acc: 0.8624\n",
      "Epoch 4/20\n",
      " - 2s - loss: 0.3647 - acc: 0.8680 - val_loss: 0.3840 - val_acc: 0.8643\n",
      "Epoch 5/20\n",
      " - 2s - loss: 0.3489 - acc: 0.8726 - val_loss: 0.3636 - val_acc: 0.8739\n",
      "Epoch 6/20\n",
      " - 2s - loss: 0.3362 - acc: 0.8785 - val_loss: 0.3653 - val_acc: 0.8710\n",
      "Epoch 7/20\n",
      " - 2s - loss: 0.3247 - acc: 0.8823 - val_loss: 0.3582 - val_acc: 0.8782\n",
      "Epoch 8/20\n",
      " - 2s - loss: 0.3216 - acc: 0.8825 - val_loss: 0.3436 - val_acc: 0.8811\n",
      "Epoch 9/20\n",
      " - 2s - loss: 0.3138 - acc: 0.8860 - val_loss: 0.3538 - val_acc: 0.8740\n",
      "Epoch 10/20\n",
      " - 2s - loss: 0.3053 - acc: 0.8885 - val_loss: 0.3418 - val_acc: 0.8805\n",
      "Epoch 11/20\n",
      " - 2s - loss: 0.2992 - acc: 0.8901 - val_loss: 0.3562 - val_acc: 0.8746\n",
      "Epoch 12/20\n",
      " - 2s - loss: 0.2975 - acc: 0.8919 - val_loss: 0.3707 - val_acc: 0.8737\n",
      "Epoch 13/20\n",
      " - 2s - loss: 0.2932 - acc: 0.8935 - val_loss: 0.3748 - val_acc: 0.8723\n",
      "Epoch 14/20\n",
      " - 2s - loss: 0.2888 - acc: 0.8951 - val_loss: 0.3496 - val_acc: 0.8854\n",
      "Epoch 15/20\n",
      " - 2s - loss: 0.2823 - acc: 0.8974 - val_loss: 0.3607 - val_acc: 0.8822\n",
      "Epoch 16/20\n",
      " - 2s - loss: 0.2820 - acc: 0.8973 - val_loss: 0.3593 - val_acc: 0.8797\n",
      "Epoch 17/20\n",
      " - 2s - loss: 0.2790 - acc: 0.8991 - val_loss: 0.3617 - val_acc: 0.8862\n",
      "Epoch 18/20\n",
      " - 2s - loss: 0.2743 - acc: 0.8992 - val_loss: 0.3618 - val_acc: 0.8837\n",
      "Epoch 19/20\n",
      " - 2s - loss: 0.2745 - acc: 0.9017 - val_loss: 0.3496 - val_acc: 0.8869\n",
      "Epoch 20/20\n",
      " - 2s - loss: 0.2701 - acc: 0.9019 - val_loss: 0.3641 - val_acc: 0.8819\n"
     ]
    }
   ],
   "source": [
    "modelo = create_model()\n",
    "\n",
    "\n",
    "# tiempo inicial\n",
    "t0 = time.time()\n",
    "# Keras fit function documentation: https://keras.io/models/sequential/\n",
    "history = modelo.fit(X_train, y_train,\n",
    "                    batch_size=batch_size,\n",
    "                    epochs=nb_epoch,\n",
    "                    verbose=2,\n",
    "                    validation_data=(X_test, y_test),\n",
    "                    shuffle=True)\n",
    "tf =  time.time()"
   ]
  },
  {
   "cell_type": "markdown",
   "metadata": {
    "colab_type": "text",
    "id": "aCgbNakAVkbE"
   },
   "source": [
    "#### Evaluate trained model with test data"
   ]
  },
  {
   "cell_type": "code",
   "execution_count": 24,
   "metadata": {
    "colab": {
     "base_uri": "https://localhost:8080/",
     "height": 85
    },
    "colab_type": "code",
    "id": "L57C0W6YVkbF",
    "outputId": "c752e1de-7c60-4ef8-e0f2-1fd31c29f2f3"
   },
   "outputs": [
    {
     "name": "stdout",
     "output_type": "stream",
     "text": [
      "10000/10000 [==============================] - 0s 24us/step\n",
      "Test loss: 0.36411093229651453\n",
      "Test accuracy: 0.8819\n",
      "Time (seconds):  36.92611336708069\n"
     ]
    }
   ],
   "source": [
    "score = modelo.evaluate(X_test, y_test)\n",
    "time_delta = tf-t0\n",
    "exec(\"test_loss_\" + str(batch_size) + \"= score[0]\")\n",
    "exec(\"test_acc_\" + str(batch_size) + \"= score[1]\")\n",
    "exec(\"td_\" + str(batch_size) + \"= time_delta\")\n",
    "\n",
    "print('Test loss:', test_loss_128)\n",
    "print('Test accuracy:', test_acc_128)\n",
    "print('Time (seconds): ', td_128)"
   ]
  },
  {
   "cell_type": "markdown",
   "metadata": {
    "colab_type": "text",
    "id": "B27NvRfFVkbM"
   },
   "source": [
    "#### Plot training history"
   ]
  },
  {
   "cell_type": "code",
   "execution_count": 25,
   "metadata": {
    "colab": {
     "base_uri": "https://localhost:8080/",
     "height": 735
    },
    "colab_type": "code",
    "id": "Us5AJJGlVkbO",
    "outputId": "4ccad1fb-ea54-4c3d-8b16-027fca97a4e1"
   },
   "outputs": [
    {
     "data": {
      "image/png": "[encoded data removed]",
      "text/plain": [
       "<Figure size 432x288 with 1 Axes>"
      ]
     },
     "metadata": {},
     "output_type": "display_data"
    },
    {
     "data": {
      "image/png": "[encoded data removed]",
      "text/plain": [
       "<Figure size 432x288 with 1 Axes>"
      ]
     },
     "metadata": {},
     "output_type": "display_data"
    }
   ],
   "source": [
    "plot_history(history)"
   ]
  },
  {
   "cell_type": "code",
   "execution_count": null,
   "metadata": {
    "colab": {},
    "colab_type": "code",
    "id": "F9N8mRwAYmAg"
   },
   "outputs": [],
   "source": []
  },
  {
   "cell_type": "markdown",
   "metadata": {
    "colab_type": "text",
    "id": "vCjNS4dtYsui"
   },
   "source": [
    "## Batch 8"
   ]
  },
  {
   "cell_type": "code",
   "execution_count": 26,
   "metadata": {
    "colab": {
     "base_uri": "https://localhost:8080/",
     "height": 714
    },
    "colab_type": "code",
    "id": "e54cwWaGYsun",
    "outputId": "2163caa1-ad93-4a82-b51f-3c1df5a4ff25"
   },
   "outputs": [
    {
     "name": "stdout",
     "output_type": "stream",
     "text": [
      "Train on 60000 samples, validate on 10000 samples\n",
      "Epoch 1/20\n",
      " - 16s - loss: 0.6332 - acc: 0.7937 - val_loss: 0.5466 - val_acc: 0.8310\n",
      "Epoch 2/20\n",
      " - 16s - loss: 0.6527 - acc: 0.8215 - val_loss: 0.5650 - val_acc: 0.8461\n",
      "Epoch 3/20\n",
      " - 17s - loss: 0.7241 - acc: 0.8175 - val_loss: 0.7587 - val_acc: 0.8286\n",
      "Epoch 4/20\n",
      " - 18s - loss: 0.7850 - acc: 0.8161 - val_loss: 0.7425 - val_acc: 0.8165\n",
      "Epoch 5/20\n",
      " - 18s - loss: 0.8350 - acc: 0.8143 - val_loss: 0.8286 - val_acc: 0.8373\n",
      "Epoch 6/20\n",
      " - 16s - loss: 0.8680 - acc: 0.8137 - val_loss: 0.7812 - val_acc: 0.8284\n",
      "Epoch 7/20\n",
      " - 16s - loss: 0.9089 - acc: 0.8136 - val_loss: 0.7688 - val_acc: 0.8308\n",
      "Epoch 8/20\n",
      " - 15s - loss: 0.9452 - acc: 0.8103 - val_loss: 0.8742 - val_acc: 0.8011\n",
      "Epoch 9/20\n",
      " - 17s - loss: 0.9750 - acc: 0.8082 - val_loss: 0.8592 - val_acc: 0.8235\n",
      "Epoch 10/20\n",
      " - 17s - loss: 1.0101 - acc: 0.8088 - val_loss: 0.9267 - val_acc: 0.8265\n",
      "Epoch 11/20\n",
      " - 17s - loss: 1.0319 - acc: 0.8077 - val_loss: 0.8919 - val_acc: 0.8067\n",
      "Epoch 12/20\n",
      " - 16s - loss: 1.0468 - acc: 0.8067 - val_loss: 1.1397 - val_acc: 0.8269\n",
      "Epoch 13/20\n",
      " - 15s - loss: 1.1107 - acc: 0.8081 - val_loss: 0.9351 - val_acc: 0.8212\n",
      "Epoch 14/20\n",
      " - 15s - loss: 1.1204 - acc: 0.8002 - val_loss: 1.0296 - val_acc: 0.8266\n",
      "Epoch 15/20\n",
      " - 15s - loss: 1.1295 - acc: 0.7989 - val_loss: 1.0969 - val_acc: 0.8261\n",
      "Epoch 16/20\n",
      " - 15s - loss: 1.1660 - acc: 0.8009 - val_loss: 1.1440 - val_acc: 0.8299\n",
      "Epoch 17/20\n",
      " - 15s - loss: 1.1854 - acc: 0.8007 - val_loss: 1.2281 - val_acc: 0.8092\n",
      "Epoch 18/20\n",
      " - 14s - loss: 1.2104 - acc: 0.7996 - val_loss: 1.2387 - val_acc: 0.7882\n",
      "Epoch 19/20\n",
      " - 15s - loss: 1.2402 - acc: 0.7926 - val_loss: 1.1039 - val_acc: 0.8108\n",
      "Epoch 20/20\n",
      " - 16s - loss: 1.2447 - acc: 0.7971 - val_loss: 1.3311 - val_acc: 0.7943\n"
     ]
    }
   ],
   "source": [
    "batch_size = 8\n",
    "nb_epoch = 20\n",
    "\n",
    "\n",
    "\n",
    "modelo = create_model()\n",
    "\n",
    "\n",
    "# tiempo inicial\n",
    "t0 = time.time()\n",
    "# Keras fit function documentation: https://keras.io/models/sequential/\n",
    "history = modelo.fit(X_train, y_train,\n",
    "                    batch_size=batch_size,\n",
    "                    epochs=nb_epoch,\n",
    "                    verbose=2,\n",
    "                    validation_data=(X_test, y_test),\n",
    "                    shuffle=True)\n",
    "tf =  time.time()"
   ]
  },
  {
   "cell_type": "markdown",
   "metadata": {
    "colab_type": "text",
    "id": "nnZLezJUYsur"
   },
   "source": [
    "#### Evaluate trained model with test data"
   ]
  },
  {
   "cell_type": "code",
   "execution_count": 27,
   "metadata": {
    "colab": {
     "base_uri": "https://localhost:8080/",
     "height": 119
    },
    "colab_type": "code",
    "id": "72Z7BCTfYsur",
    "outputId": "31f61946-581e-4f6d-850b-edd96b5daf38"
   },
   "outputs": [
    {
     "name": "stdout",
     "output_type": "stream",
     "text": [
      "10000/10000 [==============================] - 0s 26us/step\n",
      "batch_size:  8 , score:  [1.3310900840044022, 0.7943] , time_delta:  319.7011909484863\n"
     ]
    }
   ],
   "source": [
    "score = modelo.evaluate(X_test, y_test)\n",
    "time_delta = tf-t0\n",
    "exec(\"batch_size_\" + str(batch_size) + \"= batch_size\")\n",
    "exec(\"test_loss_\" + str(batch_size) + \"= score[0]\")\n",
    "exec(\"test_acc_\" + str(batch_size) + \"= score[1]\")\n",
    "exec(\"td_\" + str(batch_size) + \"= time_delta\")\n",
    "\n",
    "\n",
    "print(\"batch_size: \", batch_size, \", score: \", score, \", time_delta: \", time_delta)"
   ]
  },
  {
   "cell_type": "markdown",
   "metadata": {
    "colab_type": "text",
    "id": "vCjNS4dtYsui"
   },
   "source": [
    "## Batch 16"
   ]
  },
  {
   "cell_type": "code",
   "execution_count": 28,
   "metadata": {
    "colab": {
     "base_uri": "https://localhost:8080/",
     "height": 714
    },
    "colab_type": "code",
    "id": "e54cwWaGYsun",
    "outputId": "2163caa1-ad93-4a82-b51f-3c1df5a4ff25"
   },
   "outputs": [
    {
     "name": "stdout",
     "output_type": "stream",
     "text": [
      "Train on 60000 samples, validate on 10000 samples\n",
      "Epoch 1/20\n",
      " - 9s - loss: 0.5676 - acc: 0.8035 - val_loss: 0.4607 - val_acc: 0.8430\n",
      "Epoch 2/20\n",
      " - 8s - loss: 0.5109 - acc: 0.8380 - val_loss: 0.5265 - val_acc: 0.8411\n",
      "Epoch 3/20\n",
      " - 8s - loss: 0.5364 - acc: 0.8411 - val_loss: 0.4955 - val_acc: 0.8485\n",
      "Epoch 4/20\n",
      " - 9s - loss: 0.5599 - acc: 0.8401 - val_loss: 0.5719 - val_acc: 0.8415\n",
      "Epoch 5/20\n",
      " - 8s - loss: 0.5862 - acc: 0.8393 - val_loss: 0.5739 - val_acc: 0.8468\n",
      "Epoch 6/20\n",
      " - 9s - loss: 0.6058 - acc: 0.8360 - val_loss: 0.5957 - val_acc: 0.8556\n",
      "Epoch 7/20\n",
      " - 9s - loss: 0.6169 - acc: 0.8345 - val_loss: 0.6197 - val_acc: 0.8474\n",
      "Epoch 8/20\n",
      " - 9s - loss: 0.6396 - acc: 0.8358 - val_loss: 0.5992 - val_acc: 0.8437\n",
      "Epoch 9/20\n",
      " - 8s - loss: 0.6654 - acc: 0.8342 - val_loss: 0.6426 - val_acc: 0.8420\n",
      "Epoch 10/20\n",
      " - 8s - loss: 0.6673 - acc: 0.8357 - val_loss: 0.6563 - val_acc: 0.8553\n",
      "Epoch 11/20\n",
      " - 8s - loss: 0.6948 - acc: 0.8323 - val_loss: 0.7483 - val_acc: 0.8490\n",
      "Epoch 12/20\n",
      " - 9s - loss: 0.7189 - acc: 0.8328 - val_loss: 0.6795 - val_acc: 0.8514\n",
      "Epoch 13/20\n",
      " - 9s - loss: 0.7179 - acc: 0.8321 - val_loss: 0.7274 - val_acc: 0.8423\n",
      "Epoch 14/20\n",
      " - 9s - loss: 0.7281 - acc: 0.8319 - val_loss: 0.7777 - val_acc: 0.8435\n",
      "Epoch 15/20\n",
      " - 9s - loss: 0.7643 - acc: 0.8324 - val_loss: 0.7146 - val_acc: 0.8435\n",
      "Epoch 16/20\n",
      " - 8s - loss: 0.7622 - acc: 0.8307 - val_loss: 0.7507 - val_acc: 0.8304\n",
      "Epoch 17/20\n",
      " - 8s - loss: 0.7907 - acc: 0.8312 - val_loss: 0.7490 - val_acc: 0.8395\n",
      "Epoch 18/20\n",
      " - 8s - loss: 0.7954 - acc: 0.8319 - val_loss: 0.7674 - val_acc: 0.8515\n",
      "Epoch 19/20\n",
      " - 8s - loss: 0.8357 - acc: 0.8282 - val_loss: 0.8203 - val_acc: 0.8368\n",
      "Epoch 20/20\n",
      " - 8s - loss: 0.8599 - acc: 0.8286 - val_loss: 0.8513 - val_acc: 0.8458\n"
     ]
    }
   ],
   "source": [
    "batch_size = 16\n",
    "nb_epoch = 20\n",
    "\n",
    "\n",
    "\n",
    "modelo = create_model()\n",
    "\n",
    "\n",
    "# tiempo inicial\n",
    "t0 = time.time()\n",
    "# Keras fit function documentation: https://keras.io/models/sequential/\n",
    "history = modelo.fit(X_train, y_train,\n",
    "                    batch_size=batch_size,\n",
    "                    epochs=nb_epoch,\n",
    "                    verbose=2,\n",
    "                    validation_data=(X_test, y_test),\n",
    "                    shuffle=True)\n",
    "tf =  time.time()"
   ]
  },
  {
   "cell_type": "markdown",
   "metadata": {
    "colab_type": "text",
    "id": "nnZLezJUYsur"
   },
   "source": [
    "#### Evaluate trained model with test data"
   ]
  },
  {
   "cell_type": "code",
   "execution_count": 29,
   "metadata": {
    "colab": {
     "base_uri": "https://localhost:8080/",
     "height": 119
    },
    "colab_type": "code",
    "id": "72Z7BCTfYsur",
    "outputId": "31f61946-581e-4f6d-850b-edd96b5daf38"
   },
   "outputs": [
    {
     "name": "stdout",
     "output_type": "stream",
     "text": [
      "10000/10000 [==============================] - 0s 22us/step\n",
      "batch_size:  16 , score:  [0.8512793355941772, 0.8458] , time_delta:  171.91267466545105\n"
     ]
    }
   ],
   "source": [
    "score = modelo.evaluate(X_test, y_test)\n",
    "time_delta = tf-t0\n",
    "exec(\"batch_size_\" + str(batch_size) + \"= batch_size\")\n",
    "exec(\"test_loss_\" + str(batch_size) + \"= score[0]\")\n",
    "exec(\"test_acc_\" + str(batch_size) + \"= score[1]\")\n",
    "exec(\"td_\" + str(batch_size) + \"= time_delta\")\n",
    "\n",
    "print(\"batch_size: \", batch_size, \", score: \", score, \", time_delta: \", time_delta)"
   ]
  },
  {
   "cell_type": "markdown",
   "metadata": {
    "colab_type": "text",
    "id": "vCjNS4dtYsui"
   },
   "source": [
    "## Batch 32"
   ]
  },
  {
   "cell_type": "code",
   "execution_count": 30,
   "metadata": {
    "colab": {
     "base_uri": "https://localhost:8080/",
     "height": 714
    },
    "colab_type": "code",
    "id": "e54cwWaGYsun",
    "outputId": "2163caa1-ad93-4a82-b51f-3c1df5a4ff25"
   },
   "outputs": [
    {
     "name": "stdout",
     "output_type": "stream",
     "text": [
      "Train on 60000 samples, validate on 10000 samples\n",
      "Epoch 1/20\n",
      " - 6s - loss: 0.5570 - acc: 0.8000 - val_loss: 0.4919 - val_acc: 0.8170\n",
      "Epoch 2/20\n",
      " - 6s - loss: 0.4413 - acc: 0.8460 - val_loss: 0.4281 - val_acc: 0.8581\n",
      "Epoch 3/20\n",
      " - 6s - loss: 0.4329 - acc: 0.8536 - val_loss: 0.4684 - val_acc: 0.8456\n",
      "Epoch 4/20\n",
      " - 6s - loss: 0.4306 - acc: 0.8579 - val_loss: 0.4455 - val_acc: 0.8530\n",
      "Epoch 5/20\n",
      " - 6s - loss: 0.4379 - acc: 0.8599 - val_loss: 0.4378 - val_acc: 0.8614\n",
      "Epoch 6/20\n",
      " - 7s - loss: 0.4411 - acc: 0.8595 - val_loss: 0.4595 - val_acc: 0.8584\n",
      "Epoch 7/20\n",
      " - 6s - loss: 0.4485 - acc: 0.8599 - val_loss: 0.4527 - val_acc: 0.8628\n",
      "Epoch 8/20\n",
      " - 8s - loss: 0.4427 - acc: 0.8621 - val_loss: 0.4402 - val_acc: 0.8647\n",
      "Epoch 9/20\n",
      " - 7s - loss: 0.4556 - acc: 0.8623 - val_loss: 0.4638 - val_acc: 0.8546\n",
      "Epoch 10/20\n",
      " - 7s - loss: 0.4607 - acc: 0.8609 - val_loss: 0.5287 - val_acc: 0.8497\n",
      "Epoch 11/20\n",
      " - 6s - loss: 0.4756 - acc: 0.8577 - val_loss: 0.4700 - val_acc: 0.8625\n",
      "Epoch 12/20\n",
      " - 6s - loss: 0.4690 - acc: 0.8610 - val_loss: 0.4877 - val_acc: 0.8660\n",
      "Epoch 13/20\n",
      " - 6s - loss: 0.4800 - acc: 0.8604 - val_loss: 0.5001 - val_acc: 0.8642\n",
      "Epoch 14/20\n",
      " - 6s - loss: 0.4862 - acc: 0.8621 - val_loss: 0.5466 - val_acc: 0.8451\n",
      "Epoch 15/20\n",
      " - 6s - loss: 0.4787 - acc: 0.8607 - val_loss: 0.5713 - val_acc: 0.8646\n",
      "Epoch 16/20\n",
      " - 6s - loss: 0.4988 - acc: 0.8595 - val_loss: 0.5336 - val_acc: 0.8653\n",
      "Epoch 17/20\n",
      " - 6s - loss: 0.4955 - acc: 0.8603 - val_loss: 0.5037 - val_acc: 0.8594\n",
      "Epoch 18/20\n",
      " - 6s - loss: 0.4895 - acc: 0.8612 - val_loss: 0.5434 - val_acc: 0.8599\n",
      "Epoch 19/20\n",
      " - 6s - loss: 0.5022 - acc: 0.8588 - val_loss: 0.5411 - val_acc: 0.8640\n",
      "Epoch 20/20\n",
      " - 6s - loss: 0.5115 - acc: 0.8605 - val_loss: 0.5091 - val_acc: 0.8667\n"
     ]
    }
   ],
   "source": [
    "batch_size = 32\n",
    "nb_epoch = 20\n",
    "\n",
    "\n",
    "\n",
    "modelo = create_model()\n",
    "\n",
    "\n",
    "# tiempo inicial\n",
    "t0 = time.time()\n",
    "# Keras fit function documentation: https://keras.io/models/sequential/\n",
    "history = modelo.fit(X_train, y_train,\n",
    "                    batch_size=batch_size,\n",
    "                    epochs=nb_epoch,\n",
    "                    verbose=2,\n",
    "                    validation_data=(X_test, y_test),\n",
    "                    shuffle=True)\n",
    "tf =  time.time()"
   ]
  },
  {
   "cell_type": "markdown",
   "metadata": {
    "colab_type": "text",
    "id": "nnZLezJUYsur"
   },
   "source": [
    "#### Evaluate trained model with test data"
   ]
  },
  {
   "cell_type": "code",
   "execution_count": 31,
   "metadata": {
    "colab": {
     "base_uri": "https://localhost:8080/",
     "height": 119
    },
    "colab_type": "code",
    "id": "72Z7BCTfYsur",
    "outputId": "31f61946-581e-4f6d-850b-edd96b5daf38"
   },
   "outputs": [
    {
     "name": "stdout",
     "output_type": "stream",
     "text": [
      "10000/10000 [==============================] - 0s 27us/step\n",
      "batch_size:  32 , score:  [0.509089030790329, 0.8667] , time_delta:  124.76237893104553\n"
     ]
    }
   ],
   "source": [
    "score = modelo.evaluate(X_test, y_test)\n",
    "time_delta = tf-t0\n",
    "exec(\"batch_size_\" + str(batch_size) + \"= batch_size\")\n",
    "exec(\"test_loss_\" + str(batch_size) + \"= score[0]\")\n",
    "exec(\"test_acc_\" + str(batch_size) + \"= score[1]\")\n",
    "exec(\"td_\" + str(batch_size) + \"= time_delta\")\n",
    "\n",
    "print(\"batch_size: \", batch_size, \", score: \", score, \", time_delta: \", time_delta)"
   ]
  },
  {
   "cell_type": "markdown",
   "metadata": {
    "colab_type": "text",
    "id": "vCjNS4dtYsui"
   },
   "source": [
    "## Batch 64"
   ]
  },
  {
   "cell_type": "code",
   "execution_count": 32,
   "metadata": {
    "colab": {
     "base_uri": "https://localhost:8080/",
     "height": 714
    },
    "colab_type": "code",
    "id": "e54cwWaGYsun",
    "outputId": "2163caa1-ad93-4a82-b51f-3c1df5a4ff25"
   },
   "outputs": [
    {
     "name": "stdout",
     "output_type": "stream",
     "text": [
      "Train on 60000 samples, validate on 10000 samples\n",
      "Epoch 1/20\n",
      " - 4s - loss: 0.5667 - acc: 0.7989 - val_loss: 0.4423 - val_acc: 0.8407\n",
      "Epoch 2/20\n",
      " - 3s - loss: 0.4216 - acc: 0.8480 - val_loss: 0.4044 - val_acc: 0.8604\n",
      "Epoch 3/20\n",
      " - 3s - loss: 0.3893 - acc: 0.8614 - val_loss: 0.4102 - val_acc: 0.8533\n",
      "Epoch 4/20\n",
      " - 3s - loss: 0.3727 - acc: 0.8669 - val_loss: 0.3786 - val_acc: 0.8684\n",
      "Epoch 5/20\n",
      " - 3s - loss: 0.3635 - acc: 0.8728 - val_loss: 0.3771 - val_acc: 0.8639\n",
      "Epoch 6/20\n",
      " - 3s - loss: 0.3596 - acc: 0.8738 - val_loss: 0.4036 - val_acc: 0.8660\n",
      "Epoch 7/20\n",
      " - 3s - loss: 0.3530 - acc: 0.8773 - val_loss: 0.3930 - val_acc: 0.8623\n",
      "Epoch 8/20\n",
      " - 3s - loss: 0.3507 - acc: 0.8783 - val_loss: 0.4075 - val_acc: 0.8701\n",
      "Epoch 9/20\n",
      " - 3s - loss: 0.3479 - acc: 0.8800 - val_loss: 0.3942 - val_acc: 0.8732\n",
      "Epoch 10/20\n",
      " - 3s - loss: 0.3483 - acc: 0.8819 - val_loss: 0.4135 - val_acc: 0.8669\n",
      "Epoch 11/20\n",
      " - 3s - loss: 0.3461 - acc: 0.8836 - val_loss: 0.3802 - val_acc: 0.8777\n",
      "Epoch 12/20\n",
      " - 3s - loss: 0.3432 - acc: 0.8842 - val_loss: 0.4026 - val_acc: 0.8778\n",
      "Epoch 13/20\n",
      " - 3s - loss: 0.3440 - acc: 0.8847 - val_loss: 0.4085 - val_acc: 0.8759\n",
      "Epoch 14/20\n",
      " - 3s - loss: 0.3411 - acc: 0.8845 - val_loss: 0.4063 - val_acc: 0.8779\n",
      "Epoch 15/20\n",
      " - 3s - loss: 0.3440 - acc: 0.8831 - val_loss: 0.4038 - val_acc: 0.8775\n",
      "Epoch 16/20\n",
      " - 3s - loss: 0.3398 - acc: 0.8864 - val_loss: 0.4271 - val_acc: 0.8769\n",
      "Epoch 17/20\n",
      " - 3s - loss: 0.3455 - acc: 0.8870 - val_loss: 0.4094 - val_acc: 0.8777\n",
      "Epoch 18/20\n",
      " - 3s - loss: 0.3455 - acc: 0.8881 - val_loss: 0.4101 - val_acc: 0.8763\n",
      "Epoch 19/20\n",
      " - 3s - loss: 0.3471 - acc: 0.8860 - val_loss: 0.4273 - val_acc: 0.8780\n",
      "Epoch 20/20\n",
      " - 3s - loss: 0.3413 - acc: 0.8878 - val_loss: 0.4621 - val_acc: 0.8745\n"
     ]
    }
   ],
   "source": [
    "batch_size = 64\n",
    "nb_epoch = 20\n",
    "\n",
    "\n",
    "\n",
    "modelo = create_model()\n",
    "\n",
    "\n",
    "# tiempo inicial\n",
    "t0 = time.time()\n",
    "# Keras fit function documentation: https://keras.io/models/sequential/\n",
    "history = modelo.fit(X_train, y_train,\n",
    "                    batch_size=batch_size,\n",
    "                    epochs=nb_epoch,\n",
    "                    verbose=2,\n",
    "                    validation_data=(X_test, y_test),\n",
    "                    shuffle=True)\n",
    "tf =  time.time()"
   ]
  },
  {
   "cell_type": "markdown",
   "metadata": {
    "colab_type": "text",
    "id": "nnZLezJUYsur"
   },
   "source": [
    "#### Evaluate trained model with test data"
   ]
  },
  {
   "cell_type": "code",
   "execution_count": 33,
   "metadata": {
    "colab": {
     "base_uri": "https://localhost:8080/",
     "height": 119
    },
    "colab_type": "code",
    "id": "72Z7BCTfYsur",
    "outputId": "31f61946-581e-4f6d-850b-edd96b5daf38"
   },
   "outputs": [
    {
     "name": "stdout",
     "output_type": "stream",
     "text": [
      "10000/10000 [==============================] - 0s 41us/step\n",
      "batch_size:  64 , score:  [0.46213337883353234, 0.8745] , time_delta:  63.111350297927856\n"
     ]
    }
   ],
   "source": [
    "score = modelo.evaluate(X_test, y_test)\n",
    "time_delta = tf-t0\n",
    "exec(\"batch_size_\" + str(batch_size) + \"= batch_size\")\n",
    "exec(\"test_loss_\" + str(batch_size) + \"= score[0]\")\n",
    "exec(\"test_acc_\" + str(batch_size) + \"= score[1]\")\n",
    "exec(\"td_\" + str(batch_size) + \"= time_delta\")\n",
    "\n",
    "print(\"batch_size: \", batch_size, \", score: \", score, \", time_delta: \", time_delta)"
   ]
  },
  {
   "cell_type": "markdown",
   "metadata": {
    "colab_type": "text",
    "id": "vCjNS4dtYsui"
   },
   "source": [
    "## Batch 128"
   ]
  },
  {
   "cell_type": "code",
   "execution_count": 34,
   "metadata": {
    "colab": {
     "base_uri": "https://localhost:8080/",
     "height": 714
    },
    "colab_type": "code",
    "id": "e54cwWaGYsun",
    "outputId": "2163caa1-ad93-4a82-b51f-3c1df5a4ff25"
   },
   "outputs": [
    {
     "name": "stdout",
     "output_type": "stream",
     "text": [
      "Train on 60000 samples, validate on 10000 samples\n",
      "Epoch 1/20\n",
      " - 2s - loss: 0.6164 - acc: 0.7786 - val_loss: 0.4559 - val_acc: 0.8399\n",
      "Epoch 2/20\n",
      " - 2s - loss: 0.4347 - acc: 0.8441 - val_loss: 0.4122 - val_acc: 0.8518\n",
      "Epoch 3/20\n",
      " - 2s - loss: 0.3887 - acc: 0.8588 - val_loss: 0.3942 - val_acc: 0.8593\n",
      "Epoch 4/20\n",
      " - 2s - loss: 0.3677 - acc: 0.8663 - val_loss: 0.4022 - val_acc: 0.8514\n",
      "Epoch 5/20\n",
      " - 2s - loss: 0.3505 - acc: 0.8734 - val_loss: 0.3757 - val_acc: 0.8642\n",
      "Epoch 6/20\n",
      " - 2s - loss: 0.3357 - acc: 0.8780 - val_loss: 0.3618 - val_acc: 0.8679\n",
      "Epoch 7/20\n",
      " - 2s - loss: 0.3257 - acc: 0.8819 - val_loss: 0.3701 - val_acc: 0.8651\n",
      "Epoch 8/20\n",
      " - 2s - loss: 0.3198 - acc: 0.8822 - val_loss: 0.3441 - val_acc: 0.8783\n",
      "Epoch 9/20\n",
      " - 2s - loss: 0.3137 - acc: 0.8853 - val_loss: 0.3666 - val_acc: 0.8749\n",
      "Epoch 10/20\n",
      " - 2s - loss: 0.3087 - acc: 0.8894 - val_loss: 0.3532 - val_acc: 0.8761\n",
      "Epoch 11/20\n",
      " - 2s - loss: 0.2977 - acc: 0.8914 - val_loss: 0.3509 - val_acc: 0.8811\n",
      "Epoch 12/20\n",
      " - 2s - loss: 0.2950 - acc: 0.8921 - val_loss: 0.3403 - val_acc: 0.8810\n",
      "Epoch 13/20\n",
      " - 2s - loss: 0.2937 - acc: 0.8935 - val_loss: 0.3655 - val_acc: 0.8747\n",
      "Epoch 14/20\n",
      " - 2s - loss: 0.2859 - acc: 0.8958 - val_loss: 0.3289 - val_acc: 0.8889\n",
      "Epoch 15/20\n",
      " - 2s - loss: 0.2845 - acc: 0.8970 - val_loss: 0.3417 - val_acc: 0.8842\n",
      "Epoch 16/20\n",
      " - 2s - loss: 0.2790 - acc: 0.8971 - val_loss: 0.3513 - val_acc: 0.8817\n",
      "Epoch 17/20\n",
      " - 2s - loss: 0.2774 - acc: 0.8988 - val_loss: 0.3667 - val_acc: 0.8754\n",
      "Epoch 18/20\n",
      " - 2s - loss: 0.2758 - acc: 0.9011 - val_loss: 0.3517 - val_acc: 0.8881\n",
      "Epoch 19/20\n",
      " - 2s - loss: 0.2692 - acc: 0.9015 - val_loss: 0.3465 - val_acc: 0.8863\n",
      "Epoch 20/20\n",
      " - 2s - loss: 0.2654 - acc: 0.9027 - val_loss: 0.3642 - val_acc: 0.8806\n"
     ]
    }
   ],
   "source": [
    "batch_size = 128\n",
    "nb_epoch = 20\n",
    "\n",
    "\n",
    "\n",
    "modelo = create_model()\n",
    "\n",
    "\n",
    "# tiempo inicial\n",
    "t0 = time.time()\n",
    "# Keras fit function documentation: https://keras.io/models/sequential/\n",
    "history = modelo.fit(X_train, y_train,\n",
    "                    batch_size=batch_size,\n",
    "                    epochs=nb_epoch,\n",
    "                    verbose=2,\n",
    "                    validation_data=(X_test, y_test),\n",
    "                    shuffle=True)\n",
    "tf =  time.time()"
   ]
  },
  {
   "cell_type": "markdown",
   "metadata": {
    "colab_type": "text",
    "id": "nnZLezJUYsur"
   },
   "source": [
    "#### Evaluate trained model with test data"
   ]
  },
  {
   "cell_type": "code",
   "execution_count": 35,
   "metadata": {
    "colab": {
     "base_uri": "https://localhost:8080/",
     "height": 119
    },
    "colab_type": "code",
    "id": "72Z7BCTfYsur",
    "outputId": "31f61946-581e-4f6d-850b-edd96b5daf38"
   },
   "outputs": [
    {
     "name": "stdout",
     "output_type": "stream",
     "text": [
      "10000/10000 [==============================] - 0s 27us/step\n",
      "batch_size:  128 , score:  [0.36420524225234985, 0.8806] , time_delta:  38.04335880279541\n"
     ]
    }
   ],
   "source": [
    "score = modelo.evaluate(X_test, y_test)\n",
    "time_delta = tf-t0\n",
    "exec(\"batch_size_\" + str(batch_size) + \"= batch_size\")\n",
    "exec(\"test_loss_\" + str(batch_size) + \"= score[0]\")\n",
    "exec(\"test_acc_\" + str(batch_size) + \"= score[1]\")\n",
    "exec(\"td_\" + str(batch_size) + \"= time_delta\")\n",
    "\n",
    "print(\"batch_size: \", batch_size, \", score: \", score, \", time_delta: \", time_delta)"
   ]
  },
  {
   "cell_type": "markdown",
   "metadata": {
    "colab_type": "text",
    "id": "vCjNS4dtYsui"
   },
   "source": [
    "## Batch 256"
   ]
  },
  {
   "cell_type": "code",
   "execution_count": 36,
   "metadata": {
    "colab": {
     "base_uri": "https://localhost:8080/",
     "height": 714
    },
    "colab_type": "code",
    "id": "e54cwWaGYsun",
    "outputId": "2163caa1-ad93-4a82-b51f-3c1df5a4ff25"
   },
   "outputs": [
    {
     "name": "stdout",
     "output_type": "stream",
     "text": [
      "Train on 60000 samples, validate on 10000 samples\n",
      "Epoch 1/20\n",
      " - 2s - loss: 0.6879 - acc: 0.7567 - val_loss: 0.5438 - val_acc: 0.7958\n",
      "Epoch 2/20\n",
      " - 1s - loss: 0.4566 - acc: 0.8350 - val_loss: 0.5291 - val_acc: 0.8154\n",
      "Epoch 3/20\n",
      " - 1s - loss: 0.4066 - acc: 0.8525 - val_loss: 0.3955 - val_acc: 0.8573\n",
      "Epoch 4/20\n",
      " - 1s - loss: 0.3790 - acc: 0.8627 - val_loss: 0.4055 - val_acc: 0.8529\n",
      "Epoch 5/20\n",
      " - 1s - loss: 0.3596 - acc: 0.8696 - val_loss: 0.3815 - val_acc: 0.8639\n",
      "Epoch 6/20\n",
      " - 1s - loss: 0.3443 - acc: 0.8741 - val_loss: 0.3561 - val_acc: 0.8720\n",
      "Epoch 7/20\n",
      " - 1s - loss: 0.3307 - acc: 0.8792 - val_loss: 0.3850 - val_acc: 0.8612\n",
      "Epoch 8/20\n",
      " - 1s - loss: 0.3215 - acc: 0.8815 - val_loss: 0.3639 - val_acc: 0.8685\n",
      "Epoch 9/20\n",
      " - 1s - loss: 0.3109 - acc: 0.8864 - val_loss: 0.3944 - val_acc: 0.8559\n",
      "Epoch 10/20\n",
      " - 1s - loss: 0.3059 - acc: 0.8869 - val_loss: 0.3708 - val_acc: 0.8676\n",
      "Epoch 11/20\n",
      " - 1s - loss: 0.2996 - acc: 0.8892 - val_loss: 0.3395 - val_acc: 0.8791\n",
      "Epoch 12/20\n",
      " - 2s - loss: 0.2905 - acc: 0.8922 - val_loss: 0.3572 - val_acc: 0.8718\n",
      "Epoch 13/20\n",
      " - 2s - loss: 0.2865 - acc: 0.8935 - val_loss: 0.3446 - val_acc: 0.8770\n",
      "Epoch 14/20\n",
      " - 2s - loss: 0.2827 - acc: 0.8952 - val_loss: 0.3650 - val_acc: 0.8714\n",
      "Epoch 15/20\n",
      " - 2s - loss: 0.2749 - acc: 0.8983 - val_loss: 0.3590 - val_acc: 0.8761\n",
      "Epoch 16/20\n",
      " - 2s - loss: 0.2723 - acc: 0.8997 - val_loss: 0.3432 - val_acc: 0.8822\n",
      "Epoch 17/20\n",
      " - 1s - loss: 0.2648 - acc: 0.9015 - val_loss: 0.3802 - val_acc: 0.8720\n",
      "Epoch 18/20\n",
      " - 1s - loss: 0.2633 - acc: 0.9014 - val_loss: 0.3752 - val_acc: 0.8794\n",
      "Epoch 19/20\n",
      " - 1s - loss: 0.2608 - acc: 0.9023 - val_loss: 0.3465 - val_acc: 0.8839\n",
      "Epoch 20/20\n",
      " - 2s - loss: 0.2575 - acc: 0.9043 - val_loss: 0.3374 - val_acc: 0.8858\n"
     ]
    }
   ],
   "source": [
    "batch_size = 256\n",
    "nb_epoch = 20\n",
    "\n",
    "\n",
    "\n",
    "modelo = create_model()\n",
    "\n",
    "\n",
    "# tiempo inicial\n",
    "t0 = time.time()\n",
    "# Keras fit function documentation: https://keras.io/models/sequential/\n",
    "history = modelo.fit(X_train, y_train,\n",
    "                    batch_size=batch_size,\n",
    "                    epochs=nb_epoch,\n",
    "                    verbose=2,\n",
    "                    validation_data=(X_test, y_test),\n",
    "                    shuffle=True)\n",
    "tf =  time.time()"
   ]
  },
  {
   "cell_type": "markdown",
   "metadata": {
    "colab_type": "text",
    "id": "nnZLezJUYsur"
   },
   "source": [
    "#### Evaluate trained model with test data"
   ]
  },
  {
   "cell_type": "code",
   "execution_count": 37,
   "metadata": {
    "colab": {
     "base_uri": "https://localhost:8080/",
     "height": 119
    },
    "colab_type": "code",
    "id": "72Z7BCTfYsur",
    "outputId": "31f61946-581e-4f6d-850b-edd96b5daf38"
   },
   "outputs": [
    {
     "name": "stdout",
     "output_type": "stream",
     "text": [
      "10000/10000 [==============================] - 0s 30us/step\n",
      "batch_size:  256 , score:  [0.337424672794342, 0.8858] , time_delta:  31.423646926879883\n"
     ]
    }
   ],
   "source": [
    "score = modelo.evaluate(X_test, y_test)\n",
    "time_delta = tf-t0\n",
    "exec(\"batch_size_\" + str(batch_size) + \"= batch_size\")\n",
    "exec(\"test_loss_\" + str(batch_size) + \"= score[0]\")\n",
    "exec(\"test_acc_\" + str(batch_size) + \"= score[1]\")\n",
    "exec(\"td_\" + str(batch_size) + \"= time_delta\")\n",
    "\n",
    "print(\"batch_size: \", batch_size, \", score: \", score, \", time_delta: \", time_delta)"
   ]
  },
  {
   "cell_type": "markdown",
   "metadata": {
    "colab_type": "text",
    "id": "vCjNS4dtYsui"
   },
   "source": [
    "## Batch 512"
   ]
  },
  {
   "cell_type": "code",
   "execution_count": 38,
   "metadata": {
    "colab": {
     "base_uri": "https://localhost:8080/",
     "height": 714
    },
    "colab_type": "code",
    "id": "e54cwWaGYsun",
    "outputId": "2163caa1-ad93-4a82-b51f-3c1df5a4ff25"
   },
   "outputs": [
    {
     "name": "stdout",
     "output_type": "stream",
     "text": [
      "Train on 60000 samples, validate on 10000 samples\n",
      "Epoch 1/20\n",
      " - 2s - loss: 0.7836 - acc: 0.7203 - val_loss: 0.6316 - val_acc: 0.7522\n",
      "Epoch 2/20\n",
      " - 2s - loss: 0.5055 - acc: 0.8185 - val_loss: 0.4597 - val_acc: 0.8325\n",
      "Epoch 3/20\n",
      " - 1s - loss: 0.4405 - acc: 0.8407 - val_loss: 0.4580 - val_acc: 0.8297\n",
      "Epoch 4/20\n",
      " - 1s - loss: 0.4065 - acc: 0.8526 - val_loss: 0.4431 - val_acc: 0.8393\n",
      "Epoch 5/20\n",
      " - 1s - loss: 0.3842 - acc: 0.8608 - val_loss: 0.4163 - val_acc: 0.8500\n",
      "Epoch 6/20\n",
      " - 1s - loss: 0.3680 - acc: 0.8645 - val_loss: 0.4882 - val_acc: 0.8255\n",
      "Epoch 7/20\n",
      " - 1s - loss: 0.3560 - acc: 0.8711 - val_loss: 0.3654 - val_acc: 0.8689\n",
      "Epoch 8/20\n",
      " - 1s - loss: 0.3418 - acc: 0.8744 - val_loss: 0.3931 - val_acc: 0.8578\n",
      "Epoch 9/20\n",
      " - 1s - loss: 0.3332 - acc: 0.8786 - val_loss: 0.3883 - val_acc: 0.8583\n",
      "Epoch 10/20\n",
      " - 1s - loss: 0.3223 - acc: 0.8806 - val_loss: 0.3742 - val_acc: 0.8639\n",
      "Epoch 11/20\n",
      " - 1s - loss: 0.3150 - acc: 0.8837 - val_loss: 0.3824 - val_acc: 0.8573\n",
      "Epoch 12/20\n",
      " - 1s - loss: 0.3079 - acc: 0.8856 - val_loss: 0.3871 - val_acc: 0.8638\n",
      "Epoch 13/20\n",
      " - 1s - loss: 0.3032 - acc: 0.8875 - val_loss: 0.3801 - val_acc: 0.8618\n",
      "Epoch 14/20\n",
      " - 1s - loss: 0.2942 - acc: 0.8889 - val_loss: 0.3870 - val_acc: 0.8623\n",
      "Epoch 15/20\n",
      " - 1s - loss: 0.2926 - acc: 0.8922 - val_loss: 0.3999 - val_acc: 0.8544\n",
      "Epoch 16/20\n",
      " - 1s - loss: 0.2861 - acc: 0.8935 - val_loss: 0.3917 - val_acc: 0.8595\n",
      "Epoch 17/20\n",
      " - 1s - loss: 0.2815 - acc: 0.8946 - val_loss: 0.3695 - val_acc: 0.8747\n",
      "Epoch 18/20\n",
      " - 1s - loss: 0.2764 - acc: 0.8972 - val_loss: 0.3446 - val_acc: 0.8783\n",
      "Epoch 19/20\n",
      " - 1s - loss: 0.2723 - acc: 0.8998 - val_loss: 0.3554 - val_acc: 0.8695\n",
      "Epoch 20/20\n",
      " - 1s - loss: 0.2681 - acc: 0.8993 - val_loss: 0.3699 - val_acc: 0.8720\n"
     ]
    }
   ],
   "source": [
    "batch_size = 512\n",
    "nb_epoch = 20\n",
    "\n",
    "\n",
    "\n",
    "modelo = create_model()\n",
    "\n",
    "\n",
    "# tiempo inicial\n",
    "t0 = time.time()\n",
    "# Keras fit function documentation: https://keras.io/models/sequential/\n",
    "history = modelo.fit(X_train, y_train,\n",
    "                    batch_size=batch_size,\n",
    "                    epochs=nb_epoch,\n",
    "                    verbose=2,\n",
    "                    validation_data=(X_test, y_test),\n",
    "                    shuffle=True)\n",
    "tf =  time.time()"
   ]
  },
  {
   "cell_type": "markdown",
   "metadata": {
    "colab_type": "text",
    "id": "nnZLezJUYsur"
   },
   "source": [
    "#### Evaluate trained model with test data"
   ]
  },
  {
   "cell_type": "code",
   "execution_count": 39,
   "metadata": {
    "colab": {
     "base_uri": "https://localhost:8080/",
     "height": 119
    },
    "colab_type": "code",
    "id": "72Z7BCTfYsur",
    "outputId": "31f61946-581e-4f6d-850b-edd96b5daf38"
   },
   "outputs": [
    {
     "name": "stdout",
     "output_type": "stream",
     "text": [
      "10000/10000 [==============================] - 0s 35us/step\n",
      "batch_size:  512 , score:  [0.36985792779922483, 0.872] , time_delta:  28.654109716415405\n"
     ]
    }
   ],
   "source": [
    "score = modelo.evaluate(X_test, y_test)\n",
    "time_delta = tf-t0\n",
    "exec(\"batch_size_\" + str(batch_size) + \"= batch_size\")\n",
    "exec(\"test_loss_\" + str(batch_size) + \"= score[0]\")\n",
    "exec(\"test_acc_\" + str(batch_size) + \"= score[1]\")\n",
    "exec(\"td_\" + str(batch_size) + \"= time_delta\")\n",
    "\n",
    "print(\"batch_size: \", batch_size, \", score: \", score, \", time_delta: \", time_delta)"
   ]
  },
  {
   "cell_type": "markdown",
   "metadata": {
    "colab_type": "text",
    "id": "vCjNS4dtYsui"
   },
   "source": [
    "## Batch 1024"
   ]
  },
  {
   "cell_type": "code",
   "execution_count": 40,
   "metadata": {
    "colab": {
     "base_uri": "https://localhost:8080/",
     "height": 714
    },
    "colab_type": "code",
    "id": "e54cwWaGYsun",
    "outputId": "2163caa1-ad93-4a82-b51f-3c1df5a4ff25"
   },
   "outputs": [
    {
     "name": "stdout",
     "output_type": "stream",
     "text": [
      "Train on 60000 samples, validate on 10000 samples\n",
      "Epoch 1/20\n",
      " - 2s - loss: 0.9499 - acc: 0.6666 - val_loss: 0.6344 - val_acc: 0.7532\n",
      "Epoch 2/20\n",
      " - 1s - loss: 0.5870 - acc: 0.7914 - val_loss: 0.5328 - val_acc: 0.8007\n",
      "Epoch 3/20\n",
      " - 1s - loss: 0.5039 - acc: 0.8205 - val_loss: 0.5104 - val_acc: 0.8134\n",
      "Epoch 4/20\n",
      " - 1s - loss: 0.4601 - acc: 0.8346 - val_loss: 0.4386 - val_acc: 0.8453\n",
      "Epoch 5/20\n",
      " - 1s - loss: 0.4283 - acc: 0.8438 - val_loss: 0.4259 - val_acc: 0.8468\n",
      "Epoch 6/20\n",
      " - 1s - loss: 0.4046 - acc: 0.8526 - val_loss: 0.4305 - val_acc: 0.8419\n",
      "Epoch 7/20\n",
      " - 1s - loss: 0.3891 - acc: 0.8573 - val_loss: 0.3790 - val_acc: 0.8626\n",
      "Epoch 8/20\n",
      " - 2s - loss: 0.3782 - acc: 0.8607 - val_loss: 0.3766 - val_acc: 0.8644\n",
      "Epoch 9/20\n",
      " - 1s - loss: 0.3667 - acc: 0.8657 - val_loss: 0.3903 - val_acc: 0.8582\n",
      "Epoch 10/20\n",
      " - 2s - loss: 0.3550 - acc: 0.8698 - val_loss: 0.3842 - val_acc: 0.8596\n",
      "Epoch 11/20\n",
      " - 1s - loss: 0.3474 - acc: 0.8717 - val_loss: 0.3719 - val_acc: 0.8699\n",
      "Epoch 12/20\n",
      " - 1s - loss: 0.3400 - acc: 0.8733 - val_loss: 0.3565 - val_acc: 0.8763\n",
      "Epoch 13/20\n",
      " - 1s - loss: 0.3319 - acc: 0.8774 - val_loss: 0.3777 - val_acc: 0.8654\n",
      "Epoch 14/20\n",
      " - 1s - loss: 0.3251 - acc: 0.8802 - val_loss: 0.3585 - val_acc: 0.8668\n",
      "Epoch 15/20\n",
      " - 1s - loss: 0.3178 - acc: 0.8836 - val_loss: 0.3550 - val_acc: 0.8716\n",
      "Epoch 16/20\n",
      " - 1s - loss: 0.3122 - acc: 0.8841 - val_loss: 0.3541 - val_acc: 0.8753\n",
      "Epoch 17/20\n",
      " - 1s - loss: 0.3098 - acc: 0.8861 - val_loss: 0.3690 - val_acc: 0.8695\n",
      "Epoch 18/20\n",
      " - 1s - loss: 0.3026 - acc: 0.8889 - val_loss: 0.3451 - val_acc: 0.8723\n",
      "Epoch 19/20\n",
      " - 1s - loss: 0.3007 - acc: 0.8882 - val_loss: 0.3348 - val_acc: 0.8811\n",
      "Epoch 20/20\n",
      " - 1s - loss: 0.2923 - acc: 0.8908 - val_loss: 0.3497 - val_acc: 0.8727\n"
     ]
    }
   ],
   "source": [
    "batch_size = 1024\n",
    "nb_epoch = 20\n",
    "\n",
    "\n",
    "\n",
    "modelo = create_model()\n",
    "\n",
    "\n",
    "# tiempo inicial\n",
    "t0 = time.time()\n",
    "# Keras fit function documentation: https://keras.io/models/sequential/\n",
    "history = modelo.fit(X_train, y_train,\n",
    "                    batch_size=batch_size,\n",
    "                    epochs=nb_epoch,\n",
    "                    verbose=2,\n",
    "                    validation_data=(X_test, y_test),\n",
    "                    shuffle=True)\n",
    "tf =  time.time()"
   ]
  },
  {
   "cell_type": "markdown",
   "metadata": {
    "colab_type": "text",
    "id": "nnZLezJUYsur"
   },
   "source": [
    "#### Evaluate trained model with test data"
   ]
  },
  {
   "cell_type": "code",
   "execution_count": 41,
   "metadata": {
    "colab": {
     "base_uri": "https://localhost:8080/",
     "height": 119
    },
    "colab_type": "code",
    "id": "72Z7BCTfYsur",
    "outputId": "31f61946-581e-4f6d-850b-edd96b5daf38"
   },
   "outputs": [
    {
     "name": "stdout",
     "output_type": "stream",
     "text": [
      "10000/10000 [==============================] - 0s 35us/step\n",
      "batch_size:  1024 , score:  [0.3496745028197765, 0.8727] , time_delta:  27.752695322036743\n"
     ]
    }
   ],
   "source": [
    "score = modelo.evaluate(X_test, y_test)\n",
    "time_delta = tf-t0\n",
    "exec(\"batch_size_\" + str(batch_size) + \"= batch_size\")\n",
    "exec(\"test_loss_\" + str(batch_size) + \"= score[0]\")\n",
    "exec(\"test_acc_\" + str(batch_size) + \"= score[1]\")\n",
    "exec(\"td_\" + str(batch_size) + \"= time_delta\")\n",
    "\n",
    "print(\"batch_size: \", batch_size, \", score: \", score, \", time_delta: \", time_delta)"
   ]
  },
  {
   "cell_type": "markdown",
   "metadata": {
    "colab_type": "text",
    "id": "vCjNS4dtYsui"
   },
   "source": [
    "## Batch 2048"
   ]
  },
  {
   "cell_type": "code",
   "execution_count": 42,
   "metadata": {
    "colab": {
     "base_uri": "https://localhost:8080/",
     "height": 714
    },
    "colab_type": "code",
    "id": "e54cwWaGYsun",
    "outputId": "2163caa1-ad93-4a82-b51f-3c1df5a4ff25"
   },
   "outputs": [
    {
     "name": "stdout",
     "output_type": "stream",
     "text": [
      "Train on 60000 samples, validate on 10000 samples\n",
      "Epoch 1/20\n",
      " - 2s - loss: 1.1801 - acc: 0.5962 - val_loss: 0.7110 - val_acc: 0.7426\n",
      "Epoch 2/20\n",
      " - 1s - loss: 0.7177 - acc: 0.7455 - val_loss: 0.6203 - val_acc: 0.7821\n",
      "Epoch 3/20\n",
      " - 1s - loss: 0.6116 - acc: 0.7827 - val_loss: 0.5674 - val_acc: 0.7913\n",
      "Epoch 4/20\n",
      " - 1s - loss: 0.5500 - acc: 0.8049 - val_loss: 0.5412 - val_acc: 0.8040\n",
      "Epoch 5/20\n",
      " - 1s - loss: 0.5091 - acc: 0.8168 - val_loss: 0.4789 - val_acc: 0.8316\n",
      "Epoch 6/20\n",
      " - 1s - loss: 0.4822 - acc: 0.8274 - val_loss: 0.4945 - val_acc: 0.8157\n",
      "Epoch 7/20\n",
      " - 1s - loss: 0.4580 - acc: 0.8336 - val_loss: 0.4557 - val_acc: 0.8303\n",
      "Epoch 8/20\n",
      " - 1s - loss: 0.4372 - acc: 0.8424 - val_loss: 0.4528 - val_acc: 0.8361\n",
      "Epoch 9/20\n",
      " - 1s - loss: 0.4284 - acc: 0.8427 - val_loss: 0.4777 - val_acc: 0.8244\n",
      "Epoch 10/20\n",
      " - 1s - loss: 0.4109 - acc: 0.8509 - val_loss: 0.4334 - val_acc: 0.8469\n",
      "Epoch 11/20\n",
      " - 1s - loss: 0.4052 - acc: 0.8523 - val_loss: 0.4044 - val_acc: 0.8544\n",
      "Epoch 12/20\n",
      " - 1s - loss: 0.3895 - acc: 0.8585 - val_loss: 0.3951 - val_acc: 0.8586\n",
      "Epoch 13/20\n",
      " - 1s - loss: 0.3827 - acc: 0.8596 - val_loss: 0.3866 - val_acc: 0.8605\n",
      "Epoch 14/20\n",
      " - 1s - loss: 0.3751 - acc: 0.8638 - val_loss: 0.4335 - val_acc: 0.8460\n",
      "Epoch 15/20\n",
      " - 1s - loss: 0.3679 - acc: 0.8652 - val_loss: 0.3682 - val_acc: 0.8693\n",
      "Epoch 16/20\n",
      " - 1s - loss: 0.3568 - acc: 0.8698 - val_loss: 0.4041 - val_acc: 0.8527\n",
      "Epoch 17/20\n",
      " - 1s - loss: 0.3547 - acc: 0.8704 - val_loss: 0.3989 - val_acc: 0.8589\n",
      "Epoch 18/20\n",
      " - 1s - loss: 0.3490 - acc: 0.8711 - val_loss: 0.3845 - val_acc: 0.8599\n",
      "Epoch 19/20\n",
      " - 1s - loss: 0.3439 - acc: 0.8745 - val_loss: 0.3677 - val_acc: 0.8646\n",
      "Epoch 20/20\n",
      " - 1s - loss: 0.3401 - acc: 0.8758 - val_loss: 0.3608 - val_acc: 0.8722\n"
     ]
    }
   ],
   "source": [
    "batch_size = 2048\n",
    "nb_epoch = 20\n",
    "\n",
    "\n",
    "\n",
    "modelo = create_model()\n",
    "\n",
    "\n",
    "# tiempo inicial\n",
    "t0 = time.time()\n",
    "# Keras fit function documentation: https://keras.io/models/sequential/\n",
    "history = modelo.fit(X_train, y_train,\n",
    "                    batch_size=batch_size,\n",
    "                    epochs=nb_epoch,\n",
    "                    verbose=2,\n",
    "                    validation_data=(X_test, y_test),\n",
    "                    shuffle=True)\n",
    "tf =  time.time()"
   ]
  },
  {
   "cell_type": "markdown",
   "metadata": {
    "colab_type": "text",
    "id": "nnZLezJUYsur"
   },
   "source": [
    "#### Evaluate trained model with test data"
   ]
  },
  {
   "cell_type": "code",
   "execution_count": 43,
   "metadata": {
    "colab": {
     "base_uri": "https://localhost:8080/",
     "height": 119
    },
    "colab_type": "code",
    "id": "72Z7BCTfYsur",
    "outputId": "31f61946-581e-4f6d-850b-edd96b5daf38"
   },
   "outputs": [
    {
     "name": "stdout",
     "output_type": "stream",
     "text": [
      "10000/10000 [==============================] - 0s 27us/step\n",
      "batch_size:  2048 , score:  [0.36075781908035276, 0.8722] , time_delta:  25.305889129638672\n"
     ]
    }
   ],
   "source": [
    "score = modelo.evaluate(X_test, y_test)\n",
    "time_delta = tf-t0\n",
    "exec(\"batch_size_\" + str(batch_size) + \"= batch_size\")\n",
    "exec(\"test_loss_\" + str(batch_size) + \"= score[0]\")\n",
    "exec(\"test_acc_\" + str(batch_size) + \"= score[1]\")\n",
    "exec(\"td_\" + str(batch_size) + \"= time_delta\")\n",
    "\n",
    "print(\"batch_size: \", batch_size, \", score: \", score, \", time_delta: \", time_delta)"
   ]
  },
  {
   "cell_type": "markdown",
   "metadata": {
    "colab_type": "text",
    "id": "vCjNS4dtYsui"
   },
   "source": [
    "## Batch 4096"
   ]
  },
  {
   "cell_type": "code",
   "execution_count": 44,
   "metadata": {
    "colab": {
     "base_uri": "https://localhost:8080/",
     "height": 714
    },
    "colab_type": "code",
    "id": "e54cwWaGYsun",
    "outputId": "2163caa1-ad93-4a82-b51f-3c1df5a4ff25"
   },
   "outputs": [
    {
     "name": "stdout",
     "output_type": "stream",
     "text": [
      "Train on 60000 samples, validate on 10000 samples\n",
      "Epoch 1/20\n",
      " - 2s - loss: 1.3982 - acc: 0.5182 - val_loss: 0.8884 - val_acc: 0.6815\n",
      "Epoch 2/20\n",
      " - 1s - loss: 0.8626 - acc: 0.6949 - val_loss: 0.7078 - val_acc: 0.7494\n",
      "Epoch 3/20\n",
      " - 1s - loss: 0.7375 - acc: 0.7364 - val_loss: 0.6232 - val_acc: 0.7881\n",
      "Epoch 4/20\n",
      " - 1s - loss: 0.6602 - acc: 0.7633 - val_loss: 0.5753 - val_acc: 0.7951\n",
      "Epoch 5/20\n",
      " - 1s - loss: 0.6062 - acc: 0.7821 - val_loss: 0.5780 - val_acc: 0.7897\n",
      "Epoch 6/20\n",
      " - 1s - loss: 0.5747 - acc: 0.7949 - val_loss: 0.5451 - val_acc: 0.8055\n",
      "Epoch 7/20\n",
      " - 1s - loss: 0.5428 - acc: 0.8055 - val_loss: 0.5307 - val_acc: 0.8067\n",
      "Epoch 8/20\n",
      " - 1s - loss: 0.5207 - acc: 0.8128 - val_loss: 0.4772 - val_acc: 0.8246\n",
      "Epoch 9/20\n",
      " - 1s - loss: 0.5001 - acc: 0.8217 - val_loss: 0.5125 - val_acc: 0.8043\n",
      "Epoch 10/20\n",
      " - 1s - loss: 0.4833 - acc: 0.8254 - val_loss: 0.4598 - val_acc: 0.8408\n",
      "Epoch 11/20\n",
      " - 1s - loss: 0.4686 - acc: 0.8320 - val_loss: 0.4753 - val_acc: 0.8202\n",
      "Epoch 12/20\n",
      " - 1s - loss: 0.4518 - acc: 0.8376 - val_loss: 0.4331 - val_acc: 0.8435\n",
      "Epoch 13/20\n",
      " - 1s - loss: 0.4436 - acc: 0.8379 - val_loss: 0.4471 - val_acc: 0.8371\n",
      "Epoch 14/20\n",
      " - 1s - loss: 0.4332 - acc: 0.8423 - val_loss: 0.4623 - val_acc: 0.8298\n",
      "Epoch 15/20\n",
      " - 1s - loss: 0.4287 - acc: 0.8440 - val_loss: 0.4408 - val_acc: 0.8374\n",
      "Epoch 16/20\n",
      " - 1s - loss: 0.4128 - acc: 0.8487 - val_loss: 0.4270 - val_acc: 0.8455\n",
      "Epoch 17/20\n",
      " - 1s - loss: 0.4137 - acc: 0.8485 - val_loss: 0.4205 - val_acc: 0.8476\n",
      "Epoch 18/20\n",
      " - 1s - loss: 0.4044 - acc: 0.8523 - val_loss: 0.4446 - val_acc: 0.8384\n",
      "Epoch 19/20\n",
      " - 1s - loss: 0.3923 - acc: 0.8571 - val_loss: 0.4291 - val_acc: 0.8446\n",
      "Epoch 20/20\n",
      " - 1s - loss: 0.3926 - acc: 0.8556 - val_loss: 0.4187 - val_acc: 0.8474\n"
     ]
    }
   ],
   "source": [
    "batch_size = 4096\n",
    "nb_epoch = 20\n",
    "\n",
    "\n",
    "\n",
    "modelo = create_model()\n",
    "\n",
    "\n",
    "# tiempo inicial\n",
    "t0 = time.time()\n",
    "# Keras fit function documentation: https://keras.io/models/sequential/\n",
    "history = modelo.fit(X_train, y_train,\n",
    "                    batch_size=batch_size,\n",
    "                    epochs=nb_epoch,\n",
    "                    verbose=2,\n",
    "                    validation_data=(X_test, y_test),\n",
    "                    shuffle=True)\n",
    "tf =  time.time()"
   ]
  },
  {
   "cell_type": "markdown",
   "metadata": {
    "colab_type": "text",
    "id": "nnZLezJUYsur"
   },
   "source": [
    "#### Evaluate trained model with test data"
   ]
  },
  {
   "cell_type": "code",
   "execution_count": 45,
   "metadata": {
    "colab": {
     "base_uri": "https://localhost:8080/",
     "height": 119
    },
    "colab_type": "code",
    "id": "72Z7BCTfYsur",
    "outputId": "31f61946-581e-4f6d-850b-edd96b5daf38"
   },
   "outputs": [
    {
     "name": "stdout",
     "output_type": "stream",
     "text": [
      "10000/10000 [==============================] - 0s 29us/step\n",
      "batch_size:  4096 , score:  [0.4187217040061951, 0.8474] , time_delta:  23.777918100357056\n"
     ]
    }
   ],
   "source": [
    "score = modelo.evaluate(X_test, y_test)\n",
    "time_delta = tf-t0\n",
    "exec(\"batch_size_\" + str(batch_size) + \"= batch_size\")\n",
    "exec(\"test_loss_\" + str(batch_size) + \"= score[0]\")\n",
    "exec(\"test_acc_\" + str(batch_size) + \"= score[1]\")\n",
    "exec(\"td_\" + str(batch_size) + \"= time_delta\")\n",
    "\n",
    "print(\"batch_size: \", batch_size, \", score: \", score, \", time_delta: \", time_delta)"
   ]
  },
  {
   "cell_type": "code",
   "execution_count": 46,
   "metadata": {},
   "outputs": [],
   "source": [
    "batch_size_list = [batch_size_8, batch_size_16, batch_size_32, batch_size_64, batch_size_128, batch_size_256, batch_size_512, batch_size_1024, batch_size_2048, batch_size_4096]\n",
    "test_loss_list = [test_loss_8, test_loss_16, test_loss_32, test_loss_64, test_loss_128, test_loss_256, test_loss_512, test_loss_1024, test_loss_2048, test_loss_4096]\n",
    "test_acc_list = [test_acc_8, test_acc_16, test_acc_32, test_acc_64, test_acc_128, test_acc_256, test_acc_512, test_acc_1024, test_acc_2048, test_acc_4096]\n",
    "td_list = [td_8, td_16, td_32, td_64, td_128, td_256, td_512, td_1024, td_2048, td_4096]"
   ]
  },
  {
   "cell_type": "code",
   "execution_count": 47,
   "metadata": {},
   "outputs": [
    {
     "name": "stdout",
     "output_type": "stream",
     "text": [
      "[8, 16, 32, 64, 128, 256, 512, 1024, 2048, 4096]\n",
      "[1.3310900840044022, 0.8512793355941772, 0.509089030790329, 0.46213337883353234, 0.36420524225234985, 0.337424672794342, 0.36985792779922483, 0.3496745028197765, 0.36075781908035276, 0.4187217040061951]\n",
      "[0.7943, 0.8458, 0.8667, 0.8745, 0.8806, 0.8858, 0.872, 0.8727, 0.8722, 0.8474]\n",
      "[319.7011909484863, 171.91267466545105, 124.76237893104553, 63.111350297927856, 38.04335880279541, 31.423646926879883, 28.654109716415405, 27.752695322036743, 25.305889129638672, 23.777918100357056]\n"
     ]
    }
   ],
   "source": [
    "print(batch_size_list)\n",
    "print(test_loss_list)\n",
    "print(test_acc_list)\n",
    "print(td_list)"
   ]
  },
  {
   "cell_type": "code",
   "execution_count": 48,
   "metadata": {},
   "outputs": [
    {
     "data": {
      "image/png": "[encoded data removed]",
      "text/plain": [
       "<Figure size 432x288 with 1 Axes>"
      ]
     },
     "metadata": {},
     "output_type": "display_data"
    },
    {
     "data": {
      "image/png": "[encoded data removed]",
      "text/plain": [
       "<Figure size 432x288 with 1 Axes>"
      ]
     },
     "metadata": {},
     "output_type": "display_data"
    },
    {
     "data": {
      "image/png": "[encoded data removed]",
      "text/plain": [
       "<Figure size 432x288 with 1 Axes>"
      ]
     },
     "metadata": {},
     "output_type": "display_data"
    }
   ],
   "source": [
    "# Plot training & validation accuracy values\n",
    "plt.plot(batch_size_list,test_loss_list)\n",
    "plt.title('test_loss_list')\n",
    "plt.ylabel('test_loss_list')\n",
    "plt.xlabel('batch_size_list')\n",
    "plt.legend(['test_loss_list'], loc='upper right')\n",
    "plt.show()\n",
    "\n",
    "plt.plot(batch_size_list,test_acc_list)\n",
    "plt.title('test_acc_list')\n",
    "plt.ylabel('test_acc_list')\n",
    "plt.xlabel('batch_size_list')\n",
    "plt.legend(['test_acc_list'], loc='upper right')\n",
    "plt.show()\n",
    "\n",
    "plt.plot(batch_size_list,td_list)\n",
    "plt.title('td_list')\n",
    "plt.ylabel('td_list')\n",
    "plt.xlabel('batch_size_list')\n",
    "plt.legend(['td_list'], loc='upper right')\n",
    "plt.show()"
   ]
  },
  {
   "cell_type": "code",
   "execution_count": null,
   "metadata": {},
   "outputs": [],
   "source": []
  }
 ],
 "metadata": {
  "accelerator": "GPU",
  "colab": {
   "collapsed_sections": [],
   "name": "OFWN_practica_S2_mnist_keras_.ipynb",
   "provenance": [],
   "version": "0.3.2"
  },
  "kernelspec": {
   "display_name": "Python 3",
   "language": "python",
   "name": "python3"
  },
  "language_info": {
   "codemirror_mode": {
    "name": "ipython",
    "version": 3
   },
   "file_extension": ".py",
   "mimetype": "text/x-python",
   "name": "python",
   "nbconvert_exporter": "python",
   "pygments_lexer": "ipython3",
   "version": "3.6.5"
  }
 },
 "nbformat": 4,
 "nbformat_minor": 2
}
