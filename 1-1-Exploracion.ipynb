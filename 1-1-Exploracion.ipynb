{
 "cells": [
  {
   "cell_type": "markdown",
   "metadata": {},
   "source": [
    "# Campaña \"Seguro Vivienda\" de compañía financiera"
   ]
  },
  {
   "cell_type": "markdown",
   "metadata": {},
   "source": [
    "## Cruce de datos"
   ]
  },
  {
   "cell_type": "markdown",
   "metadata": {},
   "source": [
    "Primero vamos a cruzar los datos de clientes con los datos de zonas, para tener toda la información en una sola tabla por cada cliente. En el siguiente código, deberás introducir en la variable 'datos_path' la ruta a la carpeta donde se encuentran los ficheros de datos, por ejemplo \"~/Escritorio\" si están en el escritorio."
   ]
  },
  {
   "cell_type": "code",
   "execution_count": 1,
   "metadata": {},
   "outputs": [],
   "source": [
    "import pandas as pd\n",
    "import matplotlib.pyplot as plt\n",
    "\n",
    "import os\n",
    "\n",
    "%matplotlib inline\n",
    "\n",
    "datos_path = \"./\"\n",
    "clientes_file = \"Clientes_train.csv\"\n",
    "zonas_file = \"Zonas.csv\"\n",
    "\n",
    "clientes = pd.read_csv(os.path.join(datos_path, clientes_file), sep='\\t')\n",
    "zonas = pd.read_csv(os.path.join(datos_path, zonas_file), sep='\\t')\n",
    "\n",
    "datos = pd.merge(clientes, zonas, on=\"ID_Zona\", how=\"inner\")\n",
    "\n",
    "targets = datos[\"Seguro_Vivienda\"]\n",
    "variables = datos.drop([\"Seguro_Vivienda\"], axis=1, inplace=False)"
   ]
  },
  {
   "cell_type": "markdown",
   "metadata": {},
   "source": [
    "## Estudio de datos"
   ]
  },
  {
   "cell_type": "markdown",
   "metadata": {},
   "source": [
    "Hacemos un estudio de los datos. Empezamos por una inspección visual de una muestra de filas de la tabla:"
   ]
  },
  {
   "cell_type": "code",
   "execution_count": 2,
   "metadata": {},
   "outputs": [
    {
     "data": {
      "text/html": [
       "<div>\n",
       "<style scoped>\n",
       "    .dataframe tbody tr th:only-of-type {\n",
       "        vertical-align: middle;\n",
       "    }\n",
       "\n",
       "    .dataframe tbody tr th {\n",
       "        vertical-align: top;\n",
       "    }\n",
       "\n",
       "    .dataframe thead th {\n",
       "        text-align: right;\n",
       "    }\n",
       "</style>\n",
       "<table border=\"1\" class=\"dataframe\">\n",
       "  <thead>\n",
       "    <tr style=\"text-align: right;\">\n",
       "      <th></th>\n",
       "      <th>ID_Cliente</th>\n",
       "      <th>Fecha_Nacimiento</th>\n",
       "      <th>Fecha_Alta</th>\n",
       "      <th>Sexo</th>\n",
       "      <th>ID_Zona</th>\n",
       "      <th>Productos_Vida</th>\n",
       "      <th>Productos_Vehiculos</th>\n",
       "      <th>Productos_Otros</th>\n",
       "      <th>Gasto_Vida</th>\n",
       "      <th>Gasto_Vehiculos</th>\n",
       "      <th>...</th>\n",
       "      <th>Poblacion_Funcionario</th>\n",
       "      <th>Poblacion_Trabajador_Cualificado</th>\n",
       "      <th>Poblacion_Trabajador_No_Cualificado</th>\n",
       "      <th>Vivienda_Propiedad</th>\n",
       "      <th>Vivienda_Alquiler</th>\n",
       "      <th>Medico_Seguro_Privado</th>\n",
       "      <th>Medico_Seguridad_Social</th>\n",
       "      <th>Ingresos_Mas_De_40000</th>\n",
       "      <th>Ingresos_De_20000_Hasta_40000</th>\n",
       "      <th>Ingresos_Hasta_20000</th>\n",
       "    </tr>\n",
       "  </thead>\n",
       "  <tbody>\n",
       "    <tr>\n",
       "      <th>0</th>\n",
       "      <td>C3088</td>\n",
       "      <td>29/03/1968</td>\n",
       "      <td>27/03/1989</td>\n",
       "      <td>Mujer</td>\n",
       "      <td>Z1143</td>\n",
       "      <td>0</td>\n",
       "      <td>1</td>\n",
       "      <td>0</td>\n",
       "      <td>0.0</td>\n",
       "      <td>617.55</td>\n",
       "      <td>...</td>\n",
       "      <td>28.17</td>\n",
       "      <td>21.01</td>\n",
       "      <td>27.13</td>\n",
       "      <td>71.34</td>\n",
       "      <td>28.66</td>\n",
       "      <td>32.77</td>\n",
       "      <td>67.23</td>\n",
       "      <td>2.23</td>\n",
       "      <td>1.47</td>\n",
       "      <td>96.3</td>\n",
       "    </tr>\n",
       "    <tr>\n",
       "      <th>1</th>\n",
       "      <td>C3441</td>\n",
       "      <td>01/05/1962</td>\n",
       "      <td>26/12/1984</td>\n",
       "      <td>Hombre</td>\n",
       "      <td>Z1143</td>\n",
       "      <td>0</td>\n",
       "      <td>0</td>\n",
       "      <td>0</td>\n",
       "      <td>0.0</td>\n",
       "      <td>0.00</td>\n",
       "      <td>...</td>\n",
       "      <td>28.17</td>\n",
       "      <td>21.01</td>\n",
       "      <td>27.13</td>\n",
       "      <td>71.34</td>\n",
       "      <td>28.66</td>\n",
       "      <td>32.77</td>\n",
       "      <td>67.23</td>\n",
       "      <td>2.23</td>\n",
       "      <td>1.47</td>\n",
       "      <td>96.3</td>\n",
       "    </tr>\n",
       "    <tr>\n",
       "      <th>2</th>\n",
       "      <td>C0412</td>\n",
       "      <td>19/01/1967</td>\n",
       "      <td>29/04/1987</td>\n",
       "      <td>Hombre</td>\n",
       "      <td>Z1143</td>\n",
       "      <td>0</td>\n",
       "      <td>0</td>\n",
       "      <td>1</td>\n",
       "      <td>0.0</td>\n",
       "      <td>0.00</td>\n",
       "      <td>...</td>\n",
       "      <td>28.17</td>\n",
       "      <td>21.01</td>\n",
       "      <td>27.13</td>\n",
       "      <td>71.34</td>\n",
       "      <td>28.66</td>\n",
       "      <td>32.77</td>\n",
       "      <td>67.23</td>\n",
       "      <td>2.23</td>\n",
       "      <td>1.47</td>\n",
       "      <td>96.3</td>\n",
       "    </tr>\n",
       "    <tr>\n",
       "      <th>3</th>\n",
       "      <td>C3565</td>\n",
       "      <td>20/04/1948</td>\n",
       "      <td>06/09/1969</td>\n",
       "      <td>Hombre</td>\n",
       "      <td>Z1143</td>\n",
       "      <td>0</td>\n",
       "      <td>1</td>\n",
       "      <td>0</td>\n",
       "      <td>0.0</td>\n",
       "      <td>3315.54</td>\n",
       "      <td>...</td>\n",
       "      <td>28.17</td>\n",
       "      <td>21.01</td>\n",
       "      <td>27.13</td>\n",
       "      <td>71.34</td>\n",
       "      <td>28.66</td>\n",
       "      <td>32.77</td>\n",
       "      <td>67.23</td>\n",
       "      <td>2.23</td>\n",
       "      <td>1.47</td>\n",
       "      <td>96.3</td>\n",
       "    </tr>\n",
       "    <tr>\n",
       "      <th>4</th>\n",
       "      <td>C0315</td>\n",
       "      <td>28/07/1979</td>\n",
       "      <td>18/06/2001</td>\n",
       "      <td>Mujer</td>\n",
       "      <td>Z1143</td>\n",
       "      <td>0</td>\n",
       "      <td>1</td>\n",
       "      <td>2</td>\n",
       "      <td>0.0</td>\n",
       "      <td>2561.45</td>\n",
       "      <td>...</td>\n",
       "      <td>28.17</td>\n",
       "      <td>21.01</td>\n",
       "      <td>27.13</td>\n",
       "      <td>71.34</td>\n",
       "      <td>28.66</td>\n",
       "      <td>32.77</td>\n",
       "      <td>67.23</td>\n",
       "      <td>2.23</td>\n",
       "      <td>1.47</td>\n",
       "      <td>96.3</td>\n",
       "    </tr>\n",
       "  </tbody>\n",
       "</table>\n",
       "<p>5 rows × 28 columns</p>\n",
       "</div>"
      ],
      "text/plain": [
       "  ID_Cliente Fecha_Nacimiento  Fecha_Alta    Sexo ID_Zona  Productos_Vida  \\\n",
       "0      C3088       29/03/1968  27/03/1989   Mujer   Z1143               0   \n",
       "1      C3441       01/05/1962  26/12/1984  Hombre   Z1143               0   \n",
       "2      C0412       19/01/1967  29/04/1987  Hombre   Z1143               0   \n",
       "3      C3565       20/04/1948  06/09/1969  Hombre   Z1143               0   \n",
       "4      C0315       28/07/1979  18/06/2001   Mujer   Z1143               0   \n",
       "\n",
       "   Productos_Vehiculos  Productos_Otros  Gasto_Vida  Gasto_Vehiculos  \\\n",
       "0                    1                0         0.0           617.55   \n",
       "1                    0                0         0.0             0.00   \n",
       "2                    0                1         0.0             0.00   \n",
       "3                    1                0         0.0          3315.54   \n",
       "4                    1                2         0.0          2561.45   \n",
       "\n",
       "           ...           Poblacion_Funcionario  \\\n",
       "0          ...                           28.17   \n",
       "1          ...                           28.17   \n",
       "2          ...                           28.17   \n",
       "3          ...                           28.17   \n",
       "4          ...                           28.17   \n",
       "\n",
       "   Poblacion_Trabajador_Cualificado  Poblacion_Trabajador_No_Cualificado  \\\n",
       "0                             21.01                                27.13   \n",
       "1                             21.01                                27.13   \n",
       "2                             21.01                                27.13   \n",
       "3                             21.01                                27.13   \n",
       "4                             21.01                                27.13   \n",
       "\n",
       "   Vivienda_Propiedad  Vivienda_Alquiler  Medico_Seguro_Privado  \\\n",
       "0               71.34              28.66                  32.77   \n",
       "1               71.34              28.66                  32.77   \n",
       "2               71.34              28.66                  32.77   \n",
       "3               71.34              28.66                  32.77   \n",
       "4               71.34              28.66                  32.77   \n",
       "\n",
       "   Medico_Seguridad_Social  Ingresos_Mas_De_40000  \\\n",
       "0                    67.23                   2.23   \n",
       "1                    67.23                   2.23   \n",
       "2                    67.23                   2.23   \n",
       "3                    67.23                   2.23   \n",
       "4                    67.23                   2.23   \n",
       "\n",
       "   Ingresos_De_20000_Hasta_40000  Ingresos_Hasta_20000  \n",
       "0                           1.47                  96.3  \n",
       "1                           1.47                  96.3  \n",
       "2                           1.47                  96.3  \n",
       "3                           1.47                  96.3  \n",
       "4                           1.47                  96.3  \n",
       "\n",
       "[5 rows x 28 columns]"
      ]
     },
     "execution_count": 2,
     "metadata": {},
     "output_type": "execute_result"
    }
   ],
   "source": [
    "variables.head()"
   ]
  },
  {
   "cell_type": "code",
   "execution_count": 3,
   "metadata": {},
   "outputs": [
    {
     "data": {
      "text/plain": [
       "0    False\n",
       "1    False\n",
       "2    False\n",
       "3    False\n",
       "4    False\n",
       "Name: Seguro_Vivienda, dtype: bool"
      ]
     },
     "execution_count": 3,
     "metadata": {},
     "output_type": "execute_result"
    }
   ],
   "source": [
    "targets.head()"
   ]
  },
  {
   "cell_type": "markdown",
   "metadata": {},
   "source": [
    " Seguimos con un estudio de estadísticos básicos que nos indiquen el rango de valores de cada variable (columna) numérica:"
   ]
  },
  {
   "cell_type": "code",
   "execution_count": 4,
   "metadata": {},
   "outputs": [
    {
     "data": {
      "text/html": [
       "<div>\n",
       "<style scoped>\n",
       "    .dataframe tbody tr th:only-of-type {\n",
       "        vertical-align: middle;\n",
       "    }\n",
       "\n",
       "    .dataframe tbody tr th {\n",
       "        vertical-align: top;\n",
       "    }\n",
       "\n",
       "    .dataframe thead th {\n",
       "        text-align: right;\n",
       "    }\n",
       "</style>\n",
       "<table border=\"1\" class=\"dataframe\">\n",
       "  <thead>\n",
       "    <tr style=\"text-align: right;\">\n",
       "      <th></th>\n",
       "      <th>Productos_Vida</th>\n",
       "      <th>Productos_Vehiculos</th>\n",
       "      <th>Productos_Otros</th>\n",
       "      <th>Gasto_Vida</th>\n",
       "      <th>Gasto_Vehiculos</th>\n",
       "      <th>Gasto_Otros</th>\n",
       "      <th>Tipo_Familia</th>\n",
       "      <th>Tipo_Pareja</th>\n",
       "      <th>Tipo_Soltero</th>\n",
       "      <th>Educacion_Superior</th>\n",
       "      <th>...</th>\n",
       "      <th>Poblacion_Funcionario</th>\n",
       "      <th>Poblacion_Trabajador_Cualificado</th>\n",
       "      <th>Poblacion_Trabajador_No_Cualificado</th>\n",
       "      <th>Vivienda_Propiedad</th>\n",
       "      <th>Vivienda_Alquiler</th>\n",
       "      <th>Medico_Seguro_Privado</th>\n",
       "      <th>Medico_Seguridad_Social</th>\n",
       "      <th>Ingresos_Mas_De_40000</th>\n",
       "      <th>Ingresos_De_20000_Hasta_40000</th>\n",
       "      <th>Ingresos_Hasta_20000</th>\n",
       "    </tr>\n",
       "  </thead>\n",
       "  <tbody>\n",
       "    <tr>\n",
       "      <th>count</th>\n",
       "      <td>2927.000000</td>\n",
       "      <td>2927.000000</td>\n",
       "      <td>2927.000000</td>\n",
       "      <td>2927.000000</td>\n",
       "      <td>2927.000000</td>\n",
       "      <td>2927.000000</td>\n",
       "      <td>2927.000000</td>\n",
       "      <td>2927.000000</td>\n",
       "      <td>2927.000000</td>\n",
       "      <td>2927.000000</td>\n",
       "      <td>...</td>\n",
       "      <td>2927.000000</td>\n",
       "      <td>2927.000000</td>\n",
       "      <td>2927.000000</td>\n",
       "      <td>2927.000000</td>\n",
       "      <td>2927.000000</td>\n",
       "      <td>2927.000000</td>\n",
       "      <td>2927.000000</td>\n",
       "      <td>2927.000000</td>\n",
       "      <td>2927.000000</td>\n",
       "      <td>2927.000000</td>\n",
       "    </tr>\n",
       "    <tr>\n",
       "      <th>mean</th>\n",
       "      <td>0.080287</td>\n",
       "      <td>0.750940</td>\n",
       "      <td>1.066279</td>\n",
       "      <td>37.133915</td>\n",
       "      <td>1583.312689</td>\n",
       "      <td>273.471145</td>\n",
       "      <td>47.392026</td>\n",
       "      <td>34.010779</td>\n",
       "      <td>18.597458</td>\n",
       "      <td>14.136502</td>\n",
       "      <td>...</td>\n",
       "      <td>29.345565</td>\n",
       "      <td>22.355572</td>\n",
       "      <td>26.771343</td>\n",
       "      <td>54.007017</td>\n",
       "      <td>45.992983</td>\n",
       "      <td>27.863485</td>\n",
       "      <td>72.136515</td>\n",
       "      <td>1.449713</td>\n",
       "      <td>6.700150</td>\n",
       "      <td>91.850126</td>\n",
       "    </tr>\n",
       "    <tr>\n",
       "      <th>std</th>\n",
       "      <td>0.365148</td>\n",
       "      <td>0.795887</td>\n",
       "      <td>1.001220</td>\n",
       "      <td>289.125502</td>\n",
       "      <td>2008.636888</td>\n",
       "      <td>741.281246</td>\n",
       "      <td>24.955844</td>\n",
       "      <td>20.001426</td>\n",
       "      <td>20.498031</td>\n",
       "      <td>18.661422</td>\n",
       "      <td>...</td>\n",
       "      <td>21.739949</td>\n",
       "      <td>20.322406</td>\n",
       "      <td>21.439939</td>\n",
       "      <td>37.375465</td>\n",
       "      <td>37.375465</td>\n",
       "      <td>24.390093</td>\n",
       "      <td>24.390093</td>\n",
       "      <td>5.362351</td>\n",
       "      <td>12.187754</td>\n",
       "      <td>14.078293</td>\n",
       "    </tr>\n",
       "    <tr>\n",
       "      <th>min</th>\n",
       "      <td>0.000000</td>\n",
       "      <td>0.000000</td>\n",
       "      <td>0.000000</td>\n",
       "      <td>0.000000</td>\n",
       "      <td>0.000000</td>\n",
       "      <td>0.000000</td>\n",
       "      <td>0.000000</td>\n",
       "      <td>0.000000</td>\n",
       "      <td>0.000000</td>\n",
       "      <td>0.000000</td>\n",
       "      <td>...</td>\n",
       "      <td>0.000000</td>\n",
       "      <td>0.000000</td>\n",
       "      <td>0.000000</td>\n",
       "      <td>0.000000</td>\n",
       "      <td>0.000000</td>\n",
       "      <td>0.000000</td>\n",
       "      <td>0.000000</td>\n",
       "      <td>0.000000</td>\n",
       "      <td>0.000000</td>\n",
       "      <td>0.000000</td>\n",
       "    </tr>\n",
       "    <tr>\n",
       "      <th>25%</th>\n",
       "      <td>0.000000</td>\n",
       "      <td>0.000000</td>\n",
       "      <td>0.000000</td>\n",
       "      <td>0.000000</td>\n",
       "      <td>0.000000</td>\n",
       "      <td>0.000000</td>\n",
       "      <td>29.410000</td>\n",
       "      <td>19.980000</td>\n",
       "      <td>0.000000</td>\n",
       "      <td>0.000000</td>\n",
       "      <td>...</td>\n",
       "      <td>15.230000</td>\n",
       "      <td>3.880000</td>\n",
       "      <td>9.420000</td>\n",
       "      <td>14.900000</td>\n",
       "      <td>8.175000</td>\n",
       "      <td>7.275000</td>\n",
       "      <td>56.530000</td>\n",
       "      <td>0.000000</td>\n",
       "      <td>0.000000</td>\n",
       "      <td>90.120000</td>\n",
       "    </tr>\n",
       "    <tr>\n",
       "      <th>50%</th>\n",
       "      <td>0.000000</td>\n",
       "      <td>1.000000</td>\n",
       "      <td>1.000000</td>\n",
       "      <td>0.000000</td>\n",
       "      <td>649.610000</td>\n",
       "      <td>117.630000</td>\n",
       "      <td>48.180000</td>\n",
       "      <td>32.140000</td>\n",
       "      <td>14.350000</td>\n",
       "      <td>6.440000</td>\n",
       "      <td>...</td>\n",
       "      <td>27.480000</td>\n",
       "      <td>19.550000</td>\n",
       "      <td>22.220000</td>\n",
       "      <td>58.410000</td>\n",
       "      <td>41.590000</td>\n",
       "      <td>20.570000</td>\n",
       "      <td>79.430000</td>\n",
       "      <td>0.000000</td>\n",
       "      <td>0.000000</td>\n",
       "      <td>99.990000</td>\n",
       "    </tr>\n",
       "    <tr>\n",
       "      <th>75%</th>\n",
       "      <td>0.000000</td>\n",
       "      <td>1.000000</td>\n",
       "      <td>2.000000</td>\n",
       "      <td>0.000000</td>\n",
       "      <td>2948.910000</td>\n",
       "      <td>303.705000</td>\n",
       "      <td>65.450000</td>\n",
       "      <td>44.705000</td>\n",
       "      <td>30.530000</td>\n",
       "      <td>20.700000</td>\n",
       "      <td>...</td>\n",
       "      <td>41.150000</td>\n",
       "      <td>33.700000</td>\n",
       "      <td>41.020000</td>\n",
       "      <td>91.825000</td>\n",
       "      <td>85.100000</td>\n",
       "      <td>43.470000</td>\n",
       "      <td>92.725000</td>\n",
       "      <td>0.000000</td>\n",
       "      <td>8.325000</td>\n",
       "      <td>100.000000</td>\n",
       "    </tr>\n",
       "    <tr>\n",
       "      <th>max</th>\n",
       "      <td>4.000000</td>\n",
       "      <td>10.000000</td>\n",
       "      <td>7.000000</td>\n",
       "      <td>4934.590000</td>\n",
       "      <td>16735.670000</td>\n",
       "      <td>17188.620000</td>\n",
       "      <td>100.000000</td>\n",
       "      <td>100.000000</td>\n",
       "      <td>100.000000</td>\n",
       "      <td>100.000000</td>\n",
       "      <td>...</td>\n",
       "      <td>100.000000</td>\n",
       "      <td>100.000000</td>\n",
       "      <td>100.000000</td>\n",
       "      <td>100.000000</td>\n",
       "      <td>100.000000</td>\n",
       "      <td>100.000000</td>\n",
       "      <td>100.000000</td>\n",
       "      <td>100.000000</td>\n",
       "      <td>100.000000</td>\n",
       "      <td>100.010000</td>\n",
       "    </tr>\n",
       "  </tbody>\n",
       "</table>\n",
       "<p>8 rows × 23 columns</p>\n",
       "</div>"
      ],
      "text/plain": [
       "       Productos_Vida  Productos_Vehiculos  Productos_Otros   Gasto_Vida  \\\n",
       "count     2927.000000          2927.000000      2927.000000  2927.000000   \n",
       "mean         0.080287             0.750940         1.066279    37.133915   \n",
       "std          0.365148             0.795887         1.001220   289.125502   \n",
       "min          0.000000             0.000000         0.000000     0.000000   \n",
       "25%          0.000000             0.000000         0.000000     0.000000   \n",
       "50%          0.000000             1.000000         1.000000     0.000000   \n",
       "75%          0.000000             1.000000         2.000000     0.000000   \n",
       "max          4.000000            10.000000         7.000000  4934.590000   \n",
       "\n",
       "       Gasto_Vehiculos   Gasto_Otros  Tipo_Familia  Tipo_Pareja  Tipo_Soltero  \\\n",
       "count      2927.000000   2927.000000   2927.000000  2927.000000   2927.000000   \n",
       "mean       1583.312689    273.471145     47.392026    34.010779     18.597458   \n",
       "std        2008.636888    741.281246     24.955844    20.001426     20.498031   \n",
       "min           0.000000      0.000000      0.000000     0.000000      0.000000   \n",
       "25%           0.000000      0.000000     29.410000    19.980000      0.000000   \n",
       "50%         649.610000    117.630000     48.180000    32.140000     14.350000   \n",
       "75%        2948.910000    303.705000     65.450000    44.705000     30.530000   \n",
       "max       16735.670000  17188.620000    100.000000   100.000000    100.000000   \n",
       "\n",
       "       Educacion_Superior          ...           Poblacion_Funcionario  \\\n",
       "count         2927.000000          ...                     2927.000000   \n",
       "mean            14.136502          ...                       29.345565   \n",
       "std             18.661422          ...                       21.739949   \n",
       "min              0.000000          ...                        0.000000   \n",
       "25%              0.000000          ...                       15.230000   \n",
       "50%              6.440000          ...                       27.480000   \n",
       "75%             20.700000          ...                       41.150000   \n",
       "max            100.000000          ...                      100.000000   \n",
       "\n",
       "       Poblacion_Trabajador_Cualificado  Poblacion_Trabajador_No_Cualificado  \\\n",
       "count                       2927.000000                          2927.000000   \n",
       "mean                          22.355572                            26.771343   \n",
       "std                           20.322406                            21.439939   \n",
       "min                            0.000000                             0.000000   \n",
       "25%                            3.880000                             9.420000   \n",
       "50%                           19.550000                            22.220000   \n",
       "75%                           33.700000                            41.020000   \n",
       "max                          100.000000                           100.000000   \n",
       "\n",
       "       Vivienda_Propiedad  Vivienda_Alquiler  Medico_Seguro_Privado  \\\n",
       "count         2927.000000        2927.000000            2927.000000   \n",
       "mean            54.007017          45.992983              27.863485   \n",
       "std             37.375465          37.375465              24.390093   \n",
       "min              0.000000           0.000000               0.000000   \n",
       "25%             14.900000           8.175000               7.275000   \n",
       "50%             58.410000          41.590000              20.570000   \n",
       "75%             91.825000          85.100000              43.470000   \n",
       "max            100.000000         100.000000             100.000000   \n",
       "\n",
       "       Medico_Seguridad_Social  Ingresos_Mas_De_40000  \\\n",
       "count              2927.000000            2927.000000   \n",
       "mean                 72.136515               1.449713   \n",
       "std                  24.390093               5.362351   \n",
       "min                   0.000000               0.000000   \n",
       "25%                  56.530000               0.000000   \n",
       "50%                  79.430000               0.000000   \n",
       "75%                  92.725000               0.000000   \n",
       "max                 100.000000             100.000000   \n",
       "\n",
       "       Ingresos_De_20000_Hasta_40000  Ingresos_Hasta_20000  \n",
       "count                    2927.000000           2927.000000  \n",
       "mean                        6.700150             91.850126  \n",
       "std                        12.187754             14.078293  \n",
       "min                         0.000000              0.000000  \n",
       "25%                         0.000000             90.120000  \n",
       "50%                         0.000000             99.990000  \n",
       "75%                         8.325000            100.000000  \n",
       "max                       100.000000            100.010000  \n",
       "\n",
       "[8 rows x 23 columns]"
      ]
     },
     "execution_count": 4,
     "metadata": {},
     "output_type": "execute_result"
    }
   ],
   "source": [
    "variables.describe()"
   ]
  },
  {
   "cell_type": "code",
   "execution_count": 5,
   "metadata": {},
   "outputs": [
    {
     "data": {
      "text/plain": [
       "count      2927\n",
       "unique        2\n",
       "top       False\n",
       "freq       2762\n",
       "Name: Seguro_Vivienda, dtype: object"
      ]
     },
     "execution_count": 5,
     "metadata": {},
     "output_type": "execute_result"
    }
   ],
   "source": [
    "targets.describe()"
   ]
  },
  {
   "cell_type": "markdown",
   "metadata": {},
   "source": [
    "Podemos obtener detalles adicionales de cada variable individualmente:"
   ]
  },
  {
   "cell_type": "code",
   "execution_count": 6,
   "metadata": {},
   "outputs": [
    {
     "data": {
      "text/plain": [
       "649.61"
      ]
     },
     "execution_count": 6,
     "metadata": {},
     "output_type": "execute_result"
    }
   ],
   "source": [
    "variables[\"Gasto_Vehiculos\"].median()"
   ]
  },
  {
   "cell_type": "code",
   "execution_count": 7,
   "metadata": {},
   "outputs": [
    {
     "data": {
      "image/png": "[encoded data removed]",
      "text/plain": [
       "<Figure size 432x288 with 1 Axes>"
      ]
     },
     "metadata": {},
     "output_type": "display_data"
    }
   ],
   "source": [
    "fig = plt.figure()\n",
    "ax = fig.add_subplot(111)\n",
    "ax.hist(datos[\"Gasto_Vehiculos\"], bins = 10, range = (datos[\"Gasto_Vehiculos\"].min(), datos[\"Gasto_Vehiculos\"].max()))\n",
    "plt.title(\"Gasto Vehiculos\")\n",
    "plt.xlabel(\"Gasto Vehiculos\")\n",
    "plt.ylabel(\"Euros\")\n",
    "plt.show()"
   ]
  },
  {
   "cell_type": "code",
   "execution_count": 8,
   "metadata": {},
   "outputs": [
    {
     "data": {
      "image/png": "[encoded data removed]",
      "text/plain": [
       "<Figure size 432x288 with 1 Axes>"
      ]
     },
     "metadata": {},
     "output_type": "display_data"
    }
   ],
   "source": [
    "variables.boxplot(column=\"Gasto_Vehiculos\")\n",
    "plt.show()"
   ]
  },
  {
   "cell_type": "markdown",
   "metadata": {},
   "source": [
    "También podemos obtener información de variables categóricas:"
   ]
  },
  {
   "cell_type": "code",
   "execution_count": 9,
   "metadata": {},
   "outputs": [
    {
     "data": {
      "text/plain": [
       "array(['Mujer', 'Hombre'], dtype=object)"
      ]
     },
     "execution_count": 9,
     "metadata": {},
     "output_type": "execute_result"
    }
   ],
   "source": [
    "variables[\"Sexo\"].unique()"
   ]
  },
  {
   "cell_type": "code",
   "execution_count": 10,
   "metadata": {},
   "outputs": [
    {
     "data": {
      "image/png": "[encoded data removed]",
      "text/plain": [
       "<Figure size 432x288 with 1 Axes>"
      ]
     },
     "metadata": {},
     "output_type": "display_data"
    }
   ],
   "source": [
    "ax = variables[\"Sexo\"].value_counts().plot(kind=\"bar\")\n",
    "plt.title(\"Sexo\")\n",
    "plt.xlabel(\"Sexo\")\n",
    "plt.ylabel(\"Casos\")\n",
    "plt.show()"
   ]
  },
  {
   "cell_type": "code",
   "execution_count": 11,
   "metadata": {},
   "outputs": [
    {
     "data": {
      "text/plain": [
       "<matplotlib.axes._subplots.AxesSubplot at 0x1dd4e74e3c8>"
      ]
     },
     "execution_count": 11,
     "metadata": {},
     "output_type": "execute_result"
    },
    {
     "data": {
      "image/png": "[encoded data removed]",
      "text/plain": [
       "<Figure size 432x288 with 1 Axes>"
      ]
     },
     "metadata": {},
     "output_type": "display_data"
    }
   ],
   "source": [
    "tmp = pd.crosstab([datos.Sexo], datos.Seguro_Vivienda)\n",
    "tmp.plot(kind='bar', stacked=True, color=['red','blue'], grid=False)"
   ]
  },
  {
   "cell_type": "markdown",
   "metadata": {},
   "source": [
    "Buscamos datos no disponibles: "
   ]
  },
  {
   "cell_type": "code",
   "execution_count": 12,
   "metadata": {},
   "outputs": [
    {
     "name": "stdout",
     "output_type": "stream",
     "text": [
      "<class 'pandas.core.frame.DataFrame'>\n",
      "Int64Index: 2927 entries, 0 to 2926\n",
      "Data columns (total 28 columns):\n",
      "ID_Cliente                             2927 non-null object\n",
      "Fecha_Nacimiento                       2927 non-null object\n",
      "Fecha_Alta                             2927 non-null object\n",
      "Sexo                                   2927 non-null object\n",
      "ID_Zona                                2927 non-null object\n",
      "Productos_Vida                         2927 non-null int64\n",
      "Productos_Vehiculos                    2927 non-null int64\n",
      "Productos_Otros                        2927 non-null int64\n",
      "Gasto_Vida                             2927 non-null float64\n",
      "Gasto_Vehiculos                        2927 non-null float64\n",
      "Gasto_Otros                            2927 non-null float64\n",
      "Tipo_Familia                           2927 non-null float64\n",
      "Tipo_Pareja                            2927 non-null float64\n",
      "Tipo_Soltero                           2927 non-null float64\n",
      "Educacion_Superior                     2927 non-null float64\n",
      "Educacion_Media                        2927 non-null float64\n",
      "Educacion_Baja                         2927 non-null float64\n",
      "Poblacion_Empresario                   2927 non-null float64\n",
      "Poblacion_Funcionario                  2927 non-null float64\n",
      "Poblacion_Trabajador_Cualificado       2927 non-null float64\n",
      "Poblacion_Trabajador_No_Cualificado    2927 non-null float64\n",
      "Vivienda_Propiedad                     2927 non-null float64\n",
      "Vivienda_Alquiler                      2927 non-null float64\n",
      "Medico_Seguro_Privado                  2927 non-null float64\n",
      "Medico_Seguridad_Social                2927 non-null float64\n",
      "Ingresos_Mas_De_40000                  2927 non-null float64\n",
      "Ingresos_De_20000_Hasta_40000          2927 non-null float64\n",
      "Ingresos_Hasta_20000                   2927 non-null float64\n",
      "dtypes: float64(20), int64(3), object(5)\n",
      "memory usage: 663.1+ KB\n"
     ]
    }
   ],
   "source": [
    "variables.info()"
   ]
  },
  {
   "cell_type": "code",
   "execution_count": null,
   "metadata": {},
   "outputs": [],
   "source": []
  }
 ],
 "metadata": {
  "kernelspec": {
   "display_name": "Python 3",
   "language": "python",
   "name": "python3"
  },
  "language_info": {
   "codemirror_mode": {
    "name": "ipython",
    "version": 3
   },
   "file_extension": ".py",
   "mimetype": "text/x-python",
   "name": "python",
   "nbconvert_exporter": "python",
   "pygments_lexer": "ipython3",
   "version": "3.6.5"
  }
 },
 "nbformat": 4,
 "nbformat_minor": 1
}
