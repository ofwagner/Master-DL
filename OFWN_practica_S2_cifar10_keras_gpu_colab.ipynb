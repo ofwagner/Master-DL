{
 "cells": [
  {
   "cell_type": "markdown",
   "metadata": {
    "colab_type": "text",
    "id": "Y14fUsdyiBXJ"
   },
   "source": [
    "Ejecutado en Google Colaboratory en GPU"
   ]
  },
  {
   "cell_type": "markdown",
   "metadata": {
    "colab_type": "text",
    "id": "bAXsOaDug1od"
   },
   "source": [
    "## Import Libraries"
   ]
  },
  {
   "cell_type": "code",
   "execution_count": 0,
   "metadata": {
    "colab": {
     "base_uri": "https://localhost:8080/",
     "height": 34
    },
    "colab_type": "code",
    "id": "3yG7ly_ug1oe",
    "outputId": "78a21bca-fc64-4b44-c38f-3076825bc8ad"
   },
   "outputs": [
    {
     "name": "stderr",
     "output_type": "stream",
     "text": [
      "Using TensorFlow backend.\n"
     ]
    }
   ],
   "source": [
    "# Keras Datasets: \n",
    "#    https://jovianlin.io/datasets-within-keras/\n",
    "from keras.datasets import cifar10\n",
    "\n",
    "from keras.models import Sequential\n",
    "from keras.layers.core import Dense, Dropout, Activation, Flatten\n",
    "from keras.layers.convolutional import Conv2D, MaxPooling2D\n",
    "from keras.utils import np_utils\n",
    "\n",
    "# Set random seed (for reproducibility):\n",
    "#     https://machinelearningmastery.com/reproducible-results-neural-networks-keras/\n",
    "import numpy as np\n",
    "np.random.seed(42)\n",
    "\n",
    "import time"
   ]
  },
  {
   "cell_type": "markdown",
   "metadata": {
    "colab_type": "text",
    "id": "DITYn8xvg1o5"
   },
   "source": [
    "## Load Data"
   ]
  },
  {
   "cell_type": "markdown",
   "metadata": {
    "colab_type": "text",
    "id": "kFnKBEmxg1o7"
   },
   "source": [
    "#### Number of clases"
   ]
  },
  {
   "cell_type": "code",
   "execution_count": 0,
   "metadata": {
    "colab": {},
    "colab_type": "code",
    "id": "oSLXIHoKg1o9"
   },
   "outputs": [],
   "source": [
    "num_classes = 10"
   ]
  },
  {
   "cell_type": "markdown",
   "metadata": {
    "colab_type": "text",
    "id": "_bm0Gr7Zg1pC"
   },
   "source": [
    "#### Load training and test datasets"
   ]
  },
  {
   "cell_type": "code",
   "execution_count": 0,
   "metadata": {
    "colab": {},
    "colab_type": "code",
    "id": "ZahQ-LsLg1pD"
   },
   "outputs": [],
   "source": [
    "(X_train, y_train), (X_test, y_test) = cifar10.load_data()"
   ]
  },
  {
   "cell_type": "markdown",
   "metadata": {
    "colab_type": "text",
    "id": "8qHt_l2kg1pI"
   },
   "source": [
    "#### Print shape of the data"
   ]
  },
  {
   "cell_type": "code",
   "execution_count": 0,
   "metadata": {
    "colab": {
     "base_uri": "https://localhost:8080/",
     "height": 85
    },
    "colab_type": "code",
    "id": "KTHFBuOig1pK",
    "outputId": "760cd3d2-7898-430a-87d7-4bff73841633"
   },
   "outputs": [
    {
     "name": "stdout",
     "output_type": "stream",
     "text": [
      "(50000, 32, 32, 3)\n",
      "(50000, 1)\n",
      "(10000, 32, 32, 3)\n",
      "(10000, 1)\n"
     ]
    }
   ],
   "source": [
    "print(X_train.shape)\n",
    "print(y_train.shape)\n",
    "print(X_test.shape)\n",
    "print(y_test.shape)"
   ]
  },
  {
   "cell_type": "markdown",
   "metadata": {
    "colab_type": "text",
    "id": "apYRo8zCg1pS"
   },
   "source": [
    "#### Format Y data: convert class vectors to binary class matrices"
   ]
  },
  {
   "cell_type": "code",
   "execution_count": 0,
   "metadata": {
    "colab": {},
    "colab_type": "code",
    "id": "LMtXnxYPg1pU"
   },
   "outputs": [],
   "source": [
    "y_train = np_utils.to_categorical(y_train, num_classes)\n",
    "y_test = np_utils.to_categorical(y_test, num_classes)"
   ]
  },
  {
   "cell_type": "markdown",
   "metadata": {
    "colab_type": "text",
    "id": "jrFs0rdag1pf"
   },
   "source": [
    "## Plot Training Results"
   ]
  },
  {
   "cell_type": "markdown",
   "metadata": {
    "colab_type": "text",
    "id": "aTogBq_-g1ph"
   },
   "source": [
    "#### Import plot libraries"
   ]
  },
  {
   "cell_type": "code",
   "execution_count": 0,
   "metadata": {
    "colab": {},
    "colab_type": "code",
    "id": "TnCpJHqfg1pi"
   },
   "outputs": [],
   "source": [
    "%matplotlib inline\n",
    "import matplotlib.pyplot as plt\n",
    "\n",
    "# Optional: Seaborn is a Python data visualization library based on matplotlib \n",
    "#    https://seaborn.pydata.org/\n",
    "import seaborn as sns\n",
    "sns.set()"
   ]
  },
  {
   "cell_type": "markdown",
   "metadata": {
    "colab_type": "text",
    "id": "DRzyy29kg1pz"
   },
   "source": [
    "#### Plot method"
   ]
  },
  {
   "cell_type": "code",
   "execution_count": 0,
   "metadata": {
    "colab": {},
    "colab_type": "code",
    "id": "hD2yesZeg1p0"
   },
   "outputs": [],
   "source": [
    "def plot_history(history):\n",
    "    \n",
    "    # Plot training & validation accuracy values\n",
    "    plt.plot(history.history['acc'])\n",
    "    plt.plot(history.history['val_acc'])\n",
    "    plt.title('Model accuracy')\n",
    "    plt.ylabel('Accuracy')\n",
    "    plt.xlabel('Epoch')\n",
    "    plt.legend(['Train', 'Test'], loc='upper left')\n",
    "    plt.show()\n",
    "\n",
    "    # Plot training & validation loss values\n",
    "    plt.plot(history.history['loss'])\n",
    "    plt.plot(history.history['val_loss'])\n",
    "    plt.title('Model loss')\n",
    "    plt.ylabel('Loss')\n",
    "    plt.xlabel('Epoch')\n",
    "    plt.legend(['Train', 'Test'], loc='upper left')\n",
    "    plt.show()"
   ]
  },
  {
   "cell_type": "markdown",
   "metadata": {
    "colab_type": "text",
    "id": "9S4gRWg7g1p5"
   },
   "source": [
    "## Convolutional Model Definition"
   ]
  },
  {
   "cell_type": "code",
   "execution_count": 0,
   "metadata": {
    "colab": {},
    "colab_type": "code",
    "id": "yrP5BQFGg1p9"
   },
   "outputs": [],
   "source": [
    "# Compile method doc: https://keras.io/models/sequential/\n",
    "# Optimizers doc: https://keras.io/optimizers/"
   ]
  },
  {
   "cell_type": "code",
   "execution_count": 0,
   "metadata": {
    "colab": {},
    "colab_type": "code",
    "id": "Re56sRMxg1qB"
   },
   "outputs": [],
   "source": [
    "# Input image dimensions\n",
    "_, img_rows, img_cols, img_channels = X_train.shape"
   ]
  },
  {
   "cell_type": "code",
   "execution_count": 0,
   "metadata": {
    "colab": {},
    "colab_type": "code",
    "id": "0qjxVEZ8g1qh"
   },
   "outputs": [],
   "source": [
    "def create_model():\n",
    "    model = Sequential()\n",
    "\n",
    "    model.add(Conv2D(32, (3, 3), padding='same', input_shape=(img_rows, img_cols, img_channels), data_format='channels_last'))\n",
    "    model.add(Activation('relu'))\n",
    "    model.add(Conv2D(32, (3, 3), padding='same'))\n",
    "    model.add(Activation('relu'))\n",
    "    model.add(MaxPooling2D(pool_size=(2, 2)))\n",
    "    model.add(Dropout(0.25))\n",
    "\n",
    "    model.add(Conv2D(16, (3, 3), padding='same'))\n",
    "    model.add(Activation('relu'))\n",
    "    model.add(Conv2D(16, (3, 3), padding='same'))\n",
    "    model.add(Activation('relu'))\n",
    "    model.add(MaxPooling2D(pool_size=(2, 2)))\n",
    "    model.add(Dropout(0.25))\n",
    "    \n",
    "    model.add(Conv2D(8, (3, 3), padding='same'))\n",
    "    model.add(Activation('relu'))\n",
    "    model.add(Conv2D(8, (3, 3), padding='same'))\n",
    "    model.add(Activation('relu'))\n",
    "    model.add(MaxPooling2D(pool_size=(2, 2)))\n",
    "    model.add(Dropout(0.25))\n",
    "\n",
    "    model.add(Flatten())\n",
    "    model.add(Dense(64))\n",
    "    model.add(Activation('relu'))\n",
    "    model.add(Dropout(0.25))\n",
    "    model.add(Dense(num_classes))\n",
    "    model.add(Activation('softmax'))\n",
    "    \n",
    "    model.compile(loss='categorical_crossentropy', \n",
    "                  optimizer='adam', \n",
    "                  metrics=['accuracy'])\n",
    "    \n",
    "    return model"
   ]
  },
  {
   "cell_type": "markdown",
   "metadata": {
    "colab_type": "text",
    "id": "0KNp3VvCg1qq"
   },
   "source": [
    "## Create a model and print model-summary"
   ]
  },
  {
   "cell_type": "code",
   "execution_count": 0,
   "metadata": {
    "colab": {
     "base_uri": "https://localhost:8080/",
     "height": 952
    },
    "colab_type": "code",
    "id": "GcE5UP5pg1qs",
    "outputId": "d4b0a6fc-aaab-4317-9ee0-8957bfb39185"
   },
   "outputs": [
    {
     "name": "stdout",
     "output_type": "stream",
     "text": [
      "_________________________________________________________________\n",
      "Layer (type)                 Output Shape              Param #   \n",
      "=================================================================\n",
      "conv2d_1 (Conv2D)            (None, 32, 32, 32)        896       \n",
      "_________________________________________________________________\n",
      "activation_1 (Activation)    (None, 32, 32, 32)        0         \n",
      "_________________________________________________________________\n",
      "conv2d_2 (Conv2D)            (None, 32, 32, 32)        9248      \n",
      "_________________________________________________________________\n",
      "activation_2 (Activation)    (None, 32, 32, 32)        0         \n",
      "_________________________________________________________________\n",
      "max_pooling2d_1 (MaxPooling2 (None, 16, 16, 32)        0         \n",
      "_________________________________________________________________\n",
      "dropout_1 (Dropout)          (None, 16, 16, 32)        0         \n",
      "_________________________________________________________________\n",
      "conv2d_3 (Conv2D)            (None, 16, 16, 16)        4624      \n",
      "_________________________________________________________________\n",
      "activation_3 (Activation)    (None, 16, 16, 16)        0         \n",
      "_________________________________________________________________\n",
      "conv2d_4 (Conv2D)            (None, 16, 16, 16)        2320      \n",
      "_________________________________________________________________\n",
      "activation_4 (Activation)    (None, 16, 16, 16)        0         \n",
      "_________________________________________________________________\n",
      "max_pooling2d_2 (MaxPooling2 (None, 8, 8, 16)          0         \n",
      "_________________________________________________________________\n",
      "dropout_2 (Dropout)          (None, 8, 8, 16)          0         \n",
      "_________________________________________________________________\n",
      "conv2d_5 (Conv2D)            (None, 8, 8, 8)           1160      \n",
      "_________________________________________________________________\n",
      "activation_5 (Activation)    (None, 8, 8, 8)           0         \n",
      "_________________________________________________________________\n",
      "conv2d_6 (Conv2D)            (None, 8, 8, 8)           584       \n",
      "_________________________________________________________________\n",
      "activation_6 (Activation)    (None, 8, 8, 8)           0         \n",
      "_________________________________________________________________\n",
      "max_pooling2d_3 (MaxPooling2 (None, 4, 4, 8)           0         \n",
      "_________________________________________________________________\n",
      "dropout_3 (Dropout)          (None, 4, 4, 8)           0         \n",
      "_________________________________________________________________\n",
      "flatten_1 (Flatten)          (None, 128)               0         \n",
      "_________________________________________________________________\n",
      "dense_1 (Dense)              (None, 64)                8256      \n",
      "_________________________________________________________________\n",
      "activation_7 (Activation)    (None, 64)                0         \n",
      "_________________________________________________________________\n",
      "dropout_4 (Dropout)          (None, 64)                0         \n",
      "_________________________________________________________________\n",
      "dense_2 (Dense)              (None, 10)                650       \n",
      "_________________________________________________________________\n",
      "activation_8 (Activation)    (None, 10)                0         \n",
      "=================================================================\n",
      "Total params: 27,738\n",
      "Trainable params: 27,738\n",
      "Non-trainable params: 0\n",
      "_________________________________________________________________\n"
     ]
    }
   ],
   "source": [
    "model=create_model()\n",
    "model.summary()"
   ]
  },
  {
   "cell_type": "markdown",
   "metadata": {
    "colab_type": "text",
    "id": "8Ue_8Iamg1qz"
   },
   "source": [
    "## Example of Training:"
   ]
  },
  {
   "cell_type": "code",
   "execution_count": 0,
   "metadata": {
    "colab": {
     "base_uri": "https://localhost:8080/",
     "height": 34
    },
    "colab_type": "code",
    "id": "kGgcw6zig1q1",
    "outputId": "4f59a31c-7ccf-4c9f-bf01-f7e10d060db6"
   },
   "outputs": [
    {
     "data": {
      "text/plain": [
       "<tensorflow.python.client.session.Session at 0x7f4d6549a8d0>"
      ]
     },
     "execution_count": 11,
     "metadata": {
      "tags": []
     },
     "output_type": "execute_result"
    }
   ],
   "source": [
    "batch_size = 128\n",
    "nb_epoch = 10\n",
    "\n",
    "import tensorflow as tf\n",
    "\n",
    "tf.Session(config=tf.ConfigProto(intra_op_parallelism_threads=4))\n"
   ]
  },
  {
   "cell_type": "code",
   "execution_count": 0,
   "metadata": {
    "colab": {
     "base_uri": "https://localhost:8080/",
     "height": 374
    },
    "colab_type": "code",
    "id": "iXpDkFYhg1q_",
    "outputId": "30d1da57-38e1-4d02-f3e8-87027b3291f0"
   },
   "outputs": [
    {
     "name": "stdout",
     "output_type": "stream",
     "text": [
      "Train on 50000 samples, validate on 10000 samples\n",
      "Epoch 1/10\n",
      "50000/50000 [==============================] - 13s 263us/step - loss: 2.4959 - acc: 0.1209 - val_loss: 2.1562 - val_acc: 0.1766\n",
      "Epoch 2/10\n",
      "50000/50000 [==============================] - 11s 216us/step - loss: 2.0713 - acc: 0.2074 - val_loss: 1.8643 - val_acc: 0.3044\n",
      "Epoch 3/10\n",
      "50000/50000 [==============================] - 11s 215us/step - loss: 1.8239 - acc: 0.3019 - val_loss: 1.6584 - val_acc: 0.3809\n",
      "Epoch 4/10\n",
      "50000/50000 [==============================] - 11s 213us/step - loss: 1.7018 - acc: 0.3552 - val_loss: 1.6162 - val_acc: 0.4000\n",
      "Epoch 5/10\n",
      "50000/50000 [==============================] - 11s 212us/step - loss: 1.6020 - acc: 0.3989 - val_loss: 1.4855 - val_acc: 0.4517\n",
      "Epoch 6/10\n",
      "50000/50000 [==============================] - 11s 213us/step - loss: 1.5272 - acc: 0.4349 - val_loss: 1.4184 - val_acc: 0.4781\n",
      "Epoch 7/10\n",
      "50000/50000 [==============================] - 11s 212us/step - loss: 1.4632 - acc: 0.4604 - val_loss: 1.4362 - val_acc: 0.4684\n",
      "Epoch 8/10\n",
      "50000/50000 [==============================] - 11s 212us/step - loss: 1.4144 - acc: 0.4840 - val_loss: 1.3413 - val_acc: 0.5143\n",
      "Epoch 9/10\n",
      "50000/50000 [==============================] - 11s 213us/step - loss: 1.3685 - acc: 0.4993 - val_loss: 1.2591 - val_acc: 0.5435\n",
      "Epoch 10/10\n",
      "50000/50000 [==============================] - 11s 212us/step - loss: 1.3375 - acc: 0.5125 - val_loss: 1.2844 - val_acc: 0.5423\n"
     ]
    }
   ],
   "source": [
    "model = create_model()\n",
    "\n",
    "# Keras fit function documentation: https://keras.io/models/sequential/\n",
    "history = model.fit(X_train, y_train,\n",
    "                    batch_size=batch_size,\n",
    "                    epochs=nb_epoch,\n",
    "                    verbose=1,\n",
    "                    validation_data=(X_test, y_test),\n",
    "                    shuffle=True)"
   ]
  },
  {
   "cell_type": "markdown",
   "metadata": {
    "colab_type": "text",
    "id": "Z8oUIxWxg1rq"
   },
   "source": [
    "#### Evaluate trained model with test data"
   ]
  },
  {
   "cell_type": "code",
   "execution_count": 0,
   "metadata": {
    "colab": {
     "base_uri": "https://localhost:8080/",
     "height": 68
    },
    "colab_type": "code",
    "id": "Um-mJlk_g1rs",
    "outputId": "db9f522b-b354-4ce9-8066-c2216d3e68e8"
   },
   "outputs": [
    {
     "name": "stdout",
     "output_type": "stream",
     "text": [
      "10000/10000 [==============================] - 1s 136us/step\n",
      "Test loss: 1.284354698753357\n",
      "Test accuracy: 0.5423\n"
     ]
    }
   ],
   "source": [
    "score = model.evaluate(X_test, y_test)\n",
    "print('Test loss:', score[0])\n",
    "print('Test accuracy:', score[1])"
   ]
  },
  {
   "cell_type": "markdown",
   "metadata": {
    "colab_type": "text",
    "id": "NSJO_PCJg1r0"
   },
   "source": [
    "#### Plot training history"
   ]
  },
  {
   "cell_type": "code",
   "execution_count": 0,
   "metadata": {
    "colab": {
     "base_uri": "https://localhost:8080/",
     "height": 735
    },
    "colab_type": "code",
    "id": "via6lqF3g1r3",
    "outputId": "f97e8140-3b21-43b2-9770-644352dae5ea"
   },
   "outputs": [
    {
     "data": {
      "image/png": "[encoded data removed]",
      "text/plain": [
       "<matplotlib.figure.Figure at 0x7f4d65eacd68>"
      ]
     },
     "metadata": {
      "tags": []
     },
     "output_type": "display_data"
    },
    {
     "data": {
      "image/png": "[encoded data removed]",
      "text/plain": [
       "<matplotlib.figure.Figure at 0x7f4dbec1bfd0>"
      ]
     },
     "metadata": {
      "tags": []
     },
     "output_type": "display_data"
    }
   ],
   "source": [
    "plot_history(history)"
   ]
  },
  {
   "cell_type": "markdown",
   "metadata": {
    "colab_type": "text",
    "id": "PFRmTS8qkM1-"
   },
   "source": [
    "## Batch 8"
   ]
  },
  {
   "cell_type": "code",
   "execution_count": 0,
   "metadata": {
    "colab": {
     "base_uri": "https://localhost:8080/",
     "height": 374
    },
    "colab_type": "code",
    "id": "eC2q62BKkM1_",
    "outputId": "ed73aa9e-147f-4b9a-9a3a-401c4e205c2d"
   },
   "outputs": [
    {
     "name": "stdout",
     "output_type": "stream",
     "text": [
      "Train on 50000 samples, validate on 10000 samples\n",
      "Epoch 1/10\n",
      " - 74s - loss: 2.1239 - acc: 0.1857 - val_loss: 1.9503 - val_acc: 0.2614\n",
      "Epoch 2/10\n",
      " - 73s - loss: 1.8131 - acc: 0.3080 - val_loss: 1.6685 - val_acc: 0.3640\n",
      "Epoch 3/10\n",
      " - 73s - loss: 1.7202 - acc: 0.3454 - val_loss: 1.5804 - val_acc: 0.3993\n",
      "Epoch 4/10\n",
      " - 73s - loss: 1.6693 - acc: 0.3759 - val_loss: 1.5136 - val_acc: 0.4382\n",
      "Epoch 5/10\n",
      " - 73s - loss: 1.6397 - acc: 0.3877 - val_loss: 1.5013 - val_acc: 0.4508\n",
      "Epoch 6/10\n",
      " - 73s - loss: 1.6163 - acc: 0.3947 - val_loss: 1.5218 - val_acc: 0.4352\n",
      "Epoch 7/10\n",
      " - 74s - loss: 1.6156 - acc: 0.3988 - val_loss: 1.5002 - val_acc: 0.4418\n",
      "Epoch 8/10\n",
      " - 73s - loss: 1.6032 - acc: 0.4070 - val_loss: 1.5117 - val_acc: 0.4553\n",
      "Epoch 9/10\n",
      " - 73s - loss: 1.5838 - acc: 0.4145 - val_loss: 1.4779 - val_acc: 0.4638\n",
      "Epoch 10/10\n",
      " - 73s - loss: 1.5894 - acc: 0.4125 - val_loss: 1.4669 - val_acc: 0.4598\n"
     ]
    }
   ],
   "source": [
    "batch_size = 8\n",
    "nb_epoch = 10\n",
    "\n",
    "\n",
    "\n",
    "modelo = create_model()\n",
    "\n",
    "\n",
    "# tiempo inicial\n",
    "t0 = time.time()\n",
    "# Keras fit function documentation: https://keras.io/models/sequential/\n",
    "history = modelo.fit(X_train, y_train,\n",
    "                    batch_size=batch_size,\n",
    "                    epochs=nb_epoch,\n",
    "                    verbose=2,\n",
    "                    validation_data=(X_test, y_test),\n",
    "                    shuffle=True)\n",
    "tf =  time.time()"
   ]
  },
  {
   "cell_type": "markdown",
   "metadata": {
    "colab_type": "text",
    "id": "RpByKwiWkM2B"
   },
   "source": [
    "#### Evaluate trained model with test data"
   ]
  },
  {
   "cell_type": "code",
   "execution_count": 38,
   "metadata": {
    "colab": {
     "base_uri": "https://localhost:8080/",
     "height": 51
    },
    "colab_type": "code",
    "id": "evHxUAI-kM2D",
    "outputId": "3e198875-80b7-455f-9de8-0d2371c911e0"
   },
   "outputs": [
    {
     "name": "stdout",
     "output_type": "stream",
     "text": [
      "10000/10000 [==============================] - 1s 146us/step\n",
      "batch_size:  4096 , score:  [2.1556944664001465, 0.2263] , time_delta:  58.73594355583191\n"
     ]
    }
   ],
   "source": [
    "score = modelo.evaluate(X_test, y_test)\n",
    "time_delta = tf-t0\n",
    "exec(\"batch_size_\" + str(batch_size) + \"= batch_size\")\n",
    "exec(\"test_loss_\" + str(batch_size) + \"= score[0]\")\n",
    "exec(\"test_acc_\" + str(batch_size) + \"= score[1]\")\n",
    "exec(\"td_\" + str(batch_size) + \"= time_delta\")\n",
    "\n",
    "\n",
    "print(\"batch_size: \", batch_size, \", score: \", score, \", time_delta: \", time_delta)"
   ]
  },
  {
   "cell_type": "markdown",
   "metadata": {
    "colab_type": "text",
    "id": "vCjNS4dtYsui"
   },
   "source": [
    "## Batch 16"
   ]
  },
  {
   "cell_type": "code",
   "execution_count": 0,
   "metadata": {
    "colab": {
     "base_uri": "https://localhost:8080/",
     "height": 374
    },
    "colab_type": "code",
    "id": "e54cwWaGYsun",
    "outputId": "a6c26e38-209d-4696-89ce-1a9b25d02237"
   },
   "outputs": [
    {
     "name": "stdout",
     "output_type": "stream",
     "text": [
      "Train on 50000 samples, validate on 10000 samples\n",
      "Epoch 1/10\n",
      " - 40s - loss: 2.3136 - acc: 0.2189 - val_loss: 1.7748 - val_acc: 0.3308\n",
      "Epoch 2/10\n",
      " - 39s - loss: 1.7129 - acc: 0.3540 - val_loss: 1.5542 - val_acc: 0.4143\n",
      "Epoch 3/10\n",
      " - 39s - loss: 1.5983 - acc: 0.4025 - val_loss: 1.5462 - val_acc: 0.4403\n",
      "Epoch 4/10\n",
      " - 39s - loss: 1.5285 - acc: 0.4359 - val_loss: 1.4378 - val_acc: 0.4850\n",
      "Epoch 5/10\n",
      " - 39s - loss: 1.4678 - acc: 0.4601 - val_loss: 1.3432 - val_acc: 0.5146\n",
      "Epoch 6/10\n",
      " - 39s - loss: 1.4360 - acc: 0.4761 - val_loss: 1.3309 - val_acc: 0.5185\n",
      "Epoch 7/10\n",
      " - 39s - loss: 1.4064 - acc: 0.4894 - val_loss: 1.2946 - val_acc: 0.5240\n",
      "Epoch 8/10\n",
      " - 39s - loss: 1.3898 - acc: 0.4959 - val_loss: 1.2868 - val_acc: 0.5344\n",
      "Epoch 9/10\n",
      " - 39s - loss: 1.3678 - acc: 0.5053 - val_loss: 1.3108 - val_acc: 0.5314\n",
      "Epoch 10/10\n",
      " - 39s - loss: 1.3569 - acc: 0.5092 - val_loss: 1.2539 - val_acc: 0.5530\n"
     ]
    }
   ],
   "source": [
    "batch_size = 16\n",
    "nb_epoch = 10\n",
    "\n",
    "\n",
    "\n",
    "modelo = create_model()\n",
    "\n",
    "\n",
    "# tiempo inicial\n",
    "t0 = time.time()\n",
    "# Keras fit function documentation: https://keras.io/models/sequential/\n",
    "history = modelo.fit(X_train, y_train,\n",
    "                    batch_size=batch_size,\n",
    "                    epochs=nb_epoch,\n",
    "                    verbose=2,\n",
    "                    validation_data=(X_test, y_test),\n",
    "                    shuffle=True)\n",
    "tf =  time.time()"
   ]
  },
  {
   "cell_type": "markdown",
   "metadata": {
    "colab_type": "text",
    "id": "nnZLezJUYsur"
   },
   "source": [
    "#### Evaluate trained model with test data"
   ]
  },
  {
   "cell_type": "code",
   "execution_count": 0,
   "metadata": {
    "colab": {
     "base_uri": "https://localhost:8080/",
     "height": 51
    },
    "colab_type": "code",
    "id": "72Z7BCTfYsur",
    "outputId": "6ef35ddf-4575-4d1f-b273-2dff7308aca4"
   },
   "outputs": [
    {
     "name": "stdout",
     "output_type": "stream",
     "text": [
      "10000/10000 [==============================] - 1s 140us/step\n",
      "batch_size:  16 , score:  [1.253862951850891, 0.553] , time_delta:  393.1791112422943\n"
     ]
    }
   ],
   "source": [
    "score = modelo.evaluate(X_test, y_test)\n",
    "time_delta = tf-t0\n",
    "exec(\"batch_size_\" + str(batch_size) + \"= batch_size\")\n",
    "exec(\"test_loss_\" + str(batch_size) + \"= score[0]\")\n",
    "exec(\"test_acc_\" + str(batch_size) + \"= score[1]\")\n",
    "exec(\"td_\" + str(batch_size) + \"= time_delta\")\n",
    "\n",
    "\n",
    "print(\"batch_size: \", batch_size, \", score: \", score, \", time_delta: \", time_delta)"
   ]
  },
  {
   "cell_type": "markdown",
   "metadata": {
    "colab_type": "text",
    "id": "77LppmTvg7C0"
   },
   "source": []
  },
  {
   "cell_type": "markdown",
   "metadata": {
    "colab_type": "text",
    "id": "_M8EmzKLhBG_"
   },
   "source": [
    "## Batch 32"
   ]
  },
  {
   "cell_type": "code",
   "execution_count": 19,
   "metadata": {
    "colab": {
     "base_uri": "https://localhost:8080/",
     "height": 374
    },
    "colab_type": "code",
    "id": "DINR4k-dhBHA",
    "outputId": "ee26891b-386b-427d-e64e-04cac45322f4"
   },
   "outputs": [
    {
     "name": "stdout",
     "output_type": "stream",
     "text": [
      "Train on 50000 samples, validate on 10000 samples\n",
      "Epoch 1/10\n",
      " - 24s - loss: 2.3209 - acc: 0.1714 - val_loss: 1.9314 - val_acc: 0.2717\n",
      "Epoch 2/10\n",
      " - 23s - loss: 1.8382 - acc: 0.3050 - val_loss: 1.6625 - val_acc: 0.3764\n",
      "Epoch 3/10\n",
      " - 23s - loss: 1.6650 - acc: 0.3746 - val_loss: 1.5080 - val_acc: 0.4493\n",
      "Epoch 4/10\n",
      " - 23s - loss: 1.5620 - acc: 0.4193 - val_loss: 1.4360 - val_acc: 0.4780\n",
      "Epoch 5/10\n",
      " - 23s - loss: 1.4936 - acc: 0.4478 - val_loss: 1.3470 - val_acc: 0.5047\n",
      "Epoch 6/10\n",
      " - 23s - loss: 1.4534 - acc: 0.4673 - val_loss: 1.3653 - val_acc: 0.5199\n",
      "Epoch 7/10\n",
      " - 23s - loss: 1.4092 - acc: 0.4846 - val_loss: 1.2868 - val_acc: 0.5405\n",
      "Epoch 8/10\n",
      " - 23s - loss: 1.3815 - acc: 0.4980 - val_loss: 1.3099 - val_acc: 0.5288\n",
      "Epoch 9/10\n",
      " - 23s - loss: 1.3474 - acc: 0.5101 - val_loss: 1.2207 - val_acc: 0.5647\n",
      "Epoch 10/10\n",
      " - 23s - loss: 1.3355 - acc: 0.5161 - val_loss: 1.2677 - val_acc: 0.5538\n"
     ]
    }
   ],
   "source": [
    "batch_size = 32\n",
    "nb_epoch = 10\n",
    "\n",
    "\n",
    "\n",
    "modelo = create_model()\n",
    "\n",
    "\n",
    "# tiempo inicial\n",
    "t0 = time.time()\n",
    "# Keras fit function documentation: https://keras.io/models/sequential/\n",
    "history = modelo.fit(X_train, y_train,\n",
    "                    batch_size=batch_size,\n",
    "                    epochs=nb_epoch,\n",
    "                    verbose=2,\n",
    "                    validation_data=(X_test, y_test),\n",
    "                    shuffle=True)\n",
    "tf =  time.time()"
   ]
  },
  {
   "cell_type": "markdown",
   "metadata": {
    "colab_type": "text",
    "id": "p2-uZDOQhBHF"
   },
   "source": [
    "#### Evaluate trained model with test data"
   ]
  },
  {
   "cell_type": "code",
   "execution_count": 20,
   "metadata": {
    "colab": {
     "base_uri": "https://localhost:8080/",
     "height": 51
    },
    "colab_type": "code",
    "id": "TZXVsZVchBHG",
    "outputId": "66acddfd-4fc9-43d9-f219-fee91875b061"
   },
   "outputs": [
    {
     "name": "stdout",
     "output_type": "stream",
     "text": [
      "10000/10000 [==============================] - 1s 144us/step\n",
      "batch_size:  32 , score:  [1.2676858221054077, 0.5538] , time_delta:  229.92945837974548\n"
     ]
    }
   ],
   "source": [
    "score = modelo.evaluate(X_test, y_test)\n",
    "time_delta = tf-t0\n",
    "exec(\"batch_size_\" + str(batch_size) + \"= batch_size\")\n",
    "exec(\"test_loss_\" + str(batch_size) + \"= score[0]\")\n",
    "exec(\"test_acc_\" + str(batch_size) + \"= score[1]\")\n",
    "exec(\"td_\" + str(batch_size) + \"= time_delta\")\n",
    "\n",
    "\n",
    "print(\"batch_size: \", batch_size, \", score: \", score, \", time_delta: \", time_delta)"
   ]
  },
  {
   "cell_type": "code",
   "execution_count": 0,
   "metadata": {
    "colab": {},
    "colab_type": "code",
    "id": "QIz9vAqIhG8J"
   },
   "outputs": [],
   "source": []
  },
  {
   "cell_type": "markdown",
   "metadata": {
    "colab_type": "text",
    "id": "xKokRaaPhIJa"
   },
   "source": [
    "## Batch 64"
   ]
  },
  {
   "cell_type": "code",
   "execution_count": 21,
   "metadata": {
    "colab": {
     "base_uri": "https://localhost:8080/",
     "height": 374
    },
    "colab_type": "code",
    "id": "YZBH0wu_hIJb",
    "outputId": "cc2da458-2522-415b-8bc2-34a802d747ad"
   },
   "outputs": [
    {
     "name": "stdout",
     "output_type": "stream",
     "text": [
      "Train on 50000 samples, validate on 10000 samples\n",
      "Epoch 1/10\n",
      " - 15s - loss: 2.4065 - acc: 0.1701 - val_loss: 2.0923 - val_acc: 0.2121\n",
      "Epoch 2/10\n",
      " - 13s - loss: 1.8906 - acc: 0.2747 - val_loss: 1.8360 - val_acc: 0.3028\n",
      "Epoch 3/10\n",
      " - 13s - loss: 1.7768 - acc: 0.3220 - val_loss: 1.7294 - val_acc: 0.3591\n",
      "Epoch 4/10\n",
      " - 13s - loss: 1.6657 - acc: 0.3713 - val_loss: 1.5256 - val_acc: 0.4326\n",
      "Epoch 5/10\n",
      " - 13s - loss: 1.5885 - acc: 0.4067 - val_loss: 1.5016 - val_acc: 0.4408\n",
      "Epoch 6/10\n",
      " - 13s - loss: 1.5324 - acc: 0.4298 - val_loss: 1.4379 - val_acc: 0.4654\n",
      "Epoch 7/10\n",
      " - 13s - loss: 1.4827 - acc: 0.4530 - val_loss: 1.3674 - val_acc: 0.4980\n",
      "Epoch 8/10\n",
      " - 13s - loss: 1.4444 - acc: 0.4689 - val_loss: 1.3319 - val_acc: 0.5135\n",
      "Epoch 9/10\n",
      " - 13s - loss: 1.4076 - acc: 0.4821 - val_loss: 1.2995 - val_acc: 0.5245\n",
      "Epoch 10/10\n",
      " - 13s - loss: 1.3748 - acc: 0.5015 - val_loss: 1.3608 - val_acc: 0.5116\n"
     ]
    }
   ],
   "source": [
    "batch_size = 64\n",
    "nb_epoch = 10\n",
    "\n",
    "\n",
    "\n",
    "modelo = create_model()\n",
    "\n",
    "\n",
    "# tiempo inicial\n",
    "t0 = time.time()\n",
    "# Keras fit function documentation: https://keras.io/models/sequential/\n",
    "history = modelo.fit(X_train, y_train,\n",
    "                    batch_size=batch_size,\n",
    "                    epochs=nb_epoch,\n",
    "                    verbose=2,\n",
    "                    validation_data=(X_test, y_test),\n",
    "                    shuffle=True)\n",
    "tf =  time.time()"
   ]
  },
  {
   "cell_type": "markdown",
   "metadata": {
    "colab_type": "text",
    "id": "ZFr-25B-hIJf"
   },
   "source": [
    "#### Evaluate trained model with test data"
   ]
  },
  {
   "cell_type": "code",
   "execution_count": 22,
   "metadata": {
    "colab": {
     "base_uri": "https://localhost:8080/",
     "height": 51
    },
    "colab_type": "code",
    "id": "2-sv_YDXhIJg",
    "outputId": "14502da6-db6d-49b2-a85b-c59706c4a2db"
   },
   "outputs": [
    {
     "name": "stdout",
     "output_type": "stream",
     "text": [
      "10000/10000 [==============================] - 1s 129us/step\n",
      "batch_size:  64 , score:  [1.360800884628296, 0.5116] , time_delta:  135.33627939224243\n"
     ]
    }
   ],
   "source": [
    "score = modelo.evaluate(X_test, y_test)\n",
    "time_delta = tf-t0\n",
    "exec(\"batch_size_\" + str(batch_size) + \"= batch_size\")\n",
    "exec(\"test_loss_\" + str(batch_size) + \"= score[0]\")\n",
    "exec(\"test_acc_\" + str(batch_size) + \"= score[1]\")\n",
    "exec(\"td_\" + str(batch_size) + \"= time_delta\")\n",
    "\n",
    "\n",
    "print(\"batch_size: \", batch_size, \", score: \", score, \", time_delta: \", time_delta)"
   ]
  },
  {
   "cell_type": "code",
   "execution_count": 0,
   "metadata": {
    "colab": {},
    "colab_type": "code",
    "id": "XBPyEMONhHIB"
   },
   "outputs": [],
   "source": []
  },
  {
   "cell_type": "markdown",
   "metadata": {
    "colab_type": "text",
    "id": "PolLxdO2hJFW"
   },
   "source": [
    "## Batch 128"
   ]
  },
  {
   "cell_type": "code",
   "execution_count": 23,
   "metadata": {
    "colab": {
     "base_uri": "https://localhost:8080/",
     "height": 374
    },
    "colab_type": "code",
    "id": "Ev9aia5WhJFX",
    "outputId": "d9aaf329-f91c-4216-8ca2-1b327a19f910"
   },
   "outputs": [
    {
     "name": "stdout",
     "output_type": "stream",
     "text": [
      "Train on 50000 samples, validate on 10000 samples\n",
      "Epoch 1/10\n",
      " - 11s - loss: 2.3285 - acc: 0.1597 - val_loss: 1.9452 - val_acc: 0.2699\n",
      "Epoch 2/10\n",
      " - 9s - loss: 1.8324 - acc: 0.3033 - val_loss: 1.7163 - val_acc: 0.3664\n",
      "Epoch 3/10\n",
      " - 9s - loss: 1.6837 - acc: 0.3631 - val_loss: 1.6708 - val_acc: 0.3834\n",
      "Epoch 4/10\n",
      " - 9s - loss: 1.5902 - acc: 0.4021 - val_loss: 1.4730 - val_acc: 0.4590\n",
      "Epoch 5/10\n",
      " - 9s - loss: 1.5345 - acc: 0.4281 - val_loss: 1.4172 - val_acc: 0.4796\n",
      "Epoch 6/10\n",
      " - 9s - loss: 1.4641 - acc: 0.4557 - val_loss: 1.3746 - val_acc: 0.5008\n",
      "Epoch 7/10\n",
      " - 9s - loss: 1.4096 - acc: 0.4805 - val_loss: 1.2842 - val_acc: 0.5355\n",
      "Epoch 8/10\n",
      " - 9s - loss: 1.3538 - acc: 0.5034 - val_loss: 1.3265 - val_acc: 0.5154\n",
      "Epoch 9/10\n",
      " - 9s - loss: 1.3240 - acc: 0.5168 - val_loss: 1.2073 - val_acc: 0.5684\n",
      "Epoch 10/10\n",
      " - 9s - loss: 1.2891 - acc: 0.5333 - val_loss: 1.1889 - val_acc: 0.5807\n"
     ]
    }
   ],
   "source": [
    "batch_size = 128\n",
    "nb_epoch = 10\n",
    "\n",
    "\n",
    "\n",
    "modelo = create_model()\n",
    "\n",
    "\n",
    "# tiempo inicial\n",
    "t0 = time.time()\n",
    "# Keras fit function documentation: https://keras.io/models/sequential/\n",
    "history = modelo.fit(X_train, y_train,\n",
    "                    batch_size=batch_size,\n",
    "                    epochs=nb_epoch,\n",
    "                    verbose=2,\n",
    "                    validation_data=(X_test, y_test),\n",
    "                    shuffle=True)\n",
    "tf =  time.time()"
   ]
  },
  {
   "cell_type": "markdown",
   "metadata": {
    "colab_type": "text",
    "id": "R-J738UmhJFc"
   },
   "source": [
    "#### Evaluate trained model with test data"
   ]
  },
  {
   "cell_type": "code",
   "execution_count": 24,
   "metadata": {
    "colab": {
     "base_uri": "https://localhost:8080/",
     "height": 51
    },
    "colab_type": "code",
    "id": "HzRJmTz1hJFh",
    "outputId": "c5fcda77-5b9d-45e4-88a6-4ddcf8fe0e93"
   },
   "outputs": [
    {
     "name": "stdout",
     "output_type": "stream",
     "text": [
      "10000/10000 [==============================] - 1s 123us/step\n",
      "batch_size:  128 , score:  [1.1889110813140868, 0.5807] , time_delta:  95.365478515625\n"
     ]
    }
   ],
   "source": [
    "score = modelo.evaluate(X_test, y_test)\n",
    "time_delta = tf-t0\n",
    "exec(\"batch_size_\" + str(batch_size) + \"= batch_size\")\n",
    "exec(\"test_loss_\" + str(batch_size) + \"= score[0]\")\n",
    "exec(\"test_acc_\" + str(batch_size) + \"= score[1]\")\n",
    "exec(\"td_\" + str(batch_size) + \"= time_delta\")\n",
    "\n",
    "\n",
    "print(\"batch_size: \", batch_size, \", score: \", score, \", time_delta: \", time_delta)"
   ]
  },
  {
   "cell_type": "code",
   "execution_count": 0,
   "metadata": {
    "colab": {},
    "colab_type": "code",
    "id": "YvKaS9vWhHOQ"
   },
   "outputs": [],
   "source": []
  },
  {
   "cell_type": "markdown",
   "metadata": {
    "colab_type": "text",
    "id": "dSJT-VI_hKCP"
   },
   "source": [
    "## Batch 256"
   ]
  },
  {
   "cell_type": "code",
   "execution_count": 25,
   "metadata": {
    "colab": {
     "base_uri": "https://localhost:8080/",
     "height": 374
    },
    "colab_type": "code",
    "id": "g3stqaU8hKCS",
    "outputId": "e08d2695-7a35-4723-e740-03d2b87072e0"
   },
   "outputs": [
    {
     "name": "stdout",
     "output_type": "stream",
     "text": [
      "Train on 50000 samples, validate on 10000 samples\n",
      "Epoch 1/10\n",
      " - 9s - loss: 2.5363 - acc: 0.1054 - val_loss: 2.2627 - val_acc: 0.1670\n",
      "Epoch 2/10\n",
      " - 7s - loss: 2.2041 - acc: 0.1686 - val_loss: 2.1555 - val_acc: 0.1876\n",
      "Epoch 3/10\n",
      " - 7s - loss: 2.0587 - acc: 0.2279 - val_loss: 1.9196 - val_acc: 0.2876\n",
      "Epoch 4/10\n",
      " - 7s - loss: 1.8528 - acc: 0.2932 - val_loss: 1.7336 - val_acc: 0.3481\n",
      "Epoch 5/10\n",
      " - 7s - loss: 1.7502 - acc: 0.3246 - val_loss: 1.6919 - val_acc: 0.3591\n",
      "Epoch 6/10\n",
      " - 7s - loss: 1.6879 - acc: 0.3533 - val_loss: 1.6269 - val_acc: 0.3882\n",
      "Epoch 7/10\n",
      " - 7s - loss: 1.6312 - acc: 0.3794 - val_loss: 1.5454 - val_acc: 0.4126\n",
      "Epoch 8/10\n",
      " - 7s - loss: 1.5738 - acc: 0.4057 - val_loss: 1.4971 - val_acc: 0.4419\n",
      "Epoch 9/10\n",
      " - 7s - loss: 1.5275 - acc: 0.4277 - val_loss: 1.4293 - val_acc: 0.4629\n",
      "Epoch 10/10\n",
      " - 7s - loss: 1.4843 - acc: 0.4478 - val_loss: 1.4490 - val_acc: 0.4640\n"
     ]
    }
   ],
   "source": [
    "batch_size = 256\n",
    "nb_epoch = 10\n",
    "\n",
    "\n",
    "\n",
    "modelo = create_model()\n",
    "\n",
    "\n",
    "# tiempo inicial\n",
    "t0 = time.time()\n",
    "# Keras fit function documentation: https://keras.io/models/sequential/\n",
    "history = modelo.fit(X_train, y_train,\n",
    "                    batch_size=batch_size,\n",
    "                    epochs=nb_epoch,\n",
    "                    verbose=2,\n",
    "                    validation_data=(X_test, y_test),\n",
    "                    shuffle=True)\n",
    "tf =  time.time()"
   ]
  },
  {
   "cell_type": "markdown",
   "metadata": {
    "colab_type": "text",
    "id": "Snfow4qghKCV"
   },
   "source": [
    "#### Evaluate trained model with test data"
   ]
  },
  {
   "cell_type": "code",
   "execution_count": 26,
   "metadata": {
    "colab": {
     "base_uri": "https://localhost:8080/",
     "height": 51
    },
    "colab_type": "code",
    "id": "VzA_kdDxhKCX",
    "outputId": "bf60b735-0e03-42bf-8094-7bf4b7fc1256"
   },
   "outputs": [
    {
     "name": "stdout",
     "output_type": "stream",
     "text": [
      "10000/10000 [==============================] - 1s 126us/step\n",
      "batch_size:  256 , score:  [1.4490186359405517, 0.464] , time_delta:  73.7788577079773\n"
     ]
    }
   ],
   "source": [
    "score = modelo.evaluate(X_test, y_test)\n",
    "time_delta = tf-t0\n",
    "exec(\"batch_size_\" + str(batch_size) + \"= batch_size\")\n",
    "exec(\"test_loss_\" + str(batch_size) + \"= score[0]\")\n",
    "exec(\"test_acc_\" + str(batch_size) + \"= score[1]\")\n",
    "exec(\"td_\" + str(batch_size) + \"= time_delta\")\n",
    "\n",
    "\n",
    "print(\"batch_size: \", batch_size, \", score: \", score, \", time_delta: \", time_delta)"
   ]
  },
  {
   "cell_type": "code",
   "execution_count": 0,
   "metadata": {
    "colab": {},
    "colab_type": "code",
    "id": "NyR-Bkc1hHg4"
   },
   "outputs": [],
   "source": []
  },
  {
   "cell_type": "markdown",
   "metadata": {
    "colab_type": "text",
    "id": "4SHokn4RhK04"
   },
   "source": [
    "## Batch 512"
   ]
  },
  {
   "cell_type": "code",
   "execution_count": 27,
   "metadata": {
    "colab": {
     "base_uri": "https://localhost:8080/",
     "height": 374
    },
    "colab_type": "code",
    "id": "ldjVbUlIhK06",
    "outputId": "165c3c81-d236-4b15-dae5-0d3a3c873797"
   },
   "outputs": [
    {
     "name": "stdout",
     "output_type": "stream",
     "text": [
      "Train on 50000 samples, validate on 10000 samples\n",
      "Epoch 1/10\n",
      " - 8s - loss: 2.8524 - acc: 0.1047 - val_loss: 2.3008 - val_acc: 0.1294\n",
      "Epoch 2/10\n",
      " - 6s - loss: 2.2594 - acc: 0.1332 - val_loss: 2.0951 - val_acc: 0.2223\n",
      "Epoch 3/10\n",
      " - 6s - loss: 2.0152 - acc: 0.2209 - val_loss: 1.8522 - val_acc: 0.2934\n",
      "Epoch 4/10\n",
      " - 6s - loss: 1.8674 - acc: 0.2739 - val_loss: 1.7324 - val_acc: 0.3497\n",
      "Epoch 5/10\n",
      " - 6s - loss: 1.7790 - acc: 0.3175 - val_loss: 1.6666 - val_acc: 0.3795\n",
      "Epoch 6/10\n",
      " - 6s - loss: 1.7179 - acc: 0.3455 - val_loss: 1.6054 - val_acc: 0.3990\n",
      "Epoch 7/10\n",
      " - 6s - loss: 1.6677 - acc: 0.3715 - val_loss: 1.5600 - val_acc: 0.4255\n",
      "Epoch 8/10\n",
      " - 6s - loss: 1.6241 - acc: 0.3935 - val_loss: 1.5162 - val_acc: 0.4474\n",
      "Epoch 9/10\n",
      " - 6s - loss: 1.5853 - acc: 0.4058 - val_loss: 1.4777 - val_acc: 0.4654\n",
      "Epoch 10/10\n",
      " - 6s - loss: 1.5436 - acc: 0.4229 - val_loss: 1.4206 - val_acc: 0.4775\n"
     ]
    }
   ],
   "source": [
    "batch_size = 512\n",
    "nb_epoch = 10\n",
    "\n",
    "\n",
    "\n",
    "modelo = create_model()\n",
    "\n",
    "\n",
    "# tiempo inicial\n",
    "t0 = time.time()\n",
    "# Keras fit function documentation: https://keras.io/models/sequential/\n",
    "history = modelo.fit(X_train, y_train,\n",
    "                    batch_size=batch_size,\n",
    "                    epochs=nb_epoch,\n",
    "                    verbose=2,\n",
    "                    validation_data=(X_test, y_test),\n",
    "                    shuffle=True)\n",
    "tf =  time.time()"
   ]
  },
  {
   "cell_type": "markdown",
   "metadata": {
    "colab_type": "text",
    "id": "g8w7PyUFhK0-"
   },
   "source": [
    "#### Evaluate trained model with test data"
   ]
  },
  {
   "cell_type": "code",
   "execution_count": 28,
   "metadata": {
    "colab": {
     "base_uri": "https://localhost:8080/",
     "height": 51
    },
    "colab_type": "code",
    "id": "g3eJWn9ZhK0_",
    "outputId": "386e8ab2-62bf-4c65-89ab-15a6e1073947"
   },
   "outputs": [
    {
     "name": "stdout",
     "output_type": "stream",
     "text": [
      "10000/10000 [==============================] - 1s 129us/step\n",
      "batch_size:  512 , score:  [1.4205513601303101, 0.4775] , time_delta:  63.95291781425476\n"
     ]
    }
   ],
   "source": [
    "score = modelo.evaluate(X_test, y_test)\n",
    "time_delta = tf-t0\n",
    "exec(\"batch_size_\" + str(batch_size) + \"= batch_size\")\n",
    "exec(\"test_loss_\" + str(batch_size) + \"= score[0]\")\n",
    "exec(\"test_acc_\" + str(batch_size) + \"= score[1]\")\n",
    "exec(\"td_\" + str(batch_size) + \"= time_delta\")\n",
    "\n",
    "\n",
    "print(\"batch_size: \", batch_size, \", score: \", score, \", time_delta: \", time_delta)"
   ]
  },
  {
   "cell_type": "code",
   "execution_count": 0,
   "metadata": {
    "colab": {},
    "colab_type": "code",
    "id": "iW2xgPDphHfN"
   },
   "outputs": [],
   "source": []
  },
  {
   "cell_type": "markdown",
   "metadata": {
    "colab_type": "text",
    "id": "ifksauHUhNoB"
   },
   "source": [
    "## Batch 1024"
   ]
  },
  {
   "cell_type": "code",
   "execution_count": 29,
   "metadata": {
    "colab": {
     "base_uri": "https://localhost:8080/",
     "height": 374
    },
    "colab_type": "code",
    "id": "H7RrFvB2hNoC",
    "outputId": "30aae65c-2c7f-4199-f4ee-2f925c43a052"
   },
   "outputs": [
    {
     "name": "stdout",
     "output_type": "stream",
     "text": [
      "Train on 50000 samples, validate on 10000 samples\n",
      "Epoch 1/10\n",
      " - 9s - loss: 2.8196 - acc: 0.1054 - val_loss: 2.2888 - val_acc: 0.1391\n",
      "Epoch 2/10\n",
      " - 6s - loss: 2.2320 - acc: 0.1428 - val_loss: 2.2033 - val_acc: 0.1989\n",
      "Epoch 3/10\n",
      " - 6s - loss: 2.1626 - acc: 0.1918 - val_loss: 2.1193 - val_acc: 0.2228\n",
      "Epoch 4/10\n",
      " - 6s - loss: 2.0800 - acc: 0.2200 - val_loss: 1.9843 - val_acc: 0.2802\n",
      "Epoch 5/10\n",
      " - 6s - loss: 1.9542 - acc: 0.2701 - val_loss: 2.0187 - val_acc: 0.2535\n",
      "Epoch 6/10\n",
      " - 6s - loss: 1.8448 - acc: 0.3027 - val_loss: 1.8069 - val_acc: 0.3262\n",
      "Epoch 7/10\n",
      " - 6s - loss: 1.7740 - acc: 0.3264 - val_loss: 1.8039 - val_acc: 0.3280\n",
      "Epoch 8/10\n",
      " - 6s - loss: 1.7134 - acc: 0.3466 - val_loss: 1.6290 - val_acc: 0.3824\n",
      "Epoch 9/10\n",
      " - 6s - loss: 1.6782 - acc: 0.3631 - val_loss: 1.6222 - val_acc: 0.3937\n",
      "Epoch 10/10\n",
      " - 6s - loss: 1.6399 - acc: 0.3791 - val_loss: 1.5745 - val_acc: 0.4135\n"
     ]
    }
   ],
   "source": [
    "batch_size = 1024\n",
    "nb_epoch = 10\n",
    "\n",
    "\n",
    "\n",
    "modelo = create_model()\n",
    "\n",
    "\n",
    "# tiempo inicial\n",
    "t0 = time.time()\n",
    "# Keras fit function documentation: https://keras.io/models/sequential/\n",
    "history = modelo.fit(X_train, y_train,\n",
    "                    batch_size=batch_size,\n",
    "                    epochs=nb_epoch,\n",
    "                    verbose=2,\n",
    "                    validation_data=(X_test, y_test),\n",
    "                    shuffle=True)\n",
    "tf =  time.time()"
   ]
  },
  {
   "cell_type": "markdown",
   "metadata": {
    "colab_type": "text",
    "id": "ftMm9giQhNoI"
   },
   "source": [
    "#### Evaluate trained model with test data"
   ]
  },
  {
   "cell_type": "code",
   "execution_count": 30,
   "metadata": {
    "colab": {
     "base_uri": "https://localhost:8080/",
     "height": 51
    },
    "colab_type": "code",
    "id": "oF_XH48hhNoK",
    "outputId": "a62af369-a800-4e30-fa20-42f7fa162cf0"
   },
   "outputs": [
    {
     "name": "stdout",
     "output_type": "stream",
     "text": [
      "10000/10000 [==============================] - 1s 129us/step\n",
      "batch_size:  1024 , score:  [1.5745391204833985, 0.4135] , time_delta:  61.06731677055359\n"
     ]
    }
   ],
   "source": [
    "score = modelo.evaluate(X_test, y_test)\n",
    "time_delta = tf-t0\n",
    "exec(\"batch_size_\" + str(batch_size) + \"= batch_size\")\n",
    "exec(\"test_loss_\" + str(batch_size) + \"= score[0]\")\n",
    "exec(\"test_acc_\" + str(batch_size) + \"= score[1]\")\n",
    "exec(\"td_\" + str(batch_size) + \"= time_delta\")\n",
    "\n",
    "\n",
    "print(\"batch_size: \", batch_size, \", score: \", score, \", time_delta: \", time_delta)"
   ]
  },
  {
   "cell_type": "code",
   "execution_count": 0,
   "metadata": {
    "colab": {},
    "colab_type": "code",
    "id": "XboUIXQ_hHdT"
   },
   "outputs": [],
   "source": []
  },
  {
   "cell_type": "markdown",
   "metadata": {
    "colab_type": "text",
    "id": "_Dse_Mz_htbf"
   },
   "source": [
    "## Batch 2048"
   ]
  },
  {
   "cell_type": "code",
   "execution_count": 31,
   "metadata": {
    "colab": {
     "base_uri": "https://localhost:8080/",
     "height": 374
    },
    "colab_type": "code",
    "id": "mpMNhBm7htbi",
    "outputId": "4404be4b-5df9-458a-8644-01713ba81176"
   },
   "outputs": [
    {
     "name": "stdout",
     "output_type": "stream",
     "text": [
      "Train on 50000 samples, validate on 10000 samples\n",
      "Epoch 1/10\n",
      " - 9s - loss: 4.0060 - acc: 0.0988 - val_loss: 2.3029 - val_acc: 0.1030\n",
      "Epoch 2/10\n",
      " - 5s - loss: 2.3030 - acc: 0.1037 - val_loss: 2.3026 - val_acc: 0.1006\n",
      "Epoch 3/10\n",
      " - 5s - loss: 2.3015 - acc: 0.1092 - val_loss: 2.3008 - val_acc: 0.1099\n",
      "Epoch 4/10\n",
      " - 5s - loss: 2.2976 - acc: 0.1157 - val_loss: 2.2851 - val_acc: 0.1239\n",
      "Epoch 5/10\n",
      " - 5s - loss: 2.2714 - acc: 0.1303 - val_loss: 2.2102 - val_acc: 0.1765\n",
      "Epoch 6/10\n",
      " - 5s - loss: 2.1956 - acc: 0.1753 - val_loss: 2.1273 - val_acc: 0.2069\n",
      "Epoch 7/10\n",
      " - 5s - loss: 2.1175 - acc: 0.2064 - val_loss: 2.0464 - val_acc: 0.2487\n",
      "Epoch 8/10\n",
      " - 5s - loss: 2.0242 - acc: 0.2363 - val_loss: 1.9045 - val_acc: 0.2836\n",
      "Epoch 9/10\n",
      " - 5s - loss: 1.9436 - acc: 0.2538 - val_loss: 1.8374 - val_acc: 0.3078\n",
      "Epoch 10/10\n",
      " - 5s - loss: 1.8628 - acc: 0.2748 - val_loss: 1.7637 - val_acc: 0.3472\n"
     ]
    }
   ],
   "source": [
    "batch_size = 2048\n",
    "nb_epoch = 10\n",
    "\n",
    "\n",
    "\n",
    "modelo = create_model()\n",
    "\n",
    "\n",
    "# tiempo inicial\n",
    "t0 = time.time()\n",
    "# Keras fit function documentation: https://keras.io/models/sequential/\n",
    "history = modelo.fit(X_train, y_train,\n",
    "                    batch_size=batch_size,\n",
    "                    epochs=nb_epoch,\n",
    "                    verbose=2,\n",
    "                    validation_data=(X_test, y_test),\n",
    "                    shuffle=True)\n",
    "tf =  time.time()"
   ]
  },
  {
   "cell_type": "markdown",
   "metadata": {
    "colab_type": "text",
    "id": "N-lMGnmehtbm"
   },
   "source": [
    "#### Evaluate trained model with test data"
   ]
  },
  {
   "cell_type": "code",
   "execution_count": 32,
   "metadata": {
    "colab": {
     "base_uri": "https://localhost:8080/",
     "height": 51
    },
    "colab_type": "code",
    "id": "Pv4q1s2Hhtbo",
    "outputId": "f7e745a2-787b-40cd-c91e-930b02524dc7"
   },
   "outputs": [
    {
     "name": "stdout",
     "output_type": "stream",
     "text": [
      "10000/10000 [==============================] - 1s 134us/step\n",
      "batch_size:  2048 , score:  [1.763734799194336, 0.3472] , time_delta:  59.48338770866394\n"
     ]
    }
   ],
   "source": [
    "score = modelo.evaluate(X_test, y_test)\n",
    "time_delta = tf-t0\n",
    "exec(\"batch_size_\" + str(batch_size) + \"= batch_size\")\n",
    "exec(\"test_loss_\" + str(batch_size) + \"= score[0]\")\n",
    "exec(\"test_acc_\" + str(batch_size) + \"= score[1]\")\n",
    "exec(\"td_\" + str(batch_size) + \"= time_delta\")\n",
    "\n",
    "\n",
    "print(\"batch_size: \", batch_size, \", score: \", score, \", time_delta: \", time_delta)"
   ]
  },
  {
   "cell_type": "code",
   "execution_count": 0,
   "metadata": {
    "colab": {},
    "colab_type": "code",
    "id": "vxtRYtywhHbQ"
   },
   "outputs": [],
   "source": []
  },
  {
   "cell_type": "markdown",
   "metadata": {
    "colab_type": "text",
    "id": "uU8LUCXdhyGL"
   },
   "source": [
    "## Batch 4096"
   ]
  },
  {
   "cell_type": "code",
   "execution_count": 39,
   "metadata": {
    "colab": {
     "base_uri": "https://localhost:8080/",
     "height": 374
    },
    "colab_type": "code",
    "id": "xZK--M4hhyGM",
    "outputId": "9d260e1b-d470-457c-dea8-5a6d4eb66985"
   },
   "outputs": [
    {
     "name": "stdout",
     "output_type": "stream",
     "text": [
      "Train on 50000 samples, validate on 10000 samples\n",
      "Epoch 1/10\n",
      " - 7s - loss: 8.5913 - acc: 0.1077 - val_loss: 2.3012 - val_acc: 0.1136\n",
      "Epoch 2/10\n",
      " - 5s - loss: 2.3384 - acc: 0.1065 - val_loss: 2.3002 - val_acc: 0.1188\n",
      "Epoch 3/10\n",
      " - 5s - loss: 2.3016 - acc: 0.1077 - val_loss: 2.2997 - val_acc: 0.1213\n",
      "Epoch 4/10\n",
      " - 5s - loss: 2.2968 - acc: 0.1109 - val_loss: 2.2960 - val_acc: 0.1455\n",
      "Epoch 5/10\n",
      " - 5s - loss: 2.2876 - acc: 0.1230 - val_loss: 2.2838 - val_acc: 0.1532\n",
      "Epoch 6/10\n",
      " - 5s - loss: 2.2689 - acc: 0.1372 - val_loss: 2.2508 - val_acc: 0.1632\n",
      "Epoch 7/10\n",
      " - 5s - loss: 2.2422 - acc: 0.1508 - val_loss: 2.2258 - val_acc: 0.1788\n",
      "Epoch 8/10\n",
      " - 5s - loss: 2.2201 - acc: 0.1624 - val_loss: 2.1887 - val_acc: 0.1963\n",
      "Epoch 9/10\n",
      " - 5s - loss: 2.1936 - acc: 0.1715 - val_loss: 2.1580 - val_acc: 0.2141\n",
      "Epoch 10/10\n",
      " - 5s - loss: 2.1679 - acc: 0.1833 - val_loss: 2.1263 - val_acc: 0.2241\n"
     ]
    }
   ],
   "source": [
    "batch_size = 4096\n",
    "nb_epoch = 10\n",
    "\n",
    "\n",
    "\n",
    "modelo = create_model()\n",
    "\n",
    "\n",
    "# tiempo inicial\n",
    "t0 = time.time()\n",
    "# Keras fit function documentation: https://keras.io/models/sequential/\n",
    "history = modelo.fit(X_train, y_train,\n",
    "                    batch_size=batch_size,\n",
    "                    epochs=nb_epoch,\n",
    "                    verbose=2,\n",
    "                    validation_data=(X_test, y_test),\n",
    "                    shuffle=True)\n",
    "tf =  time.time()"
   ]
  },
  {
   "cell_type": "markdown",
   "metadata": {
    "colab_type": "text",
    "id": "EdcEdhyzhyGR"
   },
   "source": [
    "#### Evaluate trained model with test data"
   ]
  },
  {
   "cell_type": "code",
   "execution_count": 34,
   "metadata": {
    "colab": {
     "base_uri": "https://localhost:8080/",
     "height": 51
    },
    "colab_type": "code",
    "id": "ayh3A_kbhyGe",
    "outputId": "dcd34e36-250a-4e9e-aaab-771a24441aef"
   },
   "outputs": [
    {
     "name": "stdout",
     "output_type": "stream",
     "text": [
      "10000/10000 [==============================] - 1s 134us/step\n",
      "batch_size:  4096 , score:  [2.1556944664001465, 0.2263] , time_delta:  58.73594355583191\n"
     ]
    }
   ],
   "source": [
    "score = modelo.evaluate(X_test, y_test)\n",
    "time_delta = tf-t0\n",
    "exec(\"batch_size_\" + str(batch_size) + \"= batch_size\")\n",
    "exec(\"test_loss_\" + str(batch_size) + \"= score[0]\")\n",
    "exec(\"test_acc_\" + str(batch_size) + \"= score[1]\")\n",
    "exec(\"td_\" + str(batch_size) + \"= time_delta\")\n",
    "\n",
    "\n",
    "print(\"batch_size: \", batch_size, \", score: \", score, \", time_delta: \", time_delta)"
   ]
  },
  {
   "cell_type": "code",
   "execution_count": 0,
   "metadata": {
    "colab": {},
    "colab_type": "code",
    "id": "j0wfQk2whHSC"
   },
   "outputs": [],
   "source": []
  },
  {
   "cell_type": "code",
   "execution_count": 0,
   "metadata": {
    "colab": {},
    "colab_type": "code",
    "id": "yMwa0Thzg1uP"
   },
   "outputs": [],
   "source": [
    "batch_size_list = [batch_size_8, batch_size_16, batch_size_32, batch_size_64, batch_size_128, batch_size_256, batch_size_512, batch_size_1024, batch_size_2048, batch_size_4096]\n",
    "test_loss_list = [test_loss_8, test_loss_16, test_loss_32, test_loss_64, test_loss_128, test_loss_256, test_loss_512, test_loss_1024, test_loss_2048, test_loss_4096]\n",
    "test_acc_list = [test_acc_8, test_acc_16, test_acc_32, test_acc_64, test_acc_128, test_acc_256, test_acc_512, test_acc_1024, test_acc_2048, test_acc_4096]\n",
    "td_list = [td_8, td_16, td_32, td_64, td_128, td_256, td_512, td_1024, td_2048, td_4096]"
   ]
  },
  {
   "cell_type": "code",
   "execution_count": 41,
   "metadata": {
    "colab": {
     "base_uri": "https://localhost:8080/",
     "height": 105
    },
    "colab_type": "code",
    "id": "CC1sNmxJg1uT",
    "outputId": "d2b97c9f-2772-43e3-af97-69dcac06c651"
   },
   "outputs": [
    {
     "name": "stdout",
     "output_type": "stream",
     "text": [
      "[8, 16, 32, 64, 128, 256, 512, 1024, 2048, 4096]\n",
      "[1.4668790264129639, 1.253862951850891, 1.2676858221054077, 1.360800884628296, 1.1889110813140868, 1.4490186359405517, 1.4205513601303101, 1.5745391204833985, 1.763734799194336, 2.1556944664001465]\n",
      "[0.4598, 0.553, 0.5538, 0.5116, 0.5807, 0.464, 0.4775, 0.4135, 0.3472, 0.2263]\n",
      "[735.5136616230011, 393.1791112422943, 229.92945837974548, 135.33627939224243, 95.365478515625, 73.7788577079773, 63.95291781425476, 61.06731677055359, 59.48338770866394, 58.73594355583191]\n"
     ]
    }
   ],
   "source": [
    "print(batch_size_list)\n",
    "print(test_loss_list)\n",
    "print(test_acc_list)\n",
    "print(td_list)"
   ]
  },
  {
   "cell_type": "code",
   "execution_count": 42,
   "metadata": {
    "colab": {
     "base_uri": "https://localhost:8080/",
     "height": 1094
    },
    "colab_type": "code",
    "id": "L5otn79-g1uY",
    "outputId": "8f2ea9d7-ba4d-4bce-aec0-81a8ebd0c359"
   },
   "outputs": [
    {
     "data": {
      "image/png": "[encoded data removed]",
      "text/plain": [
       "<matplotlib.figure.Figure at 0x7f4d41e76ac8>"
      ]
     },
     "metadata": {
      "tags": []
     },
     "output_type": "display_data"
    },
    {
     "data": {
      "image/png": "[encoded data removed]",
      "text/plain": [
       "<matplotlib.figure.Figure at 0x7f4d41e12d68>"
      ]
     },
     "metadata": {
      "tags": []
     },
     "output_type": "display_data"
    },
    {
     "data": {
      "image/png": "[encoded data removed]",
      "text/plain": [
       "<matplotlib.figure.Figure at 0x7f4d41d3ecf8>"
      ]
     },
     "metadata": {
      "tags": []
     },
     "output_type": "display_data"
    }
   ],
   "source": [
    "# Plot training & validation accuracy values\n",
    "plt.plot(batch_size_list,test_loss_list)\n",
    "plt.title('test_loss_list')\n",
    "plt.ylabel('test_loss_list')\n",
    "plt.xlabel('batch_size_list')\n",
    "plt.legend(['test_loss_list'], loc='upper right')\n",
    "plt.show()\n",
    "\n",
    "plt.plot(batch_size_list,test_acc_list)\n",
    "plt.title('test_acc_list')\n",
    "plt.ylabel('test_acc_list')\n",
    "plt.xlabel('batch_size_list')\n",
    "plt.legend(['test_acc_list'], loc='upper right')\n",
    "plt.show()\n",
    "\n",
    "plt.plot(batch_size_list,td_list)\n",
    "plt.title('td_list')\n",
    "plt.ylabel('td_list')\n",
    "plt.xlabel('batch_size_list')\n",
    "plt.legend(['td_list'], loc='upper right')\n",
    "plt.show()"
   ]
  }
 ],
 "metadata": {
  "accelerator": "GPU",
  "colab": {
   "collapsed_sections": [],
   "name": "Copia de OFWN_practica_S2_cifar10_keras_gpu.ipynb",
   "provenance": [],
   "version": "0.3.2"
  },
  "kernelspec": {
   "display_name": "Python 3",
   "language": "python",
   "name": "python3"
  },
  "language_info": {
   "codemirror_mode": {
    "name": "ipython",
    "version": 3
   },
   "file_extension": ".py",
   "mimetype": "text/x-python",
   "name": "python",
   "nbconvert_exporter": "python",
   "pygments_lexer": "ipython3",
   "version": "3.6.5"
  }
 },
 "nbformat": 4,
 "nbformat_minor": 1
}
