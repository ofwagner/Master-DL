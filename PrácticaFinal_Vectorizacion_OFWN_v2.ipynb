{
  "nbformat": 4,
  "nbformat_minor": 0,
  "metadata": {
    "colab": {
      "name": "PrácticaFinal Vectorizacion OFWN v2.ipynb",
      "version": "0.3.2",
      "provenance": [],
      "collapsed_sections": []
    },
    "kernelspec": {
      "name": "python3",
      "display_name": "Python 3"
    },
    "accelerator": "GPU"
  },
  "cells": [
    {
      "metadata": {
        "colab_type": "text",
        "id": "5H1nWhikvlVl"
      },
      "cell_type": "markdown",
      "source": [
        "# Parte 1: Cuestionario (2.5 puntos)"
      ]
    },
    {
      "metadata": {
        "colab_type": "text",
        "id": "ggztemaDwvQC"
      },
      "cell_type": "markdown",
      "source": [
        "### 1.1 *(0.5 puntos)* Explicar por qué es preferible hacer np.dot(X, Y), donde X e Y son arrays bidimensionales, que ejecutar un triple bucle con el algoritmo básico de la multiplicación de matrices."
      ]
    },
    {
      "metadata": {
        "colab_type": "text",
        "id": "fmPuCTrqxFbS"
      },
      "cell_type": "markdown",
      "source": [
        "Las computadoras modernas llevan instrucciones SIMD . Este tipo de operaciones hacen que las operaciones vectoriales como np.dot se realicen de manera eficiente y por tanto sean preferibles que las operaciones elemento a elemento como en el caso del uso del triple bucle. \n",
        "\n",
        "Esto se debe principalmente por los siguientes motivos:\n",
        "\n",
        "\n",
        "* Los procesadores tienen registros (por ejemplo, de 256 bits) donde almacenar múltiples elementos.\n",
        "\n",
        "* Con una sola instrucción, un procesador puede efectuar una suma de varios elementos a la vez, en vez de tener que ir sumando elemento a elemento (una especie de _data parallelism_ consistente en que un único núcleo pueda ejecutar una instrucción a varios elementos).\n",
        "\n",
        "* Esto aumenta drásticamente la velocidad de operaciones como suma o producto de vectores y matrices.\n",
        "\n",
        "* Numpy usa internamente las librerias BLAS, ATLAS específicas del algebra lineal: \n",
        "https://en.wikipedia.org/wiki/Automatically_Tuned_Linear_Algebra_Software\n",
        "\n",
        "\n",
        "\n"
      ]
    },
    {
      "metadata": {
        "colab_type": "text",
        "id": "FLtL4jdOxJNY"
      },
      "cell_type": "markdown",
      "source": [
        "### 1.2 *(0.5 puntos)* Explicar qué ventajas nos aporta utilizar un grafo de computación a la hora de entrenar redes neuronales."
      ]
    },
    {
      "metadata": {
        "colab_type": "text",
        "id": "JvFvPIkix044"
      },
      "cell_type": "markdown",
      "source": [
        "El uso de los grafos de computación dan una serie de ventajas que facilitan el entrenamiento de las redes neuronales\n",
        "\n",
        "* **Validación y optimización de los cálculos a realizar**. Más velocidad de ejecución: Esto quiere decir que si el sistema conoce previamente las operaciones a realizar, éste podrá optimizar el proceso para que sea más eficiente\n",
        "\n",
        "\n",
        "* **Facilita la auto-diferenciación**: gracias a esto TF es capaz de calcuar las derivadas nodo a nodo\n",
        "\n",
        "* **Facilita la ejecución en entornos distribuidos y GPUs**:  el grafo se puede dividir en tareas más sencillas permitiendo que distintas partes del sistema se encargen de cada tarea\n"
      ]
    },
    {
      "metadata": {
        "colab_type": "text",
        "id": "tsZHOJWdx2yV"
      },
      "cell_type": "markdown",
      "source": [
        "### 1.3 *(0.5 puntos)* Hemos visto cómo con TensorFlow es posible añadir una operación de optimización (como *tf.train.GradientDescentOptimizer*) y aplicar con ésta la minimización de la función de pérdida. Explicar cómo afecta esto al grafo de computación y cuál es su relación con el entrenamiento de una red neuronal."
      ]
    },
    {
      "metadata": {
        "colab_type": "text",
        "id": "i_c_BBjzx25o"
      },
      "cell_type": "markdown",
      "source": [
        "Un optimizador se aplica a los gradientes calculados de las variables del modelo con el objetivo de minimizar el _loss_. \n",
        "\n",
        "Estos gradientes tienen impactos en las distintas capas de la red ya que actualizan los pesos de los _caminos_ entre unidades (neuronas) y los _bias_ con el obejtivo de reducir el _loss_ y por ende lograr mejores predicciones.\n",
        "\n",
        "En la siguiente imagen se observa como esto afecta al grado de computación\n",
        "\n",
        "![Gráfico de computación](https://www.tensorflow.org/images/mnist_deep.png)\n",
        "\n",
        "https://www.tensorflow.org/guide/graphs\n",
        "\n",
        "Como observamos en el grafico previo, en este caso un optimizador Adam, tiene impacto en cada capa e interviene en el cálculo del gradiente.\n",
        "\n",
        "Si nos fijamos en el recuadro rojo de la siguiente imagen, podemos ver como actúa el optimizador en el cálculo del gradiente.\n",
        "![cálculo del gradiente](https://i.stack.imgur.com/nFc5Y.png)\n",
        "\n",
        "\n"
      ]
    },
    {
      "metadata": {
        "colab_type": "text",
        "id": "1vFhP_iYx281"
      },
      "cell_type": "markdown",
      "source": [
        "### 1.4 *(0.5 puntos)* ¿Qué diferencias hay entre grafos estáticos y grafos dinámicos?\n",
        "\n",
        "\n"
      ]
    },
    {
      "metadata": {
        "colab_type": "text",
        "id": "xcgjyogx0FOw"
      },
      "cell_type": "markdown",
      "source": [
        "Un gráfico estático se crea y después se ejecuta (_define-and-run_), en cambio un gráfico dinámico se va calculando según el código se va ejecutando (_define-by-run_).\n",
        "Los grafos dinámicos permiten ejecutar código de una manera más imperativa, las operaciones se ejecutan al instante al contrario que en los gráficos estáticos que tenemos que definir el grafo y luego ejecutarlo dentro de una sesión. Además los dinámicos permiten ejecutar instrucciones línea a línea. Otra de las ventajas que tiene los gráficos dinámicos es que permiten construir grafos diferentes para distintos inputs, como estructuras _if/else_. \n",
        "\n",
        "Los gráficos dinámicos son útiles cuando estamos experimentando y probando, en cambio los estáticos son más utiles en producción y para entrenamiento distribuido ya que mejoran el rendimiento y tienen mayor facilidades en entornos reales\n",
        "\n",
        "\n",
        "\n",
        "\n",
        "pag: 55, 88-97"
      ]
    },
    {
      "metadata": {
        "colab_type": "text",
        "id": "0Rm79mkb0FT3"
      },
      "cell_type": "markdown",
      "source": [
        "### 1.5 *(0.5 puntos)* Algunas ops en redes neuronales tienen un comportamiento diferente durante *training time* (cuando entrenamos la red) que durante *inference time* (cuando utilizamos la red ya entrenada). Da un ejemplo de una operación usada en redes neuronales de este tipo y explicar la diferencia en ejecución. ¿Qué consecuencias tiene esto en relación al grafo de computación?"
      ]
    },
    {
      "metadata": {
        "colab_type": "text",
        "id": "32uwO8Gc0FYf"
      },
      "cell_type": "markdown",
      "source": [
        "Un operación muy utilizada y significativa en el entrenamiento de redes neuronales es el drop-out que consisite en \"apagar\" una serie de neuronas para que la propagación no pasen por ellas. El objetivo del drop-out es evitar _overfiting_ del modelo.\n",
        "\n",
        "![drop-out](https://cdn-images-1.medium.com/max/800/1*iWQzxhVlvadk6VAJjsgXgg.png)\n",
        "\n",
        "Esto sólo tiene sentido en el entrenamiento de la red, ya que, el objetivo es que los pesos que intervienen en esas neuronas no se actualicen en esa etapa.  En la fase de inferencia, el drop-out debe ser \"evitado\" ya que todas las neuronas deben estar activas con sus pesos calculados en el entrenamiento.\n",
        "\n",
        "Todo esto afecta en el grafo de computación ya que en el entrenamiento incluirá una tarea de drop-out entre las capas que corresponda y en inferencia no.\n",
        "\n",
        "Como podemos ver, en el código adjunto de la página de TensorFlow,  si en el modelo creado se pone \"training=False\" realmente estamos desactivando el drop-out cuando no entrenamos.\n",
        "\n",
        "https://www.tensorflow.org/api_docs/python/tf/keras/models/Model\n",
        "\n",
        "import tensorflow as tf\n",
        "\n",
        "class MyModel(tf.keras.Model):\n",
        "\n",
        "  def __init__(self):\n",
        "  \n",
        "    super(MyModel, self).__init__()\n",
        "    self.dense1 = tf.keras.layers.Dense(4, activation=tf.nn.relu)\n",
        "    self.dense2 = tf.keras.layers.Dense(5, activation=tf.nn.softmax)\n",
        "    self.dropout = tf.keras.layers.Dropout(0.5)\n",
        "\n",
        "  def call(self, inputs, t**raining=False**):\n",
        "  \n",
        "    x = self.dense1(inputs)\n",
        "    if training:\n",
        "      x = self.dropout(x, training=training)\n",
        "    return self.dense2(x)\n",
        "\n",
        "\n",
        "Otro tema que afecta de distinta forma es el _batch size_, en entrenamiento son los disitntos bloques que pasamos a la red para que ésta vaya aprendiendo condicionando la actualización de pesos y la velocidad de aprendizaje.\n",
        "\n",
        "En la fase de inferencia el _batch size_ sólo interviene en cuantas predicciones hará por bloque, pero el resultado no debería variar. \n",
        "\n",
        "Para complementar se puede ver el caso de _.evaluate_:\n",
        "* Por ejemplo si _batch size_ es 32 significa que dividirá la muestra de test en bloques de 32, a cada bloque aplicará la red y obtendrá unas medidas de performance\n",
        "* Entiendo que luego hará una media de las medidas de performance  para obtener una performance media. Este valor medio, como (casi) todos los bloques tienen el mismo tamaño, variará muy poco con respecto al tamaño del _batch size_\n",
        "\n",
        "Esto tiene un impacto claro en el grafo de computación ya que en el caso de entrenamiento aplicará a cada época y en el caso de inferencia sólo subdividirá la muestra\n",
        "\n",
        "Otra operación que afecta de manera distinta es el _batch normalization_. En entrenamiento tendrá que calcular la media y la desviación típica para realizar el escalado. En la fase de test estos hiperparámetros ya están calculados y se usan directamente sobre los valores salida de las capas. En el grafo de entrenamiento habrá un proceso en las capas afectadas, en el grafo de test este proceso desaparece ya que no hay cálculo de la media y la desviación típica porque éstas se dan como parámetros.\n",
        "\n",
        "https://www.quora.com/How-does-batch-normalization-behave-differently-at-training-time-and-test-time\n",
        "\n",
        "\n",
        "Otras operaciones que cambian son por ejemplo  las regularizaciones L1 y L2, ya que sólo intervienen en la actualización de pesos en el entrenamiento.\n",
        "\n"
      ]
    },
    {
      "metadata": {
        "colab_type": "text",
        "id": "mX8gZlVyCCbz"
      },
      "cell_type": "markdown",
      "source": [
        "# Parte 2: Laboratorio (7.5 puntos)\n",
        "\n",
        "---\n",
        "\n",
        "\n",
        "\n",
        "En este laboratorio, vamos a trabajar con Convolutional Neural Networks para resolver un problema de clasificación de imágenes. En particular, vamos a clasificar imágenes de personajes de la conocida serie de los Simpsons.\n",
        "\n",
        "Como las CNN profundas son un tipo de modelo bastante avanzado y computacionalmente costoso, se recomienda hacer la práctica en Google Colaboratory con soporte para GPUs. En [este enlace](https://medium.com/deep-learning-turkey/google-colab-free-gpu-tutorial-e113627b9f5d) se explica cómo activar un entorno con GPUs. *Nota: para leer las imágenes y estandarizarlas al mismo tamaño se usa la librería opencv. Esta ĺibrería está ya instalada en el entorno de Colab, pero si trabajáis de manera local tendréis que instalarla.*\n",
        "\n",
        "<center><img src=\"https://i.imgur.com/i8zIGqX.jpg\" style=\"text-align: center\" height=\"300px\"></center>\n",
        "\n",
        "El dataset a utilizar consiste en imágenes de personajes de los Simpsons extraídas directamente de capítulos de la serie. Este dataset ha sido recopilado por [Alexandre Attia](http://www.alexattia.fr/) y es más complejo que el clásico dataset de MNIST. Aparte de tener más clases (vamos a utilizar los 18 personajes con más imágenes), los personajes pueden aparecer en distintas poses, en distintas posiciones de la imagen o con otros personajes en pantalla (si bien el personaje a clasificar siempre aparece en la posición predominante).\n",
        "\n",
        "El dataset de training puede ser descargado desde aquí:\n",
        "\n",
        "[Training data](https://onedrive.live.com/download?cid=C506CF0A4F373B0F&resid=C506CF0A4F373B0F%219337&authkey=AMzI92bJPx8Sd60) (~500MB)\n",
        "\n",
        "Por otro lado, el dataset de test puede ser descargado de aquí:\n",
        "\n",
        "[Test data](https://onedrive.live.com/download?cid=C506CF0A4F373B0F&resid=C506CF0A4F373B0F%219341&authkey=ANnjK3Uq1FhuAe8) (~10MB)\n",
        "\n",
        "Antes de empezar la práctica, se recomienda descargar las imágenes y echarlas un vistazo.\n"
      ]
    },
    {
      "metadata": {
        "colab_type": "text",
        "id": "QI274F8LQC59"
      },
      "cell_type": "markdown",
      "source": [
        "## Carga de los datos"
      ]
    },
    {
      "metadata": {
        "id": "an_wmhV1tNt-",
        "colab_type": "code",
        "outputId": "07231630-c4e8-40cc-c22d-950ebc07f622",
        "colab": {
          "base_uri": "https://localhost:8080/",
          "height": 34
        }
      },
      "cell_type": "code",
      "source": [
        "import cv2\n",
        "import os\n",
        "import numpy as np \n",
        "import keras\n",
        "import matplotlib.pyplot as plt\n",
        "import glob"
      ],
      "execution_count": 0,
      "outputs": [
        {
          "output_type": "stream",
          "text": [
            "Using TensorFlow backend.\n"
          ],
          "name": "stderr"
        }
      ]
    },
    {
      "metadata": {
        "colab_type": "code",
        "id": "D7tKOZ9BFfki",
        "outputId": "06397b49-8c4c-4e11-90c5-c6d4d0d67f71",
        "colab": {
          "base_uri": "https://localhost:8080/",
          "height": 85
        }
      },
      "cell_type": "code",
      "source": [
        "\n",
        "\n",
        "# Primero, bajamos los datos de entrenamiento\n",
        "keras.utils.get_file(fname=\"simpsons_train.tar.gz\", \n",
        "                     origin=\"https://onedrive.live.com/download?cid=C506CF0A4F373B0F&resid=C506CF0A4F373B0F%219337&authkey=AMzI92bJPx8Sd60\")\n",
        "\n",
        "# Descomprimimos el archivo\n",
        "!tar -xzf /root/.keras/datasets/simpsons_train.tar.gz -C /root/.keras/datasets\n",
        "\n",
        "# Hacemos lo mismo con los datos de test\n",
        "keras.utils.get_file(fname=\"simpsons_test.tar.gz\", \n",
        "                     origin=\"https://onedrive.live.com/download?cid=C506CF0A4F373B0F&resid=C506CF0A4F373B0F%219341&authkey=ANnjK3Uq1FhuAe8\")\n",
        "!tar -xzf /root/.keras/datasets/simpsons_test.tar.gz -C /root/.keras/datasets"
      ],
      "execution_count": 0,
      "outputs": [
        {
          "output_type": "stream",
          "text": [
            "Downloading data from https://onedrive.live.com/download?cid=C506CF0A4F373B0F&resid=C506CF0A4F373B0F%219337&authkey=AMzI92bJPx8Sd60\n",
            "523796480/523789527 [==============================] - 18s 0us/step\n",
            "Downloading data from https://onedrive.live.com/download?cid=C506CF0A4F373B0F&resid=C506CF0A4F373B0F%219341&authkey=ANnjK3Uq1FhuAe8\n",
            "10665984/10658925 [==============================] - 5s 0us/step\n"
          ],
          "name": "stdout"
        }
      ]
    },
    {
      "metadata": {
        "id": "KFQ05euPtMqX",
        "colab_type": "code",
        "colab": {}
      },
      "cell_type": "code",
      "source": [
        ""
      ],
      "execution_count": 0,
      "outputs": []
    },
    {
      "metadata": {
        "colab_type": "code",
        "id": "hMFhe3COFwSD",
        "colab": {}
      },
      "cell_type": "code",
      "source": [
        "# Esta variable contiene un mapeo de número de clase a personaje.\n",
        "# Utilizamos sólo los 18 personajes del dataset que tienen más imágenes.\n",
        "MAP_CHARACTERS = {\n",
        "    0: 'abraham_grampa_simpson', 1: 'apu_nahasapeemapetilon', 2: 'bart_simpson',\n",
        "    3: 'charles_montgomery_burns', 4: 'chief_wiggum', 5: 'comic_book_guy', 6: 'edna_krabappel', \n",
        "    7: 'homer_simpson', 8: 'kent_brockman', 9: 'krusty_the_clown', 10: 'lisa_simpson', \n",
        "    11: 'marge_simpson', 12: 'milhouse_van_houten', 13: 'moe_szyslak', \n",
        "    14: 'ned_flanders', 15: 'nelson_muntz', 16: 'principal_skinner', 17: 'sideshow_bob'\n",
        "}\n",
        "\n",
        "# Vamos a standarizar todas las imágenes a tamaño 64x64\n",
        "IMG_SIZE = 64"
      ],
      "execution_count": 0,
      "outputs": []
    },
    {
      "metadata": {
        "colab_type": "code",
        "id": "5bJ0NsbCbupF",
        "colab": {}
      },
      "cell_type": "code",
      "source": [
        "def load_train_set(dirname, map_characters, verbose=True):\n",
        "    \"\"\"Esta función carga los datos de training en imágenes.\n",
        "    \n",
        "    Como las imágenes tienen tamaños distintas, utilizamos la librería opencv\n",
        "    para hacer un resize y adaptarlas todas a tamaño IMG_SIZE x IMG_SIZE.\n",
        "    \n",
        "    Args:\n",
        "        dirname: directorio completo del que leer los datos\n",
        "        map_characters: variable de mapeo entre labels y personajes\n",
        "        verbose: si es True, muestra información de las imágenes cargadas\n",
        "     \n",
        "    Returns:\n",
        "        X, y: X es un array con todas las imágenes cargadas con tamaño\n",
        "                IMG_SIZE x IMG_SIZE\n",
        "              y es un array con las labels de correspondientes a cada imagen\n",
        "    \"\"\"\n",
        "    X_train = []\n",
        "    y_train = []\n",
        "    for label, character in map_characters.items():        \n",
        "        files = os.listdir(os.path.join(dirname, character))\n",
        "        images = [file for file in files if file.endswith(\"jpg\")]\n",
        "        if verbose:\n",
        "          print(\"Leyendo {} imágenes encontradas de {}\".format(len(images), character))\n",
        "        for image_name in images:\n",
        "            image = cv2.imread(os.path.join(dirname, character, image_name))\n",
        "            X_train.append(cv2.resize(image,(IMG_SIZE, IMG_SIZE)))\n",
        "            y_train.append(label)\n",
        "    return np.array(X_train), np.array(y_train)\n"
      ],
      "execution_count": 0,
      "outputs": []
    },
    {
      "metadata": {
        "colab_type": "code",
        "id": "NslxhnnDK6uA",
        "colab": {}
      },
      "cell_type": "code",
      "source": [
        "def load_test_set(dirname, map_characters, verbose=True):\n",
        "    \"\"\"Esta función funciona de manera equivalente a la función load_train_set\n",
        "    pero cargando los datos de test.\"\"\"\n",
        "    X_test = []\n",
        "    y_test = []\n",
        "    reverse_dict = {v: k for k, v in map_characters.items()}\n",
        "    for filename in glob.glob(dirname + '/*.*'):\n",
        "        char_name = \"_\".join(filename.split('/')[-1].split('_')[:-1])\n",
        "        if char_name in reverse_dict:\n",
        "            image = cv2.imread(filename)\n",
        "            image = cv2.resize(image, (IMG_SIZE, IMG_SIZE))\n",
        "            X_test.append(image)\n",
        "            y_test.append(reverse_dict[char_name])\n",
        "    if verbose:\n",
        "        print(\"Leídas {} imágenes de test\".format(len(X_test)))\n",
        "    return np.array(X_test), np.array(y_test)\n"
      ],
      "execution_count": 0,
      "outputs": []
    },
    {
      "metadata": {
        "colab_type": "code",
        "id": "WVWqKxFcbwTu",
        "outputId": "6b7fb256-c0d3-4d93-f21f-13d7364d9714",
        "colab": {
          "base_uri": "https://localhost:8080/",
          "height": 340
        }
      },
      "cell_type": "code",
      "source": [
        "# Cargamos los datos. Si no estás trabajando en colab, cambia los paths por\n",
        "# los de los ficheros donde hayas descargado los datos.\n",
        "DATASET_TRAIN_PATH_COLAB = \"/root/.keras/datasets/simpsons\"\n",
        "DATASET_TEST_PATH_COLAB = \"/root/.keras/datasets/simpsons_testset\"\n",
        "\n",
        "X, y = load_train_set(DATASET_TRAIN_PATH_COLAB, MAP_CHARACTERS)\n",
        "X_t, y_t = load_test_set(DATASET_TEST_PATH_COLAB, MAP_CHARACTERS)"
      ],
      "execution_count": 0,
      "outputs": [
        {
          "output_type": "stream",
          "text": [
            "Leyendo 913 imágenes encontradas de abraham_grampa_simpson\n",
            "Leyendo 623 imágenes encontradas de apu_nahasapeemapetilon\n",
            "Leyendo 1342 imágenes encontradas de bart_simpson\n",
            "Leyendo 1193 imágenes encontradas de charles_montgomery_burns\n",
            "Leyendo 986 imágenes encontradas de chief_wiggum\n",
            "Leyendo 469 imágenes encontradas de comic_book_guy\n",
            "Leyendo 457 imágenes encontradas de edna_krabappel\n",
            "Leyendo 2246 imágenes encontradas de homer_simpson\n",
            "Leyendo 498 imágenes encontradas de kent_brockman\n",
            "Leyendo 1206 imágenes encontradas de krusty_the_clown\n",
            "Leyendo 1354 imágenes encontradas de lisa_simpson\n",
            "Leyendo 1291 imágenes encontradas de marge_simpson\n",
            "Leyendo 1079 imágenes encontradas de milhouse_van_houten\n",
            "Leyendo 1452 imágenes encontradas de moe_szyslak\n",
            "Leyendo 1454 imágenes encontradas de ned_flanders\n",
            "Leyendo 358 imágenes encontradas de nelson_muntz\n",
            "Leyendo 1194 imágenes encontradas de principal_skinner\n",
            "Leyendo 877 imágenes encontradas de sideshow_bob\n",
            "Leídas 890 imágenes de test\n"
          ],
          "name": "stdout"
        }
      ]
    },
    {
      "metadata": {
        "id": "2RkjlYrNeXt_",
        "colab_type": "code",
        "colab": {}
      },
      "cell_type": "code",
      "source": [
        "###desordenar \n",
        "\n",
        "arr= np.arange(len(X))\n",
        "np.random.shuffle(arr)"
      ],
      "execution_count": 0,
      "outputs": []
    },
    {
      "metadata": {
        "id": "FdkqEhEXfMM_",
        "colab_type": "code",
        "outputId": "cfe1dcb2-e5e9-4a27-a65c-3c5f09a82d03",
        "colab": {
          "base_uri": "https://localhost:8080/",
          "height": 34
        }
      },
      "cell_type": "code",
      "source": [
        "arr"
      ],
      "execution_count": 0,
      "outputs": [
        {
          "output_type": "execute_result",
          "data": {
            "text/plain": [
              "array([ 7814,  7127,  8138, ...,  9311, 10083, 14524])"
            ]
          },
          "metadata": {
            "tags": []
          },
          "execution_count": 8
        }
      ]
    },
    {
      "metadata": {
        "id": "mXk-ACJfe57S",
        "colab_type": "code",
        "colab": {}
      },
      "cell_type": "code",
      "source": [
        "X =X[arr]\n",
        "\n",
        "y =y[arr]\n"
      ],
      "execution_count": 0,
      "outputs": []
    },
    {
      "metadata": {
        "id": "jFxoxJylfO91",
        "colab_type": "code",
        "outputId": "f2605868-58c3-4cad-cbad-eff6103fa67e",
        "colab": {
          "base_uri": "https://localhost:8080/",
          "height": 34
        }
      },
      "cell_type": "code",
      "source": [
        "np.shape(X), np.shape(y), np.shape(X_t), np.shape(y_t)"
      ],
      "execution_count": 0,
      "outputs": [
        {
          "output_type": "execute_result",
          "data": {
            "text/plain": [
              "((18992, 64, 64, 3), (18992,), (890, 64, 64, 3), (890,))"
            ]
          },
          "metadata": {
            "tags": []
          },
          "execution_count": 10
        }
      ]
    },
    {
      "metadata": {
        "id": "N6MNkECIgWPt",
        "colab_type": "code",
        "outputId": "01b313ab-052f-4ca4-8d90-e6481ab58803",
        "colab": {
          "base_uri": "https://localhost:8080/",
          "height": 34
        }
      },
      "cell_type": "code",
      "source": [
        "y"
      ],
      "execution_count": 0,
      "outputs": [
        {
          "output_type": "execute_result",
          "data": {
            "text/plain": [
              "array([ 7,  7,  7, ...,  9, 10, 13])"
            ]
          },
          "metadata": {
            "tags": []
          },
          "execution_count": 11
        }
      ]
    },
    {
      "metadata": {
        "id": "WV6ijXbOf9on",
        "colab_type": "code",
        "colab": {}
      },
      "cell_type": "code",
      "source": [
        "#escalado\n",
        "\n",
        "X_scale = X/255\n",
        "X_t_scale = X_t/255"
      ],
      "execution_count": 0,
      "outputs": []
    },
    {
      "metadata": {
        "id": "IReErCCsgQ3w",
        "colab_type": "code",
        "colab": {}
      },
      "cell_type": "code",
      "source": [
        "#convertir en one-hot encoding\n",
        "from keras.utils import to_categorical\n",
        "y_cat = to_categorical(y)\n",
        "y_t_cat = to_categorical(y_t)"
      ],
      "execution_count": 0,
      "outputs": []
    },
    {
      "metadata": {
        "id": "xezyT5fJhvFX",
        "colab_type": "code",
        "outputId": "89817f9a-0719-45e5-8fd1-52d3000fcb79",
        "colab": {
          "base_uri": "https://localhost:8080/",
          "height": 51
        }
      },
      "cell_type": "code",
      "source": [
        "y_t_cat[2], y_t[2]"
      ],
      "execution_count": 0,
      "outputs": [
        {
          "output_type": "execute_result",
          "data": {
            "text/plain": [
              "(array([0., 0., 0., 0., 0., 1., 0., 0., 0., 0., 0., 0., 0., 0., 0., 0., 0.,\n",
              "        0.], dtype=float32), 5)"
            ]
          },
          "metadata": {
            "tags": []
          },
          "execution_count": 14
        }
      ]
    },
    {
      "metadata": {
        "id": "qr9mfK-ceQXa",
        "colab_type": "text"
      },
      "cell_type": "markdown",
      "source": [
        "#1 Red Neuronal Clásica\n",
        "\n"
      ]
    },
    {
      "metadata": {
        "id": "54RKn9PQeVqK",
        "colab_type": "code",
        "colab": {}
      },
      "cell_type": "code",
      "source": [
        "from keras.models import Sequential, Model\n",
        "from keras.layers import Dense, Dropout, Input,MaxPooling2D, Conv2D, ZeroPadding2D, Flatten, GlobalAveragePooling2D\n",
        "from keras.optimizers import RMSprop, Nadam\n",
        "from keras.utils import np_utils\n",
        "from keras import regularizers\n",
        "from keras.layers.normalization import BatchNormalization\n",
        "import matplotlib.pyplot as plt\n",
        "import numpy as np\n",
        "import time\n",
        "import os"
      ],
      "execution_count": 0,
      "outputs": []
    },
    {
      "metadata": {
        "id": "BZEwpknqi9DW",
        "colab_type": "code",
        "colab": {}
      },
      "cell_type": "code",
      "source": [
        "### Convertimos los datos de imagen a una dimension que soporte el mlp\n",
        "\n",
        "dimData = 64*64*3\n",
        "\n",
        "X_scale_mlp = X_scale.reshape(X_scale.shape[0], dimData)\n",
        "X_t_scale_mlp = X_t_scale.reshape(X_t_scale.shape[0], dimData)"
      ],
      "execution_count": 0,
      "outputs": []
    },
    {
      "metadata": {
        "id": "TPo9lN5SjhPG",
        "colab_type": "code",
        "outputId": "6116f353-a864-4a24-9a4e-a1482a1f9495",
        "colab": {
          "base_uri": "https://localhost:8080/",
          "height": 34
        }
      },
      "cell_type": "code",
      "source": [
        "np.shape(X_scale_mlp), np.shape(X_t_scale_mlp)"
      ],
      "execution_count": 0,
      "outputs": [
        {
          "output_type": "execute_result",
          "data": {
            "text/plain": [
              "((18992, 12288), (890, 12288))"
            ]
          },
          "metadata": {
            "tags": []
          },
          "execution_count": 29
        }
      ]
    },
    {
      "metadata": {
        "id": "IbcKZ8zBiTpD",
        "colab_type": "code",
        "colab": {}
      },
      "cell_type": "code",
      "source": [
        "def create_modelo_mlp():\n",
        "  \n",
        "  l=0.01\n",
        "  rate = 0.1\n",
        "  x = Input(shape=(12288,))\n",
        "  layer = Dense(100, activation='relu', kernel_initializer='he_uniform', kernel_regularizer=regularizers.l1(l))(x)\n",
        "  layer = Dropout(rate)(layer)\n",
        "  layer = BatchNormalization()(layer)\n",
        "  layer = Dense(100, activation='relu', kernel_initializer='he_uniform', kernel_regularizer=regularizers.l1(l))(layer)\n",
        "  layer = Dropout(rate)(layer)\n",
        "  layer = BatchNormalization()(layer)\n",
        "  layer = Dense(50, activation='relu', kernel_initializer='he_uniform', kernel_regularizer=regularizers.l1(l))(layer)\n",
        "  layer = Dropout(rate)(layer)\n",
        "  layer = BatchNormalization()(layer)\n",
        "  y = Dense(18, activation='softmax',kernel_initializer='he_uniform')(layer)\n",
        "  mlp = Model(x, y)\n",
        "  \n",
        "  nadam = Nadam(lr=0.002, beta_1=0.9, beta_2=0.999, epsilon=None, schedule_decay=0.004)\n",
        "\n",
        "#callback = [EarlyStopping(monitor='val_loss', min_delta=0, patience=3, verbose=0, mode='auto', baseline=None, restore_best_weights=False)]\n",
        "  mlp.compile(optimizer='nadam',\n",
        "              loss='categorical_crossentropy',\n",
        "              metrics=['accuracy'])\n",
        "  \n",
        "  return mlp"
      ],
      "execution_count": 0,
      "outputs": []
    },
    {
      "metadata": {
        "id": "wcH0fAhrj_sk",
        "colab_type": "code",
        "colab": {}
      },
      "cell_type": "code",
      "source": [
        "mlp = create_modelo_mlp()"
      ],
      "execution_count": 0,
      "outputs": []
    },
    {
      "metadata": {
        "id": "TUEU8VZSmuGa",
        "colab_type": "code",
        "outputId": "aaa60f7d-0e05-413e-e20b-da9a6bbe5d8b",
        "colab": {
          "base_uri": "https://localhost:8080/",
          "height": 510
        }
      },
      "cell_type": "code",
      "source": [
        "mlp.summary()"
      ],
      "execution_count": 0,
      "outputs": [
        {
          "output_type": "stream",
          "text": [
            "_________________________________________________________________\n",
            "Layer (type)                 Output Shape              Param #   \n",
            "=================================================================\n",
            "input_10 (InputLayer)        (None, 12288)             0         \n",
            "_________________________________________________________________\n",
            "dense_30 (Dense)             (None, 100)               1228900   \n",
            "_________________________________________________________________\n",
            "dropout_22 (Dropout)         (None, 100)               0         \n",
            "_________________________________________________________________\n",
            "batch_normalization_22 (Batc (None, 100)               400       \n",
            "_________________________________________________________________\n",
            "dense_31 (Dense)             (None, 100)               10100     \n",
            "_________________________________________________________________\n",
            "dropout_23 (Dropout)         (None, 100)               0         \n",
            "_________________________________________________________________\n",
            "batch_normalization_23 (Batc (None, 100)               400       \n",
            "_________________________________________________________________\n",
            "dense_32 (Dense)             (None, 50)                5050      \n",
            "_________________________________________________________________\n",
            "dropout_24 (Dropout)         (None, 50)                0         \n",
            "_________________________________________________________________\n",
            "batch_normalization_24 (Batc (None, 50)                200       \n",
            "_________________________________________________________________\n",
            "dense_33 (Dense)             (None, 18)                918       \n",
            "=================================================================\n",
            "Total params: 1,245,968\n",
            "Trainable params: 1,245,468\n",
            "Non-trainable params: 500\n",
            "_________________________________________________________________\n"
          ],
          "name": "stdout"
        }
      ]
    },
    {
      "metadata": {
        "id": "L7nYPXRPkUh3",
        "colab_type": "code",
        "outputId": "229ee839-14c1-4dce-a1bf-8dce281c751b",
        "colab": {
          "base_uri": "https://localhost:8080/",
          "height": 3434
        }
      },
      "cell_type": "code",
      "source": [
        "start = time.time()\n",
        "mlp_fit = mlp.fit(X_scale_mlp, y_cat,\n",
        "                epochs=100,\n",
        "                batch_size=64,\n",
        "                shuffle=True,\n",
        "#                callbacks = callback,\n",
        "                 validation_split=0.2)\n",
        "end = time.time()\n",
        "timeRNN = end-start"
      ],
      "execution_count": 0,
      "outputs": [
        {
          "output_type": "stream",
          "text": [
            "Train on 15193 samples, validate on 3799 samples\n",
            "Epoch 1/100\n",
            "15193/15193 [==============================] - 8s 517us/step - loss: 33.5301 - acc: 0.1140 - val_loss: 19.1887 - val_acc: 0.1153\n",
            "Epoch 2/100\n",
            "15193/15193 [==============================] - 6s 368us/step - loss: 15.9840 - acc: 0.1418 - val_loss: 15.5749 - val_acc: 0.0745\n",
            "Epoch 3/100\n",
            "15193/15193 [==============================] - 6s 363us/step - loss: 15.2889 - acc: 0.1586 - val_loss: 18.9072 - val_acc: 0.1042\n",
            "Epoch 4/100\n",
            "15193/15193 [==============================] - 5s 356us/step - loss: 14.4855 - acc: 0.1525 - val_loss: 12.0123 - val_acc: 0.1250\n",
            "Epoch 5/100\n",
            "15193/15193 [==============================] - 5s 353us/step - loss: 13.8393 - acc: 0.1561 - val_loss: 15.6488 - val_acc: 0.0803\n",
            "Epoch 6/100\n",
            "15193/15193 [==============================] - 5s 358us/step - loss: 13.6121 - acc: 0.1597 - val_loss: 14.6845 - val_acc: 0.0777\n",
            "Epoch 7/100\n",
            "15193/15193 [==============================] - 5s 356us/step - loss: 13.3777 - acc: 0.1640 - val_loss: 15.2097 - val_acc: 0.1106\n",
            "Epoch 8/100\n",
            "15193/15193 [==============================] - 5s 358us/step - loss: 14.2355 - acc: 0.1577 - val_loss: 24.7731 - val_acc: 0.0750\n",
            "Epoch 9/100\n",
            "15193/15193 [==============================] - 5s 357us/step - loss: 13.7337 - acc: 0.1585 - val_loss: 13.1513 - val_acc: 0.1150\n",
            "Epoch 10/100\n",
            "15193/15193 [==============================] - 5s 355us/step - loss: 13.4542 - acc: 0.1645 - val_loss: 14.6264 - val_acc: 0.1006\n",
            "Epoch 11/100\n",
            "15193/15193 [==============================] - 6s 365us/step - loss: 14.1983 - acc: 0.1630 - val_loss: 12.6894 - val_acc: 0.1248\n",
            "Epoch 12/100\n",
            "15193/15193 [==============================] - 5s 354us/step - loss: 13.5578 - acc: 0.1553 - val_loss: 16.6857 - val_acc: 0.1095\n",
            "Epoch 13/100\n",
            "15193/15193 [==============================] - 5s 354us/step - loss: 12.9469 - acc: 0.1601 - val_loss: 15.0124 - val_acc: 0.1179\n",
            "Epoch 14/100\n",
            "15193/15193 [==============================] - 5s 351us/step - loss: 12.8054 - acc: 0.1615 - val_loss: 17.4492 - val_acc: 0.1040\n",
            "Epoch 15/100\n",
            "15193/15193 [==============================] - 5s 354us/step - loss: 12.8034 - acc: 0.1616 - val_loss: 13.5453 - val_acc: 0.1240\n",
            "Epoch 16/100\n",
            "15193/15193 [==============================] - 5s 352us/step - loss: 12.8835 - acc: 0.1534 - val_loss: 12.6782 - val_acc: 0.0748\n",
            "Epoch 17/100\n",
            "15193/15193 [==============================] - 5s 354us/step - loss: 12.7862 - acc: 0.1607 - val_loss: 17.4329 - val_acc: 0.1269\n",
            "Epoch 18/100\n",
            "15193/15193 [==============================] - 5s 354us/step - loss: 12.6476 - acc: 0.1574 - val_loss: 12.0036 - val_acc: 0.0782\n",
            "Epoch 19/100\n",
            "15193/15193 [==============================] - 6s 364us/step - loss: 12.3663 - acc: 0.1584 - val_loss: 17.7125 - val_acc: 0.0724\n",
            "Epoch 20/100\n",
            "15193/15193 [==============================] - 6s 369us/step - loss: 12.2448 - acc: 0.1602 - val_loss: 24.4904 - val_acc: 0.0276\n",
            "Epoch 21/100\n",
            "15193/15193 [==============================] - 5s 356us/step - loss: 12.7941 - acc: 0.1512 - val_loss: 11.0411 - val_acc: 0.0711\n",
            "Epoch 22/100\n",
            "15193/15193 [==============================] - 5s 354us/step - loss: 11.4892 - acc: 0.1562 - val_loss: 11.9532 - val_acc: 0.0713\n",
            "Epoch 23/100\n",
            "15193/15193 [==============================] - 6s 388us/step - loss: 11.6165 - acc: 0.1516 - val_loss: 18.6708 - val_acc: 0.0708\n",
            "Epoch 24/100\n",
            "15193/15193 [==============================] - 5s 358us/step - loss: 12.2277 - acc: 0.1532 - val_loss: 12.9022 - val_acc: 0.1135\n",
            "Epoch 25/100\n",
            "15193/15193 [==============================] - 5s 350us/step - loss: 11.6940 - acc: 0.1570 - val_loss: 12.8425 - val_acc: 0.1179\n",
            "Epoch 26/100\n",
            "15193/15193 [==============================] - 5s 360us/step - loss: 12.3772 - acc: 0.1540 - val_loss: 13.9851 - val_acc: 0.1087\n",
            "Epoch 27/100\n",
            "15193/15193 [==============================] - 5s 359us/step - loss: 10.8268 - acc: 0.1459 - val_loss: 9.6802 - val_acc: 0.0787\n",
            "Epoch 28/100\n",
            "15193/15193 [==============================] - 6s 362us/step - loss: 10.6620 - acc: 0.1486 - val_loss: 11.8774 - val_acc: 0.0748\n",
            "Epoch 29/100\n",
            "15193/15193 [==============================] - 6s 366us/step - loss: 10.5042 - acc: 0.1490 - val_loss: 11.5605 - val_acc: 0.0898\n",
            "Epoch 30/100\n",
            "15193/15193 [==============================] - 5s 355us/step - loss: 10.9482 - acc: 0.1483 - val_loss: 8.8384 - val_acc: 0.0755\n",
            "Epoch 31/100\n",
            "15193/15193 [==============================] - 5s 357us/step - loss: 9.6382 - acc: 0.1513 - val_loss: 17.2553 - val_acc: 0.1090\n",
            "Epoch 32/100\n",
            "15193/15193 [==============================] - 5s 360us/step - loss: 10.9115 - acc: 0.1466 - val_loss: 7.2678 - val_acc: 0.0919\n",
            "Epoch 33/100\n",
            "15193/15193 [==============================] - 6s 373us/step - loss: 11.4355 - acc: 0.1491 - val_loss: 9.9398 - val_acc: 0.1103\n",
            "Epoch 34/100\n",
            "15193/15193 [==============================] - 6s 373us/step - loss: 9.3890 - acc: 0.1454 - val_loss: 9.4105 - val_acc: 0.1034\n",
            "Epoch 35/100\n",
            "15193/15193 [==============================] - 6s 377us/step - loss: 9.5688 - acc: 0.1470 - val_loss: 10.6196 - val_acc: 0.0682\n",
            "Epoch 36/100\n",
            "15193/15193 [==============================] - 6s 372us/step - loss: 9.3270 - acc: 0.1499 - val_loss: 8.4512 - val_acc: 0.0713\n",
            "Epoch 37/100\n",
            "15193/15193 [==============================] - 5s 361us/step - loss: 8.3878 - acc: 0.1484 - val_loss: 9.1403 - val_acc: 0.1056\n",
            "Epoch 38/100\n",
            "15193/15193 [==============================] - 6s 369us/step - loss: 7.9057 - acc: 0.1386 - val_loss: 6.7513 - val_acc: 0.1121\n",
            "Epoch 39/100\n",
            "15193/15193 [==============================] - 5s 355us/step - loss: 7.0720 - acc: 0.1395 - val_loss: 6.9082 - val_acc: 0.0832\n",
            "Epoch 40/100\n",
            "15193/15193 [==============================] - 5s 354us/step - loss: 7.3987 - acc: 0.1455 - val_loss: 11.2973 - val_acc: 0.0956\n",
            "Epoch 41/100\n",
            "15193/15193 [==============================] - 6s 371us/step - loss: 7.9915 - acc: 0.1334 - val_loss: 7.2870 - val_acc: 0.0771\n",
            "Epoch 42/100\n",
            "15193/15193 [==============================] - 6s 373us/step - loss: 8.5149 - acc: 0.1334 - val_loss: 10.9815 - val_acc: 0.0884\n",
            "Epoch 43/100\n",
            "15193/15193 [==============================] - 6s 386us/step - loss: 6.8746 - acc: 0.1398 - val_loss: 8.0332 - val_acc: 0.1042\n",
            "Epoch 44/100\n",
            "15193/15193 [==============================] - 6s 391us/step - loss: 7.6178 - acc: 0.1235 - val_loss: 7.5644 - val_acc: 0.1087\n",
            "Epoch 45/100\n",
            "15193/15193 [==============================] - 6s 384us/step - loss: 6.1904 - acc: 0.1308 - val_loss: 6.1877 - val_acc: 0.0771\n",
            "Epoch 46/100\n",
            "15193/15193 [==============================] - 6s 384us/step - loss: 8.2312 - acc: 0.1285 - val_loss: 6.7543 - val_acc: 0.1087\n",
            "Epoch 47/100\n",
            "15193/15193 [==============================] - 6s 385us/step - loss: 5.8836 - acc: 0.1298 - val_loss: 5.8514 - val_acc: 0.0771\n",
            "Epoch 48/100\n",
            "15193/15193 [==============================] - 6s 371us/step - loss: 5.7340 - acc: 0.1278 - val_loss: 6.3515 - val_acc: 0.0771\n",
            "Epoch 49/100\n",
            "15193/15193 [==============================] - 6s 367us/step - loss: 5.7572 - acc: 0.1274 - val_loss: 5.8272 - val_acc: 0.1098\n",
            "Epoch 50/100\n",
            "15193/15193 [==============================] - 6s 369us/step - loss: 6.0550 - acc: 0.1262 - val_loss: 5.8198 - val_acc: 0.1229\n",
            "Epoch 51/100\n",
            "15193/15193 [==============================] - 6s 367us/step - loss: 6.8585 - acc: 0.1266 - val_loss: 7.0232 - val_acc: 0.1163\n",
            "Epoch 52/100\n",
            "15193/15193 [==============================] - 6s 401us/step - loss: 7.4259 - acc: 0.1244 - val_loss: 6.7871 - val_acc: 0.0829\n",
            "Epoch 53/100\n",
            "15193/15193 [==============================] - 6s 414us/step - loss: 7.1243 - acc: 0.1217 - val_loss: 7.3571 - val_acc: 0.1087\n",
            "Epoch 54/100\n",
            "15193/15193 [==============================] - 6s 395us/step - loss: 6.6330 - acc: 0.1237 - val_loss: 6.0948 - val_acc: 0.1185\n",
            "Epoch 55/100\n",
            "15193/15193 [==============================] - 6s 378us/step - loss: 6.7202 - acc: 0.1248 - val_loss: 5.8087 - val_acc: 0.1087\n",
            "Epoch 56/100\n",
            "15193/15193 [==============================] - 6s 395us/step - loss: 7.0646 - acc: 0.1268 - val_loss: 5.9359 - val_acc: 0.0837\n",
            "Epoch 57/100\n",
            "15193/15193 [==============================] - 6s 385us/step - loss: 6.0490 - acc: 0.1284 - val_loss: 6.2060 - val_acc: 0.1087\n",
            "Epoch 58/100\n",
            "15193/15193 [==============================] - 6s 365us/step - loss: 5.9761 - acc: 0.1228 - val_loss: 5.9843 - val_acc: 0.0771\n",
            "Epoch 59/100\n",
            "15193/15193 [==============================] - 6s 369us/step - loss: 5.7240 - acc: 0.1249 - val_loss: 5.5399 - val_acc: 0.1095\n",
            "Epoch 60/100\n",
            "15193/15193 [==============================] - 6s 368us/step - loss: 5.5366 - acc: 0.1239 - val_loss: 5.6507 - val_acc: 0.1087\n",
            "Epoch 61/100\n",
            "15193/15193 [==============================] - 6s 369us/step - loss: 6.0499 - acc: 0.1295 - val_loss: 6.4202 - val_acc: 0.0771\n",
            "Epoch 62/100\n",
            "15193/15193 [==============================] - 6s 386us/step - loss: 5.8202 - acc: 0.1251 - val_loss: 5.4754 - val_acc: 0.1087\n",
            "Epoch 63/100\n",
            "15193/15193 [==============================] - 6s 387us/step - loss: 5.4942 - acc: 0.1243 - val_loss: 5.5083 - val_acc: 0.1090\n",
            "Epoch 64/100\n",
            "15193/15193 [==============================] - 6s 407us/step - loss: 5.6039 - acc: 0.1278 - val_loss: 7.7349 - val_acc: 0.1087\n",
            "Epoch 65/100\n",
            "15193/15193 [==============================] - 6s 396us/step - loss: 5.8131 - acc: 0.1271 - val_loss: 5.6035 - val_acc: 0.1090\n",
            "Epoch 66/100\n",
            "15193/15193 [==============================] - 6s 386us/step - loss: 6.3013 - acc: 0.1242 - val_loss: 5.5109 - val_acc: 0.1087\n",
            "Epoch 67/100\n",
            "15193/15193 [==============================] - 6s 380us/step - loss: 5.8176 - acc: 0.1257 - val_loss: 5.5304 - val_acc: 0.0771\n",
            "Epoch 68/100\n",
            "15193/15193 [==============================] - 6s 370us/step - loss: 5.6482 - acc: 0.1262 - val_loss: 7.2066 - val_acc: 0.1087\n",
            "Epoch 69/100\n",
            "15193/15193 [==============================] - 6s 372us/step - loss: 5.5179 - acc: 0.1206 - val_loss: 5.2916 - val_acc: 0.1087\n",
            "Epoch 70/100\n",
            "15193/15193 [==============================] - 6s 371us/step - loss: 5.2706 - acc: 0.1206 - val_loss: 5.2852 - val_acc: 0.1087\n",
            "Epoch 71/100\n",
            "15193/15193 [==============================] - 6s 372us/step - loss: 5.2627 - acc: 0.1206 - val_loss: 5.2791 - val_acc: 0.1087\n",
            "Epoch 72/100\n",
            "15193/15193 [==============================] - 6s 389us/step - loss: 5.2552 - acc: 0.1206 - val_loss: 5.2686 - val_acc: 0.1087\n",
            "Epoch 73/100\n",
            "15193/15193 [==============================] - 6s 379us/step - loss: 5.2474 - acc: 0.1206 - val_loss: 5.2632 - val_acc: 0.1087\n",
            "Epoch 74/100\n",
            "15193/15193 [==============================] - 6s 373us/step - loss: 5.2398 - acc: 0.1206 - val_loss: 5.2529 - val_acc: 0.1087\n",
            "Epoch 75/100\n",
            "15193/15193 [==============================] - 6s 379us/step - loss: 5.2325 - acc: 0.1206 - val_loss: 5.2467 - val_acc: 0.1087\n",
            "Epoch 76/100\n",
            "15193/15193 [==============================] - 6s 387us/step - loss: 5.2251 - acc: 0.1206 - val_loss: 5.2409 - val_acc: 0.1087\n",
            "Epoch 77/100\n",
            "15193/15193 [==============================] - 6s 404us/step - loss: 5.2176 - acc: 0.1206 - val_loss: 5.2323 - val_acc: 0.1087\n",
            "Epoch 78/100\n",
            "15193/15193 [==============================] - 6s 373us/step - loss: 5.2100 - acc: 0.1206 - val_loss: 5.2270 - val_acc: 0.1087\n",
            "Epoch 79/100\n",
            "15193/15193 [==============================] - 6s 373us/step - loss: 5.2029 - acc: 0.1206 - val_loss: 5.2179 - val_acc: 0.1087\n",
            "Epoch 80/100\n",
            "15193/15193 [==============================] - 6s 372us/step - loss: 5.1958 - acc: 0.1206 - val_loss: 5.2115 - val_acc: 0.1087\n",
            "Epoch 81/100\n",
            "15193/15193 [==============================] - 6s 368us/step - loss: 5.1888 - acc: 0.1206 - val_loss: 5.2041 - val_acc: 0.1087\n",
            "Epoch 82/100\n",
            "15193/15193 [==============================] - 6s 363us/step - loss: 5.1820 - acc: 0.1206 - val_loss: 5.1961 - val_acc: 0.1087\n",
            "Epoch 83/100\n",
            "15193/15193 [==============================] - 6s 366us/step - loss: 5.1753 - acc: 0.1206 - val_loss: 5.1919 - val_acc: 0.1087\n",
            "Epoch 84/100\n",
            "15193/15193 [==============================] - 6s 368us/step - loss: 5.1685 - acc: 0.1206 - val_loss: 5.1828 - val_acc: 0.1087\n",
            "Epoch 85/100\n",
            "15193/15193 [==============================] - 6s 373us/step - loss: 5.1621 - acc: 0.1206 - val_loss: 5.1758 - val_acc: 0.1087\n",
            "Epoch 86/100\n",
            "15193/15193 [==============================] - 6s 372us/step - loss: 5.1556 - acc: 0.1206 - val_loss: 5.1725 - val_acc: 0.1087\n",
            "Epoch 87/100\n",
            "15193/15193 [==============================] - 6s 373us/step - loss: 5.1494 - acc: 0.1206 - val_loss: 5.1655 - val_acc: 0.1087\n",
            "Epoch 88/100\n",
            "15193/15193 [==============================] - 6s 374us/step - loss: 5.1432 - acc: 0.1206 - val_loss: 5.1582 - val_acc: 0.1087\n",
            "Epoch 89/100\n",
            "15193/15193 [==============================] - 6s 373us/step - loss: 5.1375 - acc: 0.1206 - val_loss: 5.1535 - val_acc: 0.1087\n",
            "Epoch 90/100\n",
            "15193/15193 [==============================] - 6s 363us/step - loss: 5.1317 - acc: 0.1206 - val_loss: 5.1480 - val_acc: 0.1087\n",
            "Epoch 91/100\n",
            "15193/15193 [==============================] - 5s 360us/step - loss: 5.1261 - acc: 0.1206 - val_loss: 5.1429 - val_acc: 0.1087\n",
            "Epoch 92/100\n",
            "15193/15193 [==============================] - 5s 362us/step - loss: 5.1206 - acc: 0.1206 - val_loss: 5.1372 - val_acc: 0.1087\n",
            "Epoch 93/100\n",
            "15193/15193 [==============================] - 6s 362us/step - loss: 5.1157 - acc: 0.1206 - val_loss: 5.1312 - val_acc: 0.1087\n",
            "Epoch 94/100\n",
            "15193/15193 [==============================] - 5s 361us/step - loss: 5.1104 - acc: 0.1206 - val_loss: 5.1251 - val_acc: 0.1087\n",
            "Epoch 95/100\n",
            "15193/15193 [==============================] - 6s 372us/step - loss: 5.1056 - acc: 0.1206 - val_loss: 5.1221 - val_acc: 0.1087\n",
            "Epoch 96/100\n",
            "15193/15193 [==============================] - 6s 374us/step - loss: 5.1009 - acc: 0.1206 - val_loss: 5.1187 - val_acc: 0.1087\n",
            "Epoch 97/100\n",
            "15193/15193 [==============================] - 6s 374us/step - loss: 5.0963 - acc: 0.1206 - val_loss: 5.1118 - val_acc: 0.1087\n",
            "Epoch 98/100\n",
            "15193/15193 [==============================] - 6s 368us/step - loss: 5.0919 - acc: 0.1206 - val_loss: 5.1088 - val_acc: 0.1087\n",
            "Epoch 99/100\n",
            "15193/15193 [==============================] - 6s 369us/step - loss: 5.0876 - acc: 0.1206 - val_loss: 5.1031 - val_acc: 0.1087\n",
            "Epoch 100/100\n",
            "15193/15193 [==============================] - 6s 367us/step - loss: 5.0835 - acc: 0.1206 - val_loss: 5.1002 - val_acc: 0.1087\n"
          ],
          "name": "stdout"
        }
      ]
    },
    {
      "metadata": {
        "id": "uqkVga2kmrDm",
        "colab_type": "code",
        "outputId": "67706bd2-3af3-4d74-9bd8-0bb50ce01cbd",
        "colab": {
          "base_uri": "https://localhost:8080/",
          "height": 351
        }
      },
      "cell_type": "code",
      "source": [
        "plt.plot(mlp_fit.history['val_loss'], label='val_loss')\n",
        "plt.plot(mlp_fit.history['loss'], label='loss')\n",
        "plt.legend()\n",
        "plt.show()"
      ],
      "execution_count": 0,
      "outputs": [
        {
          "output_type": "display_data",
          "data": {
            "image/png": "[encoded data removed]",
            "text/plain": [
              "<Figure size 576x396 with 1 Axes>"
            ]
          },
          "metadata": {
            "tags": []
          }
        }
      ]
    },
    {
      "metadata": {
        "id": "PUsdD1Jd7S4w",
        "colab_type": "code",
        "outputId": "4953f28c-e3e1-491e-f00d-d4b412be9bea",
        "colab": {
          "base_uri": "https://localhost:8080/",
          "height": 347
        }
      },
      "cell_type": "code",
      "source": [
        "plt.plot(mlp_fit.history['val_acc'], label='val_acc')\n",
        "plt.plot(mlp_fit.history['acc'], label='acc')\n",
        "plt.legend()\n",
        "plt.show()"
      ],
      "execution_count": 0,
      "outputs": [
        {
          "output_type": "display_data",
          "data": {
            "image/png": "[encoded data removed]",
            "text/plain": [
              "<Figure size 576x396 with 1 Axes>"
            ]
          },
          "metadata": {
            "tags": []
          }
        }
      ]
    },
    {
      "metadata": {
        "id": "UHaRVIj3m_76",
        "colab_type": "code",
        "outputId": "1116574c-0d4e-4092-e6d7-942282177135",
        "colab": {
          "base_uri": "https://localhost:8080/",
          "height": 51
        }
      },
      "cell_type": "code",
      "source": [
        "mlp.evaluate(X_t_scale_mlp, y_t_cat)"
      ],
      "execution_count": 0,
      "outputs": [
        {
          "output_type": "stream",
          "text": [
            "890/890 [==============================] - 0s 138us/step\n"
          ],
          "name": "stdout"
        },
        {
          "output_type": "execute_result",
          "data": {
            "text/plain": [
              "[5.2938466018505315, 0.05617977532275607]"
            ]
          },
          "metadata": {
            "tags": []
          },
          "execution_count": 87
        }
      ]
    },
    {
      "metadata": {
        "id": "4UWZ4iL9z6YE",
        "colab_type": "text"
      },
      "cell_type": "markdown",
      "source": [
        "En general este tipo de red no funciona con imagenes complejas, necesitaría muchas mas capas y unidades para tener un buen resultado"
      ]
    },
    {
      "metadata": {
        "id": "J9QQQo9JowQ-",
        "colab_type": "code",
        "colab": {}
      },
      "cell_type": "code",
      "source": [
        ""
      ],
      "execution_count": 0,
      "outputs": []
    },
    {
      "metadata": {
        "id": "8dLVpFrBoxWR",
        "colab_type": "text"
      },
      "cell_type": "markdown",
      "source": [
        "#2 CNN"
      ]
    },
    {
      "metadata": {
        "id": "I6j00X0UhysK",
        "colab_type": "code",
        "colab": {}
      },
      "cell_type": "code",
      "source": [
        "import tensorflow as tf"
      ],
      "execution_count": 0,
      "outputs": []
    },
    {
      "metadata": {
        "id": "rY2iPiOTpD6x",
        "colab_type": "code",
        "colab": {}
      },
      "cell_type": "code",
      "source": [
        ""
      ],
      "execution_count": 0,
      "outputs": []
    },
    {
      "metadata": {
        "id": "GtmIRn1fkKOH",
        "colab_type": "code",
        "colab": {}
      },
      "cell_type": "code",
      "source": [
        ""
      ],
      "execution_count": 0,
      "outputs": []
    },
    {
      "metadata": {
        "id": "v4QsgiL0kKQw",
        "colab_type": "code",
        "outputId": "28e0fb17-f297-494f-b13e-d74d101eb866",
        "colab": {
          "base_uri": "https://localhost:8080/",
          "height": 34
        }
      },
      "cell_type": "code",
      "source": [
        "from keras import backend as K\n",
        "print(K.image_data_format()) # print c"
      ],
      "execution_count": 0,
      "outputs": [
        {
          "output_type": "stream",
          "text": [
            "channels_last\n"
          ],
          "name": "stdout"
        }
      ]
    },
    {
      "metadata": {
        "id": "TRxMK9rQjacK",
        "colab_type": "code",
        "colab": {}
      },
      "cell_type": "code",
      "source": [
        "def create_modelo_CNN():\n",
        "  \n",
        "\n",
        "\n",
        "  model = Sequential()\n",
        "  model.add(Conv2D(64, kernel_size=3, activation='relu', input_shape=(64,64,3)))\n",
        "  model.add(Conv2D(32, kernel_size=3, activation='relu'))\n",
        "  model.add(GlobalAveragePooling2D())\n",
        "  #model.add(Flatten())\n",
        "  model.add(Dense(512, activation='relu'))\n",
        "  model.add(Dropout(0.5))\n",
        "  model.add(Dense(256, activation='relu'))\n",
        "  model.add(Dropout(0.5))\n",
        "  model.add(Dense(18, activation='softmax'))\n",
        "\n",
        "\n",
        "  model.compile(optimizer='nadam',\n",
        "              loss='categorical_crossentropy',\n",
        "              metrics=['accuracy'])\n",
        "  \n",
        "  return model"
      ],
      "execution_count": 0,
      "outputs": []
    },
    {
      "metadata": {
        "id": "KoURcPhls7g7",
        "colab_type": "code",
        "outputId": "71e7e33a-eba5-4cbe-c4f4-782e1da98759",
        "colab": {
          "base_uri": "https://localhost:8080/",
          "height": 139
        }
      },
      "cell_type": "code",
      "source": [
        "CNN = create_modelo_CNN()"
      ],
      "execution_count": 0,
      "outputs": [
        {
          "output_type": "stream",
          "text": [
            "WARNING:tensorflow:From /usr/local/lib/python3.6/dist-packages/tensorflow/python/framework/op_def_library.py:263: colocate_with (from tensorflow.python.framework.ops) is deprecated and will be removed in a future version.\n",
            "Instructions for updating:\n",
            "Colocations handled automatically by placer.\n",
            "WARNING:tensorflow:From /usr/local/lib/python3.6/dist-packages/keras/backend/tensorflow_backend.py:3445: calling dropout (from tensorflow.python.ops.nn_ops) with keep_prob is deprecated and will be removed in a future version.\n",
            "Instructions for updating:\n",
            "Please use `rate` instead of `keep_prob`. Rate should be set to `rate = 1 - keep_prob`.\n"
          ],
          "name": "stdout"
        }
      ]
    },
    {
      "metadata": {
        "id": "a1KmiXda6PGx",
        "colab_type": "code",
        "outputId": "efa3f86e-0cc8-4178-c0a3-fdae39c053cd",
        "colab": {
          "base_uri": "https://localhost:8080/",
          "height": 408
        }
      },
      "cell_type": "code",
      "source": [
        "CNN.summary()"
      ],
      "execution_count": 0,
      "outputs": [
        {
          "output_type": "stream",
          "text": [
            "_________________________________________________________________\n",
            "Layer (type)                 Output Shape              Param #   \n",
            "=================================================================\n",
            "conv2d_9 (Conv2D)            (None, 62, 62, 64)        1792      \n",
            "_________________________________________________________________\n",
            "conv2d_10 (Conv2D)           (None, 60, 60, 32)        18464     \n",
            "_________________________________________________________________\n",
            "global_average_pooling2d_3 ( (None, 32)                0         \n",
            "_________________________________________________________________\n",
            "dense_12 (Dense)             (None, 512)               16896     \n",
            "_________________________________________________________________\n",
            "dropout_8 (Dropout)          (None, 512)               0         \n",
            "_________________________________________________________________\n",
            "dense_13 (Dense)             (None, 256)               131328    \n",
            "_________________________________________________________________\n",
            "dropout_9 (Dropout)          (None, 256)               0         \n",
            "_________________________________________________________________\n",
            "dense_14 (Dense)             (None, 18)                4626      \n",
            "=================================================================\n",
            "Total params: 173,106\n",
            "Trainable params: 173,106\n",
            "Non-trainable params: 0\n",
            "_________________________________________________________________\n"
          ],
          "name": "stdout"
        }
      ]
    },
    {
      "metadata": {
        "id": "rpzNBX7hstjh",
        "colab_type": "code",
        "outputId": "d6ecc8c0-7ba9-42b6-853b-9e2b92e7671c",
        "colab": {
          "base_uri": "https://localhost:8080/",
          "height": 6834
        }
      },
      "cell_type": "code",
      "source": [
        "start = time.time()\n",
        "CNN_fit = CNN.fit(X_scale, y_cat,\n",
        "                epochs=200,\n",
        "                batch_size=64,\n",
        "                shuffle=True,\n",
        "#                callbacks = callback,\n",
        "                 validation_split=0.2)\n",
        "end = time.time()\n",
        "timeRNN = end-start"
      ],
      "execution_count": 0,
      "outputs": [
        {
          "output_type": "stream",
          "text": [
            "Train on 15193 samples, validate on 3799 samples\n",
            "Epoch 1/200\n",
            "15193/15193 [==============================] - 11s 710us/step - loss: 2.7524 - acc: 0.1283 - val_loss: 2.5660 - val_acc: 0.1832\n",
            "Epoch 2/200\n",
            "15193/15193 [==============================] - 10s 663us/step - loss: 2.5008 - acc: 0.2100 - val_loss: 2.3744 - val_acc: 0.2440\n",
            "Epoch 3/200\n",
            "15193/15193 [==============================] - 10s 663us/step - loss: 2.3134 - acc: 0.2730 - val_loss: 2.2174 - val_acc: 0.3024\n",
            "Epoch 4/200\n",
            "15193/15193 [==============================] - 10s 660us/step - loss: 2.1810 - acc: 0.3124 - val_loss: 2.0339 - val_acc: 0.3525\n",
            "Epoch 5/200\n",
            "15193/15193 [==============================] - 10s 665us/step - loss: 2.0661 - acc: 0.3486 - val_loss: 2.1622 - val_acc: 0.3127\n",
            "Epoch 6/200\n",
            "15193/15193 [==============================] - 10s 663us/step - loss: 1.9603 - acc: 0.3803 - val_loss: 1.8619 - val_acc: 0.3996\n",
            "Epoch 7/200\n",
            "15193/15193 [==============================] - 10s 663us/step - loss: 1.8561 - acc: 0.4112 - val_loss: 1.7510 - val_acc: 0.4491\n",
            "Epoch 8/200\n",
            "15193/15193 [==============================] - 10s 664us/step - loss: 1.7589 - acc: 0.4413 - val_loss: 1.6288 - val_acc: 0.4914\n",
            "Epoch 9/200\n",
            "15193/15193 [==============================] - 10s 665us/step - loss: 1.6754 - acc: 0.4724 - val_loss: 1.5141 - val_acc: 0.5215\n",
            "Epoch 10/200\n",
            "15193/15193 [==============================] - 10s 665us/step - loss: 1.5934 - acc: 0.4979 - val_loss: 1.4926 - val_acc: 0.5317\n",
            "Epoch 11/200\n",
            "15193/15193 [==============================] - 10s 664us/step - loss: 1.5265 - acc: 0.5208 - val_loss: 1.4769 - val_acc: 0.5349\n",
            "Epoch 12/200\n",
            "15193/15193 [==============================] - 10s 663us/step - loss: 1.4561 - acc: 0.5493 - val_loss: 1.4634 - val_acc: 0.5391\n",
            "Epoch 13/200\n",
            "15193/15193 [==============================] - 10s 664us/step - loss: 1.4123 - acc: 0.5621 - val_loss: 1.2684 - val_acc: 0.6036\n",
            "Epoch 14/200\n",
            "15193/15193 [==============================] - 10s 663us/step - loss: 1.3594 - acc: 0.5796 - val_loss: 1.2717 - val_acc: 0.5994\n",
            "Epoch 15/200\n",
            "15193/15193 [==============================] - 10s 661us/step - loss: 1.3060 - acc: 0.5986 - val_loss: 1.2471 - val_acc: 0.6091\n",
            "Epoch 16/200\n",
            "15193/15193 [==============================] - 10s 662us/step - loss: 1.2644 - acc: 0.6111 - val_loss: 1.2246 - val_acc: 0.6083\n",
            "Epoch 17/200\n",
            "15193/15193 [==============================] - 10s 662us/step - loss: 1.2199 - acc: 0.6211 - val_loss: 1.1918 - val_acc: 0.6283\n",
            "Epoch 18/200\n",
            "15193/15193 [==============================] - 10s 659us/step - loss: 1.1843 - acc: 0.6358 - val_loss: 1.0869 - val_acc: 0.6694\n",
            "Epoch 19/200\n",
            "15193/15193 [==============================] - 10s 666us/step - loss: 1.1451 - acc: 0.6509 - val_loss: 1.0035 - val_acc: 0.6960\n",
            "Epoch 20/200\n",
            "15193/15193 [==============================] - 10s 674us/step - loss: 1.1103 - acc: 0.6567 - val_loss: 1.0327 - val_acc: 0.6812\n",
            "Epoch 21/200\n",
            "15193/15193 [==============================] - 10s 663us/step - loss: 1.0822 - acc: 0.6684 - val_loss: 0.9843 - val_acc: 0.7033\n",
            "Epoch 22/200\n",
            "15193/15193 [==============================] - 10s 666us/step - loss: 1.0565 - acc: 0.6774 - val_loss: 1.0048 - val_acc: 0.6844\n",
            "Epoch 23/200\n",
            "15193/15193 [==============================] - 10s 670us/step - loss: 1.0383 - acc: 0.6793 - val_loss: 0.9882 - val_acc: 0.6949\n",
            "Epoch 24/200\n",
            "15193/15193 [==============================] - 10s 668us/step - loss: 1.0101 - acc: 0.6864 - val_loss: 0.9892 - val_acc: 0.6949\n",
            "Epoch 25/200\n",
            "15193/15193 [==============================] - 10s 667us/step - loss: 0.9958 - acc: 0.6921 - val_loss: 1.3533 - val_acc: 0.6146\n",
            "Epoch 26/200\n",
            "15193/15193 [==============================] - 10s 662us/step - loss: 0.9706 - acc: 0.7004 - val_loss: 0.8857 - val_acc: 0.7270\n",
            "Epoch 27/200\n",
            "15193/15193 [==============================] - 10s 663us/step - loss: 0.9516 - acc: 0.7066 - val_loss: 0.9471 - val_acc: 0.7105\n",
            "Epoch 28/200\n",
            "15193/15193 [==============================] - 10s 662us/step - loss: 0.9338 - acc: 0.7143 - val_loss: 0.8591 - val_acc: 0.7341\n",
            "Epoch 29/200\n",
            "15193/15193 [==============================] - 10s 668us/step - loss: 0.9156 - acc: 0.7187 - val_loss: 0.8319 - val_acc: 0.7391\n",
            "Epoch 30/200\n",
            "15193/15193 [==============================] - 10s 666us/step - loss: 0.9025 - acc: 0.7203 - val_loss: 0.8376 - val_acc: 0.7465\n",
            "Epoch 31/200\n",
            "15193/15193 [==============================] - 10s 655us/step - loss: 0.8885 - acc: 0.7264 - val_loss: 0.8865 - val_acc: 0.7305\n",
            "Epoch 32/200\n",
            "15193/15193 [==============================] - 10s 658us/step - loss: 0.8677 - acc: 0.7317 - val_loss: 0.8143 - val_acc: 0.7510\n",
            "Epoch 33/200\n",
            "15193/15193 [==============================] - 10s 663us/step - loss: 0.8445 - acc: 0.7407 - val_loss: 0.7872 - val_acc: 0.7581\n",
            "Epoch 34/200\n",
            "15193/15193 [==============================] - 10s 663us/step - loss: 0.8335 - acc: 0.7430 - val_loss: 0.8065 - val_acc: 0.7531\n",
            "Epoch 35/200\n",
            "15193/15193 [==============================] - 10s 663us/step - loss: 0.8200 - acc: 0.7452 - val_loss: 0.8710 - val_acc: 0.7418\n",
            "Epoch 36/200\n",
            "15193/15193 [==============================] - 10s 663us/step - loss: 0.8095 - acc: 0.7478 - val_loss: 0.7677 - val_acc: 0.7665\n",
            "Epoch 37/200\n",
            "15193/15193 [==============================] - 10s 664us/step - loss: 0.7951 - acc: 0.7532 - val_loss: 0.9684 - val_acc: 0.7015\n",
            "Epoch 38/200\n",
            "15193/15193 [==============================] - 10s 659us/step - loss: 0.7956 - acc: 0.7517 - val_loss: 0.7911 - val_acc: 0.7613\n",
            "Epoch 39/200\n",
            "15193/15193 [==============================] - 10s 660us/step - loss: 0.7792 - acc: 0.7594 - val_loss: 0.7786 - val_acc: 0.7620\n",
            "Epoch 40/200\n",
            "15193/15193 [==============================] - 10s 662us/step - loss: 0.7713 - acc: 0.7619 - val_loss: 0.7464 - val_acc: 0.7694\n",
            "Epoch 41/200\n",
            "15193/15193 [==============================] - 10s 660us/step - loss: 0.7597 - acc: 0.7625 - val_loss: 0.6998 - val_acc: 0.7847\n",
            "Epoch 42/200\n",
            "15193/15193 [==============================] - 10s 660us/step - loss: 0.7422 - acc: 0.7689 - val_loss: 0.7069 - val_acc: 0.7849\n",
            "Epoch 43/200\n",
            "15193/15193 [==============================] - 10s 662us/step - loss: 0.7481 - acc: 0.7707 - val_loss: 0.7248 - val_acc: 0.7799\n",
            "Epoch 44/200\n",
            "15193/15193 [==============================] - 10s 655us/step - loss: 0.7342 - acc: 0.7706 - val_loss: 0.7196 - val_acc: 0.7831\n",
            "Epoch 45/200\n",
            "15193/15193 [==============================] - 10s 662us/step - loss: 0.7308 - acc: 0.7736 - val_loss: 0.6912 - val_acc: 0.7973\n",
            "Epoch 46/200\n",
            "15193/15193 [==============================] - 10s 667us/step - loss: 0.7198 - acc: 0.7752 - val_loss: 0.6790 - val_acc: 0.7886\n",
            "Epoch 47/200\n",
            "15193/15193 [==============================] - 10s 658us/step - loss: 0.7009 - acc: 0.7837 - val_loss: 0.6873 - val_acc: 0.7852\n",
            "Epoch 48/200\n",
            "15193/15193 [==============================] - 10s 660us/step - loss: 0.6887 - acc: 0.7842 - val_loss: 0.6892 - val_acc: 0.7865\n",
            "Epoch 49/200\n",
            "15193/15193 [==============================] - 10s 661us/step - loss: 0.6942 - acc: 0.7826 - val_loss: 0.6673 - val_acc: 0.7960\n",
            "Epoch 50/200\n",
            "15193/15193 [==============================] - 10s 661us/step - loss: 0.6912 - acc: 0.7819 - val_loss: 0.6436 - val_acc: 0.8015\n",
            "Epoch 51/200\n",
            "15193/15193 [==============================] - 10s 661us/step - loss: 0.6803 - acc: 0.7842 - val_loss: 0.6457 - val_acc: 0.8084\n",
            "Epoch 52/200\n",
            "15193/15193 [==============================] - 10s 661us/step - loss: 0.6712 - acc: 0.7873 - val_loss: 0.6808 - val_acc: 0.7873\n",
            "Epoch 53/200\n",
            "15193/15193 [==============================] - 10s 657us/step - loss: 0.6662 - acc: 0.7892 - val_loss: 0.6309 - val_acc: 0.8076\n",
            "Epoch 54/200\n",
            "15193/15193 [==============================] - 10s 662us/step - loss: 0.6609 - acc: 0.7947 - val_loss: 0.6372 - val_acc: 0.8068\n",
            "Epoch 55/200\n",
            "15193/15193 [==============================] - 10s 658us/step - loss: 0.6554 - acc: 0.7974 - val_loss: 0.6361 - val_acc: 0.8026\n",
            "Epoch 56/200\n",
            "15193/15193 [==============================] - 10s 659us/step - loss: 0.6431 - acc: 0.7975 - val_loss: 0.6178 - val_acc: 0.8121\n",
            "Epoch 57/200\n",
            "15193/15193 [==============================] - 10s 660us/step - loss: 0.6355 - acc: 0.8004 - val_loss: 0.6332 - val_acc: 0.8063\n",
            "Epoch 58/200\n",
            "15193/15193 [==============================] - 10s 658us/step - loss: 0.6279 - acc: 0.8007 - val_loss: 0.6352 - val_acc: 0.8047\n",
            "Epoch 59/200\n",
            "15193/15193 [==============================] - 10s 661us/step - loss: 0.6356 - acc: 0.8003 - val_loss: 0.6095 - val_acc: 0.8226\n",
            "Epoch 60/200\n",
            "15193/15193 [==============================] - 10s 661us/step - loss: 0.6261 - acc: 0.7993 - val_loss: 0.6225 - val_acc: 0.8089\n",
            "Epoch 61/200\n",
            "15193/15193 [==============================] - 10s 659us/step - loss: 0.6170 - acc: 0.8048 - val_loss: 0.6165 - val_acc: 0.8134\n",
            "Epoch 62/200\n",
            "15193/15193 [==============================] - 10s 658us/step - loss: 0.6002 - acc: 0.8110 - val_loss: 0.6354 - val_acc: 0.8105\n",
            "Epoch 63/200\n",
            "15193/15193 [==============================] - 10s 656us/step - loss: 0.6199 - acc: 0.8058 - val_loss: 0.6955 - val_acc: 0.7905\n",
            "Epoch 64/200\n",
            "15193/15193 [==============================] - 10s 663us/step - loss: 0.6049 - acc: 0.8087 - val_loss: 0.6159 - val_acc: 0.8107\n",
            "Epoch 65/200\n",
            "15193/15193 [==============================] - 10s 663us/step - loss: 0.6026 - acc: 0.8135 - val_loss: 0.6019 - val_acc: 0.8215\n",
            "Epoch 66/200\n",
            "15193/15193 [==============================] - 10s 657us/step - loss: 0.5938 - acc: 0.8133 - val_loss: 0.6019 - val_acc: 0.8192\n",
            "Epoch 67/200\n",
            "15193/15193 [==============================] - 10s 657us/step - loss: 0.5842 - acc: 0.8166 - val_loss: 0.6144 - val_acc: 0.8184\n",
            "Epoch 68/200\n",
            "15193/15193 [==============================] - 10s 665us/step - loss: 0.5832 - acc: 0.8136 - val_loss: 0.5972 - val_acc: 0.8178\n",
            "Epoch 69/200\n",
            "15193/15193 [==============================] - 10s 666us/step - loss: 0.5833 - acc: 0.8179 - val_loss: 0.5859 - val_acc: 0.8257\n",
            "Epoch 70/200\n",
            "15193/15193 [==============================] - 10s 662us/step - loss: 0.5793 - acc: 0.8122 - val_loss: 0.5743 - val_acc: 0.8257\n",
            "Epoch 71/200\n",
            "15193/15193 [==============================] - 10s 660us/step - loss: 0.5648 - acc: 0.8229 - val_loss: 0.5567 - val_acc: 0.8297\n",
            "Epoch 72/200\n",
            "15193/15193 [==============================] - 10s 657us/step - loss: 0.5668 - acc: 0.8212 - val_loss: 0.5922 - val_acc: 0.8205\n",
            "Epoch 73/200\n",
            "15193/15193 [==============================] - 10s 656us/step - loss: 0.5598 - acc: 0.8251 - val_loss: 0.6292 - val_acc: 0.8102\n",
            "Epoch 74/200\n",
            "15193/15193 [==============================] - 10s 657us/step - loss: 0.5571 - acc: 0.8231 - val_loss: 0.5785 - val_acc: 0.8215\n",
            "Epoch 75/200\n",
            "15193/15193 [==============================] - 10s 656us/step - loss: 0.5469 - acc: 0.8265 - val_loss: 0.5784 - val_acc: 0.8215\n",
            "Epoch 76/200\n",
            "15193/15193 [==============================] - 10s 657us/step - loss: 0.5584 - acc: 0.8233 - val_loss: 0.6119 - val_acc: 0.8178\n",
            "Epoch 77/200\n",
            "15193/15193 [==============================] - 10s 660us/step - loss: 0.5522 - acc: 0.8268 - val_loss: 0.5573 - val_acc: 0.8318\n",
            "Epoch 78/200\n",
            "15193/15193 [==============================] - 10s 658us/step - loss: 0.5384 - acc: 0.8301 - val_loss: 0.5518 - val_acc: 0.8336\n",
            "Epoch 79/200\n",
            "15193/15193 [==============================] - 10s 659us/step - loss: 0.5299 - acc: 0.8326 - val_loss: 0.5366 - val_acc: 0.8357\n",
            "Epoch 80/200\n",
            "15193/15193 [==============================] - 10s 659us/step - loss: 0.5514 - acc: 0.8297 - val_loss: 0.6100 - val_acc: 0.8157\n",
            "Epoch 81/200\n",
            "15193/15193 [==============================] - 10s 660us/step - loss: 0.5283 - acc: 0.8312 - val_loss: 0.6110 - val_acc: 0.8157\n",
            "Epoch 82/200\n",
            "15193/15193 [==============================] - 10s 662us/step - loss: 0.5265 - acc: 0.8335 - val_loss: 0.5411 - val_acc: 0.8371\n",
            "Epoch 83/200\n",
            "15193/15193 [==============================] - 10s 664us/step - loss: 0.5349 - acc: 0.8304 - val_loss: 0.5365 - val_acc: 0.8394\n",
            "Epoch 84/200\n",
            "15193/15193 [==============================] - 10s 663us/step - loss: 0.5206 - acc: 0.8353 - val_loss: 0.5588 - val_acc: 0.8292\n",
            "Epoch 85/200\n",
            "15193/15193 [==============================] - 10s 660us/step - loss: 0.5142 - acc: 0.8367 - val_loss: 0.5746 - val_acc: 0.8302\n",
            "Epoch 86/200\n",
            "15193/15193 [==============================] - 10s 660us/step - loss: 0.5229 - acc: 0.8346 - val_loss: 0.5715 - val_acc: 0.8300\n",
            "Epoch 87/200\n",
            "15193/15193 [==============================] - 10s 662us/step - loss: 0.5105 - acc: 0.8398 - val_loss: 0.5842 - val_acc: 0.8271\n",
            "Epoch 88/200\n",
            "15193/15193 [==============================] - 10s 659us/step - loss: 0.5008 - acc: 0.8411 - val_loss: 0.5421 - val_acc: 0.8363\n",
            "Epoch 89/200\n",
            "15193/15193 [==============================] - 10s 659us/step - loss: 0.4994 - acc: 0.8424 - val_loss: 0.5684 - val_acc: 0.8236\n",
            "Epoch 90/200\n",
            "15193/15193 [==============================] - 10s 659us/step - loss: 0.4989 - acc: 0.8419 - val_loss: 0.5464 - val_acc: 0.8347\n",
            "Epoch 91/200\n",
            "15193/15193 [==============================] - 10s 662us/step - loss: 0.5043 - acc: 0.8399 - val_loss: 0.5418 - val_acc: 0.8397\n",
            "Epoch 92/200\n",
            "15193/15193 [==============================] - 10s 658us/step - loss: 0.4916 - acc: 0.8427 - val_loss: 0.5460 - val_acc: 0.8381\n",
            "Epoch 93/200\n",
            "15193/15193 [==============================] - 10s 661us/step - loss: 0.5058 - acc: 0.8397 - val_loss: 0.5452 - val_acc: 0.8386\n",
            "Epoch 94/200\n",
            "15193/15193 [==============================] - 10s 659us/step - loss: 0.4996 - acc: 0.8440 - val_loss: 0.5298 - val_acc: 0.8352\n",
            "Epoch 95/200\n",
            "15193/15193 [==============================] - 10s 663us/step - loss: 0.4876 - acc: 0.8488 - val_loss: 0.5118 - val_acc: 0.8468\n",
            "Epoch 96/200\n",
            "15193/15193 [==============================] - 10s 660us/step - loss: 0.4882 - acc: 0.8437 - val_loss: 0.5239 - val_acc: 0.8494\n",
            "Epoch 97/200\n",
            "15193/15193 [==============================] - 10s 658us/step - loss: 0.4777 - acc: 0.8451 - val_loss: 0.5200 - val_acc: 0.8457\n",
            "Epoch 98/200\n",
            "15193/15193 [==============================] - 10s 659us/step - loss: 0.4747 - acc: 0.8457 - val_loss: 0.5524 - val_acc: 0.8344\n",
            "Epoch 99/200\n",
            "15193/15193 [==============================] - 10s 660us/step - loss: 0.4828 - acc: 0.8459 - val_loss: 0.5367 - val_acc: 0.8394\n",
            "Epoch 100/200\n",
            "15193/15193 [==============================] - 10s 661us/step - loss: 0.4743 - acc: 0.8489 - val_loss: 0.5233 - val_acc: 0.8460\n",
            "Epoch 101/200\n",
            "15193/15193 [==============================] - 10s 660us/step - loss: 0.4910 - acc: 0.8446 - val_loss: 0.5302 - val_acc: 0.8405\n",
            "Epoch 102/200\n",
            "15193/15193 [==============================] - 10s 657us/step - loss: 0.4705 - acc: 0.8529 - val_loss: 0.5361 - val_acc: 0.8413\n",
            "Epoch 103/200\n",
            "15193/15193 [==============================] - 10s 660us/step - loss: 0.4607 - acc: 0.8536 - val_loss: 0.5174 - val_acc: 0.8484\n",
            "Epoch 104/200\n",
            "15193/15193 [==============================] - 10s 661us/step - loss: 0.4657 - acc: 0.8519 - val_loss: 0.5630 - val_acc: 0.8400\n",
            "Epoch 105/200\n",
            "15193/15193 [==============================] - 10s 660us/step - loss: 0.4584 - acc: 0.8514 - val_loss: 0.5229 - val_acc: 0.8476\n",
            "Epoch 106/200\n",
            "15193/15193 [==============================] - 10s 662us/step - loss: 0.4435 - acc: 0.8577 - val_loss: 0.5534 - val_acc: 0.8410\n",
            "Epoch 107/200\n",
            "15193/15193 [==============================] - 10s 664us/step - loss: 0.4684 - acc: 0.8478 - val_loss: 0.5254 - val_acc: 0.8429\n",
            "Epoch 108/200\n",
            "15193/15193 [==============================] - 10s 660us/step - loss: 0.4535 - acc: 0.8557 - val_loss: 0.5100 - val_acc: 0.8510\n",
            "Epoch 109/200\n",
            "15193/15193 [==============================] - 10s 662us/step - loss: 0.4611 - acc: 0.8545 - val_loss: 0.5031 - val_acc: 0.8518\n",
            "Epoch 110/200\n",
            "15193/15193 [==============================] - 10s 662us/step - loss: 0.4480 - acc: 0.8575 - val_loss: 0.5194 - val_acc: 0.8471\n",
            "Epoch 111/200\n",
            "15193/15193 [==============================] - 10s 659us/step - loss: 0.4578 - acc: 0.8540 - val_loss: 0.5245 - val_acc: 0.8505\n",
            "Epoch 112/200\n",
            "15193/15193 [==============================] - 10s 657us/step - loss: 0.4675 - acc: 0.8520 - val_loss: 0.5471 - val_acc: 0.8439\n",
            "Epoch 113/200\n",
            "15193/15193 [==============================] - 10s 657us/step - loss: 0.4482 - acc: 0.8603 - val_loss: 0.5579 - val_acc: 0.8381\n",
            "Epoch 114/200\n",
            "15193/15193 [==============================] - 10s 657us/step - loss: 0.4370 - acc: 0.8580 - val_loss: 0.5082 - val_acc: 0.8539\n",
            "Epoch 115/200\n",
            "15193/15193 [==============================] - 10s 661us/step - loss: 0.4386 - acc: 0.8638 - val_loss: 0.4996 - val_acc: 0.8589\n",
            "Epoch 116/200\n",
            "15193/15193 [==============================] - 10s 662us/step - loss: 0.4353 - acc: 0.8640 - val_loss: 0.5019 - val_acc: 0.8539\n",
            "Epoch 117/200\n",
            "15193/15193 [==============================] - 10s 661us/step - loss: 0.4357 - acc: 0.8596 - val_loss: 0.4971 - val_acc: 0.8550\n",
            "Epoch 118/200\n",
            "15193/15193 [==============================] - 10s 659us/step - loss: 0.4306 - acc: 0.8607 - val_loss: 0.5188 - val_acc: 0.8513\n",
            "Epoch 119/200\n",
            "15193/15193 [==============================] - 10s 664us/step - loss: 0.4332 - acc: 0.8616 - val_loss: 0.5292 - val_acc: 0.8489\n",
            "Epoch 120/200\n",
            "15193/15193 [==============================] - 10s 663us/step - loss: 0.4396 - acc: 0.8628 - val_loss: 0.4995 - val_acc: 0.8518\n",
            "Epoch 121/200\n",
            "15193/15193 [==============================] - 10s 660us/step - loss: 0.4319 - acc: 0.8624 - val_loss: 0.5044 - val_acc: 0.8558\n",
            "Epoch 122/200\n",
            "15193/15193 [==============================] - 10s 661us/step - loss: 0.4200 - acc: 0.8625 - val_loss: 0.5273 - val_acc: 0.8521\n",
            "Epoch 123/200\n",
            "15193/15193 [==============================] - 10s 658us/step - loss: 0.4309 - acc: 0.8616 - val_loss: 0.5389 - val_acc: 0.8421\n",
            "Epoch 124/200\n",
            "15193/15193 [==============================] - 10s 662us/step - loss: 0.4189 - acc: 0.8638 - val_loss: 0.5041 - val_acc: 0.8539\n",
            "Epoch 125/200\n",
            "15193/15193 [==============================] - 10s 663us/step - loss: 0.4134 - acc: 0.8688 - val_loss: 0.5506 - val_acc: 0.8465\n",
            "Epoch 126/200\n",
            "15193/15193 [==============================] - 10s 660us/step - loss: 0.4106 - acc: 0.8672 - val_loss: 0.5197 - val_acc: 0.8513\n",
            "Epoch 127/200\n",
            "15193/15193 [==============================] - 10s 664us/step - loss: 0.4128 - acc: 0.8663 - val_loss: 0.5393 - val_acc: 0.8471\n",
            "Epoch 128/200\n",
            "15193/15193 [==============================] - 10s 659us/step - loss: 0.4169 - acc: 0.8685 - val_loss: 0.5521 - val_acc: 0.8431\n",
            "Epoch 129/200\n",
            "15193/15193 [==============================] - 10s 658us/step - loss: 0.4122 - acc: 0.8689 - val_loss: 0.5325 - val_acc: 0.8481\n",
            "Epoch 130/200\n",
            "15193/15193 [==============================] - 10s 661us/step - loss: 0.4214 - acc: 0.8627 - val_loss: 0.5000 - val_acc: 0.8550\n",
            "Epoch 131/200\n",
            "15193/15193 [==============================] - 10s 655us/step - loss: 0.4109 - acc: 0.8680 - val_loss: 0.5550 - val_acc: 0.8389\n",
            "Epoch 132/200\n",
            "15193/15193 [==============================] - 10s 663us/step - loss: 0.4078 - acc: 0.8673 - val_loss: 0.5218 - val_acc: 0.8529\n",
            "Epoch 133/200\n",
            "15193/15193 [==============================] - 10s 662us/step - loss: 0.4140 - acc: 0.8682 - val_loss: 0.4848 - val_acc: 0.8615\n",
            "Epoch 134/200\n",
            "15193/15193 [==============================] - 10s 658us/step - loss: 0.3992 - acc: 0.8713 - val_loss: 0.4990 - val_acc: 0.8565\n",
            "Epoch 135/200\n",
            "15193/15193 [==============================] - 10s 661us/step - loss: 0.4083 - acc: 0.8661 - val_loss: 0.5022 - val_acc: 0.8539\n",
            "Epoch 136/200\n",
            "15193/15193 [==============================] - 10s 655us/step - loss: 0.4047 - acc: 0.8703 - val_loss: 0.4885 - val_acc: 0.8568\n",
            "Epoch 137/200\n",
            "15193/15193 [==============================] - 10s 656us/step - loss: 0.3904 - acc: 0.8736 - val_loss: 0.4947 - val_acc: 0.8594\n",
            "Epoch 138/200\n",
            "15193/15193 [==============================] - 10s 660us/step - loss: 0.3979 - acc: 0.8726 - val_loss: 0.5142 - val_acc: 0.8471\n",
            "Epoch 139/200\n",
            "15193/15193 [==============================] - 10s 660us/step - loss: 0.4043 - acc: 0.8684 - val_loss: 0.4919 - val_acc: 0.8581\n",
            "Epoch 140/200\n",
            "15193/15193 [==============================] - 10s 657us/step - loss: 0.3932 - acc: 0.8736 - val_loss: 0.5172 - val_acc: 0.8579\n",
            "Epoch 141/200\n",
            "15193/15193 [==============================] - 10s 661us/step - loss: 0.3849 - acc: 0.8758 - val_loss: 0.5098 - val_acc: 0.8623\n",
            "Epoch 142/200\n",
            "15193/15193 [==============================] - 10s 653us/step - loss: 0.3911 - acc: 0.8732 - val_loss: 0.5151 - val_acc: 0.8592\n",
            "Epoch 143/200\n",
            "15193/15193 [==============================] - 10s 661us/step - loss: 0.4114 - acc: 0.8681 - val_loss: 0.4912 - val_acc: 0.8592\n",
            "Epoch 144/200\n",
            "15193/15193 [==============================] - 10s 659us/step - loss: 0.3965 - acc: 0.8735 - val_loss: 0.4747 - val_acc: 0.8650\n",
            "Epoch 145/200\n",
            "15193/15193 [==============================] - 10s 659us/step - loss: 0.3854 - acc: 0.8747 - val_loss: 0.4971 - val_acc: 0.8621\n",
            "Epoch 146/200\n",
            "15193/15193 [==============================] - 10s 662us/step - loss: 0.3942 - acc: 0.8733 - val_loss: 0.5091 - val_acc: 0.8542\n",
            "Epoch 147/200\n",
            "15193/15193 [==============================] - 10s 659us/step - loss: 0.3873 - acc: 0.8756 - val_loss: 0.4873 - val_acc: 0.8623\n",
            "Epoch 148/200\n",
            "15193/15193 [==============================] - 10s 662us/step - loss: 0.3782 - acc: 0.8778 - val_loss: 0.4946 - val_acc: 0.8602\n",
            "Epoch 149/200\n",
            "15193/15193 [==============================] - 10s 660us/step - loss: 0.3748 - acc: 0.8763 - val_loss: 0.4880 - val_acc: 0.8586\n",
            "Epoch 150/200\n",
            "15193/15193 [==============================] - 10s 661us/step - loss: 0.3693 - acc: 0.8798 - val_loss: 0.4962 - val_acc: 0.8634\n",
            "Epoch 151/200\n",
            "15193/15193 [==============================] - 10s 658us/step - loss: 0.3749 - acc: 0.8798 - val_loss: 0.4827 - val_acc: 0.8642\n",
            "Epoch 152/200\n",
            "15193/15193 [==============================] - 10s 655us/step - loss: 0.3746 - acc: 0.8791 - val_loss: 0.4929 - val_acc: 0.8623\n",
            "Epoch 153/200\n",
            "15193/15193 [==============================] - 10s 658us/step - loss: 0.3705 - acc: 0.8803 - val_loss: 0.5056 - val_acc: 0.8518\n",
            "Epoch 154/200\n",
            "15193/15193 [==============================] - 10s 658us/step - loss: 0.3882 - acc: 0.8770 - val_loss: 0.5016 - val_acc: 0.8623\n",
            "Epoch 155/200\n",
            "15193/15193 [==============================] - 10s 659us/step - loss: 0.3894 - acc: 0.8772 - val_loss: 0.5150 - val_acc: 0.8539\n",
            "Epoch 156/200\n",
            "15193/15193 [==============================] - 10s 660us/step - loss: 0.3756 - acc: 0.8786 - val_loss: 0.4800 - val_acc: 0.8655\n",
            "Epoch 157/200\n",
            "15193/15193 [==============================] - 10s 653us/step - loss: 0.3676 - acc: 0.8814 - val_loss: 0.4822 - val_acc: 0.8650\n",
            "Epoch 158/200\n",
            "15193/15193 [==============================] - 10s 660us/step - loss: 0.3658 - acc: 0.8826 - val_loss: 0.4798 - val_acc: 0.8681\n",
            "Epoch 159/200\n",
            "15193/15193 [==============================] - 10s 659us/step - loss: 0.3599 - acc: 0.8809 - val_loss: 0.4618 - val_acc: 0.8655\n",
            "Epoch 160/200\n",
            "15193/15193 [==============================] - 10s 659us/step - loss: 0.3667 - acc: 0.8815 - val_loss: 0.5073 - val_acc: 0.8594\n",
            "Epoch 161/200\n",
            "15193/15193 [==============================] - 10s 659us/step - loss: 0.3540 - acc: 0.8862 - val_loss: 0.4854 - val_acc: 0.8660\n",
            "Epoch 162/200\n",
            "15193/15193 [==============================] - 10s 655us/step - loss: 0.3556 - acc: 0.8862 - val_loss: 0.4912 - val_acc: 0.8626\n",
            "Epoch 163/200\n",
            "15193/15193 [==============================] - 10s 662us/step - loss: 0.3842 - acc: 0.8780 - val_loss: 0.5167 - val_acc: 0.8552\n",
            "Epoch 164/200\n",
            "15193/15193 [==============================] - 10s 658us/step - loss: 0.3565 - acc: 0.8845 - val_loss: 0.4746 - val_acc: 0.8715\n",
            "Epoch 165/200\n",
            "15193/15193 [==============================] - 10s 659us/step - loss: 0.3579 - acc: 0.8846 - val_loss: 0.4974 - val_acc: 0.8605\n",
            "Epoch 166/200\n",
            "15193/15193 [==============================] - 10s 663us/step - loss: 0.3589 - acc: 0.8817 - val_loss: 0.4859 - val_acc: 0.8618\n",
            "Epoch 167/200\n",
            "15193/15193 [==============================] - 10s 660us/step - loss: 0.3607 - acc: 0.8834 - val_loss: 0.5176 - val_acc: 0.8576\n",
            "Epoch 168/200\n",
            "15193/15193 [==============================] - 10s 659us/step - loss: 0.3530 - acc: 0.8870 - val_loss: 0.5143 - val_acc: 0.8608\n",
            "Epoch 169/200\n",
            "15193/15193 [==============================] - 10s 654us/step - loss: 0.3429 - acc: 0.8897 - val_loss: 0.4956 - val_acc: 0.8655\n",
            "Epoch 170/200\n",
            "15193/15193 [==============================] - 10s 658us/step - loss: 0.3430 - acc: 0.8905 - val_loss: 0.4809 - val_acc: 0.8660\n",
            "Epoch 171/200\n",
            "15193/15193 [==============================] - 10s 658us/step - loss: 0.3653 - acc: 0.8833 - val_loss: 0.4730 - val_acc: 0.8684\n",
            "Epoch 172/200\n",
            "15193/15193 [==============================] - 10s 660us/step - loss: 0.3580 - acc: 0.8853 - val_loss: 0.4706 - val_acc: 0.8750\n",
            "Epoch 173/200\n",
            "15193/15193 [==============================] - 10s 655us/step - loss: 0.3372 - acc: 0.8902 - val_loss: 0.4744 - val_acc: 0.8671\n",
            "Epoch 174/200\n",
            "15193/15193 [==============================] - 10s 661us/step - loss: 0.3463 - acc: 0.8874 - val_loss: 0.4777 - val_acc: 0.8639\n",
            "Epoch 175/200\n",
            "15193/15193 [==============================] - 10s 658us/step - loss: 0.3493 - acc: 0.8859 - val_loss: 0.4756 - val_acc: 0.8676\n",
            "Epoch 176/200\n",
            "15193/15193 [==============================] - 10s 660us/step - loss: 0.3432 - acc: 0.8876 - val_loss: 0.4713 - val_acc: 0.8676\n",
            "Epoch 177/200\n",
            "15193/15193 [==============================] - 10s 666us/step - loss: 0.3403 - acc: 0.8904 - val_loss: 0.4880 - val_acc: 0.8623\n",
            "Epoch 178/200\n",
            "15193/15193 [==============================] - 10s 660us/step - loss: 0.3452 - acc: 0.8892 - val_loss: 0.4950 - val_acc: 0.8634\n",
            "Epoch 179/200\n",
            "15193/15193 [==============================] - 10s 663us/step - loss: 0.3335 - acc: 0.8915 - val_loss: 0.4911 - val_acc: 0.8626\n",
            "Epoch 180/200\n",
            "15193/15193 [==============================] - 10s 662us/step - loss: 0.3440 - acc: 0.8898 - val_loss: 0.4752 - val_acc: 0.8681\n",
            "Epoch 181/200\n",
            "15193/15193 [==============================] - 10s 661us/step - loss: 0.3539 - acc: 0.8863 - val_loss: 0.5037 - val_acc: 0.8581\n",
            "Epoch 182/200\n",
            "15193/15193 [==============================] - 10s 664us/step - loss: 0.3412 - acc: 0.8904 - val_loss: 0.4838 - val_acc: 0.8684\n",
            "Epoch 183/200\n",
            "15193/15193 [==============================] - 10s 665us/step - loss: 0.3311 - acc: 0.8930 - val_loss: 0.4736 - val_acc: 0.8721\n",
            "Epoch 184/200\n",
            "15193/15193 [==============================] - 10s 664us/step - loss: 0.3330 - acc: 0.8907 - val_loss: 0.4799 - val_acc: 0.8713\n",
            "Epoch 185/200\n",
            "15193/15193 [==============================] - 10s 664us/step - loss: 0.3359 - acc: 0.8930 - val_loss: 0.5068 - val_acc: 0.8623\n",
            "Epoch 186/200\n",
            "15193/15193 [==============================] - 10s 666us/step - loss: 0.3304 - acc: 0.8930 - val_loss: 0.4676 - val_acc: 0.8771\n",
            "Epoch 187/200\n",
            "15193/15193 [==============================] - 10s 665us/step - loss: 0.3265 - acc: 0.8923 - val_loss: 0.4782 - val_acc: 0.8726\n",
            "Epoch 188/200\n",
            "15193/15193 [==============================] - 10s 666us/step - loss: 0.3250 - acc: 0.8957 - val_loss: 0.4693 - val_acc: 0.8705\n",
            "Epoch 189/200\n",
            "15193/15193 [==============================] - 10s 661us/step - loss: 0.3394 - acc: 0.8916 - val_loss: 0.5188 - val_acc: 0.8636\n",
            "Epoch 190/200\n",
            "15193/15193 [==============================] - 10s 659us/step - loss: 0.3333 - acc: 0.8913 - val_loss: 0.4932 - val_acc: 0.8579\n",
            "Epoch 191/200\n",
            "15193/15193 [==============================] - 10s 663us/step - loss: 0.3382 - acc: 0.8922 - val_loss: 0.5006 - val_acc: 0.8668\n",
            "Epoch 192/200\n",
            "15193/15193 [==============================] - 10s 666us/step - loss: 0.3279 - acc: 0.8948 - val_loss: 0.4649 - val_acc: 0.8784\n",
            "Epoch 193/200\n",
            "15193/15193 [==============================] - 10s 662us/step - loss: 0.3229 - acc: 0.8951 - val_loss: 0.4841 - val_acc: 0.8681\n",
            "Epoch 194/200\n",
            "15193/15193 [==============================] - 10s 663us/step - loss: 0.3264 - acc: 0.8941 - val_loss: 0.4744 - val_acc: 0.8710\n",
            "Epoch 195/200\n",
            "15193/15193 [==============================] - 10s 664us/step - loss: 0.3190 - acc: 0.8978 - val_loss: 0.4737 - val_acc: 0.8763\n",
            "Epoch 196/200\n",
            "15193/15193 [==============================] - 10s 667us/step - loss: 0.3210 - acc: 0.8959 - val_loss: 0.4824 - val_acc: 0.8705\n",
            "Epoch 197/200\n",
            "15193/15193 [==============================] - 10s 663us/step - loss: 0.3223 - acc: 0.8950 - val_loss: 0.4837 - val_acc: 0.8689\n",
            "Epoch 198/200\n",
            "15193/15193 [==============================] - 10s 665us/step - loss: 0.3362 - acc: 0.8914 - val_loss: 0.4814 - val_acc: 0.8658\n",
            "Epoch 199/200\n",
            "15193/15193 [==============================] - 10s 669us/step - loss: 0.3237 - acc: 0.8939 - val_loss: 0.5005 - val_acc: 0.8636\n",
            "Epoch 200/200\n",
            "15193/15193 [==============================] - 10s 665us/step - loss: 0.3145 - acc: 0.8978 - val_loss: 0.4738 - val_acc: 0.8726\n"
          ],
          "name": "stdout"
        }
      ]
    },
    {
      "metadata": {
        "id": "wjfuEWon7TDJ",
        "colab_type": "code",
        "outputId": "396571a5-0947-4359-ed98-b2c1668e97b6",
        "colab": {
          "base_uri": "https://localhost:8080/",
          "height": 34
        }
      },
      "cell_type": "code",
      "source": [
        "timeRNN/60"
      ],
      "execution_count": 0,
      "outputs": [
        {
          "output_type": "execute_result",
          "data": {
            "text/plain": [
              "33.5034038066864"
            ]
          },
          "metadata": {
            "tags": []
          },
          "execution_count": 48
        }
      ]
    },
    {
      "metadata": {
        "id": "YORnRV_ysttw",
        "colab_type": "code",
        "outputId": "93dd5a93-45c4-40cd-90e5-92df70b19da5",
        "colab": {
          "base_uri": "https://localhost:8080/",
          "height": 347
        }
      },
      "cell_type": "code",
      "source": [
        "plt.plot(CNN_fit.history['val_loss'], label='val_loss')\n",
        "plt.plot(CNN_fit.history['loss'], label='loss')\n",
        "plt.legend()\n",
        "plt.show()"
      ],
      "execution_count": 0,
      "outputs": [
        {
          "output_type": "display_data",
          "data": {
            "image/png": "[encoded data removed]",
            "text/plain": [
              "<Figure size 576x396 with 1 Axes>"
            ]
          },
          "metadata": {
            "tags": []
          }
        }
      ]
    },
    {
      "metadata": {
        "id": "lmwFXepPstwr",
        "colab_type": "code",
        "outputId": "43e4db1d-2ddb-476a-cabb-bce26352c1da",
        "colab": {
          "base_uri": "https://localhost:8080/",
          "height": 347
        }
      },
      "cell_type": "code",
      "source": [
        "plt.plot(CNN_fit.history['val_acc'], label='val_acc')\n",
        "plt.plot(CNN_fit.history['acc'], label='acc')\n",
        "plt.legend()\n",
        "plt.show()"
      ],
      "execution_count": 0,
      "outputs": [
        {
          "output_type": "display_data",
          "data": {
            "image/png": "[encoded data removed]",
            "text/plain": [
              "<Figure size 576x396 with 1 Axes>"
            ]
          },
          "metadata": {
            "tags": []
          }
        }
      ]
    },
    {
      "metadata": {
        "id": "tLUGo-hj6uiC",
        "colab_type": "code",
        "outputId": "516176e7-6051-4cca-a1cd-77e314cfa7f7",
        "colab": {
          "base_uri": "https://localhost:8080/",
          "height": 51
        }
      },
      "cell_type": "code",
      "source": [
        "CNN.evaluate(X_t_scale, y_t_cat)"
      ],
      "execution_count": 0,
      "outputs": [
        {
          "output_type": "stream",
          "text": [
            "890/890 [==============================] - 0s 417us/step\n"
          ],
          "name": "stdout"
        },
        {
          "output_type": "execute_result",
          "data": {
            "text/plain": [
              "[0.24334122150131826, 0.9314606733536452]"
            ]
          },
          "metadata": {
            "tags": []
          },
          "execution_count": 51
        }
      ]
    },
    {
      "metadata": {
        "id": "V-3klqGeOiXk",
        "colab_type": "text"
      },
      "cell_type": "markdown",
      "source": [
        "93,1% de Accuracy en test.\n",
        "\n",
        "He probado varias CNN, algunas con módulos de VGGNet, pero el problema que tienen esas redes es que necesitas muchos datos para entrenarlas (y tiempo...).\n",
        "\n",
        "Una opción hubiera sido usar transfer learning con un \"fine tunning\", pero como los resultados son buenos no ha sido necesario.\n",
        "\n",
        "\n",
        "\"Cuando dos o más explicaciones se ofrecen para un fenómeno, la explicación completa más simple es preferible; es decir, no deben multiplicarse las entidades sin necesidad.\" (Navaja de Ockham)"
      ]
    },
    {
      "metadata": {
        "id": "fusifCd7at0-",
        "colab_type": "text"
      },
      "cell_type": "markdown",
      "source": [
        "#3 GPU vs CPU\n",
        "\n",
        "### GPU:\n",
        "\n",
        "Epoch 1/200\n",
        "15193/15193 [==============================] - 11s 710us/step - loss: 2.7524 - acc: 0.1283 - val_loss: 2.5660 - val_acc: 0.1832\n",
        "\n",
        "Epoch 2/200\n",
        "15193/15193 [==============================] - 10s 663us/step - loss: 2.5008 - acc: 0.2100 - val_loss: 2.3744 - val_acc: 0.2440\n",
        "\n",
        "### CPU:\n",
        "\n",
        "Epoch 1/200\n",
        "15193/15193 [==============================] - 330s 22ms/step - loss: 2.8096 - acc: 0.1065 - val_loss: 2.7629 - val_acc: 0.1277\n",
        "\n",
        "Epoch 2/200\n",
        "15193/15193 [==============================] - 330s 22ms/step - loss: 2.7996 - acc: 0.1179 - val_loss: 2.8070 - val_acc: 0.1137\n",
        "\n",
        "\n",
        "\n",
        "\n",
        "\n",
        "El uso de la GPU hace que el proceso sea mucho más rápido ya que una GPU tiene muchos más núcleos que una CPU y por tanto se pueden paralelizar mucho más los proceso.\n",
        "\n",
        "En concreto Colaboratory nos deja una Tesla K-80 que tiene casi 5000 cores CUDA, es decir que se puede paralelizar casi 5000 procedimientos.\n",
        "\n",
        "La frecuencia de reloj de una GPU es inferior a la de la CPU pero el hecho que la primera tenga casi 1000 veces más núcleos hace que la GPU tenga una performance superior en operaciones paralelizables\n",
        "\n",
        "A continuación se muestra un gráfico con las mejoras:\n",
        "\n",
        "![texto alternativo](https://www.nvidia.com/content/dam/en-zz/es_em/Solutions/Data-Center/tesla-k80/data-center-nvidia-tesla-k80-performance-843-ud.jpg)\n",
        "\n",
        "https://www.nvidia.com/en-gb/data-center/tesla-k80/\n"
      ]
    },
    {
      "metadata": {
        "id": "uhQr24vMu3G9",
        "colab_type": "text"
      },
      "cell_type": "markdown",
      "source": [
        "# 6 Data Augmentation"
      ]
    },
    {
      "metadata": {
        "id": "j08rHnIpvIaj",
        "colab_type": "code",
        "colab": {}
      },
      "cell_type": "code",
      "source": [
        "from keras.preprocessing.image import ImageDataGenerator"
      ],
      "execution_count": 0,
      "outputs": []
    },
    {
      "metadata": {
        "id": "4g6SJDJ1vRgY",
        "colab_type": "code",
        "colab": {}
      },
      "cell_type": "code",
      "source": [
        "datagen = ImageDataGenerator(\n",
        "    rescale=1./255,\n",
        "    featurewise_center=True,\n",
        "    featurewise_std_normalization=True,\n",
        "    rotation_range=20,\n",
        "    width_shift_range=0.2,\n",
        "    height_shift_range=0.2,\n",
        "    horizontal_flip=True,\n",
        "    validation_split=0.2)"
      ],
      "execution_count": 0,
      "outputs": []
    },
    {
      "metadata": {
        "id": "1Pik_c2fvUT5",
        "colab_type": "code",
        "colab": {}
      },
      "cell_type": "code",
      "source": [
        "CNN_2 = create_modelo_CNN()"
      ],
      "execution_count": 0,
      "outputs": []
    },
    {
      "metadata": {
        "id": "-xtpRx9Ovx10",
        "colab_type": "code",
        "outputId": "b55709fe-3bfe-4cb3-bbb9-750dea95b1ed",
        "colab": {
          "base_uri": "https://localhost:8080/",
          "height": 1805
        }
      },
      "cell_type": "code",
      "source": [
        "BS = 50\n",
        "start = time.time()\n",
        "\n",
        "CNN_2_fit=CNN_2.fit_generator(datagen.flow(X, y_cat, batch_size=BS),\n",
        "                    epochs=50,\n",
        "                    steps_per_epoch=len(X) / BS,\n",
        "                    shuffle=True)\n",
        "\n",
        "end = time.time()\n",
        "timeRNN = end-start"
      ],
      "execution_count": 0,
      "outputs": [
        {
          "output_type": "stream",
          "text": [
            "Epoch 1/50\n"
          ],
          "name": "stdout"
        },
        {
          "output_type": "stream",
          "text": [
            "/usr/local/lib/python3.6/dist-packages/keras_preprocessing/image/image_data_generator.py:699: UserWarning: This ImageDataGenerator specifies `featurewise_center`, but it hasn't been fit on any training data. Fit it first by calling `.fit(numpy_data)`.\n",
            "  warnings.warn('This ImageDataGenerator specifies '\n",
            "/usr/local/lib/python3.6/dist-packages/keras_preprocessing/image/image_data_generator.py:707: UserWarning: This ImageDataGenerator specifies `featurewise_std_normalization`, but it hasn't been fit on any training data. Fit it first by calling `.fit(numpy_data)`.\n",
            "  warnings.warn('This ImageDataGenerator specifies '\n"
          ],
          "name": "stderr"
        },
        {
          "output_type": "stream",
          "text": [
            "380/379 [==============================] - 30s 80ms/step - loss: 2.6734 - acc: 0.1537\n",
            "Epoch 2/50\n",
            "380/379 [==============================] - 30s 79ms/step - loss: 2.3654 - acc: 0.2603\n",
            "Epoch 3/50\n",
            "380/379 [==============================] - 30s 79ms/step - loss: 2.1996 - acc: 0.3067\n",
            "Epoch 4/50\n",
            "380/379 [==============================] - 30s 79ms/step - loss: 2.0463 - acc: 0.3543\n",
            "Epoch 5/50\n",
            "380/379 [==============================] - 30s 79ms/step - loss: 1.8921 - acc: 0.4088\n",
            "Epoch 6/50\n",
            "380/379 [==============================] - 30s 80ms/step - loss: 1.7419 - acc: 0.4553\n",
            "Epoch 7/50\n",
            "380/379 [==============================] - 30s 79ms/step - loss: 1.6483 - acc: 0.4861\n",
            "Epoch 8/50\n",
            "380/379 [==============================] - 30s 80ms/step - loss: 1.5611 - acc: 0.5167\n",
            "Epoch 9/50\n",
            "380/379 [==============================] - 30s 80ms/step - loss: 1.4824 - acc: 0.5413\n",
            "Epoch 10/50\n",
            "380/379 [==============================] - 30s 79ms/step - loss: 1.4302 - acc: 0.5585\n",
            "Epoch 11/50\n",
            "380/379 [==============================] - 30s 80ms/step - loss: 1.3793 - acc: 0.5752\n",
            "Epoch 12/50\n",
            "380/379 [==============================] - 30s 80ms/step - loss: 1.3304 - acc: 0.5900\n",
            "Epoch 13/50\n",
            "380/379 [==============================] - 30s 80ms/step - loss: 1.2811 - acc: 0.6054\n",
            "Epoch 14/50\n",
            "380/379 [==============================] - 30s 80ms/step - loss: 1.2432 - acc: 0.6200\n",
            "Epoch 15/50\n",
            "380/379 [==============================] - 30s 79ms/step - loss: 1.2068 - acc: 0.6284\n",
            "Epoch 16/50\n",
            "380/379 [==============================] - 30s 79ms/step - loss: 1.1651 - acc: 0.6452\n",
            "Epoch 17/50\n",
            "380/379 [==============================] - 30s 79ms/step - loss: 1.1480 - acc: 0.6473\n",
            "Epoch 18/50\n",
            "380/379 [==============================] - 30s 79ms/step - loss: 1.1207 - acc: 0.6576\n",
            "Epoch 19/50\n",
            "380/379 [==============================] - 30s 80ms/step - loss: 1.0982 - acc: 0.6684\n",
            "Epoch 20/50\n",
            "380/379 [==============================] - 30s 79ms/step - loss: 1.0624 - acc: 0.6782\n",
            "Epoch 21/50\n",
            "380/379 [==============================] - 30s 80ms/step - loss: 1.0332 - acc: 0.6872\n",
            "Epoch 22/50\n",
            "380/379 [==============================] - 30s 79ms/step - loss: 1.0248 - acc: 0.6855\n",
            "Epoch 23/50\n",
            "380/379 [==============================] - 30s 79ms/step - loss: 1.0026 - acc: 0.6975\n",
            "Epoch 24/50\n",
            "380/379 [==============================] - 30s 79ms/step - loss: 0.9939 - acc: 0.6992\n",
            "Epoch 25/50\n",
            "380/379 [==============================] - 30s 79ms/step - loss: 0.9748 - acc: 0.7015\n",
            "Epoch 26/50\n",
            "380/379 [==============================] - 30s 79ms/step - loss: 0.9507 - acc: 0.7086\n",
            "Epoch 27/50\n",
            "380/379 [==============================] - 30s 79ms/step - loss: 0.9403 - acc: 0.7144\n",
            "Epoch 28/50\n",
            "380/379 [==============================] - 30s 80ms/step - loss: 0.9174 - acc: 0.7195\n",
            "Epoch 29/50\n",
            "380/379 [==============================] - 30s 79ms/step - loss: 0.9135 - acc: 0.7246\n",
            "Epoch 30/50\n",
            "380/379 [==============================] - 30s 80ms/step - loss: 0.9004 - acc: 0.7265\n",
            "Epoch 31/50\n",
            "380/379 [==============================] - 30s 80ms/step - loss: 0.8801 - acc: 0.7321\n",
            "Epoch 32/50\n",
            "380/379 [==============================] - 30s 80ms/step - loss: 0.8819 - acc: 0.7338\n",
            "Epoch 33/50\n",
            "380/379 [==============================] - 30s 80ms/step - loss: 0.8611 - acc: 0.7366\n",
            "Epoch 34/50\n",
            "380/379 [==============================] - 30s 80ms/step - loss: 0.8496 - acc: 0.7434\n",
            "Epoch 35/50\n",
            "380/379 [==============================] - 31s 80ms/step - loss: 0.8454 - acc: 0.7455\n",
            "Epoch 36/50\n",
            "380/379 [==============================] - 30s 80ms/step - loss: 0.8386 - acc: 0.7470\n",
            "Epoch 37/50\n",
            "380/379 [==============================] - 30s 80ms/step - loss: 0.8324 - acc: 0.7485\n",
            "Epoch 38/50\n",
            "380/379 [==============================] - 30s 80ms/step - loss: 0.8202 - acc: 0.7524\n",
            "Epoch 39/50\n",
            "380/379 [==============================] - 30s 80ms/step - loss: 0.8122 - acc: 0.7516\n",
            "Epoch 40/50\n",
            "380/379 [==============================] - 30s 80ms/step - loss: 0.8008 - acc: 0.7572\n",
            "Epoch 41/50\n",
            "380/379 [==============================] - 30s 80ms/step - loss: 0.7940 - acc: 0.7573\n",
            "Epoch 42/50\n",
            "380/379 [==============================] - 30s 80ms/step - loss: 0.7912 - acc: 0.7594\n",
            "Epoch 43/50\n",
            "380/379 [==============================] - 30s 79ms/step - loss: 0.7852 - acc: 0.7650\n",
            "Epoch 44/50\n",
            "380/379 [==============================] - 30s 79ms/step - loss: 0.7739 - acc: 0.7647\n",
            "Epoch 45/50\n",
            "380/379 [==============================] - 30s 79ms/step - loss: 0.7680 - acc: 0.7678\n",
            "Epoch 46/50\n",
            "380/379 [==============================] - 30s 79ms/step - loss: 0.7640 - acc: 0.7683\n",
            "Epoch 47/50\n",
            "380/379 [==============================] - 30s 80ms/step - loss: 0.7492 - acc: 0.7748\n",
            "Epoch 48/50\n",
            "380/379 [==============================] - 30s 79ms/step - loss: 0.7450 - acc: 0.7731\n",
            "Epoch 49/50\n",
            "380/379 [==============================] - 30s 79ms/step - loss: 0.7489 - acc: 0.7702\n",
            "Epoch 50/50\n",
            "380/379 [==============================] - 30s 80ms/step - loss: 0.7445 - acc: 0.7743\n"
          ],
          "name": "stdout"
        }
      ]
    },
    {
      "metadata": {
        "id": "Sv4SdYp4_Hcl",
        "colab_type": "code",
        "outputId": "12b06b8c-abb2-4609-ee4b-f1fb97c37c56",
        "colab": {
          "base_uri": "https://localhost:8080/",
          "height": 34
        }
      },
      "cell_type": "code",
      "source": [
        "timeRNN/60"
      ],
      "execution_count": 0,
      "outputs": [
        {
          "output_type": "execute_result",
          "data": {
            "text/plain": [
              "25.22111568450928"
            ]
          },
          "metadata": {
            "tags": []
          },
          "execution_count": 42
        }
      ]
    },
    {
      "metadata": {
        "id": "mDh24zpA_Hh5",
        "colab_type": "code",
        "outputId": "d56aa57f-b269-4d16-aee2-c50680c8ceb3",
        "colab": {
          "base_uri": "https://localhost:8080/",
          "height": 348
        }
      },
      "cell_type": "code",
      "source": [
        "plt.plot(CNN_2_fit.history['loss'], label='loss')\n",
        "plt.legend()\n",
        "plt.show()"
      ],
      "execution_count": 0,
      "outputs": [
        {
          "output_type": "display_data",
          "data": {
            "image/png": "[encoded data removed]",
            "text/plain": [
              "<Figure size 576x396 with 1 Axes>"
            ]
          },
          "metadata": {
            "tags": []
          }
        }
      ]
    },
    {
      "metadata": {
        "id": "NM2HMOYl_WJ3",
        "colab_type": "code",
        "outputId": "d8581bee-a6c4-496d-9102-8c707d5a73a8",
        "colab": {
          "base_uri": "https://localhost:8080/",
          "height": 348
        }
      },
      "cell_type": "code",
      "source": [
        "plt.plot(CNN_2_fit.history['acc'], label='acc')\n",
        "plt.legend()\n",
        "plt.show()"
      ],
      "execution_count": 0,
      "outputs": [
        {
          "output_type": "display_data",
          "data": {
            "image/png": "[encoded data removed]",
            "text/plain": [
              "<Figure size 576x396 with 1 Axes>"
            ]
          },
          "metadata": {
            "tags": []
          }
        }
      ]
    },
    {
      "metadata": {
        "id": "36EJ1b8O_atn",
        "colab_type": "code",
        "outputId": "1b8c2b00-2f9b-43c3-e431-ed79f666d083",
        "colab": {
          "base_uri": "https://localhost:8080/",
          "height": 51
        }
      },
      "cell_type": "code",
      "source": [
        "CNN_2.evaluate(X_t_scale, y_t_cat)"
      ],
      "execution_count": 0,
      "outputs": [
        {
          "output_type": "stream",
          "text": [
            "890/890 [==============================] - 0s 559us/step\n"
          ],
          "name": "stdout"
        },
        {
          "output_type": "execute_result",
          "data": {
            "text/plain": [
              "[0.530647392219372, 0.8325842699308074]"
            ]
          },
          "metadata": {
            "tags": []
          },
          "execution_count": 47
        }
      ]
    },
    {
      "metadata": {
        "id": "3KgXZ9q-_9G0",
        "colab_type": "text"
      },
      "cell_type": "markdown",
      "source": [
        "En este caso hemos entrenado sólo 50 épocas y ha tardado 25 minutos frente al modelo sin data augmentation que se ha entrenado 200 épocas y ha tardado 33 minutos obteniendo mejores resultados. Luego en este caso podemos usar los datos sin data augmentation, ya que, aproximadamente ámbos modelos tiene el mismo resultado en la época 50.\n",
        "\n",
        "Yo creo el hecho de que el data augmentantion no mejore el modelo se debe principalmente a que los personajes se encuentran en disitintas posturas en las fotos y por ello la muestra de entrenamiento es buena para entrenar el modelo."
      ]
    },
    {
      "metadata": {
        "id": "9stSKOehxr6O",
        "colab_type": "text"
      },
      "cell_type": "markdown",
      "source": [
        "## 4\n",
        "\n",
        "### Así se haría la ingesta y el data augmentation con tf.data\n",
        "\n",
        "#### Me dió problemas con la Memoria de la GPU, por ello lo dejo aquí a título ilustrativo\n",
        "\n",
        "#### Los datos se pueden pasar ya escalados o escalar directamente haciendo:\n",
        "\n",
        "dataset_train = tf.data.Dataset.from_tensor_slices( (tf.cast(X[...,tf.newaxis]/255, tf.float32),  tf.cast(y_cat,tf.int64)))\n",
        "\n",
        "dataset_test = tf.data.Dataset.from_tensor_slices( (tf.cast(X_t[...,tf.newaxis]/255, tf.float32),  tf.cast(y_t_cat,tf.int64)))"
      ]
    },
    {
      "metadata": {
        "id": "-v8dzfCI1lU3",
        "colab_type": "text"
      },
      "cell_type": "markdown",
      "source": [
        "En este caso los tenemos que pasar separados \"X\" e \"y\" para poder aplicar las transformaciones de data augmentantion en \"X\""
      ]
    },
    {
      "metadata": {
        "id": "DRpvYa4toqCy",
        "colab_type": "code",
        "colab": {}
      },
      "cell_type": "code",
      "source": [
        "dataset_train_X = tf.data.Dataset.from_tensor_slices(X_scale)\n",
        "\n",
        "dataset_train_y = tf.data.Dataset.from_tensor_slices(y_cat)\n",
        "\n"
      ],
      "execution_count": 0,
      "outputs": []
    },
    {
      "metadata": {
        "id": "NhX27aNEpdV8",
        "colab_type": "code",
        "colab": {}
      },
      "cell_type": "code",
      "source": [
        "dataset_train_X_t = tf.data.Dataset.from_tensor_slices(X_t_scale)\n",
        "\n",
        "dataset_train_y_t = tf.data.Dataset.from_tensor_slices(y_t_cat)"
      ],
      "execution_count": 0,
      "outputs": []
    },
    {
      "metadata": {
        "id": "8S4aOiCxy2jz",
        "colab_type": "code",
        "colab": {}
      },
      "cell_type": "code",
      "source": [
        "# dataset_train = tf.data.Dataset.from_tensor_slices(\n",
        "#   (X_scale,y_cat))\n",
        "# dataset_train = dataset_train.shuffle(1000).batch(32)\n",
        "# \n",
        "# dataset_test = tf.data.Dataset.from_tensor_slices(\n",
        "#    (X_t_scale,y_t_cat))\n",
        "# dataset_test = dataset_test.shuffle(1000).batch(32)"
      ],
      "execution_count": 0,
      "outputs": []
    },
    {
      "metadata": {
        "id": "gckfZk9ajeoI",
        "colab_type": "text"
      },
      "cell_type": "markdown",
      "source": [
        "#### Data Augmentation\n",
        "Extraido de: https://www.wouterbulten.nl/blog/tech/data-augmentation-using-tensorflow-data-dataset/"
      ]
    },
    {
      "metadata": {
        "id": "RomYTEpdjCLP",
        "colab_type": "code",
        "colab": {}
      },
      "cell_type": "code",
      "source": [
        "# https://www.wouterbulten.nl/blog/tech/data-augmentation-using-tensorflow-data-dataset/\n",
        "def plot_images(dataset, n_images, samples_per_image):\n",
        "    output = np.zeros((32 * n_images, 32 * samples_per_image, 3))\n",
        "\n",
        "    row = 0\n",
        "    for images in dataset.repeat(samples_per_image).batch(n_images):\n",
        "        output[:, row*32:(row+1)*32] = np.vstack(images.numpy())\n",
        "        row += 1\n",
        "\n",
        "    plt.figure()\n",
        "    plt.imshow(output)\n",
        "    plt.show()\n",
        "\n",
        "def flip(x: tf.Tensor) -> tf.Tensor:\n",
        "    \"\"\"Flip augmentation\n",
        "\n",
        "    Args:\n",
        "        x: Image to flip\n",
        "\n",
        "    Returns:\n",
        "        Augmented image\n",
        "    \"\"\"\n",
        "    x = tf.image.random_flip_left_right(x)\n",
        "    x = tf.image.random_flip_up_down(x)\n",
        "\n",
        "    return x\n",
        "\n",
        "def color(x: tf.Tensor) -> tf.Tensor:\n",
        "    \"\"\"Color augmentation\n",
        "\n",
        "    Args:\n",
        "        x: Image\n",
        "\n",
        "    Returns:\n",
        "        Augmented image\n",
        "    \"\"\"\n",
        "    x = tf.image.random_hue(x, 0.08)\n",
        "    x = tf.image.random_saturation(x, 0.6, 1.6)\n",
        "    x = tf.image.random_brightness(x, 0.05)\n",
        "    x = tf.image.random_contrast(x, 0.7, 1.3)\n",
        "    return x\n",
        "\n",
        "def rotate(x: tf.Tensor) -> tf.Tensor:\n",
        "    \"\"\"Rotation augmentation\n",
        "\n",
        "    Args:\n",
        "        x: Image\n",
        "\n",
        "    Returns:\n",
        "        Augmented image\n",
        "    \"\"\"\n",
        "\n",
        "    return tf.image.rot90(x, tf.random_uniform(shape=[], minval=0, maxval=4, dtype=tf.int32))\n",
        "\n",
        "def zoom(x: tf.Tensor) -> tf.Tensor:\n",
        "    \"\"\"Zoom augmentation\n",
        "\n",
        "    Args:\n",
        "        x: Image\n",
        "\n",
        "    Returns:\n",
        "        Augmented image\n",
        "    \"\"\"\n",
        "\n",
        "    # Generate 20 crop settings, ranging from a 1% to 20% crop.\n",
        "    scales = list(np.arange(0.8, 1.0, 0.01))\n",
        "    boxes = np.zeros((len(scales), 4))\n",
        "\n",
        "    for i, scale in enumerate(scales):\n",
        "        x1 = y1 = 0.5 - (0.5 * scale)\n",
        "        x2 = y2 = 0.5 + (0.5 * scale)\n",
        "        boxes[i] = [x1, y1, x2, y2]\n",
        "\n",
        "    def random_crop(img):\n",
        "        # Create different crops for an image\n",
        "        crops = tf.image.crop_and_resize([img], boxes=boxes, box_ind=np.zeros(len(scales)), crop_size=(32, 32))\n",
        "        # Return a random crop\n",
        "        return crops[tf.random_uniform(shape=[], minval=0, maxval=len(scales), dtype=tf.int32)]\n",
        "\n",
        "\n",
        "    choice = tf.random_uniform(shape=[], minval=0., maxval=1., dtype=tf.float32)\n",
        "\n",
        "    # Only apply cropping 50% of the time\n",
        "    return tf.cond(choice < 0.5, lambda: x, lambda: random_crop(x))\n"
      ],
      "execution_count": 0,
      "outputs": []
    },
    {
      "metadata": {
        "id": "XkAigrVYkKLU",
        "colab_type": "code",
        "colab": {}
      },
      "cell_type": "code",
      "source": [
        "\n",
        "\n",
        "# dataset_train_X_aug = dataset_train_X.map(lambda x: flip(x))\n",
        "# dataset_train_X_aug = dataset_train_X_aug.map(lambda x: color(x))\n",
        "# dataset_train_X_aug = dataset_train_X_aug.map(lambda x: rotate(x))\n",
        "# dataset_train_X_aug = dataset_train_X_aug.map(lambda x: zoom(x))\n"
      ],
      "execution_count": 0,
      "outputs": []
    },
    {
      "metadata": {
        "id": "NxzGhUTMn762",
        "colab_type": "code",
        "colab": {}
      },
      "cell_type": "code",
      "source": [
        "augmentations = [flip, color, rotate]\n",
        "for f in augmentations:\n",
        "    dataset_train_X = dataset_train_X.map(lambda x: tf.cond(tf.random_uniform([], 0, 1) > 0.75, lambda: f(x), lambda: x))\n",
        "dataset_train_X = dataset_train_X.map(lambda x: tf.clip_by_value(x, 0, 1))"
      ],
      "execution_count": 0,
      "outputs": []
    },
    {
      "metadata": {
        "id": "1TnyM8GFxpQY",
        "colab_type": "code",
        "colab": {}
      },
      "cell_type": "code",
      "source": [
        ""
      ],
      "execution_count": 0,
      "outputs": []
    },
    {
      "metadata": {
        "id": "fcPRhQV7xpai",
        "colab_type": "code",
        "colab": {}
      },
      "cell_type": "code",
      "source": [
        ""
      ],
      "execution_count": 0,
      "outputs": []
    },
    {
      "metadata": {
        "colab_type": "text",
        "id": "pBbmz9DMhVhc"
      },
      "cell_type": "markdown",
      "source": [
        "## Entregable\n",
        "\n",
        "Utilizando Convolutional Neural Networks con TensorFlow (ya sea tf.keras, TensorFlow Eager, o TensorFlow tradicional), entrenar un clasificador que sea capaz de reconocer personajes en imágenes de los Simpsons con una accuracy en el dataset de test de **88%**. Redactar un informe analizando varias de las alternativas probadas y los resultados obtenidos.\n",
        "\n",
        "El entregable (en formato .ipynb, aunque puede apoyarse con un archivo pdf) tiene que contener los siguientes elementos:\n",
        "\n",
        "**1 (1.5 puntos): Implementación con una red neuronal clásica**. Implementar primero un modelo feed-forward clásico, sin convoluciones. Mostrar código y  resultados de entrenamiento y accuracy en el test set.\n",
        "\n",
        "**2 (4.5 puntos): Implementación con CNNs**. Implementar una arquitectura CNN que consiga un 88% de accuracy en el test set. Mostrar código y resultados de entrenamiento y accuracy en el test set. Explicar brevemente la arquitectura utilizada y las pruebas realizadas.\n",
        "\n",
        "**3 (1 punto): Comparación GPU/CPU**. Comparar el tiempo de entrenamiento de tu modelo por epoch utilizando GPUs y CPUs. Explicar por qué el uso de una aceleradora como una GPU acelera el entrenamiento de la red neuronal.\n",
        "\n",
        "**4 (0.5 puntos): Utilización de tf.data**. Si no se ha entrenado el modelo en el paso 2 con tf.data, repetir la ingesta de datos (incluyendo el preprocesamiento de imágenes) para el modelo utilizando tf.data.\n",
        "\n",
        "**5 [optativo] (1 punto extra). Implementar el modelo en TensorFlow Eager o TF de bajo nivel, sin usar tf.keras.** El bucle de entrenamiento batch a batch también tiene que hacerse utilizando operaciones de bajo nivel. En resumen, no vale utilizar capas de Keras como convoluciones o Dense ni funciones como .fit(), hay que implementarlas. Podéis programar el modelo sin embargo utilizando Keras subclassing (tf.keras.Model).\n",
        "\n",
        "**6 [optativo] (0.5 puntos extra). Utilizar data augmentation.** Utilizar la técnica de data augmentation y comentar los resultados. Esto puede conseguirse con la clase [ImageDataGenerator](https://keras.io/preprocessing/image/#imagedatagenerator-class) de Keras o con tf.data.\n",
        "\n",
        "\n",
        "Notas: \n",
        "* Recuerda que suele ser útil partir los datos en training/validation para tener una buena estimación de los valores que nuestro modelo tendrá en los datos de test, así como comprobar que no estamos cayendo en overfitting. Una posible partición puede ser 80 / 20.\n",
        "* No es necesario mostrar en el notebook las trazas de entrenamiento de todos los modelos entrenados, si bien una buena idea seria guardar gráficas de esos entrenamientos para su análisis. Sin embargo, recordar que **se debe mostrar el entrenamiento completo del modelo final obtenido y la evaluación de los datos de test con este modelo**.\n",
        "* Las imágenes **no están normalizadas**. Hay que normalizarlas (píxeles de 0 a 255 tienen que ir a un número real entre 0 y 1).\n",
        "* El test set del problema tiene imágenes un poco más \"fáciles\", por lo que es posible encontrarse con métricas en el test set bastante mejores que lo que vemos en el validation set de nuestro modelo.\n",
        "* No es necesario probar modelos tan grandes que tarden horas en entrenar. Es posible alcanzar la accuracy requerida con modelos que entrenan rápido en GPUs.\n",
        "* Ojo: los datos devueltos por las funciones *load_train_set* y *load_test_set* están ordenados personaje a personaje."
      ]
    }
  ]
}