{
 "cells": [
  {
   "cell_type": "markdown",
   "metadata": {
    "colab_type": "text",
    "id": "DUBik36gV14D"
   },
   "source": []
  },
  {
   "cell_type": "markdown",
   "metadata": {
    "colab_type": "text",
    "id": "AVNSKEUAWXUn"
   },
   "source": []
  },
  {
   "cell_type": "code",
   "execution_count": 1,
   "metadata": {
    "colab": {
     "base_uri": "https://localhost:8080/",
     "height": 51
    },
    "colab_type": "code",
    "id": "mT77VeiaWYq3",
    "outputId": "329388db-46e9-4eff-d99c-5d7d6f20079a"
   },
   "outputs": [
    {
     "name": "stdout",
     "output_type": "stream",
     "text": [
      "2.5001254075746178 seconds process time\n",
      "2.5005764961242676 seconds wall time\n"
     ]
    }
   ],
   "source": [
    "# Para medir tiempos\n",
    "\n",
    "import time\n",
    "\n",
    "def procedure():\n",
    "    time.sleep(2.5)\n",
    "\n",
    "# measure process time\n",
    "t0 = time.clock()\n",
    "procedure()\n",
    "print (time.clock() - t0, \"seconds process time\")\n",
    "\n",
    "# measure wall time\n",
    "t0 = time.time()\n",
    "procedure()\n",
    "print (time.time() - t0, \"seconds wall time\")\n"
   ]
  },
  {
   "cell_type": "markdown",
   "metadata": {
    "colab_type": "text",
    "id": "rM8NH5FZVkZK"
   },
   "source": [
    "## Import Libraries"
   ]
  },
  {
   "cell_type": "code",
   "execution_count": 2,
   "metadata": {
    "colab": {
     "base_uri": "https://localhost:8080/",
     "height": 34
    },
    "colab_type": "code",
    "id": "jaYk6dD0VkZL",
    "outputId": "5f2dd26c-bd51-4f6d-a190-bc2c2e4e7c6d"
   },
   "outputs": [
    {
     "name": "stderr",
     "output_type": "stream",
     "text": [
      "C:\\ProgramData\\Anaconda3\\lib\\site-packages\\h5py\\__init__.py:36: FutureWarning: Conversion of the second argument of issubdtype from `float` to `np.floating` is deprecated. In future, it will be treated as `np.float64 == np.dtype(float).type`.\n",
      "  from ._conv import register_converters as _register_converters\n",
      "Using TensorFlow backend.\n"
     ]
    }
   ],
   "source": [
    "# Keras Datasets: \n",
    "#    https://jovianlin.io/datasets-within-keras/\n",
    "from keras.datasets import mnist\n",
    "\n",
    "from keras.models import Sequential\n",
    "from keras.layers import Dense, Dropout\n",
    "from keras.optimizers import RMSprop\n",
    "from keras.utils import np_utils\n",
    "\n",
    "# Set random seed (for reproducibility):\n",
    "# https://machinelearningmastery.com/reproducible-results-neural-networks-keras/\n",
    "import numpy as np\n",
    "np.random.seed(42)"
   ]
  },
  {
   "cell_type": "markdown",
   "metadata": {
    "colab_type": "text",
    "id": "P6MhAi3uVkZT"
   },
   "source": [
    "## Load Data"
   ]
  },
  {
   "cell_type": "markdown",
   "metadata": {
    "colab_type": "text",
    "id": "_fhwq4l6VkZT"
   },
   "source": [
    "#### Number of clases"
   ]
  },
  {
   "cell_type": "code",
   "execution_count": 3,
   "metadata": {
    "colab": {},
    "colab_type": "code",
    "id": "yN54fGUoVkZV"
   },
   "outputs": [],
   "source": [
    "num_classes = 10"
   ]
  },
  {
   "cell_type": "markdown",
   "metadata": {
    "colab_type": "text",
    "id": "gAhQygm_VkZY"
   },
   "source": [
    "#### Load training and test datasets"
   ]
  },
  {
   "cell_type": "code",
   "execution_count": 4,
   "metadata": {
    "colab": {},
    "colab_type": "code",
    "id": "66fMvSqAVkZa"
   },
   "outputs": [],
   "source": [
    "(X_train, y_train), (X_test, y_test) = mnist.load_data()"
   ]
  },
  {
   "cell_type": "markdown",
   "metadata": {
    "colab_type": "text",
    "id": "E5ltoHnaVkZe"
   },
   "source": [
    "#### Print shape of the original data"
   ]
  },
  {
   "cell_type": "code",
   "execution_count": 5,
   "metadata": {
    "colab": {
     "base_uri": "https://localhost:8080/",
     "height": 85
    },
    "colab_type": "code",
    "id": "YuzVpeLsVkZf",
    "outputId": "b915af44-06b8-49fd-e37f-becd8bd9ec8e"
   },
   "outputs": [
    {
     "name": "stdout",
     "output_type": "stream",
     "text": [
      "(60000, 28, 28)\n",
      "(60000,)\n",
      "(10000, 28, 28)\n",
      "(10000,)\n"
     ]
    }
   ],
   "source": [
    "print(X_train.shape)\n",
    "print(y_train.shape)\n",
    "print(X_test.shape)\n",
    "print(y_test.shape)"
   ]
  },
  {
   "cell_type": "markdown",
   "metadata": {
    "colab_type": "text",
    "id": "PO8Cw8djVkZj"
   },
   "source": [
    "#### Format and normalize training X data"
   ]
  },
  {
   "cell_type": "code",
   "execution_count": 6,
   "metadata": {
    "colab": {},
    "colab_type": "code",
    "id": "0bBQ0x2lVkZl"
   },
   "outputs": [],
   "source": [
    "# Format training data\n",
    "X_train = X_train.reshape(60000,784)\n",
    "X_test = X_test.reshape(10000,784)\n",
    "X_train =X_train.astype('float32')\n",
    "X_test =X_test.astype('float32')\n",
    "\n",
    "X_train /=255\n",
    "X_test /=255"
   ]
  },
  {
   "cell_type": "markdown",
   "metadata": {
    "colab_type": "text",
    "id": "-SGo2T_DVkZo"
   },
   "source": [
    "#### Format Y data: convert class vectors to binary class matrices"
   ]
  },
  {
   "cell_type": "code",
   "execution_count": 7,
   "metadata": {
    "colab": {},
    "colab_type": "code",
    "id": "nBanSkWGVkZq"
   },
   "outputs": [],
   "source": [
    "y_train = np_utils.to_categorical(y_train,num_classes)\n",
    "y_test = np_utils.to_categorical(y_test,num_classes)"
   ]
  },
  {
   "cell_type": "code",
   "execution_count": 8,
   "metadata": {
    "colab": {
     "base_uri": "https://localhost:8080/",
     "height": 34
    },
    "colab_type": "code",
    "id": "oEh5mCH_VkZw",
    "outputId": "5d0d325c-e676-4c4b-e81c-6efaca8771c3"
   },
   "outputs": [
    {
     "data": {
      "text/plain": [
       "array([0., 0., 0., 0., 0., 1., 0., 0., 0., 0.], dtype=float32)"
      ]
     },
     "execution_count": 8,
     "metadata": {},
     "output_type": "execute_result"
    }
   ],
   "source": [
    "y_train[0]"
   ]
  },
  {
   "cell_type": "markdown",
   "metadata": {
    "colab_type": "text",
    "id": "MhqCMwlzVkZ4"
   },
   "source": [
    "#### Print shape of the new formated data"
   ]
  },
  {
   "cell_type": "code",
   "execution_count": 9,
   "metadata": {
    "colab": {
     "base_uri": "https://localhost:8080/",
     "height": 34
    },
    "colab_type": "code",
    "id": "6H_Ubam_VkZ6",
    "outputId": "810c4188-c3ac-4b4c-cebe-c3bca2c4446c"
   },
   "outputs": [
    {
     "data": {
      "text/plain": [
       "(60000, 10)"
      ]
     },
     "execution_count": 9,
     "metadata": {},
     "output_type": "execute_result"
    }
   ],
   "source": [
    "y_train.shape"
   ]
  },
  {
   "cell_type": "markdown",
   "metadata": {
    "colab_type": "text",
    "id": "YGML80c6VkaB"
   },
   "source": [
    "## Plot Training Results"
   ]
  },
  {
   "cell_type": "markdown",
   "metadata": {
    "colab_type": "text",
    "id": "jV7Ca8ccVkaE"
   },
   "source": [
    "#### Import plot libraries"
   ]
  },
  {
   "cell_type": "code",
   "execution_count": 10,
   "metadata": {
    "colab": {},
    "colab_type": "code",
    "id": "4mzCcTNrVkaF"
   },
   "outputs": [],
   "source": [
    "%matplotlib inline\n",
    "import matplotlib.pyplot as plt\n",
    "\n",
    "# Optional: Seaborn is a Python data visualization library based on matplotlib \n",
    "#    https://seaborn.pydata.org/\n",
    "import seaborn as sns\n",
    "sns.set()"
   ]
  },
  {
   "cell_type": "markdown",
   "metadata": {
    "colab_type": "text",
    "id": "SuNtR5swVkaL"
   },
   "source": [
    "#### Plot method"
   ]
  },
  {
   "cell_type": "code",
   "execution_count": 11,
   "metadata": {
    "colab": {},
    "colab_type": "code",
    "id": "pi40oafLVkaN"
   },
   "outputs": [],
   "source": [
    "def plot_history(history):\n",
    "    \n",
    "    # Plot training & validation accuracy values\n",
    "    plt.plot(history.history['acc'])\n",
    "    plt.plot(history.history['val_acc'])\n",
    "    plt.title('Model accuracy')\n",
    "    plt.ylabel('Accuracy')\n",
    "    plt.xlabel('Epoch')\n",
    "    plt.legend(['Train', 'Test'], loc='upper left')\n",
    "    plt.show()\n",
    "\n",
    "    # Plot training & validation loss values\n",
    "    plt.plot(history.history['loss'])\n",
    "    plt.plot(history.history['val_loss'])\n",
    "    plt.title('Model loss')\n",
    "    plt.ylabel('Loss')\n",
    "    plt.xlabel('Epoch')\n",
    "    plt.legend(['Train', 'Test'], loc='upper left')\n",
    "    plt.show()"
   ]
  },
  {
   "cell_type": "markdown",
   "metadata": {
    "colab_type": "text",
    "id": "HVWc441sVkaT"
   },
   "source": [
    "## Model Definition"
   ]
  },
  {
   "cell_type": "code",
   "execution_count": null,
   "metadata": {
    "colab": {},
    "colab_type": "code",
    "id": "_FG6mgUZVkaV"
   },
   "outputs": [],
   "source": [
    "# Compile method doc: https://keras.io/models/sequential/\n",
    "# Optimizers doc: https://keras.io/optimizers/"
   ]
  },
  {
   "cell_type": "code",
   "execution_count": 12,
   "metadata": {
    "colab": {},
    "colab_type": "code",
    "id": "66tjZ2ngVkac"
   },
   "outputs": [],
   "source": [
    "def create_model():\n",
    "    model = Sequential()\n",
    "    \n",
    "    model.add(Dense(128, activation='relu', input_shape=(784,)))\n",
    "    model.add(Dropout(0.2))\n",
    "    model.add(Dense(128, activation='relu'))\n",
    "    model.add(Dropout(0.2))\n",
    "    model.add(Dense(num_classes, activation='softmax'))\n",
    "\n",
    "    model.compile(loss='categorical_crossentropy', \n",
    "                  optimizer=RMSprop(), \n",
    "                  metrics=['accuracy'])\n",
    "\n",
    "    return model"
   ]
  },
  {
   "cell_type": "markdown",
   "metadata": {
    "colab_type": "text",
    "id": "TEQ_uv7LVkaj"
   },
   "source": [
    "## Create a model and print model-summary"
   ]
  },
  {
   "cell_type": "code",
   "execution_count": 13,
   "metadata": {
    "colab": {
     "base_uri": "https://localhost:8080/",
     "height": 306
    },
    "colab_type": "code",
    "id": "-_Luys4LVkao",
    "outputId": "23ed1474-d121-4893-f787-46ec41027001"
   },
   "outputs": [
    {
     "name": "stdout",
     "output_type": "stream",
     "text": [
      "_________________________________________________________________\n",
      "Layer (type)                 Output Shape              Param #   \n",
      "=================================================================\n",
      "dense_1 (Dense)              (None, 128)               100480    \n",
      "_________________________________________________________________\n",
      "dropout_1 (Dropout)          (None, 128)               0         \n",
      "_________________________________________________________________\n",
      "dense_2 (Dense)              (None, 128)               16512     \n",
      "_________________________________________________________________\n",
      "dropout_2 (Dropout)          (None, 128)               0         \n",
      "_________________________________________________________________\n",
      "dense_3 (Dense)              (None, 10)                1290      \n",
      "=================================================================\n",
      "Total params: 118,282\n",
      "Trainable params: 118,282\n",
      "Non-trainable params: 0\n",
      "_________________________________________________________________\n"
     ]
    }
   ],
   "source": [
    "modelo=create_model()\n",
    "modelo.summary()"
   ]
  },
  {
   "cell_type": "markdown",
   "metadata": {
    "colab_type": "text",
    "id": "meZJ8YtGVkaz"
   },
   "source": [
    "## Example of Training:"
   ]
  },
  {
   "cell_type": "code",
   "execution_count": 14,
   "metadata": {
    "colab": {},
    "colab_type": "code",
    "id": "VYaDItzoVka3"
   },
   "outputs": [],
   "source": [
    "batch_size = 128\n",
    "nb_epoch = 20"
   ]
  },
  {
   "cell_type": "code",
   "execution_count": 15,
   "metadata": {
    "colab": {
     "base_uri": "https://localhost:8080/",
     "height": 714
    },
    "colab_type": "code",
    "id": "lKtM1yuKVka8",
    "outputId": "9164e1fc-549d-4a00-8219-e85e7ec5ba34"
   },
   "outputs": [
    {
     "name": "stdout",
     "output_type": "stream",
     "text": [
      "Train on 60000 samples, validate on 10000 samples\n",
      "Epoch 1/20\n",
      " - 3s - loss: 0.3835 - acc: 0.8855 - val_loss: 0.1642 - val_acc: 0.9494\n",
      "Epoch 2/20\n",
      " - 2s - loss: 0.1726 - acc: 0.9487 - val_loss: 0.1128 - val_acc: 0.9655\n",
      "Epoch 3/20\n",
      " - 2s - loss: 0.1329 - acc: 0.9611 - val_loss: 0.0920 - val_acc: 0.9729\n",
      "Epoch 4/20\n",
      " - 2s - loss: 0.1116 - acc: 0.9668 - val_loss: 0.0855 - val_acc: 0.9741\n",
      "Epoch 5/20\n",
      " - 2s - loss: 0.0953 - acc: 0.9712 - val_loss: 0.0796 - val_acc: 0.9772\n",
      "Epoch 6/20\n",
      " - 2s - loss: 0.0866 - acc: 0.9740 - val_loss: 0.0874 - val_acc: 0.9753\n",
      "Epoch 7/20\n",
      " - 2s - loss: 0.0792 - acc: 0.9767 - val_loss: 0.0798 - val_acc: 0.9782\n",
      "Epoch 8/20\n",
      " - 2s - loss: 0.0734 - acc: 0.9782 - val_loss: 0.0763 - val_acc: 0.9793\n",
      "Epoch 9/20\n",
      " - 2s - loss: 0.0690 - acc: 0.9786 - val_loss: 0.0835 - val_acc: 0.9793\n",
      "Epoch 10/20\n",
      " - 2s - loss: 0.0642 - acc: 0.9802 - val_loss: 0.0764 - val_acc: 0.9796\n",
      "Epoch 11/20\n",
      " - 2s - loss: 0.0607 - acc: 0.9808 - val_loss: 0.0816 - val_acc: 0.9797\n",
      "Epoch 12/20\n",
      " - 2s - loss: 0.0578 - acc: 0.9824 - val_loss: 0.0766 - val_acc: 0.9799\n",
      "Epoch 13/20\n",
      " - 2s - loss: 0.0567 - acc: 0.9822 - val_loss: 0.0823 - val_acc: 0.9797\n",
      "Epoch 14/20\n",
      " - 2s - loss: 0.0530 - acc: 0.9842 - val_loss: 0.0872 - val_acc: 0.9800\n",
      "Epoch 15/20\n",
      " - 2s - loss: 0.0528 - acc: 0.9844 - val_loss: 0.0860 - val_acc: 0.9802\n",
      "Epoch 16/20\n",
      " - 2s - loss: 0.0499 - acc: 0.9851 - val_loss: 0.0916 - val_acc: 0.9797\n",
      "Epoch 17/20\n",
      " - 2s - loss: 0.0495 - acc: 0.9850 - val_loss: 0.0851 - val_acc: 0.9810\n",
      "Epoch 18/20\n",
      " - 2s - loss: 0.0470 - acc: 0.9862 - val_loss: 0.0926 - val_acc: 0.9795\n",
      "Epoch 19/20\n",
      " - 2s - loss: 0.0464 - acc: 0.9862 - val_loss: 0.0891 - val_acc: 0.9798\n",
      "Epoch 20/20\n",
      " - 2s - loss: 0.0430 - acc: 0.9877 - val_loss: 0.0894 - val_acc: 0.9816\n"
     ]
    }
   ],
   "source": [
    "modelo = create_model()\n",
    "\n",
    "\n",
    "# tiempo inicial\n",
    "t0 = time.time()\n",
    "# Keras fit function documentation: https://keras.io/models/sequential/\n",
    "history = modelo.fit(X_train, y_train,\n",
    "                    batch_size=batch_size,\n",
    "                    epochs=nb_epoch,\n",
    "                    verbose=2,\n",
    "                    validation_data=(X_test, y_test),\n",
    "                    shuffle=True)\n",
    "tf =  time.time()"
   ]
  },
  {
   "cell_type": "markdown",
   "metadata": {
    "colab_type": "text",
    "id": "aCgbNakAVkbE"
   },
   "source": [
    "#### Evaluate trained model with test data"
   ]
  },
  {
   "cell_type": "code",
   "execution_count": 16,
   "metadata": {
    "colab": {
     "base_uri": "https://localhost:8080/",
     "height": 85
    },
    "colab_type": "code",
    "id": "L57C0W6YVkbF",
    "outputId": "c752e1de-7c60-4ef8-e0f2-1fd31c29f2f3"
   },
   "outputs": [
    {
     "name": "stdout",
     "output_type": "stream",
     "text": [
      "10000/10000 [==============================] - 0s 26us/step\n",
      "Test loss: 0.08941464415081482\n",
      "Test accuracy: 0.9816\n",
      "Time (seconds):  40.78184723854065\n"
     ]
    }
   ],
   "source": [
    "score = modelo.evaluate(X_test, y_test)\n",
    "time_delta = tf-t0\n",
    "exec(\"test_loss_\" + str(batch_size) + \"= score[0]\")\n",
    "exec(\"test_acc_\" + str(batch_size) + \"= score[1]\")\n",
    "exec(\"td_\" + str(batch_size) + \"= time_delta\")\n",
    "\n",
    "print('Test loss:', test_loss_128)\n",
    "print('Test accuracy:', test_acc_128)\n",
    "print('Time (seconds): ', td_128)"
   ]
  },
  {
   "cell_type": "markdown",
   "metadata": {
    "colab_type": "text",
    "id": "B27NvRfFVkbM"
   },
   "source": [
    "#### Plot training history"
   ]
  },
  {
   "cell_type": "code",
   "execution_count": 17,
   "metadata": {
    "colab": {
     "base_uri": "https://localhost:8080/",
     "height": 735
    },
    "colab_type": "code",
    "id": "Us5AJJGlVkbO",
    "outputId": "4ccad1fb-ea54-4c3d-8b16-027fca97a4e1"
   },
   "outputs": [
    {
     "data": {
      "image/png": "[encoded data removed]",
      "text/plain": [
       "<Figure size 432x288 with 1 Axes>"
      ]
     },
     "metadata": {},
     "output_type": "display_data"
    },
    {
     "data": {
      "image/png": "[encoded data removed]",
      "text/plain": [
       "<Figure size 432x288 with 1 Axes>"
      ]
     },
     "metadata": {},
     "output_type": "display_data"
    }
   ],
   "source": [
    "plot_history(history)"
   ]
  },
  {
   "cell_type": "code",
   "execution_count": null,
   "metadata": {
    "colab": {},
    "colab_type": "code",
    "id": "F9N8mRwAYmAg"
   },
   "outputs": [],
   "source": []
  },
  {
   "cell_type": "markdown",
   "metadata": {
    "colab_type": "text",
    "id": "vCjNS4dtYsui"
   },
   "source": [
    "## Batch 8"
   ]
  },
  {
   "cell_type": "code",
   "execution_count": 18,
   "metadata": {
    "colab": {
     "base_uri": "https://localhost:8080/",
     "height": 714
    },
    "colab_type": "code",
    "id": "e54cwWaGYsun",
    "outputId": "2163caa1-ad93-4a82-b51f-3c1df5a4ff25"
   },
   "outputs": [
    {
     "name": "stdout",
     "output_type": "stream",
     "text": [
      "Train on 60000 samples, validate on 10000 samples\n",
      "Epoch 1/20\n",
      " - 16s - loss: 0.3087 - acc: 0.9164 - val_loss: 0.1839 - val_acc: 0.9534\n",
      "Epoch 2/20\n",
      " - 16s - loss: 0.2369 - acc: 0.9500 - val_loss: 0.1953 - val_acc: 0.9633\n",
      "Epoch 3/20\n",
      " - 15s - loss: 0.2390 - acc: 0.9570 - val_loss: 0.1756 - val_acc: 0.9677\n",
      "Epoch 4/20\n",
      " - 14s - loss: 0.2476 - acc: 0.9593 - val_loss: 0.2088 - val_acc: 0.9685\n",
      "Epoch 5/20\n",
      " - 15s - loss: 0.2597 - acc: 0.9610 - val_loss: 0.2127 - val_acc: 0.9705\n",
      "Epoch 6/20\n",
      " - 15s - loss: 0.2764 - acc: 0.9617 - val_loss: 0.2165 - val_acc: 0.9715\n",
      "Epoch 7/20\n",
      " - 15s - loss: 0.2756 - acc: 0.9637 - val_loss: 0.2222 - val_acc: 0.9732\n",
      "Epoch 8/20\n",
      " - 15s - loss: 0.2935 - acc: 0.9630 - val_loss: 0.2925 - val_acc: 0.9675\n",
      "Epoch 9/20\n",
      " - 15s - loss: 0.3084 - acc: 0.9624 - val_loss: 0.2297 - val_acc: 0.9720\n",
      "Epoch 10/20\n",
      " - 15s - loss: 0.3172 - acc: 0.9640 - val_loss: 0.2717 - val_acc: 0.9708\n",
      "Epoch 11/20\n",
      " - 15s - loss: 0.3328 - acc: 0.9631 - val_loss: 0.2830 - val_acc: 0.9700\n",
      "Epoch 12/20\n",
      " - 16s - loss: 0.3307 - acc: 0.9651 - val_loss: 0.2624 - val_acc: 0.9723\n",
      "Epoch 13/20\n",
      " - 14s - loss: 0.3402 - acc: 0.9640 - val_loss: 0.2690 - val_acc: 0.9713\n",
      "Epoch 14/20\n",
      " - 14s - loss: 0.3426 - acc: 0.9649 - val_loss: 0.2918 - val_acc: 0.9717\n",
      "Epoch 15/20\n",
      " - 16s - loss: 0.3343 - acc: 0.9660 - val_loss: 0.2581 - val_acc: 0.9742\n",
      "Epoch 16/20\n",
      " - 16s - loss: 0.3342 - acc: 0.9670 - val_loss: 0.2638 - val_acc: 0.9747\n",
      "Epoch 17/20\n",
      " - 15s - loss: 0.3552 - acc: 0.9661 - val_loss: 0.2597 - val_acc: 0.9752\n",
      "Epoch 18/20\n",
      " - 16s - loss: 0.3305 - acc: 0.9668 - val_loss: 0.2571 - val_acc: 0.9735\n",
      "Epoch 19/20\n",
      " - 15s - loss: 0.3397 - acc: 0.9677 - val_loss: 0.3085 - val_acc: 0.9724\n",
      "Epoch 20/20\n",
      " - 15s - loss: 0.3525 - acc: 0.9667 - val_loss: 0.2760 - val_acc: 0.9739\n"
     ]
    }
   ],
   "source": [
    "batch_size = 8\n",
    "nb_epoch = 20\n",
    "\n",
    "\n",
    "\n",
    "modelo = create_model()\n",
    "\n",
    "\n",
    "# tiempo inicial\n",
    "t0 = time.time()\n",
    "# Keras fit function documentation: https://keras.io/models/sequential/\n",
    "history = modelo.fit(X_train, y_train,\n",
    "                    batch_size=batch_size,\n",
    "                    epochs=nb_epoch,\n",
    "                    verbose=2,\n",
    "                    validation_data=(X_test, y_test),\n",
    "                    shuffle=True)\n",
    "tf =  time.time()"
   ]
  },
  {
   "cell_type": "markdown",
   "metadata": {
    "colab_type": "text",
    "id": "nnZLezJUYsur"
   },
   "source": [
    "#### Evaluate trained model with test data"
   ]
  },
  {
   "cell_type": "code",
   "execution_count": 39,
   "metadata": {
    "colab": {
     "base_uri": "https://localhost:8080/",
     "height": 119
    },
    "colab_type": "code",
    "id": "72Z7BCTfYsur",
    "outputId": "31f61946-581e-4f6d-850b-edd96b5daf38"
   },
   "outputs": [
    {
     "name": "stdout",
     "output_type": "stream",
     "text": [
      "10000/10000 [==============================] - 0s 30us/step\n",
      "batch_size:  16 , score:  [0.15499717594219178, 0.9778] , time_delta:  -150.92288327217102\n"
     ]
    }
   ],
   "source": [
    "score = modelo.evaluate(X_test, y_test)\n",
    "time_delta = tf-t0\n",
    "exec(\"batch_size_\" + str(batch_size) + \"= batch_size\")\n",
    "exec(\"test_loss_\" + str(batch_size) + \"= score[0]\")\n",
    "exec(\"test_acc_\" + str(batch_size) + \"= score[1]\")\n",
    "exec(\"td_\" + str(batch_size) + \"= time_delta\")\n",
    "\n",
    "\n",
    "print(\"batch_size: \", batch_size, \", score: \", score, \", time_delta: \", time_delta)"
   ]
  },
  {
   "cell_type": "markdown",
   "metadata": {
    "colab_type": "text",
    "id": "vCjNS4dtYsui"
   },
   "source": [
    "## Batch 16"
   ]
  },
  {
   "cell_type": "code",
   "execution_count": 45,
   "metadata": {
    "colab": {
     "base_uri": "https://localhost:8080/",
     "height": 714
    },
    "colab_type": "code",
    "id": "e54cwWaGYsun",
    "outputId": "2163caa1-ad93-4a82-b51f-3c1df5a4ff25"
   },
   "outputs": [
    {
     "name": "stdout",
     "output_type": "stream",
     "text": [
      "Train on 60000 samples, validate on 10000 samples\n",
      "Epoch 1/20\n",
      " - 11s - loss: 0.2959 - acc: 0.9145 - val_loss: 0.1489 - val_acc: 0.9595\n",
      "Epoch 2/20\n",
      " - 10s - loss: 0.1832 - acc: 0.9524 - val_loss: 0.1262 - val_acc: 0.9692\n",
      "Epoch 3/20\n",
      " - 10s - loss: 0.1729 - acc: 0.9607 - val_loss: 0.1297 - val_acc: 0.9707\n",
      "Epoch 4/20\n",
      " - 10s - loss: 0.1715 - acc: 0.9632 - val_loss: 0.1556 - val_acc: 0.9678\n",
      "Epoch 5/20\n",
      " - 10s - loss: 0.1729 - acc: 0.9657 - val_loss: 0.1577 - val_acc: 0.9707\n",
      "Epoch 6/20\n",
      " - 10s - loss: 0.1782 - acc: 0.9670 - val_loss: 0.1646 - val_acc: 0.9712\n",
      "Epoch 7/20\n",
      " - 12s - loss: 0.1873 - acc: 0.9668 - val_loss: 0.1687 - val_acc: 0.9733\n",
      "Epoch 8/20\n",
      " - 11s - loss: 0.2007 - acc: 0.9673 - val_loss: 0.1840 - val_acc: 0.9730\n",
      "Epoch 9/20\n",
      " - 10s - loss: 0.1869 - acc: 0.9684 - val_loss: 0.1762 - val_acc: 0.9766\n",
      "Epoch 10/20\n",
      " - 10s - loss: 0.1932 - acc: 0.9698 - val_loss: 0.1938 - val_acc: 0.9727\n",
      "Epoch 11/20\n",
      " - 10s - loss: 0.1961 - acc: 0.9696 - val_loss: 0.1994 - val_acc: 0.9716\n",
      "Epoch 12/20\n",
      " - 10s - loss: 0.2084 - acc: 0.9697 - val_loss: 0.2128 - val_acc: 0.9732\n",
      "Epoch 13/20\n",
      " - 10s - loss: 0.2125 - acc: 0.9710 - val_loss: 0.2014 - val_acc: 0.9720\n",
      "Epoch 14/20\n",
      " - 10s - loss: 0.2207 - acc: 0.9698 - val_loss: 0.1917 - val_acc: 0.9756\n",
      "Epoch 15/20\n",
      " - 10s - loss: 0.2244 - acc: 0.9706 - val_loss: 0.2192 - val_acc: 0.9752\n",
      "Epoch 16/20\n",
      " - 10s - loss: 0.2127 - acc: 0.9710 - val_loss: 0.2127 - val_acc: 0.9762\n",
      "Epoch 17/20\n",
      " - 10s - loss: 0.2212 - acc: 0.9716 - val_loss: 0.2095 - val_acc: 0.9739\n",
      "Epoch 18/20\n",
      " - 10s - loss: 0.2087 - acc: 0.9725 - val_loss: 0.1937 - val_acc: 0.9754\n",
      "Epoch 19/20\n",
      " - 12s - loss: 0.2149 - acc: 0.9719 - val_loss: 0.2328 - val_acc: 0.9752\n",
      "Epoch 20/20\n",
      " - 11s - loss: 0.2137 - acc: 0.9734 - val_loss: 0.2104 - val_acc: 0.9764\n"
     ]
    }
   ],
   "source": [
    "batch_size = 16\n",
    "nb_epoch = 20\n",
    "\n",
    "\n",
    "\n",
    "modelo = create_model()\n",
    "\n",
    "\n",
    "# tiempo inicial\n",
    "t0 = time.time()\n",
    "# Keras fit function documentation: https://keras.io/models/sequential/\n",
    "history = modelo.fit(X_train, y_train,\n",
    "                    batch_size=batch_size,\n",
    "                    epochs=nb_epoch,\n",
    "                    verbose=2,\n",
    "                    validation_data=(X_test, y_test),\n",
    "                    shuffle=True)\n",
    "tf =  time.time()"
   ]
  },
  {
   "cell_type": "markdown",
   "metadata": {
    "colab_type": "text",
    "id": "nnZLezJUYsur"
   },
   "source": [
    "#### Evaluate trained model with test data"
   ]
  },
  {
   "cell_type": "code",
   "execution_count": 46,
   "metadata": {
    "colab": {
     "base_uri": "https://localhost:8080/",
     "height": 119
    },
    "colab_type": "code",
    "id": "72Z7BCTfYsur",
    "outputId": "31f61946-581e-4f6d-850b-edd96b5daf38"
   },
   "outputs": [
    {
     "name": "stdout",
     "output_type": "stream",
     "text": [
      "10000/10000 [==============================] - 0s 30us/step\n",
      "batch_size:  16 , score:  [0.21041810289355808, 0.9764] , time_delta:  203.56255316734314\n"
     ]
    }
   ],
   "source": [
    "score = modelo.evaluate(X_test, y_test)\n",
    "time_delta = tf-t0\n",
    "exec(\"batch_size_\" + str(batch_size) + \"= batch_size\")\n",
    "exec(\"test_loss_\" + str(batch_size) + \"= score[0]\")\n",
    "exec(\"test_acc_\" + str(batch_size) + \"= score[1]\")\n",
    "exec(\"td_\" + str(batch_size) + \"= time_delta\")\n",
    "\n",
    "print(\"batch_size: \", batch_size, \", score: \", score, \", time_delta: \", time_delta)"
   ]
  },
  {
   "cell_type": "markdown",
   "metadata": {
    "colab_type": "text",
    "id": "vCjNS4dtYsui"
   },
   "source": [
    "## Batch 32"
   ]
  },
  {
   "cell_type": "code",
   "execution_count": 24,
   "metadata": {
    "colab": {
     "base_uri": "https://localhost:8080/",
     "height": 714
    },
    "colab_type": "code",
    "id": "e54cwWaGYsun",
    "outputId": "2163caa1-ad93-4a82-b51f-3c1df5a4ff25"
   },
   "outputs": [
    {
     "name": "stdout",
     "output_type": "stream",
     "text": [
      "Train on 60000 samples, validate on 10000 samples\n",
      "Epoch 1/20\n",
      " - 5s - loss: 0.3066 - acc: 0.9074 - val_loss: 0.1329 - val_acc: 0.9596\n",
      "Epoch 2/20\n",
      " - 5s - loss: 0.1610 - acc: 0.9543 - val_loss: 0.1082 - val_acc: 0.9684\n",
      "Epoch 3/20\n",
      " - 5s - loss: 0.1345 - acc: 0.9625 - val_loss: 0.1089 - val_acc: 0.9720\n",
      "Epoch 4/20\n",
      " - 5s - loss: 0.1232 - acc: 0.9664 - val_loss: 0.1015 - val_acc: 0.9731\n",
      "Epoch 5/20\n",
      " - 5s - loss: 0.1170 - acc: 0.9710 - val_loss: 0.1014 - val_acc: 0.9757\n",
      "Epoch 6/20\n",
      " - 5s - loss: 0.1131 - acc: 0.9723 - val_loss: 0.1125 - val_acc: 0.9767\n",
      "Epoch 7/20\n",
      " - 5s - loss: 0.1073 - acc: 0.9743 - val_loss: 0.1271 - val_acc: 0.9744\n",
      "Epoch 8/20\n",
      " - 5s - loss: 0.1093 - acc: 0.9746 - val_loss: 0.1232 - val_acc: 0.9773\n",
      "Epoch 9/20\n",
      " - 5s - loss: 0.1079 - acc: 0.9760 - val_loss: 0.1200 - val_acc: 0.9781\n",
      "Epoch 10/20\n",
      " - 5s - loss: 0.1052 - acc: 0.9763 - val_loss: 0.1227 - val_acc: 0.9777\n",
      "Epoch 11/20\n",
      " - 5s - loss: 0.1030 - acc: 0.9771 - val_loss: 0.1396 - val_acc: 0.9772\n",
      "Epoch 12/20\n",
      " - 5s - loss: 0.1049 - acc: 0.9779 - val_loss: 0.1223 - val_acc: 0.9797\n",
      "Epoch 13/20\n",
      " - 6s - loss: 0.1049 - acc: 0.9783 - val_loss: 0.1413 - val_acc: 0.9744\n",
      "Epoch 14/20\n",
      " - 5s - loss: 0.1081 - acc: 0.9785 - val_loss: 0.1331 - val_acc: 0.9778\n",
      "Epoch 15/20\n",
      " - 5s - loss: 0.1037 - acc: 0.9792 - val_loss: 0.1448 - val_acc: 0.9774\n",
      "Epoch 16/20\n",
      " - 5s - loss: 0.1033 - acc: 0.9802 - val_loss: 0.1508 - val_acc: 0.9761\n",
      "Epoch 17/20\n",
      " - 5s - loss: 0.1075 - acc: 0.9794 - val_loss: 0.1624 - val_acc: 0.9757\n",
      "Epoch 18/20\n",
      " - 5s - loss: 0.1035 - acc: 0.9804 - val_loss: 0.1713 - val_acc: 0.9758\n",
      "Epoch 19/20\n",
      " - 5s - loss: 0.1057 - acc: 0.9808 - val_loss: 0.1365 - val_acc: 0.9788\n",
      "Epoch 20/20\n",
      " - 5s - loss: 0.1058 - acc: 0.9809 - val_loss: 0.1612 - val_acc: 0.9766\n"
     ]
    }
   ],
   "source": [
    "batch_size = 32\n",
    "nb_epoch = 20\n",
    "\n",
    "\n",
    "\n",
    "modelo = create_model()\n",
    "\n",
    "\n",
    "# tiempo inicial\n",
    "t0 = time.time()\n",
    "# Keras fit function documentation: https://keras.io/models/sequential/\n",
    "history = modelo.fit(X_train, y_train,\n",
    "                    batch_size=batch_size,\n",
    "                    epochs=nb_epoch,\n",
    "                    verbose=2,\n",
    "                    validation_data=(X_test, y_test),\n",
    "                    shuffle=True)\n",
    "tf =  time.time()"
   ]
  },
  {
   "cell_type": "markdown",
   "metadata": {
    "colab_type": "text",
    "id": "nnZLezJUYsur"
   },
   "source": [
    "#### Evaluate trained model with test data"
   ]
  },
  {
   "cell_type": "code",
   "execution_count": 25,
   "metadata": {
    "colab": {
     "base_uri": "https://localhost:8080/",
     "height": 119
    },
    "colab_type": "code",
    "id": "72Z7BCTfYsur",
    "outputId": "31f61946-581e-4f6d-850b-edd96b5daf38"
   },
   "outputs": [
    {
     "name": "stdout",
     "output_type": "stream",
     "text": [
      "10000/10000 [==============================] - 0s 25us/step\n",
      "Batch_size: 8\n",
      "Test loss: 0.27601957293532087\n",
      "Test accuracy: 0.9739\n",
      "Time (seconds):  302.4911150932312\n",
      "[0.16117237335800802, 0.9766] 101.01155591011047\n"
     ]
    }
   ],
   "source": [
    "score = modelo.evaluate(X_test, y_test)\n",
    "time_delta = tf-t0\n",
    "exec(\"batch_size_\" + str(batch_size) + \"= batch_size\")\n",
    "exec(\"test_loss_\" + str(batch_size) + \"= score[0]\")\n",
    "exec(\"test_acc_\" + str(batch_size) + \"= score[1]\")\n",
    "exec(\"td_\" + str(batch_size) + \"= time_delta\")\n",
    "\n",
    "print(\"batch_size: \", batch_size, \", score: \", score, \", time_delta: \", time_delta)"
   ]
  },
  {
   "cell_type": "markdown",
   "metadata": {
    "colab_type": "text",
    "id": "vCjNS4dtYsui"
   },
   "source": [
    "## Batch 64"
   ]
  },
  {
   "cell_type": "code",
   "execution_count": 26,
   "metadata": {
    "colab": {
     "base_uri": "https://localhost:8080/",
     "height": 714
    },
    "colab_type": "code",
    "id": "e54cwWaGYsun",
    "outputId": "2163caa1-ad93-4a82-b51f-3c1df5a4ff25"
   },
   "outputs": [
    {
     "name": "stdout",
     "output_type": "stream",
     "text": [
      "Train on 60000 samples, validate on 10000 samples\n",
      "Epoch 1/20\n",
      " - 3s - loss: 0.3248 - acc: 0.9030 - val_loss: 0.1433 - val_acc: 0.9572\n",
      "Epoch 2/20\n",
      " - 3s - loss: 0.1558 - acc: 0.9530 - val_loss: 0.1002 - val_acc: 0.9706\n",
      "Epoch 3/20\n",
      " - 3s - loss: 0.1218 - acc: 0.9651 - val_loss: 0.1002 - val_acc: 0.9705\n",
      "Epoch 4/20\n",
      " - 3s - loss: 0.1068 - acc: 0.9690 - val_loss: 0.0883 - val_acc: 0.9746\n",
      "Epoch 5/20\n",
      " - 3s - loss: 0.0969 - acc: 0.9732 - val_loss: 0.0970 - val_acc: 0.9757\n",
      "Epoch 6/20\n",
      " - 3s - loss: 0.0908 - acc: 0.9739 - val_loss: 0.0916 - val_acc: 0.9756\n",
      "Epoch 7/20\n",
      " - 3s - loss: 0.0831 - acc: 0.9774 - val_loss: 0.0875 - val_acc: 0.9778\n",
      "Epoch 8/20\n",
      " - 3s - loss: 0.0792 - acc: 0.9782 - val_loss: 0.0844 - val_acc: 0.9786\n",
      "Epoch 9/20\n",
      " - 3s - loss: 0.0744 - acc: 0.9796 - val_loss: 0.0898 - val_acc: 0.9778\n",
      "Epoch 10/20\n",
      " - 3s - loss: 0.0736 - acc: 0.9795 - val_loss: 0.0933 - val_acc: 0.9806\n",
      "Epoch 11/20\n",
      " - 3s - loss: 0.0696 - acc: 0.9813 - val_loss: 0.0888 - val_acc: 0.9785\n",
      "Epoch 12/20\n",
      " - 3s - loss: 0.0696 - acc: 0.9818 - val_loss: 0.0914 - val_acc: 0.9783\n",
      "Epoch 13/20\n",
      " - 3s - loss: 0.0663 - acc: 0.9821 - val_loss: 0.1011 - val_acc: 0.9787\n",
      "Epoch 14/20\n",
      " - 3s - loss: 0.0656 - acc: 0.9825 - val_loss: 0.0893 - val_acc: 0.9807\n",
      "Epoch 15/20\n",
      " - 3s - loss: 0.0642 - acc: 0.9833 - val_loss: 0.1049 - val_acc: 0.9795\n",
      "Epoch 16/20\n",
      " - 3s - loss: 0.0630 - acc: 0.9838 - val_loss: 0.0999 - val_acc: 0.9779\n",
      "Epoch 17/20\n",
      " - 3s - loss: 0.0642 - acc: 0.9834 - val_loss: 0.1081 - val_acc: 0.9788\n",
      "Epoch 18/20\n",
      " - 3s - loss: 0.0604 - acc: 0.9842 - val_loss: 0.1019 - val_acc: 0.9809\n",
      "Epoch 19/20\n",
      " - 3s - loss: 0.0622 - acc: 0.9846 - val_loss: 0.1192 - val_acc: 0.9789\n",
      "Epoch 20/20\n",
      " - 3s - loss: 0.0601 - acc: 0.9849 - val_loss: 0.1009 - val_acc: 0.9811\n"
     ]
    }
   ],
   "source": [
    "batch_size = 64\n",
    "nb_epoch = 20\n",
    "\n",
    "\n",
    "\n",
    "modelo = create_model()\n",
    "\n",
    "\n",
    "# tiempo inicial\n",
    "t0 = time.time()\n",
    "# Keras fit function documentation: https://keras.io/models/sequential/\n",
    "history = modelo.fit(X_train, y_train,\n",
    "                    batch_size=batch_size,\n",
    "                    epochs=nb_epoch,\n",
    "                    verbose=2,\n",
    "                    validation_data=(X_test, y_test),\n",
    "                    shuffle=True)\n",
    "tf =  time.time()"
   ]
  },
  {
   "cell_type": "markdown",
   "metadata": {
    "colab_type": "text",
    "id": "nnZLezJUYsur"
   },
   "source": [
    "#### Evaluate trained model with test data"
   ]
  },
  {
   "cell_type": "code",
   "execution_count": 27,
   "metadata": {
    "colab": {
     "base_uri": "https://localhost:8080/",
     "height": 119
    },
    "colab_type": "code",
    "id": "72Z7BCTfYsur",
    "outputId": "31f61946-581e-4f6d-850b-edd96b5daf38"
   },
   "outputs": [
    {
     "name": "stdout",
     "output_type": "stream",
     "text": [
      "10000/10000 [==============================] - 0s 25us/step\n",
      "Batch_size: 8\n",
      "Test loss: 0.27601957293532087\n",
      "Test accuracy: 0.9739\n",
      "Time (seconds):  302.4911150932312\n",
      "[0.1009105070710471, 0.9811] 62.92078518867493\n"
     ]
    }
   ],
   "source": [
    "score = modelo.evaluate(X_test, y_test)\n",
    "time_delta = tf-t0\n",
    "exec(\"batch_size_\" + str(batch_size) + \"= batch_size\")\n",
    "exec(\"test_loss_\" + str(batch_size) + \"= score[0]\")\n",
    "exec(\"test_acc_\" + str(batch_size) + \"= score[1]\")\n",
    "exec(\"td_\" + str(batch_size) + \"= time_delta\")\n",
    "\n",
    "print(\"batch_size: \", batch_size, \", score: \", score, \", time_delta: \", time_delta)"
   ]
  },
  {
   "cell_type": "markdown",
   "metadata": {
    "colab_type": "text",
    "id": "vCjNS4dtYsui"
   },
   "source": [
    "## Batch 128"
   ]
  },
  {
   "cell_type": "code",
   "execution_count": 28,
   "metadata": {
    "colab": {
     "base_uri": "https://localhost:8080/",
     "height": 714
    },
    "colab_type": "code",
    "id": "e54cwWaGYsun",
    "outputId": "2163caa1-ad93-4a82-b51f-3c1df5a4ff25"
   },
   "outputs": [
    {
     "name": "stdout",
     "output_type": "stream",
     "text": [
      "Train on 60000 samples, validate on 10000 samples\n",
      "Epoch 1/20\n",
      " - 3s - loss: 0.3832 - acc: 0.8858 - val_loss: 0.1564 - val_acc: 0.9533\n",
      "Epoch 2/20\n",
      " - 2s - loss: 0.1791 - acc: 0.9465 - val_loss: 0.1133 - val_acc: 0.9656\n",
      "Epoch 3/20\n",
      " - 2s - loss: 0.1335 - acc: 0.9598 - val_loss: 0.1006 - val_acc: 0.9684\n",
      "Epoch 4/20\n",
      " - 2s - loss: 0.1115 - acc: 0.9667 - val_loss: 0.0837 - val_acc: 0.9762\n",
      "Epoch 5/20\n",
      " - 2s - loss: 0.0959 - acc: 0.9705 - val_loss: 0.0800 - val_acc: 0.9759\n",
      "Epoch 6/20\n",
      " - 2s - loss: 0.0882 - acc: 0.9724 - val_loss: 0.0769 - val_acc: 0.9767\n",
      "Epoch 7/20\n",
      " - 2s - loss: 0.0790 - acc: 0.9757 - val_loss: 0.0739 - val_acc: 0.9779\n",
      "Epoch 8/20\n",
      " - 2s - loss: 0.0742 - acc: 0.9775 - val_loss: 0.0751 - val_acc: 0.9789\n",
      "Epoch 9/20\n",
      " - 2s - loss: 0.0690 - acc: 0.9791 - val_loss: 0.0695 - val_acc: 0.9801\n",
      "Epoch 10/20\n",
      " - 2s - loss: 0.0646 - acc: 0.9803 - val_loss: 0.0713 - val_acc: 0.9791\n",
      "Epoch 11/20\n",
      " - 2s - loss: 0.0609 - acc: 0.9815 - val_loss: 0.0775 - val_acc: 0.9796\n",
      "Epoch 12/20\n",
      " - 2s - loss: 0.0572 - acc: 0.9823 - val_loss: 0.0824 - val_acc: 0.9786\n",
      "Epoch 13/20\n",
      " - 2s - loss: 0.0569 - acc: 0.9824 - val_loss: 0.0742 - val_acc: 0.9807\n",
      "Epoch 14/20\n",
      " - 2s - loss: 0.0508 - acc: 0.9847 - val_loss: 0.0769 - val_acc: 0.9801\n",
      "Epoch 15/20\n",
      " - 2s - loss: 0.0506 - acc: 0.9848 - val_loss: 0.0750 - val_acc: 0.9812\n",
      "Epoch 16/20\n",
      " - 2s - loss: 0.0506 - acc: 0.9846 - val_loss: 0.0724 - val_acc: 0.9814\n",
      "Epoch 17/20\n",
      " - 2s - loss: 0.0464 - acc: 0.9858 - val_loss: 0.0762 - val_acc: 0.9812\n",
      "Epoch 18/20\n",
      " - 2s - loss: 0.0452 - acc: 0.9864 - val_loss: 0.0820 - val_acc: 0.9805\n",
      "Epoch 19/20\n",
      " - 2s - loss: 0.0448 - acc: 0.9861 - val_loss: 0.0805 - val_acc: 0.9814\n",
      "Epoch 20/20\n",
      " - 2s - loss: 0.0416 - acc: 0.9871 - val_loss: 0.0799 - val_acc: 0.9811\n"
     ]
    }
   ],
   "source": [
    "batch_size = 128\n",
    "nb_epoch = 20\n",
    "\n",
    "\n",
    "\n",
    "modelo = create_model()\n",
    "\n",
    "\n",
    "# tiempo inicial\n",
    "t0 = time.time()\n",
    "# Keras fit function documentation: https://keras.io/models/sequential/\n",
    "history = modelo.fit(X_train, y_train,\n",
    "                    batch_size=batch_size,\n",
    "                    epochs=nb_epoch,\n",
    "                    verbose=2,\n",
    "                    validation_data=(X_test, y_test),\n",
    "                    shuffle=True)\n",
    "tf =  time.time()"
   ]
  },
  {
   "cell_type": "markdown",
   "metadata": {
    "colab_type": "text",
    "id": "nnZLezJUYsur"
   },
   "source": [
    "#### Evaluate trained model with test data"
   ]
  },
  {
   "cell_type": "code",
   "execution_count": 29,
   "metadata": {
    "colab": {
     "base_uri": "https://localhost:8080/",
     "height": 119
    },
    "colab_type": "code",
    "id": "72Z7BCTfYsur",
    "outputId": "31f61946-581e-4f6d-850b-edd96b5daf38"
   },
   "outputs": [
    {
     "name": "stdout",
     "output_type": "stream",
     "text": [
      "10000/10000 [==============================] - 0s 25us/step\n",
      "Batch_size: 8\n",
      "Test loss: 0.27601957293532087\n",
      "Test accuracy: 0.9739\n",
      "Time (seconds):  302.4911150932312\n",
      "[0.07987348379990145, 0.9811] 43.45180058479309\n"
     ]
    }
   ],
   "source": [
    "score = modelo.evaluate(X_test, y_test)\n",
    "time_delta = tf-t0\n",
    "exec(\"batch_size_\" + str(batch_size) + \"= batch_size\")\n",
    "exec(\"test_loss_\" + str(batch_size) + \"= score[0]\")\n",
    "exec(\"test_acc_\" + str(batch_size) + \"= score[1]\")\n",
    "exec(\"td_\" + str(batch_size) + \"= time_delta\")\n",
    "\n",
    "print(\"batch_size: \", batch_size, \", score: \", score, \", time_delta: \", time_delta)"
   ]
  },
  {
   "cell_type": "markdown",
   "metadata": {
    "colab_type": "text",
    "id": "vCjNS4dtYsui"
   },
   "source": [
    "## Batch 256"
   ]
  },
  {
   "cell_type": "code",
   "execution_count": 30,
   "metadata": {
    "colab": {
     "base_uri": "https://localhost:8080/",
     "height": 714
    },
    "colab_type": "code",
    "id": "e54cwWaGYsun",
    "outputId": "2163caa1-ad93-4a82-b51f-3c1df5a4ff25"
   },
   "outputs": [
    {
     "name": "stdout",
     "output_type": "stream",
     "text": [
      "Train on 60000 samples, validate on 10000 samples\n",
      "Epoch 1/20\n",
      " - 2s - loss: 0.4581 - acc: 0.8655 - val_loss: 0.2059 - val_acc: 0.9391\n",
      "Epoch 2/20\n",
      " - 1s - loss: 0.2005 - acc: 0.9404 - val_loss: 0.1316 - val_acc: 0.9600\n",
      "Epoch 3/20\n",
      " - 1s - loss: 0.1485 - acc: 0.9551 - val_loss: 0.1047 - val_acc: 0.9686\n",
      "Epoch 4/20\n",
      " - 1s - loss: 0.1204 - acc: 0.9635 - val_loss: 0.0919 - val_acc: 0.9728\n",
      "Epoch 5/20\n",
      " - 1s - loss: 0.1034 - acc: 0.9682 - val_loss: 0.0824 - val_acc: 0.9754\n",
      "Epoch 6/20\n",
      " - 1s - loss: 0.0935 - acc: 0.9712 - val_loss: 0.0819 - val_acc: 0.9745\n",
      "Epoch 7/20\n",
      " - 1s - loss: 0.0802 - acc: 0.9753 - val_loss: 0.0852 - val_acc: 0.9727\n",
      "Epoch 8/20\n",
      " - 1s - loss: 0.0744 - acc: 0.9768 - val_loss: 0.0713 - val_acc: 0.9792\n",
      "Epoch 9/20\n",
      " - 1s - loss: 0.0678 - acc: 0.9788 - val_loss: 0.0729 - val_acc: 0.9782\n",
      "Epoch 10/20\n",
      " - 1s - loss: 0.0643 - acc: 0.9800 - val_loss: 0.0697 - val_acc: 0.9796\n",
      "Epoch 11/20\n",
      " - 1s - loss: 0.0592 - acc: 0.9816 - val_loss: 0.0662 - val_acc: 0.9803\n",
      "Epoch 12/20\n",
      " - 1s - loss: 0.0548 - acc: 0.9821 - val_loss: 0.0699 - val_acc: 0.9800\n",
      "Epoch 13/20\n",
      " - 1s - loss: 0.0508 - acc: 0.9840 - val_loss: 0.0692 - val_acc: 0.9799\n",
      "Epoch 14/20\n",
      " - 1s - loss: 0.0474 - acc: 0.9850 - val_loss: 0.0722 - val_acc: 0.9795\n",
      "Epoch 15/20\n",
      " - 1s - loss: 0.0469 - acc: 0.9851 - val_loss: 0.0710 - val_acc: 0.9800\n",
      "Epoch 16/20\n",
      " - 1s - loss: 0.0450 - acc: 0.9856 - val_loss: 0.0675 - val_acc: 0.9815\n",
      "Epoch 17/20\n",
      " - 1s - loss: 0.0429 - acc: 0.9858 - val_loss: 0.0648 - val_acc: 0.9829\n",
      "Epoch 18/20\n",
      " - 1s - loss: 0.0418 - acc: 0.9864 - val_loss: 0.0646 - val_acc: 0.9816\n",
      "Epoch 19/20\n",
      " - 1s - loss: 0.0388 - acc: 0.9878 - val_loss: 0.0685 - val_acc: 0.9812\n",
      "Epoch 20/20\n",
      " - 1s - loss: 0.0379 - acc: 0.9875 - val_loss: 0.0714 - val_acc: 0.9822\n"
     ]
    }
   ],
   "source": [
    "batch_size = 256\n",
    "nb_epoch = 20\n",
    "\n",
    "\n",
    "\n",
    "modelo = create_model()\n",
    "\n",
    "\n",
    "# tiempo inicial\n",
    "t0 = time.time()\n",
    "# Keras fit function documentation: https://keras.io/models/sequential/\n",
    "history = modelo.fit(X_train, y_train,\n",
    "                    batch_size=batch_size,\n",
    "                    epochs=nb_epoch,\n",
    "                    verbose=2,\n",
    "                    validation_data=(X_test, y_test),\n",
    "                    shuffle=True)\n",
    "tf =  time.time()"
   ]
  },
  {
   "cell_type": "markdown",
   "metadata": {
    "colab_type": "text",
    "id": "nnZLezJUYsur"
   },
   "source": [
    "#### Evaluate trained model with test data"
   ]
  },
  {
   "cell_type": "code",
   "execution_count": 31,
   "metadata": {
    "colab": {
     "base_uri": "https://localhost:8080/",
     "height": 119
    },
    "colab_type": "code",
    "id": "72Z7BCTfYsur",
    "outputId": "31f61946-581e-4f6d-850b-edd96b5daf38"
   },
   "outputs": [
    {
     "name": "stdout",
     "output_type": "stream",
     "text": [
      "10000/10000 [==============================] - 0s 26us/step\n",
      "Batch_size: 8\n",
      "Test loss: 0.27601957293532087\n",
      "Test accuracy: 0.9739\n",
      "Time (seconds):  302.4911150932312\n",
      "[0.07142710163630582, 0.9822] 29.069130659103394\n"
     ]
    }
   ],
   "source": [
    "score = modelo.evaluate(X_test, y_test)\n",
    "time_delta = tf-t0\n",
    "exec(\"batch_size_\" + str(batch_size) + \"= batch_size\")\n",
    "exec(\"test_loss_\" + str(batch_size) + \"= score[0]\")\n",
    "exec(\"test_acc_\" + str(batch_size) + \"= score[1]\")\n",
    "exec(\"td_\" + str(batch_size) + \"= time_delta\")\n",
    "\n",
    "print(\"batch_size: \", batch_size, \", score: \", score, \", time_delta: \", time_delta)"
   ]
  },
  {
   "cell_type": "markdown",
   "metadata": {
    "colab_type": "text",
    "id": "vCjNS4dtYsui"
   },
   "source": [
    "## Batch 512"
   ]
  },
  {
   "cell_type": "code",
   "execution_count": 32,
   "metadata": {
    "colab": {
     "base_uri": "https://localhost:8080/",
     "height": 714
    },
    "colab_type": "code",
    "id": "e54cwWaGYsun",
    "outputId": "2163caa1-ad93-4a82-b51f-3c1df5a4ff25"
   },
   "outputs": [
    {
     "name": "stdout",
     "output_type": "stream",
     "text": [
      "Train on 60000 samples, validate on 10000 samples\n",
      "Epoch 1/20\n",
      " - 2s - loss: 0.5622 - acc: 0.8341 - val_loss: 0.2657 - val_acc: 0.9171\n",
      "Epoch 2/20\n",
      " - 1s - loss: 0.2503 - acc: 0.9257 - val_loss: 0.1740 - val_acc: 0.9457\n",
      "Epoch 3/20\n",
      " - 1s - loss: 0.1853 - acc: 0.9450 - val_loss: 0.1342 - val_acc: 0.9585\n",
      "Epoch 4/20\n",
      " - 1s - loss: 0.1478 - acc: 0.9558 - val_loss: 0.1240 - val_acc: 0.9629\n",
      "Epoch 5/20\n",
      " - 1s - loss: 0.1241 - acc: 0.9627 - val_loss: 0.0999 - val_acc: 0.9693\n",
      "Epoch 6/20\n",
      " - 1s - loss: 0.1086 - acc: 0.9673 - val_loss: 0.0863 - val_acc: 0.9716\n",
      "Epoch 7/20\n",
      " - 2s - loss: 0.0955 - acc: 0.9712 - val_loss: 0.0826 - val_acc: 0.9744\n",
      "Epoch 8/20\n",
      " - 1s - loss: 0.0870 - acc: 0.9736 - val_loss: 0.0766 - val_acc: 0.9763\n",
      "Epoch 9/20\n",
      " - 1s - loss: 0.0813 - acc: 0.9750 - val_loss: 0.0755 - val_acc: 0.9778\n",
      "Epoch 10/20\n",
      " - 1s - loss: 0.0735 - acc: 0.9769 - val_loss: 0.0734 - val_acc: 0.9770\n",
      "Epoch 11/20\n",
      " - 1s - loss: 0.0675 - acc: 0.9789 - val_loss: 0.0731 - val_acc: 0.9787\n",
      "Epoch 12/20\n",
      " - 1s - loss: 0.0622 - acc: 0.9807 - val_loss: 0.0755 - val_acc: 0.9789\n",
      "Epoch 13/20\n",
      " - 1s - loss: 0.0601 - acc: 0.9809 - val_loss: 0.0845 - val_acc: 0.9735\n",
      "Epoch 14/20\n",
      " - 1s - loss: 0.0550 - acc: 0.9820 - val_loss: 0.0729 - val_acc: 0.9785\n",
      "Epoch 15/20\n",
      " - 1s - loss: 0.0519 - acc: 0.9833 - val_loss: 0.0713 - val_acc: 0.9793\n",
      "Epoch 16/20\n",
      " - 2s - loss: 0.0503 - acc: 0.9839 - val_loss: 0.0708 - val_acc: 0.9803\n",
      "Epoch 17/20\n",
      " - 1s - loss: 0.0471 - acc: 0.9846 - val_loss: 0.0717 - val_acc: 0.9798\n",
      "Epoch 18/20\n",
      " - 1s - loss: 0.0456 - acc: 0.9850 - val_loss: 0.0742 - val_acc: 0.9798\n",
      "Epoch 19/20\n",
      " - 1s - loss: 0.0451 - acc: 0.9853 - val_loss: 0.0741 - val_acc: 0.9792\n",
      "Epoch 20/20\n",
      " - 1s - loss: 0.0414 - acc: 0.9868 - val_loss: 0.0710 - val_acc: 0.9810\n"
     ]
    }
   ],
   "source": [
    "batch_size = 512\n",
    "nb_epoch = 20\n",
    "\n",
    "\n",
    "\n",
    "modelo = create_model()\n",
    "\n",
    "\n",
    "# tiempo inicial\n",
    "t0 = time.time()\n",
    "# Keras fit function documentation: https://keras.io/models/sequential/\n",
    "history = modelo.fit(X_train, y_train,\n",
    "                    batch_size=batch_size,\n",
    "                    epochs=nb_epoch,\n",
    "                    verbose=2,\n",
    "                    validation_data=(X_test, y_test),\n",
    "                    shuffle=True)\n",
    "tf =  time.time()"
   ]
  },
  {
   "cell_type": "markdown",
   "metadata": {
    "colab_type": "text",
    "id": "nnZLezJUYsur"
   },
   "source": [
    "#### Evaluate trained model with test data"
   ]
  },
  {
   "cell_type": "code",
   "execution_count": 41,
   "metadata": {
    "colab": {
     "base_uri": "https://localhost:8080/",
     "height": 119
    },
    "colab_type": "code",
    "id": "72Z7BCTfYsur",
    "outputId": "31f61946-581e-4f6d-850b-edd96b5daf38"
   },
   "outputs": [
    {
     "name": "stdout",
     "output_type": "stream",
     "text": [
      "10000/10000 [==============================] - 0s 30us/step\n",
      "batch_size:  16 , score:  [0.15499717594219178, 0.9778] , time_delta:  -150.92288327217102\n"
     ]
    }
   ],
   "source": [
    "score = modelo.evaluate(X_test, y_test)\n",
    "time_delta = tf-t0\n",
    "exec(\"batch_size_\" + str(batch_size) + \"= batch_size\")\n",
    "exec(\"test_loss_\" + str(batch_size) + \"= score[0]\")\n",
    "exec(\"test_acc_\" + str(batch_size) + \"= score[1]\")\n",
    "exec(\"td_\" + str(batch_size) + \"= time_delta\")\n",
    "\n",
    "print(\"batch_size: \", batch_size, \", score: \", score, \", time_delta: \", time_delta)"
   ]
  },
  {
   "cell_type": "markdown",
   "metadata": {
    "colab_type": "text",
    "id": "vCjNS4dtYsui"
   },
   "source": [
    "## Batch 1024"
   ]
  },
  {
   "cell_type": "code",
   "execution_count": 49,
   "metadata": {
    "colab": {
     "base_uri": "https://localhost:8080/",
     "height": 714
    },
    "colab_type": "code",
    "id": "e54cwWaGYsun",
    "outputId": "2163caa1-ad93-4a82-b51f-3c1df5a4ff25"
   },
   "outputs": [
    {
     "name": "stdout",
     "output_type": "stream",
     "text": [
      "Train on 60000 samples, validate on 10000 samples\n",
      "Epoch 1/20\n",
      " - 2s - loss: 0.7385 - acc: 0.7800 - val_loss: 0.2980 - val_acc: 0.9140\n",
      "Epoch 2/20\n",
      " - 1s - loss: 0.3296 - acc: 0.9016 - val_loss: 0.2302 - val_acc: 0.9295\n",
      "Epoch 3/20\n",
      " - 1s - loss: 0.2454 - acc: 0.9267 - val_loss: 0.1621 - val_acc: 0.9524\n",
      "Epoch 4/20\n",
      " - 1s - loss: 0.1972 - acc: 0.9422 - val_loss: 0.1354 - val_acc: 0.9578\n",
      "Epoch 5/20\n",
      " - 1s - loss: 0.1656 - acc: 0.9504 - val_loss: 0.1186 - val_acc: 0.9635\n",
      "Epoch 6/20\n",
      " - 1s - loss: 0.1435 - acc: 0.9577 - val_loss: 0.1040 - val_acc: 0.9675\n",
      "Epoch 7/20\n",
      " - 1s - loss: 0.1298 - acc: 0.9607 - val_loss: 0.1013 - val_acc: 0.9686\n",
      "Epoch 8/20\n",
      " - 1s - loss: 0.1160 - acc: 0.9645 - val_loss: 0.0916 - val_acc: 0.9710\n",
      "Epoch 9/20\n",
      " - 1s - loss: 0.1054 - acc: 0.9672 - val_loss: 0.0883 - val_acc: 0.9722\n",
      "Epoch 10/20\n",
      " - 1s - loss: 0.0965 - acc: 0.9702 - val_loss: 0.0809 - val_acc: 0.9758\n",
      "Epoch 11/20\n",
      " - 1s - loss: 0.0900 - acc: 0.9717 - val_loss: 0.0783 - val_acc: 0.9751\n",
      "Epoch 12/20\n",
      " - 1s - loss: 0.0849 - acc: 0.9737 - val_loss: 0.0789 - val_acc: 0.9753\n",
      "Epoch 13/20\n",
      " - 1s - loss: 0.0800 - acc: 0.9752 - val_loss: 0.0727 - val_acc: 0.9774\n",
      "Epoch 14/20\n",
      " - 1s - loss: 0.0750 - acc: 0.9761 - val_loss: 0.0716 - val_acc: 0.9774\n",
      "Epoch 15/20\n",
      " - 1s - loss: 0.0679 - acc: 0.9786 - val_loss: 0.0733 - val_acc: 0.9778\n",
      "Epoch 16/20\n",
      " - 1s - loss: 0.0643 - acc: 0.9798 - val_loss: 0.0704 - val_acc: 0.9790\n",
      "Epoch 17/20\n",
      " - 1s - loss: 0.0627 - acc: 0.9796 - val_loss: 0.0722 - val_acc: 0.9782\n",
      "Epoch 18/20\n",
      " - 1s - loss: 0.0568 - acc: 0.9813 - val_loss: 0.0705 - val_acc: 0.9783\n",
      "Epoch 19/20\n",
      " - 1s - loss: 0.0548 - acc: 0.9824 - val_loss: 0.0714 - val_acc: 0.9785\n",
      "Epoch 20/20\n",
      " - 1s - loss: 0.0538 - acc: 0.9827 - val_loss: 0.0716 - val_acc: 0.9782\n"
     ]
    }
   ],
   "source": [
    "batch_size = 1024\n",
    "nb_epoch = 20\n",
    "\n",
    "\n",
    "\n",
    "modelo = create_model()\n",
    "\n",
    "\n",
    "# tiempo inicial\n",
    "t0 = time.time()\n",
    "# Keras fit function documentation: https://keras.io/models/sequential/\n",
    "history = modelo.fit(X_train, y_train,\n",
    "                    batch_size=batch_size,\n",
    "                    epochs=nb_epoch,\n",
    "                    verbose=2,\n",
    "                    validation_data=(X_test, y_test),\n",
    "                    shuffle=True)\n",
    "tf =  time.time()"
   ]
  },
  {
   "cell_type": "markdown",
   "metadata": {
    "colab_type": "text",
    "id": "nnZLezJUYsur"
   },
   "source": [
    "#### Evaluate trained model with test data"
   ]
  },
  {
   "cell_type": "code",
   "execution_count": 50,
   "metadata": {
    "colab": {
     "base_uri": "https://localhost:8080/",
     "height": 119
    },
    "colab_type": "code",
    "id": "72Z7BCTfYsur",
    "outputId": "31f61946-581e-4f6d-850b-edd96b5daf38"
   },
   "outputs": [
    {
     "name": "stdout",
     "output_type": "stream",
     "text": [
      "10000/10000 [==============================] - 0s 32us/step\n",
      "batch_size:  1024 , score:  [0.07161920275175071, 0.9782] , time_delta:  26.30062770843506\n"
     ]
    }
   ],
   "source": [
    "score = modelo.evaluate(X_test, y_test)\n",
    "time_delta = tf-t0\n",
    "exec(\"batch_size_\" + str(batch_size) + \"= batch_size\")\n",
    "exec(\"test_loss_\" + str(batch_size) + \"= score[0]\")\n",
    "exec(\"test_acc_\" + str(batch_size) + \"= score[1]\")\n",
    "exec(\"td_\" + str(batch_size) + \"= time_delta\")\n",
    "\n",
    "print(\"batch_size: \", batch_size, \", score: \", score, \", time_delta: \", time_delta)"
   ]
  },
  {
   "cell_type": "markdown",
   "metadata": {
    "colab_type": "text",
    "id": "vCjNS4dtYsui"
   },
   "source": [
    "## Batch 2048"
   ]
  },
  {
   "cell_type": "code",
   "execution_count": 51,
   "metadata": {
    "colab": {
     "base_uri": "https://localhost:8080/",
     "height": 714
    },
    "colab_type": "code",
    "id": "e54cwWaGYsun",
    "outputId": "2163caa1-ad93-4a82-b51f-3c1df5a4ff25"
   },
   "outputs": [
    {
     "name": "stdout",
     "output_type": "stream",
     "text": [
      "Train on 60000 samples, validate on 10000 samples\n",
      "Epoch 1/20\n",
      " - 2s - loss: 0.9522 - acc: 0.7217 - val_loss: 0.3991 - val_acc: 0.8905\n",
      "Epoch 2/20\n",
      " - 1s - loss: 0.4352 - acc: 0.8715 - val_loss: 0.3013 - val_acc: 0.9097\n",
      "Epoch 3/20\n",
      " - 1s - loss: 0.3273 - acc: 0.9038 - val_loss: 0.2446 - val_acc: 0.9246\n",
      "Epoch 4/20\n",
      " - 1s - loss: 0.2727 - acc: 0.9203 - val_loss: 0.2103 - val_acc: 0.9342\n",
      "Epoch 5/20\n",
      " - 1s - loss: 0.2350 - acc: 0.9305 - val_loss: 0.1770 - val_acc: 0.9468\n",
      "Epoch 6/20\n",
      " - 1s - loss: 0.2023 - acc: 0.9406 - val_loss: 0.1605 - val_acc: 0.9502\n",
      "Epoch 7/20\n",
      " - 1s - loss: 0.1809 - acc: 0.9461 - val_loss: 0.1321 - val_acc: 0.9575\n",
      "Epoch 8/20\n",
      " - 1s - loss: 0.1645 - acc: 0.9510 - val_loss: 0.1196 - val_acc: 0.9621\n",
      "Epoch 9/20\n",
      " - 1s - loss: 0.1478 - acc: 0.9559 - val_loss: 0.1136 - val_acc: 0.9631\n",
      "Epoch 10/20\n",
      " - 1s - loss: 0.1350 - acc: 0.9602 - val_loss: 0.1045 - val_acc: 0.9673\n",
      "Epoch 11/20\n",
      " - 1s - loss: 0.1253 - acc: 0.9628 - val_loss: 0.1024 - val_acc: 0.9678\n",
      "Epoch 12/20\n",
      " - 1s - loss: 0.1166 - acc: 0.9642 - val_loss: 0.0966 - val_acc: 0.9688\n",
      "Epoch 13/20\n",
      " - 1s - loss: 0.1075 - acc: 0.9677 - val_loss: 0.0927 - val_acc: 0.9699\n",
      "Epoch 14/20\n",
      " - 1s - loss: 0.1013 - acc: 0.9692 - val_loss: 0.0851 - val_acc: 0.9738\n",
      "Epoch 15/20\n",
      " - 1s - loss: 0.0951 - acc: 0.9713 - val_loss: 0.0826 - val_acc: 0.9734\n",
      "Epoch 16/20\n",
      " - 1s - loss: 0.0906 - acc: 0.9720 - val_loss: 0.0913 - val_acc: 0.9718\n",
      "Epoch 17/20\n",
      " - 1s - loss: 0.0852 - acc: 0.9738 - val_loss: 0.0860 - val_acc: 0.9733\n",
      "Epoch 18/20\n",
      " - 1s - loss: 0.0811 - acc: 0.9755 - val_loss: 0.0770 - val_acc: 0.9766\n",
      "Epoch 19/20\n",
      " - 1s - loss: 0.0771 - acc: 0.9770 - val_loss: 0.0763 - val_acc: 0.9764\n",
      "Epoch 20/20\n",
      " - 1s - loss: 0.0738 - acc: 0.9766 - val_loss: 0.0768 - val_acc: 0.9758\n"
     ]
    }
   ],
   "source": [
    "batch_size = 2048\n",
    "nb_epoch = 20\n",
    "\n",
    "\n",
    "\n",
    "modelo = create_model()\n",
    "\n",
    "\n",
    "# tiempo inicial\n",
    "t0 = time.time()\n",
    "# Keras fit function documentation: https://keras.io/models/sequential/\n",
    "history = modelo.fit(X_train, y_train,\n",
    "                    batch_size=batch_size,\n",
    "                    epochs=nb_epoch,\n",
    "                    verbose=2,\n",
    "                    validation_data=(X_test, y_test),\n",
    "                    shuffle=True)\n",
    "tf =  time.time()"
   ]
  },
  {
   "cell_type": "markdown",
   "metadata": {
    "colab_type": "text",
    "id": "nnZLezJUYsur"
   },
   "source": [
    "#### Evaluate trained model with test data"
   ]
  },
  {
   "cell_type": "code",
   "execution_count": 52,
   "metadata": {
    "colab": {
     "base_uri": "https://localhost:8080/",
     "height": 119
    },
    "colab_type": "code",
    "id": "72Z7BCTfYsur",
    "outputId": "31f61946-581e-4f6d-850b-edd96b5daf38"
   },
   "outputs": [
    {
     "name": "stdout",
     "output_type": "stream",
     "text": [
      "10000/10000 [==============================] - 0s 33us/step\n",
      "batch_size:  2048 , score:  [0.07682823078420478, 0.9758] , time_delta:  26.720767498016357\n"
     ]
    }
   ],
   "source": [
    "score = modelo.evaluate(X_test, y_test)\n",
    "time_delta = tf-t0\n",
    "exec(\"batch_size_\" + str(batch_size) + \"= batch_size\")\n",
    "exec(\"test_loss_\" + str(batch_size) + \"= score[0]\")\n",
    "exec(\"test_acc_\" + str(batch_size) + \"= score[1]\")\n",
    "exec(\"td_\" + str(batch_size) + \"= time_delta\")\n",
    "\n",
    "print(\"batch_size: \", batch_size, \", score: \", score, \", time_delta: \", time_delta)"
   ]
  },
  {
   "cell_type": "markdown",
   "metadata": {
    "colab_type": "text",
    "id": "vCjNS4dtYsui"
   },
   "source": [
    "## Batch 4096"
   ]
  },
  {
   "cell_type": "code",
   "execution_count": 57,
   "metadata": {
    "colab": {
     "base_uri": "https://localhost:8080/",
     "height": 714
    },
    "colab_type": "code",
    "id": "e54cwWaGYsun",
    "outputId": "2163caa1-ad93-4a82-b51f-3c1df5a4ff25"
   },
   "outputs": [
    {
     "name": "stdout",
     "output_type": "stream",
     "text": [
      "Train on 60000 samples, validate on 10000 samples\n",
      "Epoch 1/20\n",
      " - 2s - loss: 1.3089 - acc: 0.6161 - val_loss: 0.6341 - val_acc: 0.8230\n",
      "Epoch 2/20\n",
      " - 1s - loss: 0.6230 - acc: 0.8161 - val_loss: 0.4078 - val_acc: 0.8852\n",
      "Epoch 3/20\n",
      " - 1s - loss: 0.4727 - acc: 0.8609 - val_loss: 0.3236 - val_acc: 0.9076\n",
      "Epoch 4/20\n",
      " - 1s - loss: 0.3866 - acc: 0.8860 - val_loss: 0.2841 - val_acc: 0.9170\n",
      "Epoch 5/20\n",
      " - 1s - loss: 0.3406 - acc: 0.9006 - val_loss: 0.2452 - val_acc: 0.9265\n",
      "Epoch 6/20\n",
      " - 1s - loss: 0.3029 - acc: 0.9108 - val_loss: 0.2257 - val_acc: 0.9315\n",
      "Epoch 7/20\n",
      " - 1s - loss: 0.2710 - acc: 0.9201 - val_loss: 0.2049 - val_acc: 0.9375\n",
      "Epoch 8/20\n",
      " - 1s - loss: 0.2473 - acc: 0.9274 - val_loss: 0.1808 - val_acc: 0.9432\n",
      "Epoch 9/20\n",
      " - 1s - loss: 0.2252 - acc: 0.9335 - val_loss: 0.1665 - val_acc: 0.9493\n",
      "Epoch 10/20\n",
      " - 1s - loss: 0.2083 - acc: 0.9386 - val_loss: 0.1590 - val_acc: 0.9503\n",
      "Epoch 11/20\n",
      " - 1s - loss: 0.1958 - acc: 0.9419 - val_loss: 0.1462 - val_acc: 0.9534\n",
      "Epoch 12/20\n",
      " - 1s - loss: 0.1779 - acc: 0.9465 - val_loss: 0.1450 - val_acc: 0.9555\n",
      "Epoch 13/20\n",
      " - 1s - loss: 0.1723 - acc: 0.9484 - val_loss: 0.1286 - val_acc: 0.9588\n",
      "Epoch 14/20\n",
      " - 1s - loss: 0.1602 - acc: 0.9526 - val_loss: 0.1309 - val_acc: 0.9599\n",
      "Epoch 15/20\n",
      " - 1s - loss: 0.1512 - acc: 0.9546 - val_loss: 0.1244 - val_acc: 0.9617\n",
      "Epoch 16/20\n",
      " - 1s - loss: 0.1417 - acc: 0.9577 - val_loss: 0.1099 - val_acc: 0.9649\n",
      "Epoch 17/20\n",
      " - 1s - loss: 0.1330 - acc: 0.9603 - val_loss: 0.1128 - val_acc: 0.9652\n",
      "Epoch 18/20\n",
      " - 1s - loss: 0.1297 - acc: 0.9609 - val_loss: 0.0992 - val_acc: 0.9699\n",
      "Epoch 19/20\n",
      " - 1s - loss: 0.1239 - acc: 0.9624 - val_loss: 0.0976 - val_acc: 0.9701\n",
      "Epoch 20/20\n",
      " - 1s - loss: 0.1168 - acc: 0.9650 - val_loss: 0.0955 - val_acc: 0.9704\n"
     ]
    }
   ],
   "source": [
    "batch_size = 4096\n",
    "nb_epoch = 20\n",
    "\n",
    "\n",
    "\n",
    "modelo = create_model()\n",
    "\n",
    "\n",
    "# tiempo inicial\n",
    "t0 = time.time()\n",
    "# Keras fit function documentation: https://keras.io/models/sequential/\n",
    "history = modelo.fit(X_train, y_train,\n",
    "                    batch_size=batch_size,\n",
    "                    epochs=nb_epoch,\n",
    "                    verbose=2,\n",
    "                    validation_data=(X_test, y_test),\n",
    "                    shuffle=True)\n",
    "tf =  time.time()"
   ]
  },
  {
   "cell_type": "markdown",
   "metadata": {
    "colab_type": "text",
    "id": "nnZLezJUYsur"
   },
   "source": [
    "#### Evaluate trained model with test data"
   ]
  },
  {
   "cell_type": "code",
   "execution_count": 58,
   "metadata": {
    "colab": {
     "base_uri": "https://localhost:8080/",
     "height": 119
    },
    "colab_type": "code",
    "id": "72Z7BCTfYsur",
    "outputId": "31f61946-581e-4f6d-850b-edd96b5daf38"
   },
   "outputs": [
    {
     "name": "stdout",
     "output_type": "stream",
     "text": [
      "10000/10000 [==============================] - 0s 33us/step\n",
      "batch_size:  4096 , score:  [0.09552331715263426, 0.9704] , time_delta:  24.452287912368774\n"
     ]
    }
   ],
   "source": [
    "score = modelo.evaluate(X_test, y_test)\n",
    "time_delta = tf-t0\n",
    "exec(\"batch_size_\" + str(batch_size) + \"= batch_size\")\n",
    "exec(\"test_loss_\" + str(batch_size) + \"= score[0]\")\n",
    "exec(\"test_acc_\" + str(batch_size) + \"= score[1]\")\n",
    "exec(\"td_\" + str(batch_size) + \"= time_delta\")\n",
    "\n",
    "print(\"batch_size: \", batch_size, \", score: \", score, \", time_delta: \", time_delta)"
   ]
  },
  {
   "cell_type": "code",
   "execution_count": 60,
   "metadata": {},
   "outputs": [],
   "source": [
    "batch_size_list = [batch_size_8, batch_size_16, batch_size_32, batch_size_64, batch_size_128, batch_size_256, batch_size_512, batch_size_1024, batch_size_2048, batch_size_4096]\n",
    "test_loss_list = [test_loss_8, test_loss_16, test_loss_32, test_loss_64, test_loss_128, test_loss_256, test_loss_512, test_loss_1024, test_loss_2048, test_loss_4096]\n",
    "test_acc_list = [test_acc_8, test_acc_16, test_acc_32, test_acc_64, test_acc_128, test_acc_256, test_acc_512, test_acc_1024, test_acc_2048, test_acc_4096]\n",
    "td_list = [td_8, td_16, td_32, td_64, td_128, td_256, td_512, td_1024, td_2048, td_4096]"
   ]
  },
  {
   "cell_type": "code",
   "execution_count": 66,
   "metadata": {},
   "outputs": [
    {
     "name": "stdout",
     "output_type": "stream",
     "text": [
      "[8, 16, 32, 64, 128, 256, 512, 1024, 2048, 4096]\n",
      "[0.27601957293532087, 0.21041810289355808, 0.16117237335800802, 0.1009105070710471, 0.07987348379990145, 0.07142710163630582, 0.07104845661275613, 0.07161920275175071, 0.07682823078420478, 0.09552331715263426]\n",
      "[0.9739, 0.9764, 0.9766, 0.9811, 0.9811, 0.9822, 0.981, 0.9782, 0.9758, 0.9704]\n",
      "[302.4911150932312, 203.56255316734314, 101.01155591011047, 62.92078518867493, 43.45180058479309, 29.069130659103394, 29.21120572090149, 26.30062770843506, 26.720767498016357, 24.452287912368774]\n"
     ]
    }
   ],
   "source": [
    "print(batch_size_list)\n",
    "print(test_loss_list)\n",
    "print(test_acc_list)\n",
    "print(td_list)"
   ]
  },
  {
   "cell_type": "code",
   "execution_count": 69,
   "metadata": {},
   "outputs": [
    {
     "data": {
      "image/png": "[encoded data removed]",
      "text/plain": [
       "<Figure size 432x288 with 1 Axes>"
      ]
     },
     "metadata": {},
     "output_type": "display_data"
    },
    {
     "data": {
      "image/png": "[encoded data removed]",
      "text/plain": [
       "<Figure size 432x288 with 1 Axes>"
      ]
     },
     "metadata": {},
     "output_type": "display_data"
    },
    {
     "data": {
      "image/png": "[encoded data removed]",
      "text/plain": [
       "<Figure size 432x288 with 1 Axes>"
      ]
     },
     "metadata": {},
     "output_type": "display_data"
    }
   ],
   "source": [
    "# Plot training & validation accuracy values\n",
    "plt.plot(batch_size_list,test_loss_list)\n",
    "plt.title('test_loss_list')\n",
    "plt.ylabel('test_loss_list')\n",
    "plt.xlabel('batch_size_list')\n",
    "plt.legend(['test_loss_list'], loc='upper right')\n",
    "plt.show()\n",
    "\n",
    "plt.plot(batch_size_list,test_acc_list)\n",
    "plt.title('test_acc_list')\n",
    "plt.ylabel('test_acc_list')\n",
    "plt.xlabel('batch_size_list')\n",
    "plt.legend(['test_acc_list'], loc='upper right')\n",
    "plt.show()\n",
    "\n",
    "plt.plot(batch_size_list,td_list)\n",
    "plt.title('td_list')\n",
    "plt.ylabel('td_list')\n",
    "plt.xlabel('batch_size_list')\n",
    "plt.legend(['td_list'], loc='upper right')\n",
    "plt.show()"
   ]
  },
  {
   "cell_type": "code",
   "execution_count": null,
   "metadata": {},
   "outputs": [],
   "source": []
  }
 ],
 "metadata": {
  "accelerator": "GPU",
  "colab": {
   "collapsed_sections": [],
   "name": "OFWN_practica_S2_mnist_keras_.ipynb",
   "provenance": [],
   "version": "0.3.2"
  },
  "kernelspec": {
   "display_name": "Python 3",
   "language": "python",
   "name": "python3"
  },
  "language_info": {
   "codemirror_mode": {
    "name": "ipython",
    "version": 3
   },
   "file_extension": ".py",
   "mimetype": "text/x-python",
   "name": "python",
   "nbconvert_exporter": "python",
   "pygments_lexer": "ipython3",
   "version": "3.6.5"
  }
 },
 "nbformat": 4,
 "nbformat_minor": 2
}
